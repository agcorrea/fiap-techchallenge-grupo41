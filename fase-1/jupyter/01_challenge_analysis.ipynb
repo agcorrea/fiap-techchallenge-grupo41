{
  "cells": [
    {
      "cell_type": "markdown",
      "id": "052b2ab4-2387-4690-91e5-0956e0230c4f",
      "metadata": {
        "tags": [],
        "id": "052b2ab4-2387-4690-91e5-0956e0230c4f"
      },
      "source": [
        "## Descrição"
      ]
    },
    {
      "cell_type": "markdown",
      "id": "dd7f5484-7859-4dcb-a382-30f795ed639f",
      "metadata": {
        "tags": [],
        "id": "dd7f5484-7859-4dcb-a382-30f795ed639f"
      },
      "source": [
        "Baixando e formatadando dados para o Tech Challenge do site:\n",
        "    \n",
        "- http://vitibrasil.cnpuv.embrapa.br/index.php?opcao=opt_01"
      ]
    },
    {
      "cell_type": "markdown",
      "id": "4c30c51b-9071-4734-9727-ddd57e33a92b",
      "metadata": {
        "tags": [],
        "id": "4c30c51b-9071-4734-9727-ddd57e33a92b"
      },
      "source": [
        "## Importando bibliotecas"
      ]
    },
    {
      "cell_type": "code",
      "execution_count": 1946,
      "id": "7d8237cd-6415-4a67-8b6b-03ba3f01325f",
      "metadata": {
        "tags": [],
        "id": "7d8237cd-6415-4a67-8b6b-03ba3f01325f"
      },
      "outputs": [],
      "source": [
        "import os\n",
        "import pandas as pd"
      ]
    },
    {
      "cell_type": "markdown",
      "id": "ab7797f6-f1c8-49b3-95d4-7085edd2a1a8",
      "metadata": {
        "tags": [],
        "id": "ab7797f6-f1c8-49b3-95d4-7085edd2a1a8"
      },
      "source": [
        "## Funções usadas"
      ]
    },
    {
      "cell_type": "code",
      "execution_count": 1947,
      "id": "e3808b56-4509-4ab9-ad36-3fb7c04c4b04",
      "metadata": {
        "tags": [],
        "id": "e3808b56-4509-4ab9-ad36-3fb7c04c4b04"
      },
      "outputs": [],
      "source": [
        "def formata_df(df: pd.DataFrame, tipo: str) -> pd.DataFrame:\n",
        "\n",
        "    \"\"\"Função usada para formatar o dado\n",
        "    \"\"\"\n",
        "\n",
        "    #PEGA COLUNAS QUANTIDADE\n",
        "    colunas_qtd = [i for i in df.columns if '.' not in i]\n",
        "    colunas_qtd.remove('Id')\n",
        "\n",
        "    #PEGA COLUNAS VALOR\n",
        "    colunas_valor = [i for i in df.columns if '.' in i]\n",
        "    colunas_valor.insert(0, 'País')\n",
        "\n",
        "    #DF QUANTIDADE\n",
        "    df_qtd = df[colunas_qtd]\n",
        "    df_qtd_melted = df_qtd.melt(id_vars=['País'], value_vars=df_qtd.columns)\n",
        "    df_qtd_melted.columns = ['pais_destino', 'ano', 'quantidade']\n",
        "\n",
        "    #DF VALOR\n",
        "    df_valor = df[colunas_valor]\n",
        "    df_valor.columns = colunas_qtd #RENOMEANDO COLUNAS PARA FACILITAR O MATCH DEPOIS\n",
        "\n",
        "    df_valor_melted = df_valor.melt(id_vars=['País'], value_vars=df_valor.columns)\n",
        "    df_valor_melted.columns = ['pais_destino', 'ano', 'valor']\n",
        "\n",
        "    #JUNTANDO AS INFORMAÇÕES\n",
        "    df_merged = pd.merge(df_qtd_melted,\n",
        "                         df_valor_melted,\n",
        "                         left_on=['pais_destino', 'ano'],\n",
        "                         right_on=['pais_destino', 'ano'])\n",
        "\n",
        "    #CRIANDO COLUNAS\n",
        "    df_merged['pais_origem'] = 'Brasil'\n",
        "    df_merged['tipo'] = tipo\n",
        "\n",
        "    return df_merged[['ano', 'pais_origem', 'pais_destino', 'tipo', 'quantidade', 'valor']]"
      ]
    },
    {
      "cell_type": "markdown",
      "id": "c6a3deb3-84d0-41ef-aad5-a4697ff46bb8",
      "metadata": {
        "tags": [],
        "id": "c6a3deb3-84d0-41ef-aad5-a4697ff46bb8"
      },
      "source": [
        "***"
      ]
    },
    {
      "cell_type": "markdown",
      "id": "5d1d6e7f-14bb-40b4-9fac-f02ee45eb3e2",
      "metadata": {
        "tags": [],
        "id": "5d1d6e7f-14bb-40b4-9fac-f02ee45eb3e2"
      },
      "source": [
        "Usado para criar colunas com os nomes corretos (anos e tipo do vinho)"
      ]
    },
    {
      "cell_type": "code",
      "execution_count": 1948,
      "id": "c8c23172-1164-4434-be4f-1124026d50d9",
      "metadata": {
        "tags": [],
        "id": "c8c23172-1164-4434-be4f-1124026d50d9"
      },
      "outputs": [],
      "source": [
        "nome_colunas = [i for i in range(1970, 2022)]\n",
        "nome_colunas.insert(0, 'VINHO')"
      ]
    },
    {
      "cell_type": "markdown",
      "id": "adb0b177-d0bf-4243-84a2-20aae7f6a8ad",
      "metadata": {
        "tags": [],
        "id": "adb0b177-d0bf-4243-84a2-20aae7f6a8ad"
      },
      "source": [
        "**negrito**## Formatação"
      ]
    },
    {
      "cell_type": "markdown",
      "id": "96b6d02e-85ac-482c-9ee1-7adbfb34eca3",
      "metadata": {
        "tags": [],
        "id": "96b6d02e-85ac-482c-9ee1-7adbfb34eca3"
      },
      "source": [
        "### 1. Produção"
      ]
    },
    {
      "cell_type": "code",
      "execution_count": 1949,
      "id": "cd22d5b4-b31f-4c2f-9e54-29d41f1c87c6",
      "metadata": {
        "tags": [],
        "id": "cd22d5b4-b31f-4c2f-9e54-29d41f1c87c6"
      },
      "outputs": [],
      "source": [
        "producao_linhas_para_remover = ['VINHO DE MESA', 'VINHO FINO DE MESA (VINÍFERA)', 'SUCO', 'DERIVADOS']"
      ]
    },
    {
      "cell_type": "code",
      "execution_count": 1950,
      "id": "058095cf-2536-4b6c-a6b5-b93a8f0fc1f6",
      "metadata": {
        "tags": [],
        "colab": {
          "base_uri": "https://localhost:8080/",
          "height": 0
        },
        "id": "058095cf-2536-4b6c-a6b5-b93a8f0fc1f6",
        "outputId": "13676f37-edfb-4a02-81bd-95b0190b165b"
      },
      "outputs": [
        {
          "output_type": "execute_result",
          "data": {
            "text/plain": [
              "   index   VINHO       1970       1971       1972      1973       1974  \\\n",
              "0      1   Tinto  174224052  121133369  118180926  88589019  146544484   \n",
              "1      2  Branco     748400    1160500    1812367    243900    4138768   \n",
              "2      3  Rosado   42236152   31970782   26960004  27877426   43192093   \n",
              "3      5   Tinto    7591557    7265666    6782837   3419625   10047658   \n",
              "4      6  Branco   15562889   15655709   13289304   7930070   18927471   \n",
              "\n",
              "        1975       1976       1977  ...       2013       2014       2015  \\\n",
              "0  144274134  118360170  154801826  ...  163111797  157776363  169811472   \n",
              "1    1441507    1871473    4954387  ...   32066403   37438069   39557250   \n",
              "2   31685568   24333795   35603565  ...    1726022     958691     939838   \n",
              "3   14731106   12405154   16131758  ...   23156458   17208996   16745896   \n",
              "4   21933695   19874659   20409231  ...   21906349   20054804   19561966   \n",
              "\n",
              "       2016       2017       2018       2019       2020       2021  \\\n",
              "0  75279191    1365957  188270142  121045115  103916391  146075996   \n",
              "1  10727099  217527985   29229970   22032828   19568734   26432799   \n",
              "2    312725   36121245     875524    1551794     715289    1391200   \n",
              "3   8774847   21442212   19118254   17389377   15451883   20433249   \n",
              "4   8705066   21928400   18297257   18193055   15487915   20867999   \n",
              "\n",
              "                            TIPO  \n",
              "0                  VINHO DE MESA  \n",
              "1                  VINHO DE MESA  \n",
              "2                  VINHO DE MESA  \n",
              "3  VINHO FINO DE MESA (VINÍFERA)  \n",
              "4  VINHO FINO DE MESA (VINÍFERA)  \n",
              "\n",
              "[5 rows x 55 columns]"
            ],
            "text/html": [
              "\n",
              "  <div id=\"df-923fc9e1-093e-4825-afe5-bafa883507ec\">\n",
              "    <div class=\"colab-df-container\">\n",
              "      <div>\n",
              "<style scoped>\n",
              "    .dataframe tbody tr th:only-of-type {\n",
              "        vertical-align: middle;\n",
              "    }\n",
              "\n",
              "    .dataframe tbody tr th {\n",
              "        vertical-align: top;\n",
              "    }\n",
              "\n",
              "    .dataframe thead th {\n",
              "        text-align: right;\n",
              "    }\n",
              "</style>\n",
              "<table border=\"1\" class=\"dataframe\">\n",
              "  <thead>\n",
              "    <tr style=\"text-align: right;\">\n",
              "      <th></th>\n",
              "      <th>index</th>\n",
              "      <th>VINHO</th>\n",
              "      <th>1970</th>\n",
              "      <th>1971</th>\n",
              "      <th>1972</th>\n",
              "      <th>1973</th>\n",
              "      <th>1974</th>\n",
              "      <th>1975</th>\n",
              "      <th>1976</th>\n",
              "      <th>1977</th>\n",
              "      <th>...</th>\n",
              "      <th>2013</th>\n",
              "      <th>2014</th>\n",
              "      <th>2015</th>\n",
              "      <th>2016</th>\n",
              "      <th>2017</th>\n",
              "      <th>2018</th>\n",
              "      <th>2019</th>\n",
              "      <th>2020</th>\n",
              "      <th>2021</th>\n",
              "      <th>TIPO</th>\n",
              "    </tr>\n",
              "  </thead>\n",
              "  <tbody>\n",
              "    <tr>\n",
              "      <th>0</th>\n",
              "      <td>1</td>\n",
              "      <td>Tinto</td>\n",
              "      <td>174224052</td>\n",
              "      <td>121133369</td>\n",
              "      <td>118180926</td>\n",
              "      <td>88589019</td>\n",
              "      <td>146544484</td>\n",
              "      <td>144274134</td>\n",
              "      <td>118360170</td>\n",
              "      <td>154801826</td>\n",
              "      <td>...</td>\n",
              "      <td>163111797</td>\n",
              "      <td>157776363</td>\n",
              "      <td>169811472</td>\n",
              "      <td>75279191</td>\n",
              "      <td>1365957</td>\n",
              "      <td>188270142</td>\n",
              "      <td>121045115</td>\n",
              "      <td>103916391</td>\n",
              "      <td>146075996</td>\n",
              "      <td>VINHO DE MESA</td>\n",
              "    </tr>\n",
              "    <tr>\n",
              "      <th>1</th>\n",
              "      <td>2</td>\n",
              "      <td>Branco</td>\n",
              "      <td>748400</td>\n",
              "      <td>1160500</td>\n",
              "      <td>1812367</td>\n",
              "      <td>243900</td>\n",
              "      <td>4138768</td>\n",
              "      <td>1441507</td>\n",
              "      <td>1871473</td>\n",
              "      <td>4954387</td>\n",
              "      <td>...</td>\n",
              "      <td>32066403</td>\n",
              "      <td>37438069</td>\n",
              "      <td>39557250</td>\n",
              "      <td>10727099</td>\n",
              "      <td>217527985</td>\n",
              "      <td>29229970</td>\n",
              "      <td>22032828</td>\n",
              "      <td>19568734</td>\n",
              "      <td>26432799</td>\n",
              "      <td>VINHO DE MESA</td>\n",
              "    </tr>\n",
              "    <tr>\n",
              "      <th>2</th>\n",
              "      <td>3</td>\n",
              "      <td>Rosado</td>\n",
              "      <td>42236152</td>\n",
              "      <td>31970782</td>\n",
              "      <td>26960004</td>\n",
              "      <td>27877426</td>\n",
              "      <td>43192093</td>\n",
              "      <td>31685568</td>\n",
              "      <td>24333795</td>\n",
              "      <td>35603565</td>\n",
              "      <td>...</td>\n",
              "      <td>1726022</td>\n",
              "      <td>958691</td>\n",
              "      <td>939838</td>\n",
              "      <td>312725</td>\n",
              "      <td>36121245</td>\n",
              "      <td>875524</td>\n",
              "      <td>1551794</td>\n",
              "      <td>715289</td>\n",
              "      <td>1391200</td>\n",
              "      <td>VINHO DE MESA</td>\n",
              "    </tr>\n",
              "    <tr>\n",
              "      <th>3</th>\n",
              "      <td>5</td>\n",
              "      <td>Tinto</td>\n",
              "      <td>7591557</td>\n",
              "      <td>7265666</td>\n",
              "      <td>6782837</td>\n",
              "      <td>3419625</td>\n",
              "      <td>10047658</td>\n",
              "      <td>14731106</td>\n",
              "      <td>12405154</td>\n",
              "      <td>16131758</td>\n",
              "      <td>...</td>\n",
              "      <td>23156458</td>\n",
              "      <td>17208996</td>\n",
              "      <td>16745896</td>\n",
              "      <td>8774847</td>\n",
              "      <td>21442212</td>\n",
              "      <td>19118254</td>\n",
              "      <td>17389377</td>\n",
              "      <td>15451883</td>\n",
              "      <td>20433249</td>\n",
              "      <td>VINHO FINO DE MESA (VINÍFERA)</td>\n",
              "    </tr>\n",
              "    <tr>\n",
              "      <th>4</th>\n",
              "      <td>6</td>\n",
              "      <td>Branco</td>\n",
              "      <td>15562889</td>\n",
              "      <td>15655709</td>\n",
              "      <td>13289304</td>\n",
              "      <td>7930070</td>\n",
              "      <td>18927471</td>\n",
              "      <td>21933695</td>\n",
              "      <td>19874659</td>\n",
              "      <td>20409231</td>\n",
              "      <td>...</td>\n",
              "      <td>21906349</td>\n",
              "      <td>20054804</td>\n",
              "      <td>19561966</td>\n",
              "      <td>8705066</td>\n",
              "      <td>21928400</td>\n",
              "      <td>18297257</td>\n",
              "      <td>18193055</td>\n",
              "      <td>15487915</td>\n",
              "      <td>20867999</td>\n",
              "      <td>VINHO FINO DE MESA (VINÍFERA)</td>\n",
              "    </tr>\n",
              "  </tbody>\n",
              "</table>\n",
              "<p>5 rows × 55 columns</p>\n",
              "</div>\n",
              "      <button class=\"colab-df-convert\" onclick=\"convertToInteractive('df-923fc9e1-093e-4825-afe5-bafa883507ec')\"\n",
              "              title=\"Convert this dataframe to an interactive table.\"\n",
              "              style=\"display:none;\">\n",
              "        \n",
              "  <svg xmlns=\"http://www.w3.org/2000/svg\" height=\"24px\"viewBox=\"0 0 24 24\"\n",
              "       width=\"24px\">\n",
              "    <path d=\"M0 0h24v24H0V0z\" fill=\"none\"/>\n",
              "    <path d=\"M18.56 5.44l.94 2.06.94-2.06 2.06-.94-2.06-.94-.94-2.06-.94 2.06-2.06.94zm-11 1L8.5 8.5l.94-2.06 2.06-.94-2.06-.94L8.5 2.5l-.94 2.06-2.06.94zm10 10l.94 2.06.94-2.06 2.06-.94-2.06-.94-.94-2.06-.94 2.06-2.06.94z\"/><path d=\"M17.41 7.96l-1.37-1.37c-.4-.4-.92-.59-1.43-.59-.52 0-1.04.2-1.43.59L10.3 9.45l-7.72 7.72c-.78.78-.78 2.05 0 2.83L4 21.41c.39.39.9.59 1.41.59.51 0 1.02-.2 1.41-.59l7.78-7.78 2.81-2.81c.8-.78.8-2.07 0-2.86zM5.41 20L4 18.59l7.72-7.72 1.47 1.35L5.41 20z\"/>\n",
              "  </svg>\n",
              "      </button>\n",
              "      \n",
              "  <style>\n",
              "    .colab-df-container {\n",
              "      display:flex;\n",
              "      flex-wrap:wrap;\n",
              "      gap: 12px;\n",
              "    }\n",
              "\n",
              "    .colab-df-convert {\n",
              "      background-color: #E8F0FE;\n",
              "      border: none;\n",
              "      border-radius: 50%;\n",
              "      cursor: pointer;\n",
              "      display: none;\n",
              "      fill: #1967D2;\n",
              "      height: 32px;\n",
              "      padding: 0 0 0 0;\n",
              "      width: 32px;\n",
              "    }\n",
              "\n",
              "    .colab-df-convert:hover {\n",
              "      background-color: #E2EBFA;\n",
              "      box-shadow: 0px 1px 2px rgba(60, 64, 67, 0.3), 0px 1px 3px 1px rgba(60, 64, 67, 0.15);\n",
              "      fill: #174EA6;\n",
              "    }\n",
              "\n",
              "    [theme=dark] .colab-df-convert {\n",
              "      background-color: #3B4455;\n",
              "      fill: #D2E3FC;\n",
              "    }\n",
              "\n",
              "    [theme=dark] .colab-df-convert:hover {\n",
              "      background-color: #434B5C;\n",
              "      box-shadow: 0px 1px 3px 1px rgba(0, 0, 0, 0.15);\n",
              "      filter: drop-shadow(0px 1px 2px rgba(0, 0, 0, 0.3));\n",
              "      fill: #FFFFFF;\n",
              "    }\n",
              "  </style>\n",
              "\n",
              "      <script>\n",
              "        const buttonEl =\n",
              "          document.querySelector('#df-923fc9e1-093e-4825-afe5-bafa883507ec button.colab-df-convert');\n",
              "        buttonEl.style.display =\n",
              "          google.colab.kernel.accessAllowed ? 'block' : 'none';\n",
              "\n",
              "        async function convertToInteractive(key) {\n",
              "          const element = document.querySelector('#df-923fc9e1-093e-4825-afe5-bafa883507ec');\n",
              "          const dataTable =\n",
              "            await google.colab.kernel.invokeFunction('convertToInteractive',\n",
              "                                                     [key], {});\n",
              "          if (!dataTable) return;\n",
              "\n",
              "          const docLinkHtml = 'Like what you see? Visit the ' +\n",
              "            '<a target=\"_blank\" href=https://colab.research.google.com/notebooks/data_table.ipynb>data table notebook</a>'\n",
              "            + ' to learn more about interactive tables.';\n",
              "          element.innerHTML = '';\n",
              "          dataTable['output_type'] = 'display_data';\n",
              "          await google.colab.output.renderOutput(dataTable, element);\n",
              "          const docLink = document.createElement('div');\n",
              "          docLink.innerHTML = docLinkHtml;\n",
              "          element.appendChild(docLink);\n",
              "        }\n",
              "      </script>\n",
              "    </div>\n",
              "  </div>\n",
              "  "
            ]
          },
          "metadata": {},
          "execution_count": 1950
        }
      ],
      "source": [
        "df_producao = pd.read_csv('/content/drive/MyDrive/dados/raw/producao/Producao.csv', delimiter=';',\n",
        "                         header=None)\n",
        "\n",
        "df_producao = df_producao[df_producao.columns[2:]]\n",
        "df_producao.columns = nome_colunas\n",
        "df_producao = df_producao.query('VINHO not in @producao_linhas_para_remover').reset_index()\n",
        "\n",
        "df_producao.loc[df_producao.index[0:3], 'TIPO'] = 'VINHO DE MESA'\n",
        "df_producao.loc[df_producao.index[3:6], 'TIPO'] = 'VINHO FINO DE MESA (VINÍFERA)'\n",
        "df_producao.loc[df_producao.index[6:11], 'TIPO'] = 'SUCO'\n",
        "df_producao.loc[df_producao.index[11:], 'TIPO'] = 'DERIVADOS'\n",
        "df_producao.head()"
      ]
    },
    {
      "cell_type": "markdown",
      "id": "20212010-267c-4cf3-8d65-b69821c9b9f4",
      "metadata": {
        "tags": [],
        "id": "20212010-267c-4cf3-8d65-b69821c9b9f4"
      },
      "source": [
        "##### Escrevendo versão \"formatada\""
      ]
    },
    {
      "cell_type": "code",
      "execution_count": 1951,
      "id": "b0f01d21-e16b-4cd8-823a-f75b5c9000a4",
      "metadata": {
        "tags": [],
        "id": "b0f01d21-e16b-4cd8-823a-f75b5c9000a4"
      },
      "outputs": [],
      "source": [
        "df_producao.to_csv('//content/drive/MyDrive/dados/formatted/df_producao.csv', encoding='utf-8', sep='|', index=False)"
      ]
    },
    {
      "cell_type": "markdown",
      "id": "1e498988-9472-47c0-9aee-d2253fbecbbf",
      "metadata": {
        "tags": [],
        "id": "1e498988-9472-47c0-9aee-d2253fbecbbf"
      },
      "source": [
        "***"
      ]
    },
    {
      "cell_type": "markdown",
      "id": "5555a3a5-a413-473a-9283-cf466bff45f1",
      "metadata": {
        "tags": [],
        "id": "5555a3a5-a413-473a-9283-cf466bff45f1"
      },
      "source": [
        "### 2. Processamento"
      ]
    },
    {
      "cell_type": "code",
      "execution_count": 1952,
      "id": "9252a487-e0ee-4450-9dba-6486bac0be80",
      "metadata": {
        "tags": [],
        "id": "9252a487-e0ee-4450-9dba-6486bac0be80"
      },
      "outputs": [],
      "source": [
        "processamento_linhas_para_remover = ['TINTAS', 'BRANCAS E ROSADAS', 'BRANCAS']"
      ]
    },
    {
      "cell_type": "code",
      "source": [
        "from google.colab import drive\n",
        "drive.mount('/content/drive')"
      ],
      "metadata": {
        "colab": {
          "base_uri": "https://localhost:8080/"
        },
        "id": "plws19VSyO3U",
        "outputId": "28b65d64-667a-419d-873d-8e3a917f6094"
      },
      "id": "plws19VSyO3U",
      "execution_count": 1953,
      "outputs": [
        {
          "output_type": "stream",
          "name": "stdout",
          "text": [
            "Drive already mounted at /content/drive; to attempt to forcibly remount, call drive.mount(\"/content/drive\", force_remount=True).\n"
          ]
        }
      ]
    },
    {
      "cell_type": "markdown",
      "id": "8826544e-fcce-4ddf-92ad-2829f5129264",
      "metadata": {
        "tags": [],
        "id": "8826544e-fcce-4ddf-92ad-2829f5129264"
      },
      "source": [
        "#### Viniferas"
      ]
    },
    {
      "cell_type": "code",
      "execution_count": 1954,
      "id": "9b9b0979-698b-4964-8a92-3b4e3786605c",
      "metadata": {
        "tags": [],
        "id": "9b9b0979-698b-4964-8a92-3b4e3786605c",
        "colab": {
          "base_uri": "https://localhost:8080/",
          "height": 0
        },
        "outputId": "d3ac2d44-3101-47e1-8123-d721b8d6bbbc"
      },
      "outputs": [
        {
          "output_type": "execute_result",
          "data": {
            "text/plain": [
              "   index              VINHO  1970  1971  1972  1973  1974  1975  1976  1977  \\\n",
              "0      1  Alicante Bouschet     0     0     0     0     0     0     0     0   \n",
              "1      2           Ancelota     0     0     0     0     0     0     0     0   \n",
              "2      3             Aramon     0     0     0     0     0     0     0     0   \n",
              "3      4        Alfrocheiro     0     0     0     0     0     0     0     0   \n",
              "4      5          Arinarnoa     0     0     0     0     0     0     0     0   \n",
              "\n",
              "   ...     2013     2014     2015    2016     2017     2018  2019     2020  \\\n",
              "0  ...  1524728  1456305  1519576  908841  2040198  2103844    nd  2272985   \n",
              "1  ...  1137943   937844   773526  179028   733907   492106    nd   481402   \n",
              "2  ...        0        0        0       0        0        0    nd        0   \n",
              "3  ...        0        0        0       0        0        0    nd        0   \n",
              "4  ...    65001    56666    61817   17691    69757    44775    nd    90860   \n",
              "\n",
              "      2021    TIPO  \n",
              "0   811140  TINTAS  \n",
              "1  6513974  TINTAS  \n",
              "2        0  TINTAS  \n",
              "3        0  TINTAS  \n",
              "4  2785609  TINTAS  \n",
              "\n",
              "[5 rows x 55 columns]"
            ],
            "text/html": [
              "\n",
              "  <div id=\"df-dc69fd61-f4c2-4e5c-9c97-b337ddbefefd\">\n",
              "    <div class=\"colab-df-container\">\n",
              "      <div>\n",
              "<style scoped>\n",
              "    .dataframe tbody tr th:only-of-type {\n",
              "        vertical-align: middle;\n",
              "    }\n",
              "\n",
              "    .dataframe tbody tr th {\n",
              "        vertical-align: top;\n",
              "    }\n",
              "\n",
              "    .dataframe thead th {\n",
              "        text-align: right;\n",
              "    }\n",
              "</style>\n",
              "<table border=\"1\" class=\"dataframe\">\n",
              "  <thead>\n",
              "    <tr style=\"text-align: right;\">\n",
              "      <th></th>\n",
              "      <th>index</th>\n",
              "      <th>VINHO</th>\n",
              "      <th>1970</th>\n",
              "      <th>1971</th>\n",
              "      <th>1972</th>\n",
              "      <th>1973</th>\n",
              "      <th>1974</th>\n",
              "      <th>1975</th>\n",
              "      <th>1976</th>\n",
              "      <th>1977</th>\n",
              "      <th>...</th>\n",
              "      <th>2013</th>\n",
              "      <th>2014</th>\n",
              "      <th>2015</th>\n",
              "      <th>2016</th>\n",
              "      <th>2017</th>\n",
              "      <th>2018</th>\n",
              "      <th>2019</th>\n",
              "      <th>2020</th>\n",
              "      <th>2021</th>\n",
              "      <th>TIPO</th>\n",
              "    </tr>\n",
              "  </thead>\n",
              "  <tbody>\n",
              "    <tr>\n",
              "      <th>0</th>\n",
              "      <td>1</td>\n",
              "      <td>Alicante Bouschet</td>\n",
              "      <td>0</td>\n",
              "      <td>0</td>\n",
              "      <td>0</td>\n",
              "      <td>0</td>\n",
              "      <td>0</td>\n",
              "      <td>0</td>\n",
              "      <td>0</td>\n",
              "      <td>0</td>\n",
              "      <td>...</td>\n",
              "      <td>1524728</td>\n",
              "      <td>1456305</td>\n",
              "      <td>1519576</td>\n",
              "      <td>908841</td>\n",
              "      <td>2040198</td>\n",
              "      <td>2103844</td>\n",
              "      <td>nd</td>\n",
              "      <td>2272985</td>\n",
              "      <td>811140</td>\n",
              "      <td>TINTAS</td>\n",
              "    </tr>\n",
              "    <tr>\n",
              "      <th>1</th>\n",
              "      <td>2</td>\n",
              "      <td>Ancelota</td>\n",
              "      <td>0</td>\n",
              "      <td>0</td>\n",
              "      <td>0</td>\n",
              "      <td>0</td>\n",
              "      <td>0</td>\n",
              "      <td>0</td>\n",
              "      <td>0</td>\n",
              "      <td>0</td>\n",
              "      <td>...</td>\n",
              "      <td>1137943</td>\n",
              "      <td>937844</td>\n",
              "      <td>773526</td>\n",
              "      <td>179028</td>\n",
              "      <td>733907</td>\n",
              "      <td>492106</td>\n",
              "      <td>nd</td>\n",
              "      <td>481402</td>\n",
              "      <td>6513974</td>\n",
              "      <td>TINTAS</td>\n",
              "    </tr>\n",
              "    <tr>\n",
              "      <th>2</th>\n",
              "      <td>3</td>\n",
              "      <td>Aramon</td>\n",
              "      <td>0</td>\n",
              "      <td>0</td>\n",
              "      <td>0</td>\n",
              "      <td>0</td>\n",
              "      <td>0</td>\n",
              "      <td>0</td>\n",
              "      <td>0</td>\n",
              "      <td>0</td>\n",
              "      <td>...</td>\n",
              "      <td>0</td>\n",
              "      <td>0</td>\n",
              "      <td>0</td>\n",
              "      <td>0</td>\n",
              "      <td>0</td>\n",
              "      <td>0</td>\n",
              "      <td>nd</td>\n",
              "      <td>0</td>\n",
              "      <td>0</td>\n",
              "      <td>TINTAS</td>\n",
              "    </tr>\n",
              "    <tr>\n",
              "      <th>3</th>\n",
              "      <td>4</td>\n",
              "      <td>Alfrocheiro</td>\n",
              "      <td>0</td>\n",
              "      <td>0</td>\n",
              "      <td>0</td>\n",
              "      <td>0</td>\n",
              "      <td>0</td>\n",
              "      <td>0</td>\n",
              "      <td>0</td>\n",
              "      <td>0</td>\n",
              "      <td>...</td>\n",
              "      <td>0</td>\n",
              "      <td>0</td>\n",
              "      <td>0</td>\n",
              "      <td>0</td>\n",
              "      <td>0</td>\n",
              "      <td>0</td>\n",
              "      <td>nd</td>\n",
              "      <td>0</td>\n",
              "      <td>0</td>\n",
              "      <td>TINTAS</td>\n",
              "    </tr>\n",
              "    <tr>\n",
              "      <th>4</th>\n",
              "      <td>5</td>\n",
              "      <td>Arinarnoa</td>\n",
              "      <td>0</td>\n",
              "      <td>0</td>\n",
              "      <td>0</td>\n",
              "      <td>0</td>\n",
              "      <td>0</td>\n",
              "      <td>0</td>\n",
              "      <td>0</td>\n",
              "      <td>0</td>\n",
              "      <td>...</td>\n",
              "      <td>65001</td>\n",
              "      <td>56666</td>\n",
              "      <td>61817</td>\n",
              "      <td>17691</td>\n",
              "      <td>69757</td>\n",
              "      <td>44775</td>\n",
              "      <td>nd</td>\n",
              "      <td>90860</td>\n",
              "      <td>2785609</td>\n",
              "      <td>TINTAS</td>\n",
              "    </tr>\n",
              "  </tbody>\n",
              "</table>\n",
              "<p>5 rows × 55 columns</p>\n",
              "</div>\n",
              "      <button class=\"colab-df-convert\" onclick=\"convertToInteractive('df-dc69fd61-f4c2-4e5c-9c97-b337ddbefefd')\"\n",
              "              title=\"Convert this dataframe to an interactive table.\"\n",
              "              style=\"display:none;\">\n",
              "        \n",
              "  <svg xmlns=\"http://www.w3.org/2000/svg\" height=\"24px\"viewBox=\"0 0 24 24\"\n",
              "       width=\"24px\">\n",
              "    <path d=\"M0 0h24v24H0V0z\" fill=\"none\"/>\n",
              "    <path d=\"M18.56 5.44l.94 2.06.94-2.06 2.06-.94-2.06-.94-.94-2.06-.94 2.06-2.06.94zm-11 1L8.5 8.5l.94-2.06 2.06-.94-2.06-.94L8.5 2.5l-.94 2.06-2.06.94zm10 10l.94 2.06.94-2.06 2.06-.94-2.06-.94-.94-2.06-.94 2.06-2.06.94z\"/><path d=\"M17.41 7.96l-1.37-1.37c-.4-.4-.92-.59-1.43-.59-.52 0-1.04.2-1.43.59L10.3 9.45l-7.72 7.72c-.78.78-.78 2.05 0 2.83L4 21.41c.39.39.9.59 1.41.59.51 0 1.02-.2 1.41-.59l7.78-7.78 2.81-2.81c.8-.78.8-2.07 0-2.86zM5.41 20L4 18.59l7.72-7.72 1.47 1.35L5.41 20z\"/>\n",
              "  </svg>\n",
              "      </button>\n",
              "      \n",
              "  <style>\n",
              "    .colab-df-container {\n",
              "      display:flex;\n",
              "      flex-wrap:wrap;\n",
              "      gap: 12px;\n",
              "    }\n",
              "\n",
              "    .colab-df-convert {\n",
              "      background-color: #E8F0FE;\n",
              "      border: none;\n",
              "      border-radius: 50%;\n",
              "      cursor: pointer;\n",
              "      display: none;\n",
              "      fill: #1967D2;\n",
              "      height: 32px;\n",
              "      padding: 0 0 0 0;\n",
              "      width: 32px;\n",
              "    }\n",
              "\n",
              "    .colab-df-convert:hover {\n",
              "      background-color: #E2EBFA;\n",
              "      box-shadow: 0px 1px 2px rgba(60, 64, 67, 0.3), 0px 1px 3px 1px rgba(60, 64, 67, 0.15);\n",
              "      fill: #174EA6;\n",
              "    }\n",
              "\n",
              "    [theme=dark] .colab-df-convert {\n",
              "      background-color: #3B4455;\n",
              "      fill: #D2E3FC;\n",
              "    }\n",
              "\n",
              "    [theme=dark] .colab-df-convert:hover {\n",
              "      background-color: #434B5C;\n",
              "      box-shadow: 0px 1px 3px 1px rgba(0, 0, 0, 0.15);\n",
              "      filter: drop-shadow(0px 1px 2px rgba(0, 0, 0, 0.3));\n",
              "      fill: #FFFFFF;\n",
              "    }\n",
              "  </style>\n",
              "\n",
              "      <script>\n",
              "        const buttonEl =\n",
              "          document.querySelector('#df-dc69fd61-f4c2-4e5c-9c97-b337ddbefefd button.colab-df-convert');\n",
              "        buttonEl.style.display =\n",
              "          google.colab.kernel.accessAllowed ? 'block' : 'none';\n",
              "\n",
              "        async function convertToInteractive(key) {\n",
              "          const element = document.querySelector('#df-dc69fd61-f4c2-4e5c-9c97-b337ddbefefd');\n",
              "          const dataTable =\n",
              "            await google.colab.kernel.invokeFunction('convertToInteractive',\n",
              "                                                     [key], {});\n",
              "          if (!dataTable) return;\n",
              "\n",
              "          const docLinkHtml = 'Like what you see? Visit the ' +\n",
              "            '<a target=\"_blank\" href=https://colab.research.google.com/notebooks/data_table.ipynb>data table notebook</a>'\n",
              "            + ' to learn more about interactive tables.';\n",
              "          element.innerHTML = '';\n",
              "          dataTable['output_type'] = 'display_data';\n",
              "          await google.colab.output.renderOutput(dataTable, element);\n",
              "          const docLink = document.createElement('div');\n",
              "          docLink.innerHTML = docLinkHtml;\n",
              "          element.appendChild(docLink);\n",
              "        }\n",
              "      </script>\n",
              "    </div>\n",
              "  </div>\n",
              "  "
            ]
          },
          "metadata": {},
          "execution_count": 1954
        }
      ],
      "source": [
        "df_processamento_viniferas = pd.read_csv('/content/drive/MyDrive/dados/raw/processamento/ProcessaViniferas.csv',\n",
        "                              delimiter='\\t')\n",
        "\n",
        "df_processamento_viniferas = df_processamento_viniferas[df_processamento_viniferas.columns[2:]]\n",
        "df_processamento_viniferas = df_processamento_viniferas.query('cultivar not in @processamento_linhas_para_remover').reset_index()\n",
        "\n",
        "df_processamento_viniferas.loc[df_processamento_viniferas.index[0:68], 'TIPO'] = 'TINTAS'\n",
        "df_processamento_viniferas.loc[df_processamento_viniferas.index[68:], 'TIPO'] = 'BRANCAS E ROSADAS'\n",
        "\n",
        "df_processamento_viniferas = df_processamento_viniferas.rename(columns={'cultivar': 'VINHO'})\n",
        "\n",
        "df_processamento_viniferas.head()"
      ]
    },
    {
      "cell_type": "markdown",
      "id": "4c9b8472-d2fc-425d-8768-8e1526791ee3",
      "metadata": {
        "tags": [],
        "id": "4c9b8472-d2fc-425d-8768-8e1526791ee3"
      },
      "source": [
        "#### Americanas e hibridas"
      ]
    },
    {
      "cell_type": "code",
      "execution_count": 1955,
      "id": "c56f6595-cb11-47b8-a05c-4a6ba637ff12",
      "metadata": {
        "tags": [],
        "id": "c56f6595-cb11-47b8-a05c-4a6ba637ff12",
        "colab": {
          "base_uri": "https://localhost:8080/",
          "height": 0
        },
        "outputId": "c2f0c7c3-d971-48a4-c6cd-b7487d81c03f"
      },
      "outputs": [
        {
          "output_type": "execute_result",
          "data": {
            "text/plain": [
              "   index        VINHO     1970     1971     1972     1973      1974      1975  \\\n",
              "0      1     Bacarina    82899   106962    67464    58690    138158    101454   \n",
              "1      2       Bailey        0        0        0        0         0         0   \n",
              "2      3        Bordo  7242197  7227090  6530686  5584243  13341412  16023998   \n",
              "3      4  Bourdin (S)        0        0        0        0         0         0   \n",
              "4      5   BRS Carmen        0        0        0        0         0         0   \n",
              "\n",
              "       1976      1977  ...       2013       2014       2015      2016  \\\n",
              "0     57297         0  ...       2990       3900          0         0   \n",
              "1         0         0  ...     756000     991449     963159    442784   \n",
              "2  12725233  18714617  ...  102788361  113008320  137467196  60976531   \n",
              "3         0         0  ...          0          0          0         0   \n",
              "4         0         0  ...     605728    1553111    2891792   2964574   \n",
              "\n",
              "        2017       2018  2019       2020       2021    TIPO  \n",
              "0          0          0    nd          0          0  TINTAS  \n",
              "1    1370092     539742    nd     534981    4092669  TINTAS  \n",
              "2  160146475  158405972    nd  129978861  117655879  TINTAS  \n",
              "3          0          0    nd          0          0  TINTAS  \n",
              "4    6771269    7472984    nd   11540681   13771662  TINTAS  \n",
              "\n",
              "[5 rows x 55 columns]"
            ],
            "text/html": [
              "\n",
              "  <div id=\"df-a986a8fe-a182-40f0-bdd3-4f33b7500f11\">\n",
              "    <div class=\"colab-df-container\">\n",
              "      <div>\n",
              "<style scoped>\n",
              "    .dataframe tbody tr th:only-of-type {\n",
              "        vertical-align: middle;\n",
              "    }\n",
              "\n",
              "    .dataframe tbody tr th {\n",
              "        vertical-align: top;\n",
              "    }\n",
              "\n",
              "    .dataframe thead th {\n",
              "        text-align: right;\n",
              "    }\n",
              "</style>\n",
              "<table border=\"1\" class=\"dataframe\">\n",
              "  <thead>\n",
              "    <tr style=\"text-align: right;\">\n",
              "      <th></th>\n",
              "      <th>index</th>\n",
              "      <th>VINHO</th>\n",
              "      <th>1970</th>\n",
              "      <th>1971</th>\n",
              "      <th>1972</th>\n",
              "      <th>1973</th>\n",
              "      <th>1974</th>\n",
              "      <th>1975</th>\n",
              "      <th>1976</th>\n",
              "      <th>1977</th>\n",
              "      <th>...</th>\n",
              "      <th>2013</th>\n",
              "      <th>2014</th>\n",
              "      <th>2015</th>\n",
              "      <th>2016</th>\n",
              "      <th>2017</th>\n",
              "      <th>2018</th>\n",
              "      <th>2019</th>\n",
              "      <th>2020</th>\n",
              "      <th>2021</th>\n",
              "      <th>TIPO</th>\n",
              "    </tr>\n",
              "  </thead>\n",
              "  <tbody>\n",
              "    <tr>\n",
              "      <th>0</th>\n",
              "      <td>1</td>\n",
              "      <td>Bacarina</td>\n",
              "      <td>82899</td>\n",
              "      <td>106962</td>\n",
              "      <td>67464</td>\n",
              "      <td>58690</td>\n",
              "      <td>138158</td>\n",
              "      <td>101454</td>\n",
              "      <td>57297</td>\n",
              "      <td>0</td>\n",
              "      <td>...</td>\n",
              "      <td>2990</td>\n",
              "      <td>3900</td>\n",
              "      <td>0</td>\n",
              "      <td>0</td>\n",
              "      <td>0</td>\n",
              "      <td>0</td>\n",
              "      <td>nd</td>\n",
              "      <td>0</td>\n",
              "      <td>0</td>\n",
              "      <td>TINTAS</td>\n",
              "    </tr>\n",
              "    <tr>\n",
              "      <th>1</th>\n",
              "      <td>2</td>\n",
              "      <td>Bailey</td>\n",
              "      <td>0</td>\n",
              "      <td>0</td>\n",
              "      <td>0</td>\n",
              "      <td>0</td>\n",
              "      <td>0</td>\n",
              "      <td>0</td>\n",
              "      <td>0</td>\n",
              "      <td>0</td>\n",
              "      <td>...</td>\n",
              "      <td>756000</td>\n",
              "      <td>991449</td>\n",
              "      <td>963159</td>\n",
              "      <td>442784</td>\n",
              "      <td>1370092</td>\n",
              "      <td>539742</td>\n",
              "      <td>nd</td>\n",
              "      <td>534981</td>\n",
              "      <td>4092669</td>\n",
              "      <td>TINTAS</td>\n",
              "    </tr>\n",
              "    <tr>\n",
              "      <th>2</th>\n",
              "      <td>3</td>\n",
              "      <td>Bordo</td>\n",
              "      <td>7242197</td>\n",
              "      <td>7227090</td>\n",
              "      <td>6530686</td>\n",
              "      <td>5584243</td>\n",
              "      <td>13341412</td>\n",
              "      <td>16023998</td>\n",
              "      <td>12725233</td>\n",
              "      <td>18714617</td>\n",
              "      <td>...</td>\n",
              "      <td>102788361</td>\n",
              "      <td>113008320</td>\n",
              "      <td>137467196</td>\n",
              "      <td>60976531</td>\n",
              "      <td>160146475</td>\n",
              "      <td>158405972</td>\n",
              "      <td>nd</td>\n",
              "      <td>129978861</td>\n",
              "      <td>117655879</td>\n",
              "      <td>TINTAS</td>\n",
              "    </tr>\n",
              "    <tr>\n",
              "      <th>3</th>\n",
              "      <td>4</td>\n",
              "      <td>Bourdin (S)</td>\n",
              "      <td>0</td>\n",
              "      <td>0</td>\n",
              "      <td>0</td>\n",
              "      <td>0</td>\n",
              "      <td>0</td>\n",
              "      <td>0</td>\n",
              "      <td>0</td>\n",
              "      <td>0</td>\n",
              "      <td>...</td>\n",
              "      <td>0</td>\n",
              "      <td>0</td>\n",
              "      <td>0</td>\n",
              "      <td>0</td>\n",
              "      <td>0</td>\n",
              "      <td>0</td>\n",
              "      <td>nd</td>\n",
              "      <td>0</td>\n",
              "      <td>0</td>\n",
              "      <td>TINTAS</td>\n",
              "    </tr>\n",
              "    <tr>\n",
              "      <th>4</th>\n",
              "      <td>5</td>\n",
              "      <td>BRS Carmen</td>\n",
              "      <td>0</td>\n",
              "      <td>0</td>\n",
              "      <td>0</td>\n",
              "      <td>0</td>\n",
              "      <td>0</td>\n",
              "      <td>0</td>\n",
              "      <td>0</td>\n",
              "      <td>0</td>\n",
              "      <td>...</td>\n",
              "      <td>605728</td>\n",
              "      <td>1553111</td>\n",
              "      <td>2891792</td>\n",
              "      <td>2964574</td>\n",
              "      <td>6771269</td>\n",
              "      <td>7472984</td>\n",
              "      <td>nd</td>\n",
              "      <td>11540681</td>\n",
              "      <td>13771662</td>\n",
              "      <td>TINTAS</td>\n",
              "    </tr>\n",
              "  </tbody>\n",
              "</table>\n",
              "<p>5 rows × 55 columns</p>\n",
              "</div>\n",
              "      <button class=\"colab-df-convert\" onclick=\"convertToInteractive('df-a986a8fe-a182-40f0-bdd3-4f33b7500f11')\"\n",
              "              title=\"Convert this dataframe to an interactive table.\"\n",
              "              style=\"display:none;\">\n",
              "        \n",
              "  <svg xmlns=\"http://www.w3.org/2000/svg\" height=\"24px\"viewBox=\"0 0 24 24\"\n",
              "       width=\"24px\">\n",
              "    <path d=\"M0 0h24v24H0V0z\" fill=\"none\"/>\n",
              "    <path d=\"M18.56 5.44l.94 2.06.94-2.06 2.06-.94-2.06-.94-.94-2.06-.94 2.06-2.06.94zm-11 1L8.5 8.5l.94-2.06 2.06-.94-2.06-.94L8.5 2.5l-.94 2.06-2.06.94zm10 10l.94 2.06.94-2.06 2.06-.94-2.06-.94-.94-2.06-.94 2.06-2.06.94z\"/><path d=\"M17.41 7.96l-1.37-1.37c-.4-.4-.92-.59-1.43-.59-.52 0-1.04.2-1.43.59L10.3 9.45l-7.72 7.72c-.78.78-.78 2.05 0 2.83L4 21.41c.39.39.9.59 1.41.59.51 0 1.02-.2 1.41-.59l7.78-7.78 2.81-2.81c.8-.78.8-2.07 0-2.86zM5.41 20L4 18.59l7.72-7.72 1.47 1.35L5.41 20z\"/>\n",
              "  </svg>\n",
              "      </button>\n",
              "      \n",
              "  <style>\n",
              "    .colab-df-container {\n",
              "      display:flex;\n",
              "      flex-wrap:wrap;\n",
              "      gap: 12px;\n",
              "    }\n",
              "\n",
              "    .colab-df-convert {\n",
              "      background-color: #E8F0FE;\n",
              "      border: none;\n",
              "      border-radius: 50%;\n",
              "      cursor: pointer;\n",
              "      display: none;\n",
              "      fill: #1967D2;\n",
              "      height: 32px;\n",
              "      padding: 0 0 0 0;\n",
              "      width: 32px;\n",
              "    }\n",
              "\n",
              "    .colab-df-convert:hover {\n",
              "      background-color: #E2EBFA;\n",
              "      box-shadow: 0px 1px 2px rgba(60, 64, 67, 0.3), 0px 1px 3px 1px rgba(60, 64, 67, 0.15);\n",
              "      fill: #174EA6;\n",
              "    }\n",
              "\n",
              "    [theme=dark] .colab-df-convert {\n",
              "      background-color: #3B4455;\n",
              "      fill: #D2E3FC;\n",
              "    }\n",
              "\n",
              "    [theme=dark] .colab-df-convert:hover {\n",
              "      background-color: #434B5C;\n",
              "      box-shadow: 0px 1px 3px 1px rgba(0, 0, 0, 0.15);\n",
              "      filter: drop-shadow(0px 1px 2px rgba(0, 0, 0, 0.3));\n",
              "      fill: #FFFFFF;\n",
              "    }\n",
              "  </style>\n",
              "\n",
              "      <script>\n",
              "        const buttonEl =\n",
              "          document.querySelector('#df-a986a8fe-a182-40f0-bdd3-4f33b7500f11 button.colab-df-convert');\n",
              "        buttonEl.style.display =\n",
              "          google.colab.kernel.accessAllowed ? 'block' : 'none';\n",
              "\n",
              "        async function convertToInteractive(key) {\n",
              "          const element = document.querySelector('#df-a986a8fe-a182-40f0-bdd3-4f33b7500f11');\n",
              "          const dataTable =\n",
              "            await google.colab.kernel.invokeFunction('convertToInteractive',\n",
              "                                                     [key], {});\n",
              "          if (!dataTable) return;\n",
              "\n",
              "          const docLinkHtml = 'Like what you see? Visit the ' +\n",
              "            '<a target=\"_blank\" href=https://colab.research.google.com/notebooks/data_table.ipynb>data table notebook</a>'\n",
              "            + ' to learn more about interactive tables.';\n",
              "          element.innerHTML = '';\n",
              "          dataTable['output_type'] = 'display_data';\n",
              "          await google.colab.output.renderOutput(dataTable, element);\n",
              "          const docLink = document.createElement('div');\n",
              "          docLink.innerHTML = docLinkHtml;\n",
              "          element.appendChild(docLink);\n",
              "        }\n",
              "      </script>\n",
              "    </div>\n",
              "  </div>\n",
              "  "
            ]
          },
          "metadata": {},
          "execution_count": 1955
        }
      ],
      "source": [
        "df_processamento_americanas = pd.read_csv('/content/drive/MyDrive/dados/raw/processamento/ProcessaAmericanas.csv',\n",
        "                              delimiter=';')\n",
        "\n",
        "df_processamento_americanas = df_processamento_americanas[df_processamento_americanas.columns[2:]]\n",
        "df_processamento_americanas = df_processamento_americanas.query('cultivar not in @processamento_linhas_para_remover').reset_index()\n",
        "\n",
        "df_processamento_americanas.loc[df_processamento_americanas.index[0:34], 'TIPO'] = 'TINTAS'\n",
        "df_processamento_americanas.loc[df_processamento_americanas.index[34:], 'TIPO'] = 'BRANCAS E ROSADAS'\n",
        "\n",
        "df_processamento_americanas = df_processamento_americanas.rename(columns={'cultivar': 'VINHO'})\n",
        "\n",
        "df_processamento_americanas.head()"
      ]
    },
    {
      "cell_type": "markdown",
      "id": "29c3bcf1-fddf-4ab1-9a08-2a6a962232b0",
      "metadata": {
        "tags": [],
        "id": "29c3bcf1-fddf-4ab1-9a08-2a6a962232b0"
      },
      "source": [
        "#### Uvas de mesa"
      ]
    },
    {
      "cell_type": "code",
      "execution_count": 1956,
      "id": "43947de8-4f58-4b43-bbea-a71d86f634c1",
      "metadata": {
        "tags": [],
        "id": "43947de8-4f58-4b43-bbea-a71d86f634c1",
        "colab": {
          "base_uri": "https://localhost:8080/",
          "height": 0
        },
        "outputId": "96e8b690-684a-40ed-e091-2a94c7a6abd1"
      },
      "outputs": [
        {
          "output_type": "execute_result",
          "data": {
            "text/plain": [
              "   index                 VINHO   1970   1971  1972  1973    1974    1975  \\\n",
              "0      1     Alphonse Lavallee  31878   2333   170  7690  124762   74293   \n",
              "1      2   Moscato de Hamburgo  25098  41057  4258  1249     801  109438   \n",
              "2      4              Cardinal      0      0     0     0       0       0   \n",
              "3      5          Golden Queen    167   8654   657  7312    8467    6805   \n",
              "4      6              Patrícia      0      0     0     0       0       0   \n",
              "\n",
              "    1976   1977  ...   2013   2014    2015   2016   2017   2018  2019   2020  \\\n",
              "0  23684  24430  ...      0      0       0      0      0      0    nd      0   \n",
              "1  64828  89161  ...  75362  65850  108797  51310  85510  62567    nd  63474   \n",
              "2      0      0  ...      0      0       0      0      0      0    nd      0   \n",
              "3      0   2391  ...      0      0       0      0      0      0    nd      0   \n",
              "4      0      0  ...      0      0       0      0      0      0    nd      0   \n",
              "\n",
              "    2021     TIPO  \n",
              "0      0   TINTAS  \n",
              "1  21732   TINTAS  \n",
              "2      0  BRANCAS  \n",
              "3      0  BRANCAS  \n",
              "4      0  BRANCAS  \n",
              "\n",
              "[5 rows x 55 columns]"
            ],
            "text/html": [
              "\n",
              "  <div id=\"df-329f9895-7ae9-4753-8c26-430c838d0ae0\">\n",
              "    <div class=\"colab-df-container\">\n",
              "      <div>\n",
              "<style scoped>\n",
              "    .dataframe tbody tr th:only-of-type {\n",
              "        vertical-align: middle;\n",
              "    }\n",
              "\n",
              "    .dataframe tbody tr th {\n",
              "        vertical-align: top;\n",
              "    }\n",
              "\n",
              "    .dataframe thead th {\n",
              "        text-align: right;\n",
              "    }\n",
              "</style>\n",
              "<table border=\"1\" class=\"dataframe\">\n",
              "  <thead>\n",
              "    <tr style=\"text-align: right;\">\n",
              "      <th></th>\n",
              "      <th>index</th>\n",
              "      <th>VINHO</th>\n",
              "      <th>1970</th>\n",
              "      <th>1971</th>\n",
              "      <th>1972</th>\n",
              "      <th>1973</th>\n",
              "      <th>1974</th>\n",
              "      <th>1975</th>\n",
              "      <th>1976</th>\n",
              "      <th>1977</th>\n",
              "      <th>...</th>\n",
              "      <th>2013</th>\n",
              "      <th>2014</th>\n",
              "      <th>2015</th>\n",
              "      <th>2016</th>\n",
              "      <th>2017</th>\n",
              "      <th>2018</th>\n",
              "      <th>2019</th>\n",
              "      <th>2020</th>\n",
              "      <th>2021</th>\n",
              "      <th>TIPO</th>\n",
              "    </tr>\n",
              "  </thead>\n",
              "  <tbody>\n",
              "    <tr>\n",
              "      <th>0</th>\n",
              "      <td>1</td>\n",
              "      <td>Alphonse Lavallee</td>\n",
              "      <td>31878</td>\n",
              "      <td>2333</td>\n",
              "      <td>170</td>\n",
              "      <td>7690</td>\n",
              "      <td>124762</td>\n",
              "      <td>74293</td>\n",
              "      <td>23684</td>\n",
              "      <td>24430</td>\n",
              "      <td>...</td>\n",
              "      <td>0</td>\n",
              "      <td>0</td>\n",
              "      <td>0</td>\n",
              "      <td>0</td>\n",
              "      <td>0</td>\n",
              "      <td>0</td>\n",
              "      <td>nd</td>\n",
              "      <td>0</td>\n",
              "      <td>0</td>\n",
              "      <td>TINTAS</td>\n",
              "    </tr>\n",
              "    <tr>\n",
              "      <th>1</th>\n",
              "      <td>2</td>\n",
              "      <td>Moscato de Hamburgo</td>\n",
              "      <td>25098</td>\n",
              "      <td>41057</td>\n",
              "      <td>4258</td>\n",
              "      <td>1249</td>\n",
              "      <td>801</td>\n",
              "      <td>109438</td>\n",
              "      <td>64828</td>\n",
              "      <td>89161</td>\n",
              "      <td>...</td>\n",
              "      <td>75362</td>\n",
              "      <td>65850</td>\n",
              "      <td>108797</td>\n",
              "      <td>51310</td>\n",
              "      <td>85510</td>\n",
              "      <td>62567</td>\n",
              "      <td>nd</td>\n",
              "      <td>63474</td>\n",
              "      <td>21732</td>\n",
              "      <td>TINTAS</td>\n",
              "    </tr>\n",
              "    <tr>\n",
              "      <th>2</th>\n",
              "      <td>4</td>\n",
              "      <td>Cardinal</td>\n",
              "      <td>0</td>\n",
              "      <td>0</td>\n",
              "      <td>0</td>\n",
              "      <td>0</td>\n",
              "      <td>0</td>\n",
              "      <td>0</td>\n",
              "      <td>0</td>\n",
              "      <td>0</td>\n",
              "      <td>...</td>\n",
              "      <td>0</td>\n",
              "      <td>0</td>\n",
              "      <td>0</td>\n",
              "      <td>0</td>\n",
              "      <td>0</td>\n",
              "      <td>0</td>\n",
              "      <td>nd</td>\n",
              "      <td>0</td>\n",
              "      <td>0</td>\n",
              "      <td>BRANCAS</td>\n",
              "    </tr>\n",
              "    <tr>\n",
              "      <th>3</th>\n",
              "      <td>5</td>\n",
              "      <td>Golden Queen</td>\n",
              "      <td>167</td>\n",
              "      <td>8654</td>\n",
              "      <td>657</td>\n",
              "      <td>7312</td>\n",
              "      <td>8467</td>\n",
              "      <td>6805</td>\n",
              "      <td>0</td>\n",
              "      <td>2391</td>\n",
              "      <td>...</td>\n",
              "      <td>0</td>\n",
              "      <td>0</td>\n",
              "      <td>0</td>\n",
              "      <td>0</td>\n",
              "      <td>0</td>\n",
              "      <td>0</td>\n",
              "      <td>nd</td>\n",
              "      <td>0</td>\n",
              "      <td>0</td>\n",
              "      <td>BRANCAS</td>\n",
              "    </tr>\n",
              "    <tr>\n",
              "      <th>4</th>\n",
              "      <td>6</td>\n",
              "      <td>Patrícia</td>\n",
              "      <td>0</td>\n",
              "      <td>0</td>\n",
              "      <td>0</td>\n",
              "      <td>0</td>\n",
              "      <td>0</td>\n",
              "      <td>0</td>\n",
              "      <td>0</td>\n",
              "      <td>0</td>\n",
              "      <td>...</td>\n",
              "      <td>0</td>\n",
              "      <td>0</td>\n",
              "      <td>0</td>\n",
              "      <td>0</td>\n",
              "      <td>0</td>\n",
              "      <td>0</td>\n",
              "      <td>nd</td>\n",
              "      <td>0</td>\n",
              "      <td>0</td>\n",
              "      <td>BRANCAS</td>\n",
              "    </tr>\n",
              "  </tbody>\n",
              "</table>\n",
              "<p>5 rows × 55 columns</p>\n",
              "</div>\n",
              "      <button class=\"colab-df-convert\" onclick=\"convertToInteractive('df-329f9895-7ae9-4753-8c26-430c838d0ae0')\"\n",
              "              title=\"Convert this dataframe to an interactive table.\"\n",
              "              style=\"display:none;\">\n",
              "        \n",
              "  <svg xmlns=\"http://www.w3.org/2000/svg\" height=\"24px\"viewBox=\"0 0 24 24\"\n",
              "       width=\"24px\">\n",
              "    <path d=\"M0 0h24v24H0V0z\" fill=\"none\"/>\n",
              "    <path d=\"M18.56 5.44l.94 2.06.94-2.06 2.06-.94-2.06-.94-.94-2.06-.94 2.06-2.06.94zm-11 1L8.5 8.5l.94-2.06 2.06-.94-2.06-.94L8.5 2.5l-.94 2.06-2.06.94zm10 10l.94 2.06.94-2.06 2.06-.94-2.06-.94-.94-2.06-.94 2.06-2.06.94z\"/><path d=\"M17.41 7.96l-1.37-1.37c-.4-.4-.92-.59-1.43-.59-.52 0-1.04.2-1.43.59L10.3 9.45l-7.72 7.72c-.78.78-.78 2.05 0 2.83L4 21.41c.39.39.9.59 1.41.59.51 0 1.02-.2 1.41-.59l7.78-7.78 2.81-2.81c.8-.78.8-2.07 0-2.86zM5.41 20L4 18.59l7.72-7.72 1.47 1.35L5.41 20z\"/>\n",
              "  </svg>\n",
              "      </button>\n",
              "      \n",
              "  <style>\n",
              "    .colab-df-container {\n",
              "      display:flex;\n",
              "      flex-wrap:wrap;\n",
              "      gap: 12px;\n",
              "    }\n",
              "\n",
              "    .colab-df-convert {\n",
              "      background-color: #E8F0FE;\n",
              "      border: none;\n",
              "      border-radius: 50%;\n",
              "      cursor: pointer;\n",
              "      display: none;\n",
              "      fill: #1967D2;\n",
              "      height: 32px;\n",
              "      padding: 0 0 0 0;\n",
              "      width: 32px;\n",
              "    }\n",
              "\n",
              "    .colab-df-convert:hover {\n",
              "      background-color: #E2EBFA;\n",
              "      box-shadow: 0px 1px 2px rgba(60, 64, 67, 0.3), 0px 1px 3px 1px rgba(60, 64, 67, 0.15);\n",
              "      fill: #174EA6;\n",
              "    }\n",
              "\n",
              "    [theme=dark] .colab-df-convert {\n",
              "      background-color: #3B4455;\n",
              "      fill: #D2E3FC;\n",
              "    }\n",
              "\n",
              "    [theme=dark] .colab-df-convert:hover {\n",
              "      background-color: #434B5C;\n",
              "      box-shadow: 0px 1px 3px 1px rgba(0, 0, 0, 0.15);\n",
              "      filter: drop-shadow(0px 1px 2px rgba(0, 0, 0, 0.3));\n",
              "      fill: #FFFFFF;\n",
              "    }\n",
              "  </style>\n",
              "\n",
              "      <script>\n",
              "        const buttonEl =\n",
              "          document.querySelector('#df-329f9895-7ae9-4753-8c26-430c838d0ae0 button.colab-df-convert');\n",
              "        buttonEl.style.display =\n",
              "          google.colab.kernel.accessAllowed ? 'block' : 'none';\n",
              "\n",
              "        async function convertToInteractive(key) {\n",
              "          const element = document.querySelector('#df-329f9895-7ae9-4753-8c26-430c838d0ae0');\n",
              "          const dataTable =\n",
              "            await google.colab.kernel.invokeFunction('convertToInteractive',\n",
              "                                                     [key], {});\n",
              "          if (!dataTable) return;\n",
              "\n",
              "          const docLinkHtml = 'Like what you see? Visit the ' +\n",
              "            '<a target=\"_blank\" href=https://colab.research.google.com/notebooks/data_table.ipynb>data table notebook</a>'\n",
              "            + ' to learn more about interactive tables.';\n",
              "          element.innerHTML = '';\n",
              "          dataTable['output_type'] = 'display_data';\n",
              "          await google.colab.output.renderOutput(dataTable, element);\n",
              "          const docLink = document.createElement('div');\n",
              "          docLink.innerHTML = docLinkHtml;\n",
              "          element.appendChild(docLink);\n",
              "        }\n",
              "      </script>\n",
              "    </div>\n",
              "  </div>\n",
              "  "
            ]
          },
          "metadata": {},
          "execution_count": 1956
        }
      ],
      "source": [
        "df_processamento_uvas_de_mesa = pd.read_csv('/content/drive/MyDrive/dados/raw/processamento/ProcessaMesa.csv',\n",
        "                              delimiter=';')\n",
        "\n",
        "df_processamento_uvas_de_mesa = df_processamento_uvas_de_mesa[df_processamento_uvas_de_mesa.columns[2:]]\n",
        "df_processamento_uvas_de_mesa = df_processamento_uvas_de_mesa.query('cultivar not in @processamento_linhas_para_remover').reset_index()\n",
        "\n",
        "df_processamento_uvas_de_mesa.loc[df_processamento_uvas_de_mesa.index[0:2], 'TIPO'] = 'TINTAS'\n",
        "df_processamento_uvas_de_mesa.loc[df_processamento_uvas_de_mesa.index[2:], 'TIPO'] = 'BRANCAS'\n",
        "\n",
        "df_processamento_uvas_de_mesa = df_processamento_uvas_de_mesa.rename(columns={'cultivar': 'VINHO'})\n",
        "\n",
        "df_processamento_uvas_de_mesa.head()"
      ]
    },
    {
      "cell_type": "markdown",
      "id": "d317b6d1-96c9-48ee-82a3-92d8f50dafc8",
      "metadata": {
        "tags": [],
        "id": "d317b6d1-96c9-48ee-82a3-92d8f50dafc8"
      },
      "source": [
        "#### Concatenando todos os DFs\n"
      ]
    },
    {
      "cell_type": "code",
      "execution_count": 1957,
      "id": "2a16af87-f549-4a29-802d-c55ff94eeb18",
      "metadata": {
        "tags": [],
        "id": "2a16af87-f549-4a29-802d-c55ff94eeb18",
        "colab": {
          "base_uri": "https://localhost:8080/",
          "height": 0
        },
        "outputId": "439b75e6-b8f0-4bf4-924d-1052c33e9716"
      },
      "outputs": [
        {
          "output_type": "execute_result",
          "data": {
            "text/plain": [
              "   index              VINHO  1970  1971  1972  1973  1974  1975  1976  1977  \\\n",
              "0      1  Alicante Bouschet     0     0     0     0     0     0     0     0   \n",
              "1      2           Ancelota     0     0     0     0     0     0     0     0   \n",
              "2      3             Aramon     0     0     0     0     0     0     0     0   \n",
              "3      4        Alfrocheiro     0     0     0     0     0     0     0     0   \n",
              "4      5          Arinarnoa     0     0     0     0     0     0     0     0   \n",
              "\n",
              "   ...     2013     2014     2015    2016     2017     2018  2019     2020  \\\n",
              "0  ...  1524728  1456305  1519576  908841  2040198  2103844    nd  2272985   \n",
              "1  ...  1137943   937844   773526  179028   733907   492106    nd   481402   \n",
              "2  ...        0        0        0       0        0        0    nd        0   \n",
              "3  ...        0        0        0       0        0        0    nd        0   \n",
              "4  ...    65001    56666    61817   17691    69757    44775    nd    90860   \n",
              "\n",
              "      2021    TIPO  \n",
              "0   811140  TINTAS  \n",
              "1  6513974  TINTAS  \n",
              "2        0  TINTAS  \n",
              "3        0  TINTAS  \n",
              "4  2785609  TINTAS  \n",
              "\n",
              "[5 rows x 55 columns]"
            ],
            "text/html": [
              "\n",
              "  <div id=\"df-e5f8cc9d-ac5d-43ab-b2cc-3eb5f187d3a6\">\n",
              "    <div class=\"colab-df-container\">\n",
              "      <div>\n",
              "<style scoped>\n",
              "    .dataframe tbody tr th:only-of-type {\n",
              "        vertical-align: middle;\n",
              "    }\n",
              "\n",
              "    .dataframe tbody tr th {\n",
              "        vertical-align: top;\n",
              "    }\n",
              "\n",
              "    .dataframe thead th {\n",
              "        text-align: right;\n",
              "    }\n",
              "</style>\n",
              "<table border=\"1\" class=\"dataframe\">\n",
              "  <thead>\n",
              "    <tr style=\"text-align: right;\">\n",
              "      <th></th>\n",
              "      <th>index</th>\n",
              "      <th>VINHO</th>\n",
              "      <th>1970</th>\n",
              "      <th>1971</th>\n",
              "      <th>1972</th>\n",
              "      <th>1973</th>\n",
              "      <th>1974</th>\n",
              "      <th>1975</th>\n",
              "      <th>1976</th>\n",
              "      <th>1977</th>\n",
              "      <th>...</th>\n",
              "      <th>2013</th>\n",
              "      <th>2014</th>\n",
              "      <th>2015</th>\n",
              "      <th>2016</th>\n",
              "      <th>2017</th>\n",
              "      <th>2018</th>\n",
              "      <th>2019</th>\n",
              "      <th>2020</th>\n",
              "      <th>2021</th>\n",
              "      <th>TIPO</th>\n",
              "    </tr>\n",
              "  </thead>\n",
              "  <tbody>\n",
              "    <tr>\n",
              "      <th>0</th>\n",
              "      <td>1</td>\n",
              "      <td>Alicante Bouschet</td>\n",
              "      <td>0</td>\n",
              "      <td>0</td>\n",
              "      <td>0</td>\n",
              "      <td>0</td>\n",
              "      <td>0</td>\n",
              "      <td>0</td>\n",
              "      <td>0</td>\n",
              "      <td>0</td>\n",
              "      <td>...</td>\n",
              "      <td>1524728</td>\n",
              "      <td>1456305</td>\n",
              "      <td>1519576</td>\n",
              "      <td>908841</td>\n",
              "      <td>2040198</td>\n",
              "      <td>2103844</td>\n",
              "      <td>nd</td>\n",
              "      <td>2272985</td>\n",
              "      <td>811140</td>\n",
              "      <td>TINTAS</td>\n",
              "    </tr>\n",
              "    <tr>\n",
              "      <th>1</th>\n",
              "      <td>2</td>\n",
              "      <td>Ancelota</td>\n",
              "      <td>0</td>\n",
              "      <td>0</td>\n",
              "      <td>0</td>\n",
              "      <td>0</td>\n",
              "      <td>0</td>\n",
              "      <td>0</td>\n",
              "      <td>0</td>\n",
              "      <td>0</td>\n",
              "      <td>...</td>\n",
              "      <td>1137943</td>\n",
              "      <td>937844</td>\n",
              "      <td>773526</td>\n",
              "      <td>179028</td>\n",
              "      <td>733907</td>\n",
              "      <td>492106</td>\n",
              "      <td>nd</td>\n",
              "      <td>481402</td>\n",
              "      <td>6513974</td>\n",
              "      <td>TINTAS</td>\n",
              "    </tr>\n",
              "    <tr>\n",
              "      <th>2</th>\n",
              "      <td>3</td>\n",
              "      <td>Aramon</td>\n",
              "      <td>0</td>\n",
              "      <td>0</td>\n",
              "      <td>0</td>\n",
              "      <td>0</td>\n",
              "      <td>0</td>\n",
              "      <td>0</td>\n",
              "      <td>0</td>\n",
              "      <td>0</td>\n",
              "      <td>...</td>\n",
              "      <td>0</td>\n",
              "      <td>0</td>\n",
              "      <td>0</td>\n",
              "      <td>0</td>\n",
              "      <td>0</td>\n",
              "      <td>0</td>\n",
              "      <td>nd</td>\n",
              "      <td>0</td>\n",
              "      <td>0</td>\n",
              "      <td>TINTAS</td>\n",
              "    </tr>\n",
              "    <tr>\n",
              "      <th>3</th>\n",
              "      <td>4</td>\n",
              "      <td>Alfrocheiro</td>\n",
              "      <td>0</td>\n",
              "      <td>0</td>\n",
              "      <td>0</td>\n",
              "      <td>0</td>\n",
              "      <td>0</td>\n",
              "      <td>0</td>\n",
              "      <td>0</td>\n",
              "      <td>0</td>\n",
              "      <td>...</td>\n",
              "      <td>0</td>\n",
              "      <td>0</td>\n",
              "      <td>0</td>\n",
              "      <td>0</td>\n",
              "      <td>0</td>\n",
              "      <td>0</td>\n",
              "      <td>nd</td>\n",
              "      <td>0</td>\n",
              "      <td>0</td>\n",
              "      <td>TINTAS</td>\n",
              "    </tr>\n",
              "    <tr>\n",
              "      <th>4</th>\n",
              "      <td>5</td>\n",
              "      <td>Arinarnoa</td>\n",
              "      <td>0</td>\n",
              "      <td>0</td>\n",
              "      <td>0</td>\n",
              "      <td>0</td>\n",
              "      <td>0</td>\n",
              "      <td>0</td>\n",
              "      <td>0</td>\n",
              "      <td>0</td>\n",
              "      <td>...</td>\n",
              "      <td>65001</td>\n",
              "      <td>56666</td>\n",
              "      <td>61817</td>\n",
              "      <td>17691</td>\n",
              "      <td>69757</td>\n",
              "      <td>44775</td>\n",
              "      <td>nd</td>\n",
              "      <td>90860</td>\n",
              "      <td>2785609</td>\n",
              "      <td>TINTAS</td>\n",
              "    </tr>\n",
              "  </tbody>\n",
              "</table>\n",
              "<p>5 rows × 55 columns</p>\n",
              "</div>\n",
              "      <button class=\"colab-df-convert\" onclick=\"convertToInteractive('df-e5f8cc9d-ac5d-43ab-b2cc-3eb5f187d3a6')\"\n",
              "              title=\"Convert this dataframe to an interactive table.\"\n",
              "              style=\"display:none;\">\n",
              "        \n",
              "  <svg xmlns=\"http://www.w3.org/2000/svg\" height=\"24px\"viewBox=\"0 0 24 24\"\n",
              "       width=\"24px\">\n",
              "    <path d=\"M0 0h24v24H0V0z\" fill=\"none\"/>\n",
              "    <path d=\"M18.56 5.44l.94 2.06.94-2.06 2.06-.94-2.06-.94-.94-2.06-.94 2.06-2.06.94zm-11 1L8.5 8.5l.94-2.06 2.06-.94-2.06-.94L8.5 2.5l-.94 2.06-2.06.94zm10 10l.94 2.06.94-2.06 2.06-.94-2.06-.94-.94-2.06-.94 2.06-2.06.94z\"/><path d=\"M17.41 7.96l-1.37-1.37c-.4-.4-.92-.59-1.43-.59-.52 0-1.04.2-1.43.59L10.3 9.45l-7.72 7.72c-.78.78-.78 2.05 0 2.83L4 21.41c.39.39.9.59 1.41.59.51 0 1.02-.2 1.41-.59l7.78-7.78 2.81-2.81c.8-.78.8-2.07 0-2.86zM5.41 20L4 18.59l7.72-7.72 1.47 1.35L5.41 20z\"/>\n",
              "  </svg>\n",
              "      </button>\n",
              "      \n",
              "  <style>\n",
              "    .colab-df-container {\n",
              "      display:flex;\n",
              "      flex-wrap:wrap;\n",
              "      gap: 12px;\n",
              "    }\n",
              "\n",
              "    .colab-df-convert {\n",
              "      background-color: #E8F0FE;\n",
              "      border: none;\n",
              "      border-radius: 50%;\n",
              "      cursor: pointer;\n",
              "      display: none;\n",
              "      fill: #1967D2;\n",
              "      height: 32px;\n",
              "      padding: 0 0 0 0;\n",
              "      width: 32px;\n",
              "    }\n",
              "\n",
              "    .colab-df-convert:hover {\n",
              "      background-color: #E2EBFA;\n",
              "      box-shadow: 0px 1px 2px rgba(60, 64, 67, 0.3), 0px 1px 3px 1px rgba(60, 64, 67, 0.15);\n",
              "      fill: #174EA6;\n",
              "    }\n",
              "\n",
              "    [theme=dark] .colab-df-convert {\n",
              "      background-color: #3B4455;\n",
              "      fill: #D2E3FC;\n",
              "    }\n",
              "\n",
              "    [theme=dark] .colab-df-convert:hover {\n",
              "      background-color: #434B5C;\n",
              "      box-shadow: 0px 1px 3px 1px rgba(0, 0, 0, 0.15);\n",
              "      filter: drop-shadow(0px 1px 2px rgba(0, 0, 0, 0.3));\n",
              "      fill: #FFFFFF;\n",
              "    }\n",
              "  </style>\n",
              "\n",
              "      <script>\n",
              "        const buttonEl =\n",
              "          document.querySelector('#df-e5f8cc9d-ac5d-43ab-b2cc-3eb5f187d3a6 button.colab-df-convert');\n",
              "        buttonEl.style.display =\n",
              "          google.colab.kernel.accessAllowed ? 'block' : 'none';\n",
              "\n",
              "        async function convertToInteractive(key) {\n",
              "          const element = document.querySelector('#df-e5f8cc9d-ac5d-43ab-b2cc-3eb5f187d3a6');\n",
              "          const dataTable =\n",
              "            await google.colab.kernel.invokeFunction('convertToInteractive',\n",
              "                                                     [key], {});\n",
              "          if (!dataTable) return;\n",
              "\n",
              "          const docLinkHtml = 'Like what you see? Visit the ' +\n",
              "            '<a target=\"_blank\" href=https://colab.research.google.com/notebooks/data_table.ipynb>data table notebook</a>'\n",
              "            + ' to learn more about interactive tables.';\n",
              "          element.innerHTML = '';\n",
              "          dataTable['output_type'] = 'display_data';\n",
              "          await google.colab.output.renderOutput(dataTable, element);\n",
              "          const docLink = document.createElement('div');\n",
              "          docLink.innerHTML = docLinkHtml;\n",
              "          element.appendChild(docLink);\n",
              "        }\n",
              "      </script>\n",
              "    </div>\n",
              "  </div>\n",
              "  "
            ]
          },
          "metadata": {},
          "execution_count": 1957
        }
      ],
      "source": [
        "df_processamento = pd.concat([df_processamento_viniferas,\n",
        "                              df_processamento_americanas,\n",
        "                              df_processamento_uvas_de_mesa])\n",
        "df_processamento.head()"
      ]
    },
    {
      "cell_type": "markdown",
      "id": "459da145-99d4-4ec8-8b93-8916294064e1",
      "metadata": {
        "tags": [],
        "id": "459da145-99d4-4ec8-8b93-8916294064e1"
      },
      "source": [
        "##### Escrevendo versão \"formatada\""
      ]
    },
    {
      "cell_type": "code",
      "execution_count": 1958,
      "id": "ac0649cf-b9be-4d42-9a12-160a36f461ea",
      "metadata": {
        "tags": [],
        "id": "ac0649cf-b9be-4d42-9a12-160a36f461ea"
      },
      "outputs": [],
      "source": [
        "df_processamento.to_csv('/content/drive/MyDrive/dados/formatted/df_processamento.csv', encoding='utf-8', sep='|', index=False)"
      ]
    },
    {
      "cell_type": "markdown",
      "id": "9facb21a-8f70-4e66-9a26-96f2afc3af6b",
      "metadata": {
        "tags": [],
        "id": "9facb21a-8f70-4e66-9a26-96f2afc3af6b"
      },
      "source": [
        "***"
      ]
    },
    {
      "cell_type": "markdown",
      "id": "3d5797f7-eea4-41e4-a9d5-751369da2239",
      "metadata": {
        "tags": [],
        "id": "3d5797f7-eea4-41e4-a9d5-751369da2239"
      },
      "source": [
        "### 3. Comercialização"
      ]
    },
    {
      "cell_type": "code",
      "execution_count": 1959,
      "id": "70c3f9a0-88f9-4096-9777-5ca851fd7bae",
      "metadata": {
        "tags": [],
        "id": "70c3f9a0-88f9-4096-9777-5ca851fd7bae"
      },
      "outputs": [],
      "source": [
        "comercializacao_linhas_para_remover = ['VINHO DE MESA', 'VINHO  FINO DE MESA', 'VINHO ESPECIAL', 'ESPUMANTES ', 'SUCO DE UVAS', 'OUTROS PRODUTOS COMERCIALIZADOS']"
      ]
    },
    {
      "cell_type": "code",
      "execution_count": 1960,
      "id": "09dd9fa9-84a1-4506-8584-4e6fcbd20e3e",
      "metadata": {
        "tags": [],
        "id": "09dd9fa9-84a1-4506-8584-4e6fcbd20e3e",
        "colab": {
          "base_uri": "https://localhost:8080/",
          "height": 0
        },
        "outputId": "48ce7bf3-a5fc-4db9-e01f-ad7f554fa2e8"
      },
      "outputs": [
        {
          "output_type": "execute_result",
          "data": {
            "text/plain": [
              "   index     VINHO      1970      1971       1972      1973      1974  \\\n",
              "0      0     Tinto  83300735  98522869  101167932  98196747  77167303   \n",
              "1      1    Rosado    107681    542274    7770851   8425617   8891367   \n",
              "2      2    Branco  14919190  15333888    9438584   9995546   8114654   \n",
              "3      4     Tinto    435354    428927     624499    783508   1616144   \n",
              "4      5    Rosado    183234    227299     403664   1377333   1725564   \n",
              "\n",
              "       1975       1976       1977  ...       2013       2014       2015  \\\n",
              "0  91528090  116407222  116609545  ...  188033494  178250072  182028785   \n",
              "1   7261777   11748047   15195525  ...    1777648    1419855    1409002   \n",
              "2   9241925   11083345    9008044  ...   31779668   26734500   25760681   \n",
              "3   2050960    4450570    4504303  ...   19121750   15354938   15572632   \n",
              "4   2130619    3118919    3248565  ...     214269     164219     169185   \n",
              "\n",
              "        2016       2017       2018       2019       2020       2021  \\\n",
              "0  146646365  154309442  155115499  158519218  189573423  185653678   \n",
              "1    1391942    1097426    1972944    1265435    1394901    1931606   \n",
              "2   18731315   20653091   20097830   20661836   24589607   22426954   \n",
              "3   15228514   12021684   11150517   11433702   18202453   19337862   \n",
              "4     172351     182080     262430     503524     993248    1603537   \n",
              "\n",
              "                 TIPO  \n",
              "0       VINHO DE MESA  \n",
              "1       VINHO DE MESA  \n",
              "2       VINHO DE MESA  \n",
              "3  VINHO FINO DE MESA  \n",
              "4  VINHO FINO DE MESA  \n",
              "\n",
              "[5 rows x 55 columns]"
            ],
            "text/html": [
              "\n",
              "  <div id=\"df-04213d78-8ccc-4628-9bbe-57ef3fdeb377\">\n",
              "    <div class=\"colab-df-container\">\n",
              "      <div>\n",
              "<style scoped>\n",
              "    .dataframe tbody tr th:only-of-type {\n",
              "        vertical-align: middle;\n",
              "    }\n",
              "\n",
              "    .dataframe tbody tr th {\n",
              "        vertical-align: top;\n",
              "    }\n",
              "\n",
              "    .dataframe thead th {\n",
              "        text-align: right;\n",
              "    }\n",
              "</style>\n",
              "<table border=\"1\" class=\"dataframe\">\n",
              "  <thead>\n",
              "    <tr style=\"text-align: right;\">\n",
              "      <th></th>\n",
              "      <th>index</th>\n",
              "      <th>VINHO</th>\n",
              "      <th>1970</th>\n",
              "      <th>1971</th>\n",
              "      <th>1972</th>\n",
              "      <th>1973</th>\n",
              "      <th>1974</th>\n",
              "      <th>1975</th>\n",
              "      <th>1976</th>\n",
              "      <th>1977</th>\n",
              "      <th>...</th>\n",
              "      <th>2013</th>\n",
              "      <th>2014</th>\n",
              "      <th>2015</th>\n",
              "      <th>2016</th>\n",
              "      <th>2017</th>\n",
              "      <th>2018</th>\n",
              "      <th>2019</th>\n",
              "      <th>2020</th>\n",
              "      <th>2021</th>\n",
              "      <th>TIPO</th>\n",
              "    </tr>\n",
              "  </thead>\n",
              "  <tbody>\n",
              "    <tr>\n",
              "      <th>0</th>\n",
              "      <td>0</td>\n",
              "      <td>Tinto</td>\n",
              "      <td>83300735</td>\n",
              "      <td>98522869</td>\n",
              "      <td>101167932</td>\n",
              "      <td>98196747</td>\n",
              "      <td>77167303</td>\n",
              "      <td>91528090</td>\n",
              "      <td>116407222</td>\n",
              "      <td>116609545</td>\n",
              "      <td>...</td>\n",
              "      <td>188033494</td>\n",
              "      <td>178250072</td>\n",
              "      <td>182028785</td>\n",
              "      <td>146646365</td>\n",
              "      <td>154309442</td>\n",
              "      <td>155115499</td>\n",
              "      <td>158519218</td>\n",
              "      <td>189573423</td>\n",
              "      <td>185653678</td>\n",
              "      <td>VINHO DE MESA</td>\n",
              "    </tr>\n",
              "    <tr>\n",
              "      <th>1</th>\n",
              "      <td>1</td>\n",
              "      <td>Rosado</td>\n",
              "      <td>107681</td>\n",
              "      <td>542274</td>\n",
              "      <td>7770851</td>\n",
              "      <td>8425617</td>\n",
              "      <td>8891367</td>\n",
              "      <td>7261777</td>\n",
              "      <td>11748047</td>\n",
              "      <td>15195525</td>\n",
              "      <td>...</td>\n",
              "      <td>1777648</td>\n",
              "      <td>1419855</td>\n",
              "      <td>1409002</td>\n",
              "      <td>1391942</td>\n",
              "      <td>1097426</td>\n",
              "      <td>1972944</td>\n",
              "      <td>1265435</td>\n",
              "      <td>1394901</td>\n",
              "      <td>1931606</td>\n",
              "      <td>VINHO DE MESA</td>\n",
              "    </tr>\n",
              "    <tr>\n",
              "      <th>2</th>\n",
              "      <td>2</td>\n",
              "      <td>Branco</td>\n",
              "      <td>14919190</td>\n",
              "      <td>15333888</td>\n",
              "      <td>9438584</td>\n",
              "      <td>9995546</td>\n",
              "      <td>8114654</td>\n",
              "      <td>9241925</td>\n",
              "      <td>11083345</td>\n",
              "      <td>9008044</td>\n",
              "      <td>...</td>\n",
              "      <td>31779668</td>\n",
              "      <td>26734500</td>\n",
              "      <td>25760681</td>\n",
              "      <td>18731315</td>\n",
              "      <td>20653091</td>\n",
              "      <td>20097830</td>\n",
              "      <td>20661836</td>\n",
              "      <td>24589607</td>\n",
              "      <td>22426954</td>\n",
              "      <td>VINHO DE MESA</td>\n",
              "    </tr>\n",
              "    <tr>\n",
              "      <th>3</th>\n",
              "      <td>4</td>\n",
              "      <td>Tinto</td>\n",
              "      <td>435354</td>\n",
              "      <td>428927</td>\n",
              "      <td>624499</td>\n",
              "      <td>783508</td>\n",
              "      <td>1616144</td>\n",
              "      <td>2050960</td>\n",
              "      <td>4450570</td>\n",
              "      <td>4504303</td>\n",
              "      <td>...</td>\n",
              "      <td>19121750</td>\n",
              "      <td>15354938</td>\n",
              "      <td>15572632</td>\n",
              "      <td>15228514</td>\n",
              "      <td>12021684</td>\n",
              "      <td>11150517</td>\n",
              "      <td>11433702</td>\n",
              "      <td>18202453</td>\n",
              "      <td>19337862</td>\n",
              "      <td>VINHO FINO DE MESA</td>\n",
              "    </tr>\n",
              "    <tr>\n",
              "      <th>4</th>\n",
              "      <td>5</td>\n",
              "      <td>Rosado</td>\n",
              "      <td>183234</td>\n",
              "      <td>227299</td>\n",
              "      <td>403664</td>\n",
              "      <td>1377333</td>\n",
              "      <td>1725564</td>\n",
              "      <td>2130619</td>\n",
              "      <td>3118919</td>\n",
              "      <td>3248565</td>\n",
              "      <td>...</td>\n",
              "      <td>214269</td>\n",
              "      <td>164219</td>\n",
              "      <td>169185</td>\n",
              "      <td>172351</td>\n",
              "      <td>182080</td>\n",
              "      <td>262430</td>\n",
              "      <td>503524</td>\n",
              "      <td>993248</td>\n",
              "      <td>1603537</td>\n",
              "      <td>VINHO FINO DE MESA</td>\n",
              "    </tr>\n",
              "  </tbody>\n",
              "</table>\n",
              "<p>5 rows × 55 columns</p>\n",
              "</div>\n",
              "      <button class=\"colab-df-convert\" onclick=\"convertToInteractive('df-04213d78-8ccc-4628-9bbe-57ef3fdeb377')\"\n",
              "              title=\"Convert this dataframe to an interactive table.\"\n",
              "              style=\"display:none;\">\n",
              "        \n",
              "  <svg xmlns=\"http://www.w3.org/2000/svg\" height=\"24px\"viewBox=\"0 0 24 24\"\n",
              "       width=\"24px\">\n",
              "    <path d=\"M0 0h24v24H0V0z\" fill=\"none\"/>\n",
              "    <path d=\"M18.56 5.44l.94 2.06.94-2.06 2.06-.94-2.06-.94-.94-2.06-.94 2.06-2.06.94zm-11 1L8.5 8.5l.94-2.06 2.06-.94-2.06-.94L8.5 2.5l-.94 2.06-2.06.94zm10 10l.94 2.06.94-2.06 2.06-.94-2.06-.94-.94-2.06-.94 2.06-2.06.94z\"/><path d=\"M17.41 7.96l-1.37-1.37c-.4-.4-.92-.59-1.43-.59-.52 0-1.04.2-1.43.59L10.3 9.45l-7.72 7.72c-.78.78-.78 2.05 0 2.83L4 21.41c.39.39.9.59 1.41.59.51 0 1.02-.2 1.41-.59l7.78-7.78 2.81-2.81c.8-.78.8-2.07 0-2.86zM5.41 20L4 18.59l7.72-7.72 1.47 1.35L5.41 20z\"/>\n",
              "  </svg>\n",
              "      </button>\n",
              "      \n",
              "  <style>\n",
              "    .colab-df-container {\n",
              "      display:flex;\n",
              "      flex-wrap:wrap;\n",
              "      gap: 12px;\n",
              "    }\n",
              "\n",
              "    .colab-df-convert {\n",
              "      background-color: #E8F0FE;\n",
              "      border: none;\n",
              "      border-radius: 50%;\n",
              "      cursor: pointer;\n",
              "      display: none;\n",
              "      fill: #1967D2;\n",
              "      height: 32px;\n",
              "      padding: 0 0 0 0;\n",
              "      width: 32px;\n",
              "    }\n",
              "\n",
              "    .colab-df-convert:hover {\n",
              "      background-color: #E2EBFA;\n",
              "      box-shadow: 0px 1px 2px rgba(60, 64, 67, 0.3), 0px 1px 3px 1px rgba(60, 64, 67, 0.15);\n",
              "      fill: #174EA6;\n",
              "    }\n",
              "\n",
              "    [theme=dark] .colab-df-convert {\n",
              "      background-color: #3B4455;\n",
              "      fill: #D2E3FC;\n",
              "    }\n",
              "\n",
              "    [theme=dark] .colab-df-convert:hover {\n",
              "      background-color: #434B5C;\n",
              "      box-shadow: 0px 1px 3px 1px rgba(0, 0, 0, 0.15);\n",
              "      filter: drop-shadow(0px 1px 2px rgba(0, 0, 0, 0.3));\n",
              "      fill: #FFFFFF;\n",
              "    }\n",
              "  </style>\n",
              "\n",
              "      <script>\n",
              "        const buttonEl =\n",
              "          document.querySelector('#df-04213d78-8ccc-4628-9bbe-57ef3fdeb377 button.colab-df-convert');\n",
              "        buttonEl.style.display =\n",
              "          google.colab.kernel.accessAllowed ? 'block' : 'none';\n",
              "\n",
              "        async function convertToInteractive(key) {\n",
              "          const element = document.querySelector('#df-04213d78-8ccc-4628-9bbe-57ef3fdeb377');\n",
              "          const dataTable =\n",
              "            await google.colab.kernel.invokeFunction('convertToInteractive',\n",
              "                                                     [key], {});\n",
              "          if (!dataTable) return;\n",
              "\n",
              "          const docLinkHtml = 'Like what you see? Visit the ' +\n",
              "            '<a target=\"_blank\" href=https://colab.research.google.com/notebooks/data_table.ipynb>data table notebook</a>'\n",
              "            + ' to learn more about interactive tables.';\n",
              "          element.innerHTML = '';\n",
              "          dataTable['output_type'] = 'display_data';\n",
              "          await google.colab.output.renderOutput(dataTable, element);\n",
              "          const docLink = document.createElement('div');\n",
              "          docLink.innerHTML = docLinkHtml;\n",
              "          element.appendChild(docLink);\n",
              "        }\n",
              "      </script>\n",
              "    </div>\n",
              "  </div>\n",
              "  "
            ]
          },
          "metadata": {},
          "execution_count": 1960
        }
      ],
      "source": [
        "df_comercializacao = pd.read_csv('/content/drive/MyDrive/dados/raw/comercializacao/Comercio.csv',\n",
        "                                delimiter=';')\n",
        "\n",
        "df_comercializacao = df_comercializacao[df_comercializacao.columns[2:]]\n",
        "df_comercializacao.columns = nome_colunas\n",
        "df_comercializacao = df_comercializacao.query('VINHO not in @comercializacao_linhas_para_remover').reset_index()\n",
        "\n",
        "df_comercializacao.loc[df_comercializacao.index[0:3], 'TIPO'] = 'VINHO DE MESA'\n",
        "df_comercializacao.loc[df_comercializacao.index[3:6], 'TIPO'] = 'VINHO FINO DE MESA'\n",
        "\n",
        "#CASOS ESPECÍFICOS\n",
        "df_comercializacao.loc[df_comercializacao.index[6], 'TIPO'] = 'VINHO FRIZANTE'\n",
        "df_comercializacao.loc[df_comercializacao.index[7], 'TIPO'] = 'VINHO ORGÂNICO'\n",
        "df_comercializacao.loc[df_comercializacao.index[8:11], 'TIPO'] = 'VINHO ESPECIAL'\n",
        "df_comercializacao.loc[df_comercializacao.index[11:14], 'TIPO'] = 'ESPUMANTES'\n",
        "df_comercializacao.loc[df_comercializacao.index[14:18], 'TIPO'] = 'SUCO DE UVAS'\n",
        "df_comercializacao.loc[df_comercializacao.index[18], 'TIPO'] = 'SUCO DE UVAS CONCENTRADO'\n",
        "df_comercializacao.loc[df_comercializacao.index[19:], 'TIPO'] = 'OUTROS PRODUTOS COMERCIALIZADOS'\n",
        "\n",
        "df_comercializacao.head()"
      ]
    },
    {
      "cell_type": "markdown",
      "id": "ac540163-ddcd-452b-8adb-2c6db71b7e9c",
      "metadata": {
        "tags": [],
        "id": "ac540163-ddcd-452b-8adb-2c6db71b7e9c"
      },
      "source": [
        "##### Escrevendo versão formatada"
      ]
    },
    {
      "cell_type": "code",
      "execution_count": 1961,
      "id": "3f95762b-afd5-4e21-a12b-b73737216700",
      "metadata": {
        "tags": [],
        "id": "3f95762b-afd5-4e21-a12b-b73737216700"
      },
      "outputs": [],
      "source": [
        "df_comercializacao.to_csv('/content/drive/MyDrive/dados/formatted/df_comercializacao.csv', encoding='utf-8', sep='|', index=False)"
      ]
    },
    {
      "cell_type": "markdown",
      "id": "126803a2-e299-40e7-8023-0519abb7fc50",
      "metadata": {
        "tags": [],
        "id": "126803a2-e299-40e7-8023-0519abb7fc50"
      },
      "source": [
        "***"
      ]
    },
    {
      "cell_type": "markdown",
      "id": "9ad8abb9-1499-4bdf-a9da-fa5f46cbd3e3",
      "metadata": {
        "tags": [],
        "id": "9ad8abb9-1499-4bdf-a9da-fa5f46cbd3e3"
      },
      "source": [
        "### 4. Importação - PENDENTE\n",
        "Manter coluna de valor? $"
      ]
    },
    {
      "cell_type": "markdown",
      "id": "726ae837-93c7-4c4a-948b-9e5748737dd9",
      "metadata": {
        "tags": [],
        "id": "726ae837-93c7-4c4a-948b-9e5748737dd9"
      },
      "source": [
        "#### Vinhos de mesa"
      ]
    },
    {
      "cell_type": "code",
      "execution_count": 1962,
      "id": "c1270e29-71e6-445d-9ffb-a1b0040796cd",
      "metadata": {
        "tags": [],
        "id": "c1270e29-71e6-445d-9ffb-a1b0040796cd",
        "colab": {
          "base_uri": "https://localhost:8080/",
          "height": 0
        },
        "outputId": "0923613c-56bf-4bc5-9c0b-610519f8c2d8"
      },
      "outputs": [
        {
          "output_type": "execute_result",
          "data": {
            "text/plain": [
              "       ano pais_origem          pais_destino            tipo  quantidade  \\\n",
              "3375  2021      Brasil               Ucrânia  Vinhos de mesa           0   \n",
              "3376  2021      Brasil               Uruguai  Vinhos de mesa     3788831   \n",
              "3377  2021      Brasil  Não consta na tabela  Vinhos de mesa           0   \n",
              "3378  2021      Brasil        Não declarados  Vinhos de mesa           0   \n",
              "3379  2021      Brasil                Outros  Vinhos de mesa           0   \n",
              "\n",
              "           valor  \n",
              "3375         0.0  \n",
              "3376  10063341.0  \n",
              "3377         0.0  \n",
              "3378         0.0  \n",
              "3379         0.0  "
            ],
            "text/html": [
              "\n",
              "  <div id=\"df-854a2ba3-62bf-47e7-b478-4e627fd5e3a0\">\n",
              "    <div class=\"colab-df-container\">\n",
              "      <div>\n",
              "<style scoped>\n",
              "    .dataframe tbody tr th:only-of-type {\n",
              "        vertical-align: middle;\n",
              "    }\n",
              "\n",
              "    .dataframe tbody tr th {\n",
              "        vertical-align: top;\n",
              "    }\n",
              "\n",
              "    .dataframe thead th {\n",
              "        text-align: right;\n",
              "    }\n",
              "</style>\n",
              "<table border=\"1\" class=\"dataframe\">\n",
              "  <thead>\n",
              "    <tr style=\"text-align: right;\">\n",
              "      <th></th>\n",
              "      <th>ano</th>\n",
              "      <th>pais_origem</th>\n",
              "      <th>pais_destino</th>\n",
              "      <th>tipo</th>\n",
              "      <th>quantidade</th>\n",
              "      <th>valor</th>\n",
              "    </tr>\n",
              "  </thead>\n",
              "  <tbody>\n",
              "    <tr>\n",
              "      <th>3375</th>\n",
              "      <td>2021</td>\n",
              "      <td>Brasil</td>\n",
              "      <td>Ucrânia</td>\n",
              "      <td>Vinhos de mesa</td>\n",
              "      <td>0</td>\n",
              "      <td>0.0</td>\n",
              "    </tr>\n",
              "    <tr>\n",
              "      <th>3376</th>\n",
              "      <td>2021</td>\n",
              "      <td>Brasil</td>\n",
              "      <td>Uruguai</td>\n",
              "      <td>Vinhos de mesa</td>\n",
              "      <td>3788831</td>\n",
              "      <td>10063341.0</td>\n",
              "    </tr>\n",
              "    <tr>\n",
              "      <th>3377</th>\n",
              "      <td>2021</td>\n",
              "      <td>Brasil</td>\n",
              "      <td>Não consta na tabela</td>\n",
              "      <td>Vinhos de mesa</td>\n",
              "      <td>0</td>\n",
              "      <td>0.0</td>\n",
              "    </tr>\n",
              "    <tr>\n",
              "      <th>3378</th>\n",
              "      <td>2021</td>\n",
              "      <td>Brasil</td>\n",
              "      <td>Não declarados</td>\n",
              "      <td>Vinhos de mesa</td>\n",
              "      <td>0</td>\n",
              "      <td>0.0</td>\n",
              "    </tr>\n",
              "    <tr>\n",
              "      <th>3379</th>\n",
              "      <td>2021</td>\n",
              "      <td>Brasil</td>\n",
              "      <td>Outros</td>\n",
              "      <td>Vinhos de mesa</td>\n",
              "      <td>0</td>\n",
              "      <td>0.0</td>\n",
              "    </tr>\n",
              "  </tbody>\n",
              "</table>\n",
              "</div>\n",
              "      <button class=\"colab-df-convert\" onclick=\"convertToInteractive('df-854a2ba3-62bf-47e7-b478-4e627fd5e3a0')\"\n",
              "              title=\"Convert this dataframe to an interactive table.\"\n",
              "              style=\"display:none;\">\n",
              "        \n",
              "  <svg xmlns=\"http://www.w3.org/2000/svg\" height=\"24px\"viewBox=\"0 0 24 24\"\n",
              "       width=\"24px\">\n",
              "    <path d=\"M0 0h24v24H0V0z\" fill=\"none\"/>\n",
              "    <path d=\"M18.56 5.44l.94 2.06.94-2.06 2.06-.94-2.06-.94-.94-2.06-.94 2.06-2.06.94zm-11 1L8.5 8.5l.94-2.06 2.06-.94-2.06-.94L8.5 2.5l-.94 2.06-2.06.94zm10 10l.94 2.06.94-2.06 2.06-.94-2.06-.94-.94-2.06-.94 2.06-2.06.94z\"/><path d=\"M17.41 7.96l-1.37-1.37c-.4-.4-.92-.59-1.43-.59-.52 0-1.04.2-1.43.59L10.3 9.45l-7.72 7.72c-.78.78-.78 2.05 0 2.83L4 21.41c.39.39.9.59 1.41.59.51 0 1.02-.2 1.41-.59l7.78-7.78 2.81-2.81c.8-.78.8-2.07 0-2.86zM5.41 20L4 18.59l7.72-7.72 1.47 1.35L5.41 20z\"/>\n",
              "  </svg>\n",
              "      </button>\n",
              "      \n",
              "  <style>\n",
              "    .colab-df-container {\n",
              "      display:flex;\n",
              "      flex-wrap:wrap;\n",
              "      gap: 12px;\n",
              "    }\n",
              "\n",
              "    .colab-df-convert {\n",
              "      background-color: #E8F0FE;\n",
              "      border: none;\n",
              "      border-radius: 50%;\n",
              "      cursor: pointer;\n",
              "      display: none;\n",
              "      fill: #1967D2;\n",
              "      height: 32px;\n",
              "      padding: 0 0 0 0;\n",
              "      width: 32px;\n",
              "    }\n",
              "\n",
              "    .colab-df-convert:hover {\n",
              "      background-color: #E2EBFA;\n",
              "      box-shadow: 0px 1px 2px rgba(60, 64, 67, 0.3), 0px 1px 3px 1px rgba(60, 64, 67, 0.15);\n",
              "      fill: #174EA6;\n",
              "    }\n",
              "\n",
              "    [theme=dark] .colab-df-convert {\n",
              "      background-color: #3B4455;\n",
              "      fill: #D2E3FC;\n",
              "    }\n",
              "\n",
              "    [theme=dark] .colab-df-convert:hover {\n",
              "      background-color: #434B5C;\n",
              "      box-shadow: 0px 1px 3px 1px rgba(0, 0, 0, 0.15);\n",
              "      filter: drop-shadow(0px 1px 2px rgba(0, 0, 0, 0.3));\n",
              "      fill: #FFFFFF;\n",
              "    }\n",
              "  </style>\n",
              "\n",
              "      <script>\n",
              "        const buttonEl =\n",
              "          document.querySelector('#df-854a2ba3-62bf-47e7-b478-4e627fd5e3a0 button.colab-df-convert');\n",
              "        buttonEl.style.display =\n",
              "          google.colab.kernel.accessAllowed ? 'block' : 'none';\n",
              "\n",
              "        async function convertToInteractive(key) {\n",
              "          const element = document.querySelector('#df-854a2ba3-62bf-47e7-b478-4e627fd5e3a0');\n",
              "          const dataTable =\n",
              "            await google.colab.kernel.invokeFunction('convertToInteractive',\n",
              "                                                     [key], {});\n",
              "          if (!dataTable) return;\n",
              "\n",
              "          const docLinkHtml = 'Like what you see? Visit the ' +\n",
              "            '<a target=\"_blank\" href=https://colab.research.google.com/notebooks/data_table.ipynb>data table notebook</a>'\n",
              "            + ' to learn more about interactive tables.';\n",
              "          element.innerHTML = '';\n",
              "          dataTable['output_type'] = 'display_data';\n",
              "          await google.colab.output.renderOutput(dataTable, element);\n",
              "          const docLink = document.createElement('div');\n",
              "          docLink.innerHTML = docLinkHtml;\n",
              "          element.appendChild(docLink);\n",
              "        }\n",
              "      </script>\n",
              "    </div>\n",
              "  </div>\n",
              "  "
            ]
          },
          "metadata": {},
          "execution_count": 1962
        }
      ],
      "source": [
        "df_importacao_vinhos_de_mesa = pd.read_csv('/content/drive/MyDrive/dados/raw/importacao/ImpVinhos.csv',\n",
        "                           delimiter=';')\n",
        "\n",
        "df_importacao_vinhos_de_mesa = formata_df(df_importacao_vinhos_de_mesa, 'Vinhos de mesa')\n",
        "df_importacao_vinhos_de_mesa.tail()"
      ]
    },
    {
      "cell_type": "markdown",
      "id": "9c7a09bd-d5e3-4b12-873c-b5ec5130eca8",
      "metadata": {
        "tags": [],
        "id": "9c7a09bd-d5e3-4b12-873c-b5ec5130eca8"
      },
      "source": [
        "#### Espumantes\n"
      ]
    },
    {
      "cell_type": "code",
      "execution_count": 1963,
      "id": "070cf7b1-464b-4308-baff-d6d2a0398aab",
      "metadata": {
        "tags": [],
        "id": "070cf7b1-464b-4308-baff-d6d2a0398aab",
        "colab": {
          "base_uri": "https://localhost:8080/",
          "height": 0
        },
        "outputId": "79a5c26a-a128-4cad-8b21-026ad2ae586b"
      },
      "outputs": [
        {
          "output_type": "execute_result",
          "data": {
            "text/plain": [
              "       ano pais_origem          pais_destino        tipo  quantidade  valor\n",
              "2179  2021      Brasil               Ucrânia  Espumantes           0      0\n",
              "2180  2021      Brasil               Uruguai  Espumantes        8947  47217\n",
              "2181  2021      Brasil  Não consta na tabela  Espumantes           0      0\n",
              "2182  2021      Brasil        Não declarados  Espumantes           0      0\n",
              "2183  2021      Brasil                Outros  Espumantes           0      0"
            ],
            "text/html": [
              "\n",
              "  <div id=\"df-b98c11f8-945c-485e-9f47-c1bcbc606782\">\n",
              "    <div class=\"colab-df-container\">\n",
              "      <div>\n",
              "<style scoped>\n",
              "    .dataframe tbody tr th:only-of-type {\n",
              "        vertical-align: middle;\n",
              "    }\n",
              "\n",
              "    .dataframe tbody tr th {\n",
              "        vertical-align: top;\n",
              "    }\n",
              "\n",
              "    .dataframe thead th {\n",
              "        text-align: right;\n",
              "    }\n",
              "</style>\n",
              "<table border=\"1\" class=\"dataframe\">\n",
              "  <thead>\n",
              "    <tr style=\"text-align: right;\">\n",
              "      <th></th>\n",
              "      <th>ano</th>\n",
              "      <th>pais_origem</th>\n",
              "      <th>pais_destino</th>\n",
              "      <th>tipo</th>\n",
              "      <th>quantidade</th>\n",
              "      <th>valor</th>\n",
              "    </tr>\n",
              "  </thead>\n",
              "  <tbody>\n",
              "    <tr>\n",
              "      <th>2179</th>\n",
              "      <td>2021</td>\n",
              "      <td>Brasil</td>\n",
              "      <td>Ucrânia</td>\n",
              "      <td>Espumantes</td>\n",
              "      <td>0</td>\n",
              "      <td>0</td>\n",
              "    </tr>\n",
              "    <tr>\n",
              "      <th>2180</th>\n",
              "      <td>2021</td>\n",
              "      <td>Brasil</td>\n",
              "      <td>Uruguai</td>\n",
              "      <td>Espumantes</td>\n",
              "      <td>8947</td>\n",
              "      <td>47217</td>\n",
              "    </tr>\n",
              "    <tr>\n",
              "      <th>2181</th>\n",
              "      <td>2021</td>\n",
              "      <td>Brasil</td>\n",
              "      <td>Não consta na tabela</td>\n",
              "      <td>Espumantes</td>\n",
              "      <td>0</td>\n",
              "      <td>0</td>\n",
              "    </tr>\n",
              "    <tr>\n",
              "      <th>2182</th>\n",
              "      <td>2021</td>\n",
              "      <td>Brasil</td>\n",
              "      <td>Não declarados</td>\n",
              "      <td>Espumantes</td>\n",
              "      <td>0</td>\n",
              "      <td>0</td>\n",
              "    </tr>\n",
              "    <tr>\n",
              "      <th>2183</th>\n",
              "      <td>2021</td>\n",
              "      <td>Brasil</td>\n",
              "      <td>Outros</td>\n",
              "      <td>Espumantes</td>\n",
              "      <td>0</td>\n",
              "      <td>0</td>\n",
              "    </tr>\n",
              "  </tbody>\n",
              "</table>\n",
              "</div>\n",
              "      <button class=\"colab-df-convert\" onclick=\"convertToInteractive('df-b98c11f8-945c-485e-9f47-c1bcbc606782')\"\n",
              "              title=\"Convert this dataframe to an interactive table.\"\n",
              "              style=\"display:none;\">\n",
              "        \n",
              "  <svg xmlns=\"http://www.w3.org/2000/svg\" height=\"24px\"viewBox=\"0 0 24 24\"\n",
              "       width=\"24px\">\n",
              "    <path d=\"M0 0h24v24H0V0z\" fill=\"none\"/>\n",
              "    <path d=\"M18.56 5.44l.94 2.06.94-2.06 2.06-.94-2.06-.94-.94-2.06-.94 2.06-2.06.94zm-11 1L8.5 8.5l.94-2.06 2.06-.94-2.06-.94L8.5 2.5l-.94 2.06-2.06.94zm10 10l.94 2.06.94-2.06 2.06-.94-2.06-.94-.94-2.06-.94 2.06-2.06.94z\"/><path d=\"M17.41 7.96l-1.37-1.37c-.4-.4-.92-.59-1.43-.59-.52 0-1.04.2-1.43.59L10.3 9.45l-7.72 7.72c-.78.78-.78 2.05 0 2.83L4 21.41c.39.39.9.59 1.41.59.51 0 1.02-.2 1.41-.59l7.78-7.78 2.81-2.81c.8-.78.8-2.07 0-2.86zM5.41 20L4 18.59l7.72-7.72 1.47 1.35L5.41 20z\"/>\n",
              "  </svg>\n",
              "      </button>\n",
              "      \n",
              "  <style>\n",
              "    .colab-df-container {\n",
              "      display:flex;\n",
              "      flex-wrap:wrap;\n",
              "      gap: 12px;\n",
              "    }\n",
              "\n",
              "    .colab-df-convert {\n",
              "      background-color: #E8F0FE;\n",
              "      border: none;\n",
              "      border-radius: 50%;\n",
              "      cursor: pointer;\n",
              "      display: none;\n",
              "      fill: #1967D2;\n",
              "      height: 32px;\n",
              "      padding: 0 0 0 0;\n",
              "      width: 32px;\n",
              "    }\n",
              "\n",
              "    .colab-df-convert:hover {\n",
              "      background-color: #E2EBFA;\n",
              "      box-shadow: 0px 1px 2px rgba(60, 64, 67, 0.3), 0px 1px 3px 1px rgba(60, 64, 67, 0.15);\n",
              "      fill: #174EA6;\n",
              "    }\n",
              "\n",
              "    [theme=dark] .colab-df-convert {\n",
              "      background-color: #3B4455;\n",
              "      fill: #D2E3FC;\n",
              "    }\n",
              "\n",
              "    [theme=dark] .colab-df-convert:hover {\n",
              "      background-color: #434B5C;\n",
              "      box-shadow: 0px 1px 3px 1px rgba(0, 0, 0, 0.15);\n",
              "      filter: drop-shadow(0px 1px 2px rgba(0, 0, 0, 0.3));\n",
              "      fill: #FFFFFF;\n",
              "    }\n",
              "  </style>\n",
              "\n",
              "      <script>\n",
              "        const buttonEl =\n",
              "          document.querySelector('#df-b98c11f8-945c-485e-9f47-c1bcbc606782 button.colab-df-convert');\n",
              "        buttonEl.style.display =\n",
              "          google.colab.kernel.accessAllowed ? 'block' : 'none';\n",
              "\n",
              "        async function convertToInteractive(key) {\n",
              "          const element = document.querySelector('#df-b98c11f8-945c-485e-9f47-c1bcbc606782');\n",
              "          const dataTable =\n",
              "            await google.colab.kernel.invokeFunction('convertToInteractive',\n",
              "                                                     [key], {});\n",
              "          if (!dataTable) return;\n",
              "\n",
              "          const docLinkHtml = 'Like what you see? Visit the ' +\n",
              "            '<a target=\"_blank\" href=https://colab.research.google.com/notebooks/data_table.ipynb>data table notebook</a>'\n",
              "            + ' to learn more about interactive tables.';\n",
              "          element.innerHTML = '';\n",
              "          dataTable['output_type'] = 'display_data';\n",
              "          await google.colab.output.renderOutput(dataTable, element);\n",
              "          const docLink = document.createElement('div');\n",
              "          docLink.innerHTML = docLinkHtml;\n",
              "          element.appendChild(docLink);\n",
              "        }\n",
              "      </script>\n",
              "    </div>\n",
              "  </div>\n",
              "  "
            ]
          },
          "metadata": {},
          "execution_count": 1963
        }
      ],
      "source": [
        "df_importacao_espumantes = pd.read_csv('/content/drive/MyDrive/dados/raw/importacao/ImpEspumantes.csv',\n",
        "                           delimiter=';')\n",
        "\n",
        "df_importacao_espumantes = formata_df(df_importacao_espumantes, 'Espumantes')\n",
        "df_importacao_espumantes.tail()"
      ]
    },
    {
      "cell_type": "markdown",
      "id": "9c49bd2b-2904-4aee-95f4-bcd32c4399a3",
      "metadata": {
        "tags": [],
        "id": "9c49bd2b-2904-4aee-95f4-bcd32c4399a3"
      },
      "source": [
        "#### Uvas frescas"
      ]
    },
    {
      "cell_type": "code",
      "execution_count": 1964,
      "id": "c5587caf-71ea-42c9-900c-d3052fe697f0",
      "metadata": {
        "tags": [],
        "id": "c5587caf-71ea-42c9-900c-d3052fe697f0",
        "colab": {
          "base_uri": "https://localhost:8080/",
          "height": 0
        },
        "outputId": "9cd534b2-9edf-42af-eb7e-c043dc4a5a6b"
      },
      "outputs": [
        {
          "output_type": "execute_result",
          "data": {
            "text/plain": [
              "      ano pais_origem pais_destino          tipo  quantidade    valor\n",
              "969  2021      Brasil      Argélia  Uvas frescas           0        0\n",
              "970  2021      Brasil    Argentina  Uvas frescas     1356735  1696659\n",
              "971  2021      Brasil       Brasil  Uvas frescas           0        0\n",
              "972  2021      Brasil        Chile  Uvas frescas     3888723  5404163\n",
              "973  2021      Brasil     Colômbia  Uvas frescas           0        0"
            ],
            "text/html": [
              "\n",
              "  <div id=\"df-954045e8-180f-4310-b9dc-b2d185a6fb78\">\n",
              "    <div class=\"colab-df-container\">\n",
              "      <div>\n",
              "<style scoped>\n",
              "    .dataframe tbody tr th:only-of-type {\n",
              "        vertical-align: middle;\n",
              "    }\n",
              "\n",
              "    .dataframe tbody tr th {\n",
              "        vertical-align: top;\n",
              "    }\n",
              "\n",
              "    .dataframe thead th {\n",
              "        text-align: right;\n",
              "    }\n",
              "</style>\n",
              "<table border=\"1\" class=\"dataframe\">\n",
              "  <thead>\n",
              "    <tr style=\"text-align: right;\">\n",
              "      <th></th>\n",
              "      <th>ano</th>\n",
              "      <th>pais_origem</th>\n",
              "      <th>pais_destino</th>\n",
              "      <th>tipo</th>\n",
              "      <th>quantidade</th>\n",
              "      <th>valor</th>\n",
              "    </tr>\n",
              "  </thead>\n",
              "  <tbody>\n",
              "    <tr>\n",
              "      <th>969</th>\n",
              "      <td>2021</td>\n",
              "      <td>Brasil</td>\n",
              "      <td>Argélia</td>\n",
              "      <td>Uvas frescas</td>\n",
              "      <td>0</td>\n",
              "      <td>0</td>\n",
              "    </tr>\n",
              "    <tr>\n",
              "      <th>970</th>\n",
              "      <td>2021</td>\n",
              "      <td>Brasil</td>\n",
              "      <td>Argentina</td>\n",
              "      <td>Uvas frescas</td>\n",
              "      <td>1356735</td>\n",
              "      <td>1696659</td>\n",
              "    </tr>\n",
              "    <tr>\n",
              "      <th>971</th>\n",
              "      <td>2021</td>\n",
              "      <td>Brasil</td>\n",
              "      <td>Brasil</td>\n",
              "      <td>Uvas frescas</td>\n",
              "      <td>0</td>\n",
              "      <td>0</td>\n",
              "    </tr>\n",
              "    <tr>\n",
              "      <th>972</th>\n",
              "      <td>2021</td>\n",
              "      <td>Brasil</td>\n",
              "      <td>Chile</td>\n",
              "      <td>Uvas frescas</td>\n",
              "      <td>3888723</td>\n",
              "      <td>5404163</td>\n",
              "    </tr>\n",
              "    <tr>\n",
              "      <th>973</th>\n",
              "      <td>2021</td>\n",
              "      <td>Brasil</td>\n",
              "      <td>Colômbia</td>\n",
              "      <td>Uvas frescas</td>\n",
              "      <td>0</td>\n",
              "      <td>0</td>\n",
              "    </tr>\n",
              "  </tbody>\n",
              "</table>\n",
              "</div>\n",
              "      <button class=\"colab-df-convert\" onclick=\"convertToInteractive('df-954045e8-180f-4310-b9dc-b2d185a6fb78')\"\n",
              "              title=\"Convert this dataframe to an interactive table.\"\n",
              "              style=\"display:none;\">\n",
              "        \n",
              "  <svg xmlns=\"http://www.w3.org/2000/svg\" height=\"24px\"viewBox=\"0 0 24 24\"\n",
              "       width=\"24px\">\n",
              "    <path d=\"M0 0h24v24H0V0z\" fill=\"none\"/>\n",
              "    <path d=\"M18.56 5.44l.94 2.06.94-2.06 2.06-.94-2.06-.94-.94-2.06-.94 2.06-2.06.94zm-11 1L8.5 8.5l.94-2.06 2.06-.94-2.06-.94L8.5 2.5l-.94 2.06-2.06.94zm10 10l.94 2.06.94-2.06 2.06-.94-2.06-.94-.94-2.06-.94 2.06-2.06.94z\"/><path d=\"M17.41 7.96l-1.37-1.37c-.4-.4-.92-.59-1.43-.59-.52 0-1.04.2-1.43.59L10.3 9.45l-7.72 7.72c-.78.78-.78 2.05 0 2.83L4 21.41c.39.39.9.59 1.41.59.51 0 1.02-.2 1.41-.59l7.78-7.78 2.81-2.81c.8-.78.8-2.07 0-2.86zM5.41 20L4 18.59l7.72-7.72 1.47 1.35L5.41 20z\"/>\n",
              "  </svg>\n",
              "      </button>\n",
              "      \n",
              "  <style>\n",
              "    .colab-df-container {\n",
              "      display:flex;\n",
              "      flex-wrap:wrap;\n",
              "      gap: 12px;\n",
              "    }\n",
              "\n",
              "    .colab-df-convert {\n",
              "      background-color: #E8F0FE;\n",
              "      border: none;\n",
              "      border-radius: 50%;\n",
              "      cursor: pointer;\n",
              "      display: none;\n",
              "      fill: #1967D2;\n",
              "      height: 32px;\n",
              "      padding: 0 0 0 0;\n",
              "      width: 32px;\n",
              "    }\n",
              "\n",
              "    .colab-df-convert:hover {\n",
              "      background-color: #E2EBFA;\n",
              "      box-shadow: 0px 1px 2px rgba(60, 64, 67, 0.3), 0px 1px 3px 1px rgba(60, 64, 67, 0.15);\n",
              "      fill: #174EA6;\n",
              "    }\n",
              "\n",
              "    [theme=dark] .colab-df-convert {\n",
              "      background-color: #3B4455;\n",
              "      fill: #D2E3FC;\n",
              "    }\n",
              "\n",
              "    [theme=dark] .colab-df-convert:hover {\n",
              "      background-color: #434B5C;\n",
              "      box-shadow: 0px 1px 3px 1px rgba(0, 0, 0, 0.15);\n",
              "      filter: drop-shadow(0px 1px 2px rgba(0, 0, 0, 0.3));\n",
              "      fill: #FFFFFF;\n",
              "    }\n",
              "  </style>\n",
              "\n",
              "      <script>\n",
              "        const buttonEl =\n",
              "          document.querySelector('#df-954045e8-180f-4310-b9dc-b2d185a6fb78 button.colab-df-convert');\n",
              "        buttonEl.style.display =\n",
              "          google.colab.kernel.accessAllowed ? 'block' : 'none';\n",
              "\n",
              "        async function convertToInteractive(key) {\n",
              "          const element = document.querySelector('#df-954045e8-180f-4310-b9dc-b2d185a6fb78');\n",
              "          const dataTable =\n",
              "            await google.colab.kernel.invokeFunction('convertToInteractive',\n",
              "                                                     [key], {});\n",
              "          if (!dataTable) return;\n",
              "\n",
              "          const docLinkHtml = 'Like what you see? Visit the ' +\n",
              "            '<a target=\"_blank\" href=https://colab.research.google.com/notebooks/data_table.ipynb>data table notebook</a>'\n",
              "            + ' to learn more about interactive tables.';\n",
              "          element.innerHTML = '';\n",
              "          dataTable['output_type'] = 'display_data';\n",
              "          await google.colab.output.renderOutput(dataTable, element);\n",
              "          const docLink = document.createElement('div');\n",
              "          docLink.innerHTML = docLinkHtml;\n",
              "          element.appendChild(docLink);\n",
              "        }\n",
              "      </script>\n",
              "    </div>\n",
              "  </div>\n",
              "  "
            ]
          },
          "metadata": {},
          "execution_count": 1964
        }
      ],
      "source": [
        "df_importacao_uvas_frescas = pd.read_csv('/content/drive/MyDrive/dados/raw/importacao/ImpFrescas.csv',\n",
        "                           delimiter=';')\n",
        "\n",
        "df_importacao_uvas_frescas = formata_df(df_importacao_uvas_frescas, 'Uvas frescas')\n",
        "df_importacao_uvas_frescas[df_importacao_uvas_frescas['ano'] == '2021'].head()"
      ]
    },
    {
      "cell_type": "markdown",
      "id": "76cac37b-34d9-4ee6-b117-c085a6601952",
      "metadata": {
        "tags": [],
        "id": "76cac37b-34d9-4ee6-b117-c085a6601952"
      },
      "source": [
        "#### Uvas passas"
      ]
    },
    {
      "cell_type": "code",
      "execution_count": 1965,
      "id": "4eeabcc8-f490-442a-b589-0eab80601257",
      "metadata": {
        "tags": [],
        "id": "4eeabcc8-f490-442a-b589-0eab80601257",
        "colab": {
          "base_uri": "https://localhost:8080/",
          "height": 0
        },
        "outputId": "1c7076d3-d60b-4d9f-a1bc-9efebfae3ce2"
      },
      "outputs": [
        {
          "output_type": "execute_result",
          "data": {
            "text/plain": [
              "       ano pais_origem          pais_destino         tipo  quantidade   valor\n",
              "1758  2021      Brasil                  Peru  Uvas passas           0       0\n",
              "1759  2021      Brasil              Portugal  Uvas passas           0       0\n",
              "1760  2021      Brasil           Reino Unido  Uvas passas           0       0\n",
              "1761  2021      Brasil                Suécia  Uvas passas           0       0\n",
              "1762  2021      Brasil               Turquia  Uvas passas      186000  311165\n",
              "1763  2021      Brasil               Uruguai  Uvas passas           0       0\n",
              "1764  2021      Brasil           Uzbequistão  Uvas passas           0       0\n",
              "1765  2021      Brasil             Venezuela  Uvas passas           0       0\n",
              "1766  2021      Brasil  Não consta na tabela  Uvas passas           0       0\n",
              "1767  2021      Brasil                Outros  Uvas passas           0       0"
            ],
            "text/html": [
              "\n",
              "  <div id=\"df-66047714-409d-4047-81d9-1982fb979734\">\n",
              "    <div class=\"colab-df-container\">\n",
              "      <div>\n",
              "<style scoped>\n",
              "    .dataframe tbody tr th:only-of-type {\n",
              "        vertical-align: middle;\n",
              "    }\n",
              "\n",
              "    .dataframe tbody tr th {\n",
              "        vertical-align: top;\n",
              "    }\n",
              "\n",
              "    .dataframe thead th {\n",
              "        text-align: right;\n",
              "    }\n",
              "</style>\n",
              "<table border=\"1\" class=\"dataframe\">\n",
              "  <thead>\n",
              "    <tr style=\"text-align: right;\">\n",
              "      <th></th>\n",
              "      <th>ano</th>\n",
              "      <th>pais_origem</th>\n",
              "      <th>pais_destino</th>\n",
              "      <th>tipo</th>\n",
              "      <th>quantidade</th>\n",
              "      <th>valor</th>\n",
              "    </tr>\n",
              "  </thead>\n",
              "  <tbody>\n",
              "    <tr>\n",
              "      <th>1758</th>\n",
              "      <td>2021</td>\n",
              "      <td>Brasil</td>\n",
              "      <td>Peru</td>\n",
              "      <td>Uvas passas</td>\n",
              "      <td>0</td>\n",
              "      <td>0</td>\n",
              "    </tr>\n",
              "    <tr>\n",
              "      <th>1759</th>\n",
              "      <td>2021</td>\n",
              "      <td>Brasil</td>\n",
              "      <td>Portugal</td>\n",
              "      <td>Uvas passas</td>\n",
              "      <td>0</td>\n",
              "      <td>0</td>\n",
              "    </tr>\n",
              "    <tr>\n",
              "      <th>1760</th>\n",
              "      <td>2021</td>\n",
              "      <td>Brasil</td>\n",
              "      <td>Reino Unido</td>\n",
              "      <td>Uvas passas</td>\n",
              "      <td>0</td>\n",
              "      <td>0</td>\n",
              "    </tr>\n",
              "    <tr>\n",
              "      <th>1761</th>\n",
              "      <td>2021</td>\n",
              "      <td>Brasil</td>\n",
              "      <td>Suécia</td>\n",
              "      <td>Uvas passas</td>\n",
              "      <td>0</td>\n",
              "      <td>0</td>\n",
              "    </tr>\n",
              "    <tr>\n",
              "      <th>1762</th>\n",
              "      <td>2021</td>\n",
              "      <td>Brasil</td>\n",
              "      <td>Turquia</td>\n",
              "      <td>Uvas passas</td>\n",
              "      <td>186000</td>\n",
              "      <td>311165</td>\n",
              "    </tr>\n",
              "    <tr>\n",
              "      <th>1763</th>\n",
              "      <td>2021</td>\n",
              "      <td>Brasil</td>\n",
              "      <td>Uruguai</td>\n",
              "      <td>Uvas passas</td>\n",
              "      <td>0</td>\n",
              "      <td>0</td>\n",
              "    </tr>\n",
              "    <tr>\n",
              "      <th>1764</th>\n",
              "      <td>2021</td>\n",
              "      <td>Brasil</td>\n",
              "      <td>Uzbequistão</td>\n",
              "      <td>Uvas passas</td>\n",
              "      <td>0</td>\n",
              "      <td>0</td>\n",
              "    </tr>\n",
              "    <tr>\n",
              "      <th>1765</th>\n",
              "      <td>2021</td>\n",
              "      <td>Brasil</td>\n",
              "      <td>Venezuela</td>\n",
              "      <td>Uvas passas</td>\n",
              "      <td>0</td>\n",
              "      <td>0</td>\n",
              "    </tr>\n",
              "    <tr>\n",
              "      <th>1766</th>\n",
              "      <td>2021</td>\n",
              "      <td>Brasil</td>\n",
              "      <td>Não consta na tabela</td>\n",
              "      <td>Uvas passas</td>\n",
              "      <td>0</td>\n",
              "      <td>0</td>\n",
              "    </tr>\n",
              "    <tr>\n",
              "      <th>1767</th>\n",
              "      <td>2021</td>\n",
              "      <td>Brasil</td>\n",
              "      <td>Outros</td>\n",
              "      <td>Uvas passas</td>\n",
              "      <td>0</td>\n",
              "      <td>0</td>\n",
              "    </tr>\n",
              "  </tbody>\n",
              "</table>\n",
              "</div>\n",
              "      <button class=\"colab-df-convert\" onclick=\"convertToInteractive('df-66047714-409d-4047-81d9-1982fb979734')\"\n",
              "              title=\"Convert this dataframe to an interactive table.\"\n",
              "              style=\"display:none;\">\n",
              "        \n",
              "  <svg xmlns=\"http://www.w3.org/2000/svg\" height=\"24px\"viewBox=\"0 0 24 24\"\n",
              "       width=\"24px\">\n",
              "    <path d=\"M0 0h24v24H0V0z\" fill=\"none\"/>\n",
              "    <path d=\"M18.56 5.44l.94 2.06.94-2.06 2.06-.94-2.06-.94-.94-2.06-.94 2.06-2.06.94zm-11 1L8.5 8.5l.94-2.06 2.06-.94-2.06-.94L8.5 2.5l-.94 2.06-2.06.94zm10 10l.94 2.06.94-2.06 2.06-.94-2.06-.94-.94-2.06-.94 2.06-2.06.94z\"/><path d=\"M17.41 7.96l-1.37-1.37c-.4-.4-.92-.59-1.43-.59-.52 0-1.04.2-1.43.59L10.3 9.45l-7.72 7.72c-.78.78-.78 2.05 0 2.83L4 21.41c.39.39.9.59 1.41.59.51 0 1.02-.2 1.41-.59l7.78-7.78 2.81-2.81c.8-.78.8-2.07 0-2.86zM5.41 20L4 18.59l7.72-7.72 1.47 1.35L5.41 20z\"/>\n",
              "  </svg>\n",
              "      </button>\n",
              "      \n",
              "  <style>\n",
              "    .colab-df-container {\n",
              "      display:flex;\n",
              "      flex-wrap:wrap;\n",
              "      gap: 12px;\n",
              "    }\n",
              "\n",
              "    .colab-df-convert {\n",
              "      background-color: #E8F0FE;\n",
              "      border: none;\n",
              "      border-radius: 50%;\n",
              "      cursor: pointer;\n",
              "      display: none;\n",
              "      fill: #1967D2;\n",
              "      height: 32px;\n",
              "      padding: 0 0 0 0;\n",
              "      width: 32px;\n",
              "    }\n",
              "\n",
              "    .colab-df-convert:hover {\n",
              "      background-color: #E2EBFA;\n",
              "      box-shadow: 0px 1px 2px rgba(60, 64, 67, 0.3), 0px 1px 3px 1px rgba(60, 64, 67, 0.15);\n",
              "      fill: #174EA6;\n",
              "    }\n",
              "\n",
              "    [theme=dark] .colab-df-convert {\n",
              "      background-color: #3B4455;\n",
              "      fill: #D2E3FC;\n",
              "    }\n",
              "\n",
              "    [theme=dark] .colab-df-convert:hover {\n",
              "      background-color: #434B5C;\n",
              "      box-shadow: 0px 1px 3px 1px rgba(0, 0, 0, 0.15);\n",
              "      filter: drop-shadow(0px 1px 2px rgba(0, 0, 0, 0.3));\n",
              "      fill: #FFFFFF;\n",
              "    }\n",
              "  </style>\n",
              "\n",
              "      <script>\n",
              "        const buttonEl =\n",
              "          document.querySelector('#df-66047714-409d-4047-81d9-1982fb979734 button.colab-df-convert');\n",
              "        buttonEl.style.display =\n",
              "          google.colab.kernel.accessAllowed ? 'block' : 'none';\n",
              "\n",
              "        async function convertToInteractive(key) {\n",
              "          const element = document.querySelector('#df-66047714-409d-4047-81d9-1982fb979734');\n",
              "          const dataTable =\n",
              "            await google.colab.kernel.invokeFunction('convertToInteractive',\n",
              "                                                     [key], {});\n",
              "          if (!dataTable) return;\n",
              "\n",
              "          const docLinkHtml = 'Like what you see? Visit the ' +\n",
              "            '<a target=\"_blank\" href=https://colab.research.google.com/notebooks/data_table.ipynb>data table notebook</a>'\n",
              "            + ' to learn more about interactive tables.';\n",
              "          element.innerHTML = '';\n",
              "          dataTable['output_type'] = 'display_data';\n",
              "          await google.colab.output.renderOutput(dataTable, element);\n",
              "          const docLink = document.createElement('div');\n",
              "          docLink.innerHTML = docLinkHtml;\n",
              "          element.appendChild(docLink);\n",
              "        }\n",
              "      </script>\n",
              "    </div>\n",
              "  </div>\n",
              "  "
            ]
          },
          "metadata": {},
          "execution_count": 1965
        }
      ],
      "source": [
        "df_importacao_passas = pd.read_csv('/content/drive/MyDrive/dados/raw/importacao/ImpPassas.csv',\n",
        "                           delimiter=';')\n",
        "\n",
        "df_importacao_passas = formata_df(df_importacao_passas, 'Uvas passas')\n",
        "df_importacao_passas.tail(10)"
      ]
    },
    {
      "cell_type": "markdown",
      "id": "e96e8696-5240-4905-b664-ab3314f2c98d",
      "metadata": {
        "tags": [],
        "id": "e96e8696-5240-4905-b664-ab3314f2c98d"
      },
      "source": [
        "#### Suco de uva"
      ]
    },
    {
      "cell_type": "code",
      "execution_count": 1966,
      "id": "589062f4-845e-48ee-a9e6-35584c361d10",
      "metadata": {
        "tags": [],
        "id": "589062f4-845e-48ee-a9e6-35584c361d10",
        "colab": {
          "base_uri": "https://localhost:8080/",
          "height": 0
        },
        "outputId": "790b3a3c-c43a-4767-a3bc-e749a6d495f6"
      },
      "outputs": [
        {
          "output_type": "execute_result",
          "data": {
            "text/plain": [
              "       ano pais_origem   pais_destino         tipo  quantidade  valor\n",
              "1493  2021      Brasil         Israel  Suco de uva         720    969\n",
              "1494  2021      Brasil         itália  Suco de uva           0      0\n",
              "1495  2021      Brasil          Japão  Suco de uva           0      0\n",
              "1496  2021      Brasil         Líbano  Suco de uva           0      0\n",
              "1497  2021      Brasil         México  Suco de uva           0      0\n",
              "1498  2021      Brasil  Países Baixos  Suco de uva           0      0\n",
              "1499  2021      Brasil         Panamá  Suco de uva           0      0\n",
              "1500  2021      Brasil           Peru  Suco de uva           0      0\n",
              "1501  2021      Brasil       Portugal  Suco de uva           0      0\n",
              "1502  2021      Brasil    Reino Unido  Suco de uva           0      0\n",
              "1503  2021      Brasil         Taiwan  Suco de uva           0      0\n",
              "1504  2021      Brasil        Turquia  Suco de uva           0      0\n",
              "1505  2021      Brasil        Uruguai  Suco de uva           0      0\n",
              "1506  2021      Brasil      Venezuela  Suco de uva           0      0\n",
              "1507  2021      Brasil         Outros  Suco de uva           0      0"
            ],
            "text/html": [
              "\n",
              "  <div id=\"df-84eeb9b0-491a-439d-9bc8-c8019b930865\">\n",
              "    <div class=\"colab-df-container\">\n",
              "      <div>\n",
              "<style scoped>\n",
              "    .dataframe tbody tr th:only-of-type {\n",
              "        vertical-align: middle;\n",
              "    }\n",
              "\n",
              "    .dataframe tbody tr th {\n",
              "        vertical-align: top;\n",
              "    }\n",
              "\n",
              "    .dataframe thead th {\n",
              "        text-align: right;\n",
              "    }\n",
              "</style>\n",
              "<table border=\"1\" class=\"dataframe\">\n",
              "  <thead>\n",
              "    <tr style=\"text-align: right;\">\n",
              "      <th></th>\n",
              "      <th>ano</th>\n",
              "      <th>pais_origem</th>\n",
              "      <th>pais_destino</th>\n",
              "      <th>tipo</th>\n",
              "      <th>quantidade</th>\n",
              "      <th>valor</th>\n",
              "    </tr>\n",
              "  </thead>\n",
              "  <tbody>\n",
              "    <tr>\n",
              "      <th>1493</th>\n",
              "      <td>2021</td>\n",
              "      <td>Brasil</td>\n",
              "      <td>Israel</td>\n",
              "      <td>Suco de uva</td>\n",
              "      <td>720</td>\n",
              "      <td>969</td>\n",
              "    </tr>\n",
              "    <tr>\n",
              "      <th>1494</th>\n",
              "      <td>2021</td>\n",
              "      <td>Brasil</td>\n",
              "      <td>itália</td>\n",
              "      <td>Suco de uva</td>\n",
              "      <td>0</td>\n",
              "      <td>0</td>\n",
              "    </tr>\n",
              "    <tr>\n",
              "      <th>1495</th>\n",
              "      <td>2021</td>\n",
              "      <td>Brasil</td>\n",
              "      <td>Japão</td>\n",
              "      <td>Suco de uva</td>\n",
              "      <td>0</td>\n",
              "      <td>0</td>\n",
              "    </tr>\n",
              "    <tr>\n",
              "      <th>1496</th>\n",
              "      <td>2021</td>\n",
              "      <td>Brasil</td>\n",
              "      <td>Líbano</td>\n",
              "      <td>Suco de uva</td>\n",
              "      <td>0</td>\n",
              "      <td>0</td>\n",
              "    </tr>\n",
              "    <tr>\n",
              "      <th>1497</th>\n",
              "      <td>2021</td>\n",
              "      <td>Brasil</td>\n",
              "      <td>México</td>\n",
              "      <td>Suco de uva</td>\n",
              "      <td>0</td>\n",
              "      <td>0</td>\n",
              "    </tr>\n",
              "    <tr>\n",
              "      <th>1498</th>\n",
              "      <td>2021</td>\n",
              "      <td>Brasil</td>\n",
              "      <td>Países Baixos</td>\n",
              "      <td>Suco de uva</td>\n",
              "      <td>0</td>\n",
              "      <td>0</td>\n",
              "    </tr>\n",
              "    <tr>\n",
              "      <th>1499</th>\n",
              "      <td>2021</td>\n",
              "      <td>Brasil</td>\n",
              "      <td>Panamá</td>\n",
              "      <td>Suco de uva</td>\n",
              "      <td>0</td>\n",
              "      <td>0</td>\n",
              "    </tr>\n",
              "    <tr>\n",
              "      <th>1500</th>\n",
              "      <td>2021</td>\n",
              "      <td>Brasil</td>\n",
              "      <td>Peru</td>\n",
              "      <td>Suco de uva</td>\n",
              "      <td>0</td>\n",
              "      <td>0</td>\n",
              "    </tr>\n",
              "    <tr>\n",
              "      <th>1501</th>\n",
              "      <td>2021</td>\n",
              "      <td>Brasil</td>\n",
              "      <td>Portugal</td>\n",
              "      <td>Suco de uva</td>\n",
              "      <td>0</td>\n",
              "      <td>0</td>\n",
              "    </tr>\n",
              "    <tr>\n",
              "      <th>1502</th>\n",
              "      <td>2021</td>\n",
              "      <td>Brasil</td>\n",
              "      <td>Reino Unido</td>\n",
              "      <td>Suco de uva</td>\n",
              "      <td>0</td>\n",
              "      <td>0</td>\n",
              "    </tr>\n",
              "    <tr>\n",
              "      <th>1503</th>\n",
              "      <td>2021</td>\n",
              "      <td>Brasil</td>\n",
              "      <td>Taiwan</td>\n",
              "      <td>Suco de uva</td>\n",
              "      <td>0</td>\n",
              "      <td>0</td>\n",
              "    </tr>\n",
              "    <tr>\n",
              "      <th>1504</th>\n",
              "      <td>2021</td>\n",
              "      <td>Brasil</td>\n",
              "      <td>Turquia</td>\n",
              "      <td>Suco de uva</td>\n",
              "      <td>0</td>\n",
              "      <td>0</td>\n",
              "    </tr>\n",
              "    <tr>\n",
              "      <th>1505</th>\n",
              "      <td>2021</td>\n",
              "      <td>Brasil</td>\n",
              "      <td>Uruguai</td>\n",
              "      <td>Suco de uva</td>\n",
              "      <td>0</td>\n",
              "      <td>0</td>\n",
              "    </tr>\n",
              "    <tr>\n",
              "      <th>1506</th>\n",
              "      <td>2021</td>\n",
              "      <td>Brasil</td>\n",
              "      <td>Venezuela</td>\n",
              "      <td>Suco de uva</td>\n",
              "      <td>0</td>\n",
              "      <td>0</td>\n",
              "    </tr>\n",
              "    <tr>\n",
              "      <th>1507</th>\n",
              "      <td>2021</td>\n",
              "      <td>Brasil</td>\n",
              "      <td>Outros</td>\n",
              "      <td>Suco de uva</td>\n",
              "      <td>0</td>\n",
              "      <td>0</td>\n",
              "    </tr>\n",
              "  </tbody>\n",
              "</table>\n",
              "</div>\n",
              "      <button class=\"colab-df-convert\" onclick=\"convertToInteractive('df-84eeb9b0-491a-439d-9bc8-c8019b930865')\"\n",
              "              title=\"Convert this dataframe to an interactive table.\"\n",
              "              style=\"display:none;\">\n",
              "        \n",
              "  <svg xmlns=\"http://www.w3.org/2000/svg\" height=\"24px\"viewBox=\"0 0 24 24\"\n",
              "       width=\"24px\">\n",
              "    <path d=\"M0 0h24v24H0V0z\" fill=\"none\"/>\n",
              "    <path d=\"M18.56 5.44l.94 2.06.94-2.06 2.06-.94-2.06-.94-.94-2.06-.94 2.06-2.06.94zm-11 1L8.5 8.5l.94-2.06 2.06-.94-2.06-.94L8.5 2.5l-.94 2.06-2.06.94zm10 10l.94 2.06.94-2.06 2.06-.94-2.06-.94-.94-2.06-.94 2.06-2.06.94z\"/><path d=\"M17.41 7.96l-1.37-1.37c-.4-.4-.92-.59-1.43-.59-.52 0-1.04.2-1.43.59L10.3 9.45l-7.72 7.72c-.78.78-.78 2.05 0 2.83L4 21.41c.39.39.9.59 1.41.59.51 0 1.02-.2 1.41-.59l7.78-7.78 2.81-2.81c.8-.78.8-2.07 0-2.86zM5.41 20L4 18.59l7.72-7.72 1.47 1.35L5.41 20z\"/>\n",
              "  </svg>\n",
              "      </button>\n",
              "      \n",
              "  <style>\n",
              "    .colab-df-container {\n",
              "      display:flex;\n",
              "      flex-wrap:wrap;\n",
              "      gap: 12px;\n",
              "    }\n",
              "\n",
              "    .colab-df-convert {\n",
              "      background-color: #E8F0FE;\n",
              "      border: none;\n",
              "      border-radius: 50%;\n",
              "      cursor: pointer;\n",
              "      display: none;\n",
              "      fill: #1967D2;\n",
              "      height: 32px;\n",
              "      padding: 0 0 0 0;\n",
              "      width: 32px;\n",
              "    }\n",
              "\n",
              "    .colab-df-convert:hover {\n",
              "      background-color: #E2EBFA;\n",
              "      box-shadow: 0px 1px 2px rgba(60, 64, 67, 0.3), 0px 1px 3px 1px rgba(60, 64, 67, 0.15);\n",
              "      fill: #174EA6;\n",
              "    }\n",
              "\n",
              "    [theme=dark] .colab-df-convert {\n",
              "      background-color: #3B4455;\n",
              "      fill: #D2E3FC;\n",
              "    }\n",
              "\n",
              "    [theme=dark] .colab-df-convert:hover {\n",
              "      background-color: #434B5C;\n",
              "      box-shadow: 0px 1px 3px 1px rgba(0, 0, 0, 0.15);\n",
              "      filter: drop-shadow(0px 1px 2px rgba(0, 0, 0, 0.3));\n",
              "      fill: #FFFFFF;\n",
              "    }\n",
              "  </style>\n",
              "\n",
              "      <script>\n",
              "        const buttonEl =\n",
              "          document.querySelector('#df-84eeb9b0-491a-439d-9bc8-c8019b930865 button.colab-df-convert');\n",
              "        buttonEl.style.display =\n",
              "          google.colab.kernel.accessAllowed ? 'block' : 'none';\n",
              "\n",
              "        async function convertToInteractive(key) {\n",
              "          const element = document.querySelector('#df-84eeb9b0-491a-439d-9bc8-c8019b930865');\n",
              "          const dataTable =\n",
              "            await google.colab.kernel.invokeFunction('convertToInteractive',\n",
              "                                                     [key], {});\n",
              "          if (!dataTable) return;\n",
              "\n",
              "          const docLinkHtml = 'Like what you see? Visit the ' +\n",
              "            '<a target=\"_blank\" href=https://colab.research.google.com/notebooks/data_table.ipynb>data table notebook</a>'\n",
              "            + ' to learn more about interactive tables.';\n",
              "          element.innerHTML = '';\n",
              "          dataTable['output_type'] = 'display_data';\n",
              "          await google.colab.output.renderOutput(dataTable, element);\n",
              "          const docLink = document.createElement('div');\n",
              "          docLink.innerHTML = docLinkHtml;\n",
              "          element.appendChild(docLink);\n",
              "        }\n",
              "      </script>\n",
              "    </div>\n",
              "  </div>\n",
              "  "
            ]
          },
          "metadata": {},
          "execution_count": 1966
        }
      ],
      "source": [
        "df_importacao_suco_de_uva = pd.read_csv('/content/drive/MyDrive/dados/raw/importacao/ImpSuco.csv',\n",
        "                           delimiter=';')\n",
        "\n",
        "df_importacao_suco_de_uva = formata_df(df_importacao_suco_de_uva, 'Suco de uva')\n",
        "df_importacao_suco_de_uva.tail(15)"
      ]
    },
    {
      "cell_type": "markdown",
      "id": "d62b1237-2567-4e31-98e7-f3c587e20570",
      "metadata": {
        "tags": [],
        "id": "d62b1237-2567-4e31-98e7-f3c587e20570"
      },
      "source": [
        "#### Concatenando todos os DFs"
      ]
    },
    {
      "cell_type": "code",
      "execution_count": 1967,
      "id": "ca9fa449-bd0d-4989-9ba6-4a3f66113464",
      "metadata": {
        "tags": [],
        "id": "ca9fa449-bd0d-4989-9ba6-4a3f66113464",
        "colab": {
          "base_uri": "https://localhost:8080/"
        },
        "outputId": "e2584043-6dd7-48bf-a77e-196cb6263e55"
      },
      "outputs": [
        {
          "output_type": "execute_result",
          "data": {
            "text/plain": [
              "Vinhos de mesa    3380\n",
              "Espumantes        2184\n",
              "Uvas passas       1768\n",
              "Suco de uva       1508\n",
              "Uvas frescas       988\n",
              "Name: tipo, dtype: int64"
            ]
          },
          "metadata": {},
          "execution_count": 1967
        }
      ],
      "source": [
        "df_importacao = pd.concat([df_importacao_vinhos_de_mesa,\n",
        "                           df_importacao_espumantes,\n",
        "                           df_importacao_uvas_frescas,\n",
        "                           df_importacao_passas,\n",
        "                           df_importacao_suco_de_uva])\n",
        "\n",
        "df_importacao.tipo.value_counts()"
      ]
    },
    {
      "cell_type": "markdown",
      "id": "b6eb30ba-36bf-4f81-a968-cd38e524b5e7",
      "metadata": {
        "tags": [],
        "id": "b6eb30ba-36bf-4f81-a968-cd38e524b5e7"
      },
      "source": [
        "##### Escrevendo versão \"formatada\""
      ]
    },
    {
      "cell_type": "code",
      "execution_count": 1968,
      "id": "04867505-07a2-409f-ab36-b079fc9c3d05",
      "metadata": {
        "tags": [],
        "id": "04867505-07a2-409f-ab36-b079fc9c3d05"
      },
      "outputs": [],
      "source": [
        "df_importacao.to_csv('/content/drive/MyDrive/dados/formatted/df_importacao_2.csv', encoding='utf-8', sep='|', index=False)"
      ]
    },
    {
      "cell_type": "code",
      "execution_count": 1969,
      "id": "72bd12cd-e0c7-453c-9ef9-6e4315990912",
      "metadata": {
        "tags": [],
        "id": "72bd12cd-e0c7-453c-9ef9-6e4315990912",
        "colab": {
          "base_uri": "https://localhost:8080/",
          "height": 0
        },
        "outputId": "457e0d50-79de-4058-889e-9f213716bd37"
      },
      "outputs": [
        {
          "output_type": "execute_result",
          "data": {
            "text/plain": [
              "       ano pais_origem pais_destino            tipo  quantidade    valor\n",
              "2221  2004      Brasil       Brasil  Vinhos de mesa        2088  16212.0\n",
              "2286  2005      Brasil       Brasil  Vinhos de mesa        3007  20041.0\n",
              "2351  2006      Brasil       Brasil  Vinhos de mesa        2930  12527.0\n",
              "2416  2007      Brasil       Brasil  Vinhos de mesa        3513  19633.0\n",
              "2481  2008      Brasil       Brasil  Vinhos de mesa         309   1769.0"
            ],
            "text/html": [
              "\n",
              "  <div id=\"df-3162e1da-4ec1-49dc-990b-3cdb598fd4e3\">\n",
              "    <div class=\"colab-df-container\">\n",
              "      <div>\n",
              "<style scoped>\n",
              "    .dataframe tbody tr th:only-of-type {\n",
              "        vertical-align: middle;\n",
              "    }\n",
              "\n",
              "    .dataframe tbody tr th {\n",
              "        vertical-align: top;\n",
              "    }\n",
              "\n",
              "    .dataframe thead th {\n",
              "        text-align: right;\n",
              "    }\n",
              "</style>\n",
              "<table border=\"1\" class=\"dataframe\">\n",
              "  <thead>\n",
              "    <tr style=\"text-align: right;\">\n",
              "      <th></th>\n",
              "      <th>ano</th>\n",
              "      <th>pais_origem</th>\n",
              "      <th>pais_destino</th>\n",
              "      <th>tipo</th>\n",
              "      <th>quantidade</th>\n",
              "      <th>valor</th>\n",
              "    </tr>\n",
              "  </thead>\n",
              "  <tbody>\n",
              "    <tr>\n",
              "      <th>2221</th>\n",
              "      <td>2004</td>\n",
              "      <td>Brasil</td>\n",
              "      <td>Brasil</td>\n",
              "      <td>Vinhos de mesa</td>\n",
              "      <td>2088</td>\n",
              "      <td>16212.0</td>\n",
              "    </tr>\n",
              "    <tr>\n",
              "      <th>2286</th>\n",
              "      <td>2005</td>\n",
              "      <td>Brasil</td>\n",
              "      <td>Brasil</td>\n",
              "      <td>Vinhos de mesa</td>\n",
              "      <td>3007</td>\n",
              "      <td>20041.0</td>\n",
              "    </tr>\n",
              "    <tr>\n",
              "      <th>2351</th>\n",
              "      <td>2006</td>\n",
              "      <td>Brasil</td>\n",
              "      <td>Brasil</td>\n",
              "      <td>Vinhos de mesa</td>\n",
              "      <td>2930</td>\n",
              "      <td>12527.0</td>\n",
              "    </tr>\n",
              "    <tr>\n",
              "      <th>2416</th>\n",
              "      <td>2007</td>\n",
              "      <td>Brasil</td>\n",
              "      <td>Brasil</td>\n",
              "      <td>Vinhos de mesa</td>\n",
              "      <td>3513</td>\n",
              "      <td>19633.0</td>\n",
              "    </tr>\n",
              "    <tr>\n",
              "      <th>2481</th>\n",
              "      <td>2008</td>\n",
              "      <td>Brasil</td>\n",
              "      <td>Brasil</td>\n",
              "      <td>Vinhos de mesa</td>\n",
              "      <td>309</td>\n",
              "      <td>1769.0</td>\n",
              "    </tr>\n",
              "  </tbody>\n",
              "</table>\n",
              "</div>\n",
              "      <button class=\"colab-df-convert\" onclick=\"convertToInteractive('df-3162e1da-4ec1-49dc-990b-3cdb598fd4e3')\"\n",
              "              title=\"Convert this dataframe to an interactive table.\"\n",
              "              style=\"display:none;\">\n",
              "        \n",
              "  <svg xmlns=\"http://www.w3.org/2000/svg\" height=\"24px\"viewBox=\"0 0 24 24\"\n",
              "       width=\"24px\">\n",
              "    <path d=\"M0 0h24v24H0V0z\" fill=\"none\"/>\n",
              "    <path d=\"M18.56 5.44l.94 2.06.94-2.06 2.06-.94-2.06-.94-.94-2.06-.94 2.06-2.06.94zm-11 1L8.5 8.5l.94-2.06 2.06-.94-2.06-.94L8.5 2.5l-.94 2.06-2.06.94zm10 10l.94 2.06.94-2.06 2.06-.94-2.06-.94-.94-2.06-.94 2.06-2.06.94z\"/><path d=\"M17.41 7.96l-1.37-1.37c-.4-.4-.92-.59-1.43-.59-.52 0-1.04.2-1.43.59L10.3 9.45l-7.72 7.72c-.78.78-.78 2.05 0 2.83L4 21.41c.39.39.9.59 1.41.59.51 0 1.02-.2 1.41-.59l7.78-7.78 2.81-2.81c.8-.78.8-2.07 0-2.86zM5.41 20L4 18.59l7.72-7.72 1.47 1.35L5.41 20z\"/>\n",
              "  </svg>\n",
              "      </button>\n",
              "      \n",
              "  <style>\n",
              "    .colab-df-container {\n",
              "      display:flex;\n",
              "      flex-wrap:wrap;\n",
              "      gap: 12px;\n",
              "    }\n",
              "\n",
              "    .colab-df-convert {\n",
              "      background-color: #E8F0FE;\n",
              "      border: none;\n",
              "      border-radius: 50%;\n",
              "      cursor: pointer;\n",
              "      display: none;\n",
              "      fill: #1967D2;\n",
              "      height: 32px;\n",
              "      padding: 0 0 0 0;\n",
              "      width: 32px;\n",
              "    }\n",
              "\n",
              "    .colab-df-convert:hover {\n",
              "      background-color: #E2EBFA;\n",
              "      box-shadow: 0px 1px 2px rgba(60, 64, 67, 0.3), 0px 1px 3px 1px rgba(60, 64, 67, 0.15);\n",
              "      fill: #174EA6;\n",
              "    }\n",
              "\n",
              "    [theme=dark] .colab-df-convert {\n",
              "      background-color: #3B4455;\n",
              "      fill: #D2E3FC;\n",
              "    }\n",
              "\n",
              "    [theme=dark] .colab-df-convert:hover {\n",
              "      background-color: #434B5C;\n",
              "      box-shadow: 0px 1px 3px 1px rgba(0, 0, 0, 0.15);\n",
              "      filter: drop-shadow(0px 1px 2px rgba(0, 0, 0, 0.3));\n",
              "      fill: #FFFFFF;\n",
              "    }\n",
              "  </style>\n",
              "\n",
              "      <script>\n",
              "        const buttonEl =\n",
              "          document.querySelector('#df-3162e1da-4ec1-49dc-990b-3cdb598fd4e3 button.colab-df-convert');\n",
              "        buttonEl.style.display =\n",
              "          google.colab.kernel.accessAllowed ? 'block' : 'none';\n",
              "\n",
              "        async function convertToInteractive(key) {\n",
              "          const element = document.querySelector('#df-3162e1da-4ec1-49dc-990b-3cdb598fd4e3');\n",
              "          const dataTable =\n",
              "            await google.colab.kernel.invokeFunction('convertToInteractive',\n",
              "                                                     [key], {});\n",
              "          if (!dataTable) return;\n",
              "\n",
              "          const docLinkHtml = 'Like what you see? Visit the ' +\n",
              "            '<a target=\"_blank\" href=https://colab.research.google.com/notebooks/data_table.ipynb>data table notebook</a>'\n",
              "            + ' to learn more about interactive tables.';\n",
              "          element.innerHTML = '';\n",
              "          dataTable['output_type'] = 'display_data';\n",
              "          await google.colab.output.renderOutput(dataTable, element);\n",
              "          const docLink = document.createElement('div');\n",
              "          docLink.innerHTML = docLinkHtml;\n",
              "          element.appendChild(docLink);\n",
              "        }\n",
              "      </script>\n",
              "    </div>\n",
              "  </div>\n",
              "  "
            ]
          },
          "metadata": {},
          "execution_count": 1969
        }
      ],
      "source": [
        "df_importacao[(df_importacao['pais_destino'] == 'Brasil') & (df_importacao['quantidade'] > 0)].head()"
      ]
    },
    {
      "cell_type": "code",
      "execution_count": 1970,
      "id": "fa3aaf1f-7692-40dc-855e-9f04f9e3eb03",
      "metadata": {
        "tags": [],
        "id": "fa3aaf1f-7692-40dc-855e-9f04f9e3eb03",
        "colab": {
          "base_uri": "https://localhost:8080/",
          "height": 0
        },
        "outputId": "81355205-fa18-46a1-e1a6-09cb3487e1a4"
      },
      "outputs": [
        {
          "output_type": "execute_result",
          "data": {
            "text/plain": [
              "       ano pais_origem pais_destino            tipo  quantidade    valor\n",
              "2221  2004      Brasil       Brasil  Vinhos de mesa        2088  16212.0\n",
              "2286  2005      Brasil       Brasil  Vinhos de mesa        3007  20041.0\n",
              "2351  2006      Brasil       Brasil  Vinhos de mesa        2930  12527.0\n",
              "2416  2007      Brasil       Brasil  Vinhos de mesa        3513  19633.0\n",
              "2481  2008      Brasil       Brasil  Vinhos de mesa         309   1769.0"
            ],
            "text/html": [
              "\n",
              "  <div id=\"df-16782bd0-8ae2-4333-83c4-2d94b2715683\">\n",
              "    <div class=\"colab-df-container\">\n",
              "      <div>\n",
              "<style scoped>\n",
              "    .dataframe tbody tr th:only-of-type {\n",
              "        vertical-align: middle;\n",
              "    }\n",
              "\n",
              "    .dataframe tbody tr th {\n",
              "        vertical-align: top;\n",
              "    }\n",
              "\n",
              "    .dataframe thead th {\n",
              "        text-align: right;\n",
              "    }\n",
              "</style>\n",
              "<table border=\"1\" class=\"dataframe\">\n",
              "  <thead>\n",
              "    <tr style=\"text-align: right;\">\n",
              "      <th></th>\n",
              "      <th>ano</th>\n",
              "      <th>pais_origem</th>\n",
              "      <th>pais_destino</th>\n",
              "      <th>tipo</th>\n",
              "      <th>quantidade</th>\n",
              "      <th>valor</th>\n",
              "    </tr>\n",
              "  </thead>\n",
              "  <tbody>\n",
              "    <tr>\n",
              "      <th>2221</th>\n",
              "      <td>2004</td>\n",
              "      <td>Brasil</td>\n",
              "      <td>Brasil</td>\n",
              "      <td>Vinhos de mesa</td>\n",
              "      <td>2088</td>\n",
              "      <td>16212.0</td>\n",
              "    </tr>\n",
              "    <tr>\n",
              "      <th>2286</th>\n",
              "      <td>2005</td>\n",
              "      <td>Brasil</td>\n",
              "      <td>Brasil</td>\n",
              "      <td>Vinhos de mesa</td>\n",
              "      <td>3007</td>\n",
              "      <td>20041.0</td>\n",
              "    </tr>\n",
              "    <tr>\n",
              "      <th>2351</th>\n",
              "      <td>2006</td>\n",
              "      <td>Brasil</td>\n",
              "      <td>Brasil</td>\n",
              "      <td>Vinhos de mesa</td>\n",
              "      <td>2930</td>\n",
              "      <td>12527.0</td>\n",
              "    </tr>\n",
              "    <tr>\n",
              "      <th>2416</th>\n",
              "      <td>2007</td>\n",
              "      <td>Brasil</td>\n",
              "      <td>Brasil</td>\n",
              "      <td>Vinhos de mesa</td>\n",
              "      <td>3513</td>\n",
              "      <td>19633.0</td>\n",
              "    </tr>\n",
              "    <tr>\n",
              "      <th>2481</th>\n",
              "      <td>2008</td>\n",
              "      <td>Brasil</td>\n",
              "      <td>Brasil</td>\n",
              "      <td>Vinhos de mesa</td>\n",
              "      <td>309</td>\n",
              "      <td>1769.0</td>\n",
              "    </tr>\n",
              "  </tbody>\n",
              "</table>\n",
              "</div>\n",
              "      <button class=\"colab-df-convert\" onclick=\"convertToInteractive('df-16782bd0-8ae2-4333-83c4-2d94b2715683')\"\n",
              "              title=\"Convert this dataframe to an interactive table.\"\n",
              "              style=\"display:none;\">\n",
              "        \n",
              "  <svg xmlns=\"http://www.w3.org/2000/svg\" height=\"24px\"viewBox=\"0 0 24 24\"\n",
              "       width=\"24px\">\n",
              "    <path d=\"M0 0h24v24H0V0z\" fill=\"none\"/>\n",
              "    <path d=\"M18.56 5.44l.94 2.06.94-2.06 2.06-.94-2.06-.94-.94-2.06-.94 2.06-2.06.94zm-11 1L8.5 8.5l.94-2.06 2.06-.94-2.06-.94L8.5 2.5l-.94 2.06-2.06.94zm10 10l.94 2.06.94-2.06 2.06-.94-2.06-.94-.94-2.06-.94 2.06-2.06.94z\"/><path d=\"M17.41 7.96l-1.37-1.37c-.4-.4-.92-.59-1.43-.59-.52 0-1.04.2-1.43.59L10.3 9.45l-7.72 7.72c-.78.78-.78 2.05 0 2.83L4 21.41c.39.39.9.59 1.41.59.51 0 1.02-.2 1.41-.59l7.78-7.78 2.81-2.81c.8-.78.8-2.07 0-2.86zM5.41 20L4 18.59l7.72-7.72 1.47 1.35L5.41 20z\"/>\n",
              "  </svg>\n",
              "      </button>\n",
              "      \n",
              "  <style>\n",
              "    .colab-df-container {\n",
              "      display:flex;\n",
              "      flex-wrap:wrap;\n",
              "      gap: 12px;\n",
              "    }\n",
              "\n",
              "    .colab-df-convert {\n",
              "      background-color: #E8F0FE;\n",
              "      border: none;\n",
              "      border-radius: 50%;\n",
              "      cursor: pointer;\n",
              "      display: none;\n",
              "      fill: #1967D2;\n",
              "      height: 32px;\n",
              "      padding: 0 0 0 0;\n",
              "      width: 32px;\n",
              "    }\n",
              "\n",
              "    .colab-df-convert:hover {\n",
              "      background-color: #E2EBFA;\n",
              "      box-shadow: 0px 1px 2px rgba(60, 64, 67, 0.3), 0px 1px 3px 1px rgba(60, 64, 67, 0.15);\n",
              "      fill: #174EA6;\n",
              "    }\n",
              "\n",
              "    [theme=dark] .colab-df-convert {\n",
              "      background-color: #3B4455;\n",
              "      fill: #D2E3FC;\n",
              "    }\n",
              "\n",
              "    [theme=dark] .colab-df-convert:hover {\n",
              "      background-color: #434B5C;\n",
              "      box-shadow: 0px 1px 3px 1px rgba(0, 0, 0, 0.15);\n",
              "      filter: drop-shadow(0px 1px 2px rgba(0, 0, 0, 0.3));\n",
              "      fill: #FFFFFF;\n",
              "    }\n",
              "  </style>\n",
              "\n",
              "      <script>\n",
              "        const buttonEl =\n",
              "          document.querySelector('#df-16782bd0-8ae2-4333-83c4-2d94b2715683 button.colab-df-convert');\n",
              "        buttonEl.style.display =\n",
              "          google.colab.kernel.accessAllowed ? 'block' : 'none';\n",
              "\n",
              "        async function convertToInteractive(key) {\n",
              "          const element = document.querySelector('#df-16782bd0-8ae2-4333-83c4-2d94b2715683');\n",
              "          const dataTable =\n",
              "            await google.colab.kernel.invokeFunction('convertToInteractive',\n",
              "                                                     [key], {});\n",
              "          if (!dataTable) return;\n",
              "\n",
              "          const docLinkHtml = 'Like what you see? Visit the ' +\n",
              "            '<a target=\"_blank\" href=https://colab.research.google.com/notebooks/data_table.ipynb>data table notebook</a>'\n",
              "            + ' to learn more about interactive tables.';\n",
              "          element.innerHTML = '';\n",
              "          dataTable['output_type'] = 'display_data';\n",
              "          await google.colab.output.renderOutput(dataTable, element);\n",
              "          const docLink = document.createElement('div');\n",
              "          docLink.innerHTML = docLinkHtml;\n",
              "          element.appendChild(docLink);\n",
              "        }\n",
              "      </script>\n",
              "    </div>\n",
              "  </div>\n",
              "  "
            ]
          },
          "metadata": {},
          "execution_count": 1970
        }
      ],
      "source": [
        "df_importacao[(df_importacao['pais_destino'] == 'Brasil') & (df_importacao['valor'] > 0)].head()"
      ]
    },
    {
      "cell_type": "markdown",
      "id": "3f8778ec-e507-4407-84ab-1b07ebe12957",
      "metadata": {
        "tags": [],
        "id": "3f8778ec-e507-4407-84ab-1b07ebe12957"
      },
      "source": [
        "***"
      ]
    },
    {
      "cell_type": "markdown",
      "id": "1dc79023-103d-4cf4-95f7-154551ee6db6",
      "metadata": {
        "tags": [],
        "id": "1dc79023-103d-4cf4-95f7-154551ee6db6"
      },
      "source": [
        "### 5. Exportações"
      ]
    },
    {
      "cell_type": "markdown",
      "id": "3e6a7428-1f0d-425e-8c88-7ca8fe88393b",
      "metadata": {
        "tags": [],
        "id": "3e6a7428-1f0d-425e-8c88-7ca8fe88393b"
      },
      "source": [
        "Foco:\n",
        "- Vinhos de mesa\n",
        "- Espumante\n",
        "\n",
        "Obs: estamos gerando para todos os tipos caso precise.."
      ]
    },
    {
      "cell_type": "markdown",
      "id": "b9186086-d149-4137-8d4f-6a48c98e4dc3",
      "metadata": {
        "tags": [],
        "id": "b9186086-d149-4137-8d4f-6a48c98e4dc3"
      },
      "source": [
        "#### Vinhos de mesa"
      ]
    },
    {
      "cell_type": "code",
      "execution_count": 1971,
      "id": "99d30443-40af-4bac-992f-49525a039df4",
      "metadata": {
        "tags": [],
        "id": "99d30443-40af-4bac-992f-49525a039df4",
        "colab": {
          "base_uri": "https://localhost:8080/",
          "height": 0
        },
        "outputId": "0bb79a49-e134-47a4-e9e1-e9464c6a4636"
      },
      "outputs": [
        {
          "output_type": "execute_result",
          "data": {
            "text/plain": [
              "       ano pais_origem pais_destino           tipo  quantidade   valor\n",
              "6443  2021      Brasil       Tuvalu  Vinho de mesa           0       0\n",
              "6444  2021      Brasil      Uruguai  Vinho de mesa      136774  149842\n",
              "6445  2021      Brasil      Vanuatu  Vinho de mesa           0       0\n",
              "6446  2021      Brasil    Venezuela  Vinho de mesa       26415   35944\n",
              "6447  2021      Brasil       Vietnã  Vinho de mesa           0       0"
            ],
            "text/html": [
              "\n",
              "  <div id=\"df-758f0420-3e25-48e1-a39c-3e0a1400d9ea\">\n",
              "    <div class=\"colab-df-container\">\n",
              "      <div>\n",
              "<style scoped>\n",
              "    .dataframe tbody tr th:only-of-type {\n",
              "        vertical-align: middle;\n",
              "    }\n",
              "\n",
              "    .dataframe tbody tr th {\n",
              "        vertical-align: top;\n",
              "    }\n",
              "\n",
              "    .dataframe thead th {\n",
              "        text-align: right;\n",
              "    }\n",
              "</style>\n",
              "<table border=\"1\" class=\"dataframe\">\n",
              "  <thead>\n",
              "    <tr style=\"text-align: right;\">\n",
              "      <th></th>\n",
              "      <th>ano</th>\n",
              "      <th>pais_origem</th>\n",
              "      <th>pais_destino</th>\n",
              "      <th>tipo</th>\n",
              "      <th>quantidade</th>\n",
              "      <th>valor</th>\n",
              "    </tr>\n",
              "  </thead>\n",
              "  <tbody>\n",
              "    <tr>\n",
              "      <th>6443</th>\n",
              "      <td>2021</td>\n",
              "      <td>Brasil</td>\n",
              "      <td>Tuvalu</td>\n",
              "      <td>Vinho de mesa</td>\n",
              "      <td>0</td>\n",
              "      <td>0</td>\n",
              "    </tr>\n",
              "    <tr>\n",
              "      <th>6444</th>\n",
              "      <td>2021</td>\n",
              "      <td>Brasil</td>\n",
              "      <td>Uruguai</td>\n",
              "      <td>Vinho de mesa</td>\n",
              "      <td>136774</td>\n",
              "      <td>149842</td>\n",
              "    </tr>\n",
              "    <tr>\n",
              "      <th>6445</th>\n",
              "      <td>2021</td>\n",
              "      <td>Brasil</td>\n",
              "      <td>Vanuatu</td>\n",
              "      <td>Vinho de mesa</td>\n",
              "      <td>0</td>\n",
              "      <td>0</td>\n",
              "    </tr>\n",
              "    <tr>\n",
              "      <th>6446</th>\n",
              "      <td>2021</td>\n",
              "      <td>Brasil</td>\n",
              "      <td>Venezuela</td>\n",
              "      <td>Vinho de mesa</td>\n",
              "      <td>26415</td>\n",
              "      <td>35944</td>\n",
              "    </tr>\n",
              "    <tr>\n",
              "      <th>6447</th>\n",
              "      <td>2021</td>\n",
              "      <td>Brasil</td>\n",
              "      <td>Vietnã</td>\n",
              "      <td>Vinho de mesa</td>\n",
              "      <td>0</td>\n",
              "      <td>0</td>\n",
              "    </tr>\n",
              "  </tbody>\n",
              "</table>\n",
              "</div>\n",
              "      <button class=\"colab-df-convert\" onclick=\"convertToInteractive('df-758f0420-3e25-48e1-a39c-3e0a1400d9ea')\"\n",
              "              title=\"Convert this dataframe to an interactive table.\"\n",
              "              style=\"display:none;\">\n",
              "        \n",
              "  <svg xmlns=\"http://www.w3.org/2000/svg\" height=\"24px\"viewBox=\"0 0 24 24\"\n",
              "       width=\"24px\">\n",
              "    <path d=\"M0 0h24v24H0V0z\" fill=\"none\"/>\n",
              "    <path d=\"M18.56 5.44l.94 2.06.94-2.06 2.06-.94-2.06-.94-.94-2.06-.94 2.06-2.06.94zm-11 1L8.5 8.5l.94-2.06 2.06-.94-2.06-.94L8.5 2.5l-.94 2.06-2.06.94zm10 10l.94 2.06.94-2.06 2.06-.94-2.06-.94-.94-2.06-.94 2.06-2.06.94z\"/><path d=\"M17.41 7.96l-1.37-1.37c-.4-.4-.92-.59-1.43-.59-.52 0-1.04.2-1.43.59L10.3 9.45l-7.72 7.72c-.78.78-.78 2.05 0 2.83L4 21.41c.39.39.9.59 1.41.59.51 0 1.02-.2 1.41-.59l7.78-7.78 2.81-2.81c.8-.78.8-2.07 0-2.86zM5.41 20L4 18.59l7.72-7.72 1.47 1.35L5.41 20z\"/>\n",
              "  </svg>\n",
              "      </button>\n",
              "      \n",
              "  <style>\n",
              "    .colab-df-container {\n",
              "      display:flex;\n",
              "      flex-wrap:wrap;\n",
              "      gap: 12px;\n",
              "    }\n",
              "\n",
              "    .colab-df-convert {\n",
              "      background-color: #E8F0FE;\n",
              "      border: none;\n",
              "      border-radius: 50%;\n",
              "      cursor: pointer;\n",
              "      display: none;\n",
              "      fill: #1967D2;\n",
              "      height: 32px;\n",
              "      padding: 0 0 0 0;\n",
              "      width: 32px;\n",
              "    }\n",
              "\n",
              "    .colab-df-convert:hover {\n",
              "      background-color: #E2EBFA;\n",
              "      box-shadow: 0px 1px 2px rgba(60, 64, 67, 0.3), 0px 1px 3px 1px rgba(60, 64, 67, 0.15);\n",
              "      fill: #174EA6;\n",
              "    }\n",
              "\n",
              "    [theme=dark] .colab-df-convert {\n",
              "      background-color: #3B4455;\n",
              "      fill: #D2E3FC;\n",
              "    }\n",
              "\n",
              "    [theme=dark] .colab-df-convert:hover {\n",
              "      background-color: #434B5C;\n",
              "      box-shadow: 0px 1px 3px 1px rgba(0, 0, 0, 0.15);\n",
              "      filter: drop-shadow(0px 1px 2px rgba(0, 0, 0, 0.3));\n",
              "      fill: #FFFFFF;\n",
              "    }\n",
              "  </style>\n",
              "\n",
              "      <script>\n",
              "        const buttonEl =\n",
              "          document.querySelector('#df-758f0420-3e25-48e1-a39c-3e0a1400d9ea button.colab-df-convert');\n",
              "        buttonEl.style.display =\n",
              "          google.colab.kernel.accessAllowed ? 'block' : 'none';\n",
              "\n",
              "        async function convertToInteractive(key) {\n",
              "          const element = document.querySelector('#df-758f0420-3e25-48e1-a39c-3e0a1400d9ea');\n",
              "          const dataTable =\n",
              "            await google.colab.kernel.invokeFunction('convertToInteractive',\n",
              "                                                     [key], {});\n",
              "          if (!dataTable) return;\n",
              "\n",
              "          const docLinkHtml = 'Like what you see? Visit the ' +\n",
              "            '<a target=\"_blank\" href=https://colab.research.google.com/notebooks/data_table.ipynb>data table notebook</a>'\n",
              "            + ' to learn more about interactive tables.';\n",
              "          element.innerHTML = '';\n",
              "          dataTable['output_type'] = 'display_data';\n",
              "          await google.colab.output.renderOutput(dataTable, element);\n",
              "          const docLink = document.createElement('div');\n",
              "          docLink.innerHTML = docLinkHtml;\n",
              "          element.appendChild(docLink);\n",
              "        }\n",
              "      </script>\n",
              "    </div>\n",
              "  </div>\n",
              "  "
            ]
          },
          "metadata": {},
          "execution_count": 1971
        }
      ],
      "source": [
        "df_exportacao_vinho_de_mesa = pd.read_csv('/content/drive/MyDrive/dados/raw/exportacao/ExpVinho.csv',\n",
        "                                         delimiter=';')\n",
        "\n",
        "df_exportacao_vinho_de_mesa = formata_df(df_exportacao_vinho_de_mesa, 'Vinho de mesa')\n",
        "df_exportacao_vinho_de_mesa.tail()"
      ]
    },
    {
      "cell_type": "markdown",
      "id": "c6075e37-55c6-4ac7-aabb-db772c330f1a",
      "metadata": {
        "tags": [],
        "id": "c6075e37-55c6-4ac7-aabb-db772c330f1a"
      },
      "source": [
        "#### Espumantes"
      ]
    },
    {
      "cell_type": "code",
      "execution_count": 1972,
      "id": "b8ca9ad5-c6a2-453e-9da2-f9d9d8d8f530",
      "metadata": {
        "tags": [],
        "id": "b8ca9ad5-c6a2-453e-9da2-f9d9d8d8f530",
        "colab": {
          "base_uri": "https://localhost:8080/",
          "height": 0
        },
        "outputId": "f6cc514b-fb91-4a4f-ba05-a6d64cbd2a10"
      },
      "outputs": [
        {
          "output_type": "execute_result",
          "data": {
            "text/plain": [
              "       ano pais_origem pais_destino       tipo  quantidade  valor\n",
              "5039  2021      Brasil      Uruguai  Espumante           0      0\n",
              "5040  2021      Brasil      Vanuatu  Espumante           0      0\n",
              "5041  2021      Brasil    Venezuela  Espumante           0      0\n",
              "5042  2021      Brasil       Vietnã  Espumante         144    374\n",
              "5043  2021      Brasil    Outros(1)  Espumante           0      0"
            ],
            "text/html": [
              "\n",
              "  <div id=\"df-78620137-903e-4820-945b-0ea37e65a70b\">\n",
              "    <div class=\"colab-df-container\">\n",
              "      <div>\n",
              "<style scoped>\n",
              "    .dataframe tbody tr th:only-of-type {\n",
              "        vertical-align: middle;\n",
              "    }\n",
              "\n",
              "    .dataframe tbody tr th {\n",
              "        vertical-align: top;\n",
              "    }\n",
              "\n",
              "    .dataframe thead th {\n",
              "        text-align: right;\n",
              "    }\n",
              "</style>\n",
              "<table border=\"1\" class=\"dataframe\">\n",
              "  <thead>\n",
              "    <tr style=\"text-align: right;\">\n",
              "      <th></th>\n",
              "      <th>ano</th>\n",
              "      <th>pais_origem</th>\n",
              "      <th>pais_destino</th>\n",
              "      <th>tipo</th>\n",
              "      <th>quantidade</th>\n",
              "      <th>valor</th>\n",
              "    </tr>\n",
              "  </thead>\n",
              "  <tbody>\n",
              "    <tr>\n",
              "      <th>5039</th>\n",
              "      <td>2021</td>\n",
              "      <td>Brasil</td>\n",
              "      <td>Uruguai</td>\n",
              "      <td>Espumante</td>\n",
              "      <td>0</td>\n",
              "      <td>0</td>\n",
              "    </tr>\n",
              "    <tr>\n",
              "      <th>5040</th>\n",
              "      <td>2021</td>\n",
              "      <td>Brasil</td>\n",
              "      <td>Vanuatu</td>\n",
              "      <td>Espumante</td>\n",
              "      <td>0</td>\n",
              "      <td>0</td>\n",
              "    </tr>\n",
              "    <tr>\n",
              "      <th>5041</th>\n",
              "      <td>2021</td>\n",
              "      <td>Brasil</td>\n",
              "      <td>Venezuela</td>\n",
              "      <td>Espumante</td>\n",
              "      <td>0</td>\n",
              "      <td>0</td>\n",
              "    </tr>\n",
              "    <tr>\n",
              "      <th>5042</th>\n",
              "      <td>2021</td>\n",
              "      <td>Brasil</td>\n",
              "      <td>Vietnã</td>\n",
              "      <td>Espumante</td>\n",
              "      <td>144</td>\n",
              "      <td>374</td>\n",
              "    </tr>\n",
              "    <tr>\n",
              "      <th>5043</th>\n",
              "      <td>2021</td>\n",
              "      <td>Brasil</td>\n",
              "      <td>Outros(1)</td>\n",
              "      <td>Espumante</td>\n",
              "      <td>0</td>\n",
              "      <td>0</td>\n",
              "    </tr>\n",
              "  </tbody>\n",
              "</table>\n",
              "</div>\n",
              "      <button class=\"colab-df-convert\" onclick=\"convertToInteractive('df-78620137-903e-4820-945b-0ea37e65a70b')\"\n",
              "              title=\"Convert this dataframe to an interactive table.\"\n",
              "              style=\"display:none;\">\n",
              "        \n",
              "  <svg xmlns=\"http://www.w3.org/2000/svg\" height=\"24px\"viewBox=\"0 0 24 24\"\n",
              "       width=\"24px\">\n",
              "    <path d=\"M0 0h24v24H0V0z\" fill=\"none\"/>\n",
              "    <path d=\"M18.56 5.44l.94 2.06.94-2.06 2.06-.94-2.06-.94-.94-2.06-.94 2.06-2.06.94zm-11 1L8.5 8.5l.94-2.06 2.06-.94-2.06-.94L8.5 2.5l-.94 2.06-2.06.94zm10 10l.94 2.06.94-2.06 2.06-.94-2.06-.94-.94-2.06-.94 2.06-2.06.94z\"/><path d=\"M17.41 7.96l-1.37-1.37c-.4-.4-.92-.59-1.43-.59-.52 0-1.04.2-1.43.59L10.3 9.45l-7.72 7.72c-.78.78-.78 2.05 0 2.83L4 21.41c.39.39.9.59 1.41.59.51 0 1.02-.2 1.41-.59l7.78-7.78 2.81-2.81c.8-.78.8-2.07 0-2.86zM5.41 20L4 18.59l7.72-7.72 1.47 1.35L5.41 20z\"/>\n",
              "  </svg>\n",
              "      </button>\n",
              "      \n",
              "  <style>\n",
              "    .colab-df-container {\n",
              "      display:flex;\n",
              "      flex-wrap:wrap;\n",
              "      gap: 12px;\n",
              "    }\n",
              "\n",
              "    .colab-df-convert {\n",
              "      background-color: #E8F0FE;\n",
              "      border: none;\n",
              "      border-radius: 50%;\n",
              "      cursor: pointer;\n",
              "      display: none;\n",
              "      fill: #1967D2;\n",
              "      height: 32px;\n",
              "      padding: 0 0 0 0;\n",
              "      width: 32px;\n",
              "    }\n",
              "\n",
              "    .colab-df-convert:hover {\n",
              "      background-color: #E2EBFA;\n",
              "      box-shadow: 0px 1px 2px rgba(60, 64, 67, 0.3), 0px 1px 3px 1px rgba(60, 64, 67, 0.15);\n",
              "      fill: #174EA6;\n",
              "    }\n",
              "\n",
              "    [theme=dark] .colab-df-convert {\n",
              "      background-color: #3B4455;\n",
              "      fill: #D2E3FC;\n",
              "    }\n",
              "\n",
              "    [theme=dark] .colab-df-convert:hover {\n",
              "      background-color: #434B5C;\n",
              "      box-shadow: 0px 1px 3px 1px rgba(0, 0, 0, 0.15);\n",
              "      filter: drop-shadow(0px 1px 2px rgba(0, 0, 0, 0.3));\n",
              "      fill: #FFFFFF;\n",
              "    }\n",
              "  </style>\n",
              "\n",
              "      <script>\n",
              "        const buttonEl =\n",
              "          document.querySelector('#df-78620137-903e-4820-945b-0ea37e65a70b button.colab-df-convert');\n",
              "        buttonEl.style.display =\n",
              "          google.colab.kernel.accessAllowed ? 'block' : 'none';\n",
              "\n",
              "        async function convertToInteractive(key) {\n",
              "          const element = document.querySelector('#df-78620137-903e-4820-945b-0ea37e65a70b');\n",
              "          const dataTable =\n",
              "            await google.colab.kernel.invokeFunction('convertToInteractive',\n",
              "                                                     [key], {});\n",
              "          if (!dataTable) return;\n",
              "\n",
              "          const docLinkHtml = 'Like what you see? Visit the ' +\n",
              "            '<a target=\"_blank\" href=https://colab.research.google.com/notebooks/data_table.ipynb>data table notebook</a>'\n",
              "            + ' to learn more about interactive tables.';\n",
              "          element.innerHTML = '';\n",
              "          dataTable['output_type'] = 'display_data';\n",
              "          await google.colab.output.renderOutput(dataTable, element);\n",
              "          const docLink = document.createElement('div');\n",
              "          docLink.innerHTML = docLinkHtml;\n",
              "          element.appendChild(docLink);\n",
              "        }\n",
              "      </script>\n",
              "    </div>\n",
              "  </div>\n",
              "  "
            ]
          },
          "metadata": {},
          "execution_count": 1972
        }
      ],
      "source": [
        "df_exportacao_espumantes = pd.read_csv('/content/drive/MyDrive/dados/raw/exportacao/ExpEspumantes.csv',\n",
        "                                         delimiter=';')\n",
        "\n",
        "df_exportacao_espumantes = formata_df(df_exportacao_espumantes, 'Espumante')\n",
        "df_exportacao_espumantes.tail()"
      ]
    },
    {
      "cell_type": "markdown",
      "id": "b8c65a7f-acb0-414c-8e29-bd8a49ffbd8a",
      "metadata": {
        "tags": [],
        "id": "b8c65a7f-acb0-414c-8e29-bd8a49ffbd8a"
      },
      "source": [
        "#### Uvas frescas"
      ]
    },
    {
      "cell_type": "code",
      "execution_count": 1973,
      "id": "13cb668f-1e77-4985-9a1a-727a096dfa98",
      "metadata": {
        "tags": [],
        "id": "13cb668f-1e77-4985-9a1a-727a096dfa98",
        "colab": {
          "base_uri": "https://localhost:8080/",
          "height": 0
        },
        "outputId": "3a4ec944-2ddd-4aba-883d-acaa7b46e59a"
      },
      "outputs": [
        {
          "output_type": "execute_result",
          "data": {
            "text/plain": [
              "       ano pais_origem                    pais_destino          tipo  \\\n",
              "6339  2021      Brasil                         Uruguai  Uvas frescas   \n",
              "6340  2021      Brasil                         Vanuatu  Uvas frescas   \n",
              "6341  2021      Brasil                       Venezuela  Uvas frescas   \n",
              "6342  2021      Brasil                          Vietnã  Uvas frescas   \n",
              "6343  2021      Brasil  Provisão de Navios e Aeronaves  Uvas frescas   \n",
              "\n",
              "      quantidade   valor  \n",
              "6339       95722  155667  \n",
              "6340          73     133  \n",
              "6341           0       0  \n",
              "6342         100     271  \n",
              "6343           0       0  "
            ],
            "text/html": [
              "\n",
              "  <div id=\"df-67be87a6-2fdf-43cc-ad42-fa39d5d3a66a\">\n",
              "    <div class=\"colab-df-container\">\n",
              "      <div>\n",
              "<style scoped>\n",
              "    .dataframe tbody tr th:only-of-type {\n",
              "        vertical-align: middle;\n",
              "    }\n",
              "\n",
              "    .dataframe tbody tr th {\n",
              "        vertical-align: top;\n",
              "    }\n",
              "\n",
              "    .dataframe thead th {\n",
              "        text-align: right;\n",
              "    }\n",
              "</style>\n",
              "<table border=\"1\" class=\"dataframe\">\n",
              "  <thead>\n",
              "    <tr style=\"text-align: right;\">\n",
              "      <th></th>\n",
              "      <th>ano</th>\n",
              "      <th>pais_origem</th>\n",
              "      <th>pais_destino</th>\n",
              "      <th>tipo</th>\n",
              "      <th>quantidade</th>\n",
              "      <th>valor</th>\n",
              "    </tr>\n",
              "  </thead>\n",
              "  <tbody>\n",
              "    <tr>\n",
              "      <th>6339</th>\n",
              "      <td>2021</td>\n",
              "      <td>Brasil</td>\n",
              "      <td>Uruguai</td>\n",
              "      <td>Uvas frescas</td>\n",
              "      <td>95722</td>\n",
              "      <td>155667</td>\n",
              "    </tr>\n",
              "    <tr>\n",
              "      <th>6340</th>\n",
              "      <td>2021</td>\n",
              "      <td>Brasil</td>\n",
              "      <td>Vanuatu</td>\n",
              "      <td>Uvas frescas</td>\n",
              "      <td>73</td>\n",
              "      <td>133</td>\n",
              "    </tr>\n",
              "    <tr>\n",
              "      <th>6341</th>\n",
              "      <td>2021</td>\n",
              "      <td>Brasil</td>\n",
              "      <td>Venezuela</td>\n",
              "      <td>Uvas frescas</td>\n",
              "      <td>0</td>\n",
              "      <td>0</td>\n",
              "    </tr>\n",
              "    <tr>\n",
              "      <th>6342</th>\n",
              "      <td>2021</td>\n",
              "      <td>Brasil</td>\n",
              "      <td>Vietnã</td>\n",
              "      <td>Uvas frescas</td>\n",
              "      <td>100</td>\n",
              "      <td>271</td>\n",
              "    </tr>\n",
              "    <tr>\n",
              "      <th>6343</th>\n",
              "      <td>2021</td>\n",
              "      <td>Brasil</td>\n",
              "      <td>Provisão de Navios e Aeronaves</td>\n",
              "      <td>Uvas frescas</td>\n",
              "      <td>0</td>\n",
              "      <td>0</td>\n",
              "    </tr>\n",
              "  </tbody>\n",
              "</table>\n",
              "</div>\n",
              "      <button class=\"colab-df-convert\" onclick=\"convertToInteractive('df-67be87a6-2fdf-43cc-ad42-fa39d5d3a66a')\"\n",
              "              title=\"Convert this dataframe to an interactive table.\"\n",
              "              style=\"display:none;\">\n",
              "        \n",
              "  <svg xmlns=\"http://www.w3.org/2000/svg\" height=\"24px\"viewBox=\"0 0 24 24\"\n",
              "       width=\"24px\">\n",
              "    <path d=\"M0 0h24v24H0V0z\" fill=\"none\"/>\n",
              "    <path d=\"M18.56 5.44l.94 2.06.94-2.06 2.06-.94-2.06-.94-.94-2.06-.94 2.06-2.06.94zm-11 1L8.5 8.5l.94-2.06 2.06-.94-2.06-.94L8.5 2.5l-.94 2.06-2.06.94zm10 10l.94 2.06.94-2.06 2.06-.94-2.06-.94-.94-2.06-.94 2.06-2.06.94z\"/><path d=\"M17.41 7.96l-1.37-1.37c-.4-.4-.92-.59-1.43-.59-.52 0-1.04.2-1.43.59L10.3 9.45l-7.72 7.72c-.78.78-.78 2.05 0 2.83L4 21.41c.39.39.9.59 1.41.59.51 0 1.02-.2 1.41-.59l7.78-7.78 2.81-2.81c.8-.78.8-2.07 0-2.86zM5.41 20L4 18.59l7.72-7.72 1.47 1.35L5.41 20z\"/>\n",
              "  </svg>\n",
              "      </button>\n",
              "      \n",
              "  <style>\n",
              "    .colab-df-container {\n",
              "      display:flex;\n",
              "      flex-wrap:wrap;\n",
              "      gap: 12px;\n",
              "    }\n",
              "\n",
              "    .colab-df-convert {\n",
              "      background-color: #E8F0FE;\n",
              "      border: none;\n",
              "      border-radius: 50%;\n",
              "      cursor: pointer;\n",
              "      display: none;\n",
              "      fill: #1967D2;\n",
              "      height: 32px;\n",
              "      padding: 0 0 0 0;\n",
              "      width: 32px;\n",
              "    }\n",
              "\n",
              "    .colab-df-convert:hover {\n",
              "      background-color: #E2EBFA;\n",
              "      box-shadow: 0px 1px 2px rgba(60, 64, 67, 0.3), 0px 1px 3px 1px rgba(60, 64, 67, 0.15);\n",
              "      fill: #174EA6;\n",
              "    }\n",
              "\n",
              "    [theme=dark] .colab-df-convert {\n",
              "      background-color: #3B4455;\n",
              "      fill: #D2E3FC;\n",
              "    }\n",
              "\n",
              "    [theme=dark] .colab-df-convert:hover {\n",
              "      background-color: #434B5C;\n",
              "      box-shadow: 0px 1px 3px 1px rgba(0, 0, 0, 0.15);\n",
              "      filter: drop-shadow(0px 1px 2px rgba(0, 0, 0, 0.3));\n",
              "      fill: #FFFFFF;\n",
              "    }\n",
              "  </style>\n",
              "\n",
              "      <script>\n",
              "        const buttonEl =\n",
              "          document.querySelector('#df-67be87a6-2fdf-43cc-ad42-fa39d5d3a66a button.colab-df-convert');\n",
              "        buttonEl.style.display =\n",
              "          google.colab.kernel.accessAllowed ? 'block' : 'none';\n",
              "\n",
              "        async function convertToInteractive(key) {\n",
              "          const element = document.querySelector('#df-67be87a6-2fdf-43cc-ad42-fa39d5d3a66a');\n",
              "          const dataTable =\n",
              "            await google.colab.kernel.invokeFunction('convertToInteractive',\n",
              "                                                     [key], {});\n",
              "          if (!dataTable) return;\n",
              "\n",
              "          const docLinkHtml = 'Like what you see? Visit the ' +\n",
              "            '<a target=\"_blank\" href=https://colab.research.google.com/notebooks/data_table.ipynb>data table notebook</a>'\n",
              "            + ' to learn more about interactive tables.';\n",
              "          element.innerHTML = '';\n",
              "          dataTable['output_type'] = 'display_data';\n",
              "          await google.colab.output.renderOutput(dataTable, element);\n",
              "          const docLink = document.createElement('div');\n",
              "          docLink.innerHTML = docLinkHtml;\n",
              "          element.appendChild(docLink);\n",
              "        }\n",
              "      </script>\n",
              "    </div>\n",
              "  </div>\n",
              "  "
            ]
          },
          "metadata": {},
          "execution_count": 1973
        }
      ],
      "source": [
        "df_exportacao_uvas_frescas = pd.read_csv('/content/drive/MyDrive/dados/raw/exportacao/ExpUva.csv',\n",
        "                                         delimiter=';')\n",
        "\n",
        "df_exportacao_uvas_frescas = formata_df(df_exportacao_uvas_frescas, 'Uvas frescas')\n",
        "df_exportacao_uvas_frescas.tail()"
      ]
    },
    {
      "cell_type": "markdown",
      "id": "ee1dbf6d-0e99-406b-beda-392c6c68906e",
      "metadata": {
        "tags": [],
        "id": "ee1dbf6d-0e99-406b-beda-392c6c68906e"
      },
      "source": [
        "#### Suco de uva"
      ]
    },
    {
      "cell_type": "code",
      "execution_count": 1974,
      "id": "133f2853-43d5-4a7a-951a-d7419a4b865e",
      "metadata": {
        "tags": [],
        "id": "133f2853-43d5-4a7a-951a-d7419a4b865e",
        "colab": {
          "base_uri": "https://localhost:8080/",
          "height": 0
        },
        "outputId": "ee95dfdc-0ff4-48b7-c451-e2ad89e571e1"
      },
      "outputs": [
        {
          "output_type": "execute_result",
          "data": {
            "text/plain": [
              "       ano pais_origem        pais_destino         tipo  quantidade   valor\n",
              "5970  2021      Brasil           Tailândia  Suco de uva           2       4\n",
              "5971  2021      Brasil    Taiwan (Formosa)  Suco de uva       60813  122005\n",
              "5972  2021      Brasil            Tanzânia  Suco de uva           0       0\n",
              "5973  2021      Brasil   Tcheca, República  Suco de uva           0       0\n",
              "5974  2021      Brasil                Togo  Suco de uva           0       0\n",
              "5975  2021      Brasil  Trinidade e Tobago  Suco de uva           0       0\n",
              "5976  2021      Brasil             Turquia  Suco de uva           0       0\n",
              "5977  2021      Brasil             Uruguai  Suco de uva           0       0\n",
              "5978  2021      Brasil             Vanuatu  Suco de uva          12       8\n",
              "5979  2021      Brasil           Venezuela  Suco de uva           0       0"
            ],
            "text/html": [
              "\n",
              "  <div id=\"df-5cac16b8-40da-4c1e-a799-d59b224d0c62\">\n",
              "    <div class=\"colab-df-container\">\n",
              "      <div>\n",
              "<style scoped>\n",
              "    .dataframe tbody tr th:only-of-type {\n",
              "        vertical-align: middle;\n",
              "    }\n",
              "\n",
              "    .dataframe tbody tr th {\n",
              "        vertical-align: top;\n",
              "    }\n",
              "\n",
              "    .dataframe thead th {\n",
              "        text-align: right;\n",
              "    }\n",
              "</style>\n",
              "<table border=\"1\" class=\"dataframe\">\n",
              "  <thead>\n",
              "    <tr style=\"text-align: right;\">\n",
              "      <th></th>\n",
              "      <th>ano</th>\n",
              "      <th>pais_origem</th>\n",
              "      <th>pais_destino</th>\n",
              "      <th>tipo</th>\n",
              "      <th>quantidade</th>\n",
              "      <th>valor</th>\n",
              "    </tr>\n",
              "  </thead>\n",
              "  <tbody>\n",
              "    <tr>\n",
              "      <th>5970</th>\n",
              "      <td>2021</td>\n",
              "      <td>Brasil</td>\n",
              "      <td>Tailândia</td>\n",
              "      <td>Suco de uva</td>\n",
              "      <td>2</td>\n",
              "      <td>4</td>\n",
              "    </tr>\n",
              "    <tr>\n",
              "      <th>5971</th>\n",
              "      <td>2021</td>\n",
              "      <td>Brasil</td>\n",
              "      <td>Taiwan (Formosa)</td>\n",
              "      <td>Suco de uva</td>\n",
              "      <td>60813</td>\n",
              "      <td>122005</td>\n",
              "    </tr>\n",
              "    <tr>\n",
              "      <th>5972</th>\n",
              "      <td>2021</td>\n",
              "      <td>Brasil</td>\n",
              "      <td>Tanzânia</td>\n",
              "      <td>Suco de uva</td>\n",
              "      <td>0</td>\n",
              "      <td>0</td>\n",
              "    </tr>\n",
              "    <tr>\n",
              "      <th>5973</th>\n",
              "      <td>2021</td>\n",
              "      <td>Brasil</td>\n",
              "      <td>Tcheca, República</td>\n",
              "      <td>Suco de uva</td>\n",
              "      <td>0</td>\n",
              "      <td>0</td>\n",
              "    </tr>\n",
              "    <tr>\n",
              "      <th>5974</th>\n",
              "      <td>2021</td>\n",
              "      <td>Brasil</td>\n",
              "      <td>Togo</td>\n",
              "      <td>Suco de uva</td>\n",
              "      <td>0</td>\n",
              "      <td>0</td>\n",
              "    </tr>\n",
              "    <tr>\n",
              "      <th>5975</th>\n",
              "      <td>2021</td>\n",
              "      <td>Brasil</td>\n",
              "      <td>Trinidade e Tobago</td>\n",
              "      <td>Suco de uva</td>\n",
              "      <td>0</td>\n",
              "      <td>0</td>\n",
              "    </tr>\n",
              "    <tr>\n",
              "      <th>5976</th>\n",
              "      <td>2021</td>\n",
              "      <td>Brasil</td>\n",
              "      <td>Turquia</td>\n",
              "      <td>Suco de uva</td>\n",
              "      <td>0</td>\n",
              "      <td>0</td>\n",
              "    </tr>\n",
              "    <tr>\n",
              "      <th>5977</th>\n",
              "      <td>2021</td>\n",
              "      <td>Brasil</td>\n",
              "      <td>Uruguai</td>\n",
              "      <td>Suco de uva</td>\n",
              "      <td>0</td>\n",
              "      <td>0</td>\n",
              "    </tr>\n",
              "    <tr>\n",
              "      <th>5978</th>\n",
              "      <td>2021</td>\n",
              "      <td>Brasil</td>\n",
              "      <td>Vanuatu</td>\n",
              "      <td>Suco de uva</td>\n",
              "      <td>12</td>\n",
              "      <td>8</td>\n",
              "    </tr>\n",
              "    <tr>\n",
              "      <th>5979</th>\n",
              "      <td>2021</td>\n",
              "      <td>Brasil</td>\n",
              "      <td>Venezuela</td>\n",
              "      <td>Suco de uva</td>\n",
              "      <td>0</td>\n",
              "      <td>0</td>\n",
              "    </tr>\n",
              "  </tbody>\n",
              "</table>\n",
              "</div>\n",
              "      <button class=\"colab-df-convert\" onclick=\"convertToInteractive('df-5cac16b8-40da-4c1e-a799-d59b224d0c62')\"\n",
              "              title=\"Convert this dataframe to an interactive table.\"\n",
              "              style=\"display:none;\">\n",
              "        \n",
              "  <svg xmlns=\"http://www.w3.org/2000/svg\" height=\"24px\"viewBox=\"0 0 24 24\"\n",
              "       width=\"24px\">\n",
              "    <path d=\"M0 0h24v24H0V0z\" fill=\"none\"/>\n",
              "    <path d=\"M18.56 5.44l.94 2.06.94-2.06 2.06-.94-2.06-.94-.94-2.06-.94 2.06-2.06.94zm-11 1L8.5 8.5l.94-2.06 2.06-.94-2.06-.94L8.5 2.5l-.94 2.06-2.06.94zm10 10l.94 2.06.94-2.06 2.06-.94-2.06-.94-.94-2.06-.94 2.06-2.06.94z\"/><path d=\"M17.41 7.96l-1.37-1.37c-.4-.4-.92-.59-1.43-.59-.52 0-1.04.2-1.43.59L10.3 9.45l-7.72 7.72c-.78.78-.78 2.05 0 2.83L4 21.41c.39.39.9.59 1.41.59.51 0 1.02-.2 1.41-.59l7.78-7.78 2.81-2.81c.8-.78.8-2.07 0-2.86zM5.41 20L4 18.59l7.72-7.72 1.47 1.35L5.41 20z\"/>\n",
              "  </svg>\n",
              "      </button>\n",
              "      \n",
              "  <style>\n",
              "    .colab-df-container {\n",
              "      display:flex;\n",
              "      flex-wrap:wrap;\n",
              "      gap: 12px;\n",
              "    }\n",
              "\n",
              "    .colab-df-convert {\n",
              "      background-color: #E8F0FE;\n",
              "      border: none;\n",
              "      border-radius: 50%;\n",
              "      cursor: pointer;\n",
              "      display: none;\n",
              "      fill: #1967D2;\n",
              "      height: 32px;\n",
              "      padding: 0 0 0 0;\n",
              "      width: 32px;\n",
              "    }\n",
              "\n",
              "    .colab-df-convert:hover {\n",
              "      background-color: #E2EBFA;\n",
              "      box-shadow: 0px 1px 2px rgba(60, 64, 67, 0.3), 0px 1px 3px 1px rgba(60, 64, 67, 0.15);\n",
              "      fill: #174EA6;\n",
              "    }\n",
              "\n",
              "    [theme=dark] .colab-df-convert {\n",
              "      background-color: #3B4455;\n",
              "      fill: #D2E3FC;\n",
              "    }\n",
              "\n",
              "    [theme=dark] .colab-df-convert:hover {\n",
              "      background-color: #434B5C;\n",
              "      box-shadow: 0px 1px 3px 1px rgba(0, 0, 0, 0.15);\n",
              "      filter: drop-shadow(0px 1px 2px rgba(0, 0, 0, 0.3));\n",
              "      fill: #FFFFFF;\n",
              "    }\n",
              "  </style>\n",
              "\n",
              "      <script>\n",
              "        const buttonEl =\n",
              "          document.querySelector('#df-5cac16b8-40da-4c1e-a799-d59b224d0c62 button.colab-df-convert');\n",
              "        buttonEl.style.display =\n",
              "          google.colab.kernel.accessAllowed ? 'block' : 'none';\n",
              "\n",
              "        async function convertToInteractive(key) {\n",
              "          const element = document.querySelector('#df-5cac16b8-40da-4c1e-a799-d59b224d0c62');\n",
              "          const dataTable =\n",
              "            await google.colab.kernel.invokeFunction('convertToInteractive',\n",
              "                                                     [key], {});\n",
              "          if (!dataTable) return;\n",
              "\n",
              "          const docLinkHtml = 'Like what you see? Visit the ' +\n",
              "            '<a target=\"_blank\" href=https://colab.research.google.com/notebooks/data_table.ipynb>data table notebook</a>'\n",
              "            + ' to learn more about interactive tables.';\n",
              "          element.innerHTML = '';\n",
              "          dataTable['output_type'] = 'display_data';\n",
              "          await google.colab.output.renderOutput(dataTable, element);\n",
              "          const docLink = document.createElement('div');\n",
              "          docLink.innerHTML = docLinkHtml;\n",
              "          element.appendChild(docLink);\n",
              "        }\n",
              "      </script>\n",
              "    </div>\n",
              "  </div>\n",
              "  "
            ]
          },
          "metadata": {},
          "execution_count": 1974
        }
      ],
      "source": [
        "df_exportacao_suco_de_uva = pd.read_csv('/content/drive/MyDrive/dados/raw/exportacao/ExpSuco.csv',\n",
        "                                         delimiter=';')\n",
        "\n",
        "df_exportacao_suco_de_uva = formata_df(df_exportacao_suco_de_uva, 'Suco de uva')\n",
        "df_exportacao_suco_de_uva.tail(10)"
      ]
    },
    {
      "cell_type": "markdown",
      "id": "9771c9f7-3c7d-41a4-8574-3d34ccf51fdb",
      "metadata": {
        "tags": [],
        "id": "9771c9f7-3c7d-41a4-8574-3d34ccf51fdb"
      },
      "source": [
        "#### Escrevendo tabela solicitada no Tech Challenge\n",
        "\n",
        "\n"
      ]
    },
    {
      "cell_type": "markdown",
      "id": "befe9b94-c345-4565-a1df-cde3a056f5f4",
      "metadata": {
        "tags": [],
        "id": "befe9b94-c345-4565-a1df-cde3a056f5f4"
      },
      "source": [
        "##### Concatenando todos os DFs"
      ]
    },
    {
      "cell_type": "code",
      "execution_count": 1975,
      "id": "7bcc389a-5f5b-4730-bd48-cd9c9d987b01",
      "metadata": {
        "tags": [],
        "id": "7bcc389a-5f5b-4730-bd48-cd9c9d987b01",
        "colab": {
          "base_uri": "https://localhost:8080/"
        },
        "outputId": "0888bfeb-12f7-44d4-ac92-aa6f06ff0844"
      },
      "outputs": [
        {
          "output_type": "execute_result",
          "data": {
            "text/plain": [
              "Vinho de mesa    6448\n",
              "Uvas frescas     6344\n",
              "Suco de uva      5980\n",
              "Espumante        5044\n",
              "Name: tipo, dtype: int64"
            ]
          },
          "metadata": {},
          "execution_count": 1975
        }
      ],
      "source": [
        "df_exportacao = pd.concat([df_exportacao_vinho_de_mesa,\n",
        "                            df_exportacao_espumantes,\n",
        "                            df_exportacao_uvas_frescas,\n",
        "                            df_exportacao_suco_de_uva])\n",
        "\n",
        "df_exportacao.tipo.value_counts()"
      ]
    },
    {
      "cell_type": "markdown",
      "id": "ace5a896-ac55-43f3-8b9c-6c19e790092a",
      "metadata": {
        "tags": [],
        "id": "ace5a896-ac55-43f3-8b9c-6c19e790092a"
      },
      "source": [
        "##### Escrevendo versão \"formatada\""
      ]
    },
    {
      "cell_type": "code",
      "execution_count": 1976,
      "id": "21f1a3c0-d18b-4a29-ab80-43d625cac8a1",
      "metadata": {
        "tags": [],
        "id": "21f1a3c0-d18b-4a29-ab80-43d625cac8a1"
      },
      "outputs": [],
      "source": [
        "df_exportacao.to_csv('/content/drive/MyDrive/dados/formatted/df_exportacao_2.csv', encoding='utf-8', sep='|', index=False)"
      ]
    },
    {
      "cell_type": "code",
      "execution_count": 1977,
      "id": "cd74d2ce-6ed6-4d0e-974c-a6fead55e0e7",
      "metadata": {
        "tags": [],
        "id": "cd74d2ce-6ed6-4d0e-974c-a6fead55e0e7",
        "colab": {
          "base_uri": "https://localhost:8080/",
          "height": 0
        },
        "outputId": "7f582bac-641f-45e5-ba9d-d198331d7fba"
      },
      "outputs": [
        {
          "output_type": "execute_result",
          "data": {
            "text/plain": [
              "       ano pais_origem pais_destino           tipo  quantidade  valor\n",
              "6344  2021      Brasil       Brasil  Vinho de mesa          31     46\n",
              "5996  2019      Brasil       Brasil   Uvas frescas          18     62\n",
              "6240  2021      Brasil       Brasil   Uvas frescas          70    173"
            ],
            "text/html": [
              "\n",
              "  <div id=\"df-ea5264dd-7f0b-4f55-b978-2c8a10758abb\">\n",
              "    <div class=\"colab-df-container\">\n",
              "      <div>\n",
              "<style scoped>\n",
              "    .dataframe tbody tr th:only-of-type {\n",
              "        vertical-align: middle;\n",
              "    }\n",
              "\n",
              "    .dataframe tbody tr th {\n",
              "        vertical-align: top;\n",
              "    }\n",
              "\n",
              "    .dataframe thead th {\n",
              "        text-align: right;\n",
              "    }\n",
              "</style>\n",
              "<table border=\"1\" class=\"dataframe\">\n",
              "  <thead>\n",
              "    <tr style=\"text-align: right;\">\n",
              "      <th></th>\n",
              "      <th>ano</th>\n",
              "      <th>pais_origem</th>\n",
              "      <th>pais_destino</th>\n",
              "      <th>tipo</th>\n",
              "      <th>quantidade</th>\n",
              "      <th>valor</th>\n",
              "    </tr>\n",
              "  </thead>\n",
              "  <tbody>\n",
              "    <tr>\n",
              "      <th>6344</th>\n",
              "      <td>2021</td>\n",
              "      <td>Brasil</td>\n",
              "      <td>Brasil</td>\n",
              "      <td>Vinho de mesa</td>\n",
              "      <td>31</td>\n",
              "      <td>46</td>\n",
              "    </tr>\n",
              "    <tr>\n",
              "      <th>5996</th>\n",
              "      <td>2019</td>\n",
              "      <td>Brasil</td>\n",
              "      <td>Brasil</td>\n",
              "      <td>Uvas frescas</td>\n",
              "      <td>18</td>\n",
              "      <td>62</td>\n",
              "    </tr>\n",
              "    <tr>\n",
              "      <th>6240</th>\n",
              "      <td>2021</td>\n",
              "      <td>Brasil</td>\n",
              "      <td>Brasil</td>\n",
              "      <td>Uvas frescas</td>\n",
              "      <td>70</td>\n",
              "      <td>173</td>\n",
              "    </tr>\n",
              "  </tbody>\n",
              "</table>\n",
              "</div>\n",
              "      <button class=\"colab-df-convert\" onclick=\"convertToInteractive('df-ea5264dd-7f0b-4f55-b978-2c8a10758abb')\"\n",
              "              title=\"Convert this dataframe to an interactive table.\"\n",
              "              style=\"display:none;\">\n",
              "        \n",
              "  <svg xmlns=\"http://www.w3.org/2000/svg\" height=\"24px\"viewBox=\"0 0 24 24\"\n",
              "       width=\"24px\">\n",
              "    <path d=\"M0 0h24v24H0V0z\" fill=\"none\"/>\n",
              "    <path d=\"M18.56 5.44l.94 2.06.94-2.06 2.06-.94-2.06-.94-.94-2.06-.94 2.06-2.06.94zm-11 1L8.5 8.5l.94-2.06 2.06-.94-2.06-.94L8.5 2.5l-.94 2.06-2.06.94zm10 10l.94 2.06.94-2.06 2.06-.94-2.06-.94-.94-2.06-.94 2.06-2.06.94z\"/><path d=\"M17.41 7.96l-1.37-1.37c-.4-.4-.92-.59-1.43-.59-.52 0-1.04.2-1.43.59L10.3 9.45l-7.72 7.72c-.78.78-.78 2.05 0 2.83L4 21.41c.39.39.9.59 1.41.59.51 0 1.02-.2 1.41-.59l7.78-7.78 2.81-2.81c.8-.78.8-2.07 0-2.86zM5.41 20L4 18.59l7.72-7.72 1.47 1.35L5.41 20z\"/>\n",
              "  </svg>\n",
              "      </button>\n",
              "      \n",
              "  <style>\n",
              "    .colab-df-container {\n",
              "      display:flex;\n",
              "      flex-wrap:wrap;\n",
              "      gap: 12px;\n",
              "    }\n",
              "\n",
              "    .colab-df-convert {\n",
              "      background-color: #E8F0FE;\n",
              "      border: none;\n",
              "      border-radius: 50%;\n",
              "      cursor: pointer;\n",
              "      display: none;\n",
              "      fill: #1967D2;\n",
              "      height: 32px;\n",
              "      padding: 0 0 0 0;\n",
              "      width: 32px;\n",
              "    }\n",
              "\n",
              "    .colab-df-convert:hover {\n",
              "      background-color: #E2EBFA;\n",
              "      box-shadow: 0px 1px 2px rgba(60, 64, 67, 0.3), 0px 1px 3px 1px rgba(60, 64, 67, 0.15);\n",
              "      fill: #174EA6;\n",
              "    }\n",
              "\n",
              "    [theme=dark] .colab-df-convert {\n",
              "      background-color: #3B4455;\n",
              "      fill: #D2E3FC;\n",
              "    }\n",
              "\n",
              "    [theme=dark] .colab-df-convert:hover {\n",
              "      background-color: #434B5C;\n",
              "      box-shadow: 0px 1px 3px 1px rgba(0, 0, 0, 0.15);\n",
              "      filter: drop-shadow(0px 1px 2px rgba(0, 0, 0, 0.3));\n",
              "      fill: #FFFFFF;\n",
              "    }\n",
              "  </style>\n",
              "\n",
              "      <script>\n",
              "        const buttonEl =\n",
              "          document.querySelector('#df-ea5264dd-7f0b-4f55-b978-2c8a10758abb button.colab-df-convert');\n",
              "        buttonEl.style.display =\n",
              "          google.colab.kernel.accessAllowed ? 'block' : 'none';\n",
              "\n",
              "        async function convertToInteractive(key) {\n",
              "          const element = document.querySelector('#df-ea5264dd-7f0b-4f55-b978-2c8a10758abb');\n",
              "          const dataTable =\n",
              "            await google.colab.kernel.invokeFunction('convertToInteractive',\n",
              "                                                     [key], {});\n",
              "          if (!dataTable) return;\n",
              "\n",
              "          const docLinkHtml = 'Like what you see? Visit the ' +\n",
              "            '<a target=\"_blank\" href=https://colab.research.google.com/notebooks/data_table.ipynb>data table notebook</a>'\n",
              "            + ' to learn more about interactive tables.';\n",
              "          element.innerHTML = '';\n",
              "          dataTable['output_type'] = 'display_data';\n",
              "          await google.colab.output.renderOutput(dataTable, element);\n",
              "          const docLink = document.createElement('div');\n",
              "          docLink.innerHTML = docLinkHtml;\n",
              "          element.appendChild(docLink);\n",
              "        }\n",
              "      </script>\n",
              "    </div>\n",
              "  </div>\n",
              "  "
            ]
          },
          "metadata": {},
          "execution_count": 1977
        }
      ],
      "source": [
        "df_exportacao[(df_exportacao['pais_destino'] == 'Brasil') & (df_exportacao['quantidade'] > 0)]"
      ]
    },
    {
      "cell_type": "code",
      "execution_count": 1978,
      "id": "df4a1883-4c4a-4601-b932-820fc4544e30",
      "metadata": {
        "tags": [],
        "id": "df4a1883-4c4a-4601-b932-820fc4544e30",
        "colab": {
          "base_uri": "https://localhost:8080/",
          "height": 0
        },
        "outputId": "f4f9baa5-f28e-4098-a45f-a2a6f4464300"
      },
      "outputs": [
        {
          "output_type": "execute_result",
          "data": {
            "text/plain": [
              "       ano pais_origem pais_destino           tipo  quantidade  valor\n",
              "6344  2021      Brasil       Brasil  Vinho de mesa          31     46\n",
              "5996  2019      Brasil       Brasil   Uvas frescas          18     62\n",
              "6240  2021      Brasil       Brasil   Uvas frescas          70    173"
            ],
            "text/html": [
              "\n",
              "  <div id=\"df-dfe0bd1a-1e4b-4f32-9a18-619c85be39a4\">\n",
              "    <div class=\"colab-df-container\">\n",
              "      <div>\n",
              "<style scoped>\n",
              "    .dataframe tbody tr th:only-of-type {\n",
              "        vertical-align: middle;\n",
              "    }\n",
              "\n",
              "    .dataframe tbody tr th {\n",
              "        vertical-align: top;\n",
              "    }\n",
              "\n",
              "    .dataframe thead th {\n",
              "        text-align: right;\n",
              "    }\n",
              "</style>\n",
              "<table border=\"1\" class=\"dataframe\">\n",
              "  <thead>\n",
              "    <tr style=\"text-align: right;\">\n",
              "      <th></th>\n",
              "      <th>ano</th>\n",
              "      <th>pais_origem</th>\n",
              "      <th>pais_destino</th>\n",
              "      <th>tipo</th>\n",
              "      <th>quantidade</th>\n",
              "      <th>valor</th>\n",
              "    </tr>\n",
              "  </thead>\n",
              "  <tbody>\n",
              "    <tr>\n",
              "      <th>6344</th>\n",
              "      <td>2021</td>\n",
              "      <td>Brasil</td>\n",
              "      <td>Brasil</td>\n",
              "      <td>Vinho de mesa</td>\n",
              "      <td>31</td>\n",
              "      <td>46</td>\n",
              "    </tr>\n",
              "    <tr>\n",
              "      <th>5996</th>\n",
              "      <td>2019</td>\n",
              "      <td>Brasil</td>\n",
              "      <td>Brasil</td>\n",
              "      <td>Uvas frescas</td>\n",
              "      <td>18</td>\n",
              "      <td>62</td>\n",
              "    </tr>\n",
              "    <tr>\n",
              "      <th>6240</th>\n",
              "      <td>2021</td>\n",
              "      <td>Brasil</td>\n",
              "      <td>Brasil</td>\n",
              "      <td>Uvas frescas</td>\n",
              "      <td>70</td>\n",
              "      <td>173</td>\n",
              "    </tr>\n",
              "  </tbody>\n",
              "</table>\n",
              "</div>\n",
              "      <button class=\"colab-df-convert\" onclick=\"convertToInteractive('df-dfe0bd1a-1e4b-4f32-9a18-619c85be39a4')\"\n",
              "              title=\"Convert this dataframe to an interactive table.\"\n",
              "              style=\"display:none;\">\n",
              "        \n",
              "  <svg xmlns=\"http://www.w3.org/2000/svg\" height=\"24px\"viewBox=\"0 0 24 24\"\n",
              "       width=\"24px\">\n",
              "    <path d=\"M0 0h24v24H0V0z\" fill=\"none\"/>\n",
              "    <path d=\"M18.56 5.44l.94 2.06.94-2.06 2.06-.94-2.06-.94-.94-2.06-.94 2.06-2.06.94zm-11 1L8.5 8.5l.94-2.06 2.06-.94-2.06-.94L8.5 2.5l-.94 2.06-2.06.94zm10 10l.94 2.06.94-2.06 2.06-.94-2.06-.94-.94-2.06-.94 2.06-2.06.94z\"/><path d=\"M17.41 7.96l-1.37-1.37c-.4-.4-.92-.59-1.43-.59-.52 0-1.04.2-1.43.59L10.3 9.45l-7.72 7.72c-.78.78-.78 2.05 0 2.83L4 21.41c.39.39.9.59 1.41.59.51 0 1.02-.2 1.41-.59l7.78-7.78 2.81-2.81c.8-.78.8-2.07 0-2.86zM5.41 20L4 18.59l7.72-7.72 1.47 1.35L5.41 20z\"/>\n",
              "  </svg>\n",
              "      </button>\n",
              "      \n",
              "  <style>\n",
              "    .colab-df-container {\n",
              "      display:flex;\n",
              "      flex-wrap:wrap;\n",
              "      gap: 12px;\n",
              "    }\n",
              "\n",
              "    .colab-df-convert {\n",
              "      background-color: #E8F0FE;\n",
              "      border: none;\n",
              "      border-radius: 50%;\n",
              "      cursor: pointer;\n",
              "      display: none;\n",
              "      fill: #1967D2;\n",
              "      height: 32px;\n",
              "      padding: 0 0 0 0;\n",
              "      width: 32px;\n",
              "    }\n",
              "\n",
              "    .colab-df-convert:hover {\n",
              "      background-color: #E2EBFA;\n",
              "      box-shadow: 0px 1px 2px rgba(60, 64, 67, 0.3), 0px 1px 3px 1px rgba(60, 64, 67, 0.15);\n",
              "      fill: #174EA6;\n",
              "    }\n",
              "\n",
              "    [theme=dark] .colab-df-convert {\n",
              "      background-color: #3B4455;\n",
              "      fill: #D2E3FC;\n",
              "    }\n",
              "\n",
              "    [theme=dark] .colab-df-convert:hover {\n",
              "      background-color: #434B5C;\n",
              "      box-shadow: 0px 1px 3px 1px rgba(0, 0, 0, 0.15);\n",
              "      filter: drop-shadow(0px 1px 2px rgba(0, 0, 0, 0.3));\n",
              "      fill: #FFFFFF;\n",
              "    }\n",
              "  </style>\n",
              "\n",
              "      <script>\n",
              "        const buttonEl =\n",
              "          document.querySelector('#df-dfe0bd1a-1e4b-4f32-9a18-619c85be39a4 button.colab-df-convert');\n",
              "        buttonEl.style.display =\n",
              "          google.colab.kernel.accessAllowed ? 'block' : 'none';\n",
              "\n",
              "        async function convertToInteractive(key) {\n",
              "          const element = document.querySelector('#df-dfe0bd1a-1e4b-4f32-9a18-619c85be39a4');\n",
              "          const dataTable =\n",
              "            await google.colab.kernel.invokeFunction('convertToInteractive',\n",
              "                                                     [key], {});\n",
              "          if (!dataTable) return;\n",
              "\n",
              "          const docLinkHtml = 'Like what you see? Visit the ' +\n",
              "            '<a target=\"_blank\" href=https://colab.research.google.com/notebooks/data_table.ipynb>data table notebook</a>'\n",
              "            + ' to learn more about interactive tables.';\n",
              "          element.innerHTML = '';\n",
              "          dataTable['output_type'] = 'display_data';\n",
              "          await google.colab.output.renderOutput(dataTable, element);\n",
              "          const docLink = document.createElement('div');\n",
              "          docLink.innerHTML = docLinkHtml;\n",
              "          element.appendChild(docLink);\n",
              "        }\n",
              "      </script>\n",
              "    </div>\n",
              "  </div>\n",
              "  "
            ]
          },
          "metadata": {},
          "execution_count": 1978
        }
      ],
      "source": [
        "df_exportacao[(df_exportacao['pais_destino'] == 'Brasil') & (df_exportacao['valor'] > 0)]"
      ]
    },
    {
      "cell_type": "markdown",
      "id": "f672fd01-81f0-4909-af30-08a988d55a36",
      "metadata": {
        "tags": [],
        "id": "f672fd01-81f0-4909-af30-08a988d55a36"
      },
      "source": [
        "***"
      ]
    },
    {
      "cell_type": "markdown",
      "source": [
        "## Análise"
      ],
      "metadata": {
        "id": "jDktKdGGRH5U"
      },
      "id": "jDktKdGGRH5U"
    },
    {
      "cell_type": "markdown",
      "source": [
        "### 1. Análise: Maiores importadores do Brasil"
      ],
      "metadata": {
        "id": "HMtDvAcUK_kw"
      },
      "id": "HMtDvAcUK_kw"
    },
    {
      "cell_type": "markdown",
      "source": [
        "#### 1.1 Com base nas exportações realizadas entre 2006 e 2021, quais são  os 5 maiores importadores de vinhos brasileiros?"
      ],
      "metadata": {
        "id": "unVVH5WZMb0M"
      },
      "id": "unVVH5WZMb0M"
    },
    {
      "cell_type": "code",
      "source": [
        "#selecionar somente o produto do tipo \"Vinho de Mesa\" exportados nos últimos 15 anos\n",
        "\n",
        "df_vinhos= df_exportacao.query(\"tipo=='Vinho de mesa'and ano>= '2006' \")\n",
        "\n",
        "display(df_vinhos)\n"
      ],
      "metadata": {
        "colab": {
          "base_uri": "https://localhost:8080/",
          "height": 0
        },
        "id": "FtJmEmWY_Kqq",
        "outputId": "5aa318bd-85ee-498f-f8fa-5021fb101974"
      },
      "id": "FtJmEmWY_Kqq",
      "execution_count": 1979,
      "outputs": [
        {
          "output_type": "display_data",
          "data": {
            "text/plain": [
              "       ano pais_origem                     pais_destino           tipo  \\\n",
              "4464  2006      Brasil                      Afeganistão  Vinho de mesa   \n",
              "4465  2006      Brasil                    África do Sul  Vinho de mesa   \n",
              "4466  2006      Brasil  Alemanha, República Democrática  Vinho de mesa   \n",
              "4467  2006      Brasil                           Angola  Vinho de mesa   \n",
              "4468  2006      Brasil                         Anguilla  Vinho de mesa   \n",
              "...    ...         ...                              ...            ...   \n",
              "6443  2021      Brasil                           Tuvalu  Vinho de mesa   \n",
              "6444  2021      Brasil                          Uruguai  Vinho de mesa   \n",
              "6445  2021      Brasil                          Vanuatu  Vinho de mesa   \n",
              "6446  2021      Brasil                        Venezuela  Vinho de mesa   \n",
              "6447  2021      Brasil                           Vietnã  Vinho de mesa   \n",
              "\n",
              "      quantidade   valor  \n",
              "4464           0       0  \n",
              "4465           0       0  \n",
              "4466       38302   89231  \n",
              "4467        3766   18293  \n",
              "4468           0       0  \n",
              "...          ...     ...  \n",
              "6443           0       0  \n",
              "6444      136774  149842  \n",
              "6445           0       0  \n",
              "6446       26415   35944  \n",
              "6447           0       0  \n",
              "\n",
              "[1984 rows x 6 columns]"
            ],
            "text/html": [
              "\n",
              "  <div id=\"df-998f60c5-7bef-4434-89a5-a552f7b76645\">\n",
              "    <div class=\"colab-df-container\">\n",
              "      <div>\n",
              "<style scoped>\n",
              "    .dataframe tbody tr th:only-of-type {\n",
              "        vertical-align: middle;\n",
              "    }\n",
              "\n",
              "    .dataframe tbody tr th {\n",
              "        vertical-align: top;\n",
              "    }\n",
              "\n",
              "    .dataframe thead th {\n",
              "        text-align: right;\n",
              "    }\n",
              "</style>\n",
              "<table border=\"1\" class=\"dataframe\">\n",
              "  <thead>\n",
              "    <tr style=\"text-align: right;\">\n",
              "      <th></th>\n",
              "      <th>ano</th>\n",
              "      <th>pais_origem</th>\n",
              "      <th>pais_destino</th>\n",
              "      <th>tipo</th>\n",
              "      <th>quantidade</th>\n",
              "      <th>valor</th>\n",
              "    </tr>\n",
              "  </thead>\n",
              "  <tbody>\n",
              "    <tr>\n",
              "      <th>4464</th>\n",
              "      <td>2006</td>\n",
              "      <td>Brasil</td>\n",
              "      <td>Afeganistão</td>\n",
              "      <td>Vinho de mesa</td>\n",
              "      <td>0</td>\n",
              "      <td>0</td>\n",
              "    </tr>\n",
              "    <tr>\n",
              "      <th>4465</th>\n",
              "      <td>2006</td>\n",
              "      <td>Brasil</td>\n",
              "      <td>África do Sul</td>\n",
              "      <td>Vinho de mesa</td>\n",
              "      <td>0</td>\n",
              "      <td>0</td>\n",
              "    </tr>\n",
              "    <tr>\n",
              "      <th>4466</th>\n",
              "      <td>2006</td>\n",
              "      <td>Brasil</td>\n",
              "      <td>Alemanha, República Democrática</td>\n",
              "      <td>Vinho de mesa</td>\n",
              "      <td>38302</td>\n",
              "      <td>89231</td>\n",
              "    </tr>\n",
              "    <tr>\n",
              "      <th>4467</th>\n",
              "      <td>2006</td>\n",
              "      <td>Brasil</td>\n",
              "      <td>Angola</td>\n",
              "      <td>Vinho de mesa</td>\n",
              "      <td>3766</td>\n",
              "      <td>18293</td>\n",
              "    </tr>\n",
              "    <tr>\n",
              "      <th>4468</th>\n",
              "      <td>2006</td>\n",
              "      <td>Brasil</td>\n",
              "      <td>Anguilla</td>\n",
              "      <td>Vinho de mesa</td>\n",
              "      <td>0</td>\n",
              "      <td>0</td>\n",
              "    </tr>\n",
              "    <tr>\n",
              "      <th>...</th>\n",
              "      <td>...</td>\n",
              "      <td>...</td>\n",
              "      <td>...</td>\n",
              "      <td>...</td>\n",
              "      <td>...</td>\n",
              "      <td>...</td>\n",
              "    </tr>\n",
              "    <tr>\n",
              "      <th>6443</th>\n",
              "      <td>2021</td>\n",
              "      <td>Brasil</td>\n",
              "      <td>Tuvalu</td>\n",
              "      <td>Vinho de mesa</td>\n",
              "      <td>0</td>\n",
              "      <td>0</td>\n",
              "    </tr>\n",
              "    <tr>\n",
              "      <th>6444</th>\n",
              "      <td>2021</td>\n",
              "      <td>Brasil</td>\n",
              "      <td>Uruguai</td>\n",
              "      <td>Vinho de mesa</td>\n",
              "      <td>136774</td>\n",
              "      <td>149842</td>\n",
              "    </tr>\n",
              "    <tr>\n",
              "      <th>6445</th>\n",
              "      <td>2021</td>\n",
              "      <td>Brasil</td>\n",
              "      <td>Vanuatu</td>\n",
              "      <td>Vinho de mesa</td>\n",
              "      <td>0</td>\n",
              "      <td>0</td>\n",
              "    </tr>\n",
              "    <tr>\n",
              "      <th>6446</th>\n",
              "      <td>2021</td>\n",
              "      <td>Brasil</td>\n",
              "      <td>Venezuela</td>\n",
              "      <td>Vinho de mesa</td>\n",
              "      <td>26415</td>\n",
              "      <td>35944</td>\n",
              "    </tr>\n",
              "    <tr>\n",
              "      <th>6447</th>\n",
              "      <td>2021</td>\n",
              "      <td>Brasil</td>\n",
              "      <td>Vietnã</td>\n",
              "      <td>Vinho de mesa</td>\n",
              "      <td>0</td>\n",
              "      <td>0</td>\n",
              "    </tr>\n",
              "  </tbody>\n",
              "</table>\n",
              "<p>1984 rows × 6 columns</p>\n",
              "</div>\n",
              "      <button class=\"colab-df-convert\" onclick=\"convertToInteractive('df-998f60c5-7bef-4434-89a5-a552f7b76645')\"\n",
              "              title=\"Convert this dataframe to an interactive table.\"\n",
              "              style=\"display:none;\">\n",
              "        \n",
              "  <svg xmlns=\"http://www.w3.org/2000/svg\" height=\"24px\"viewBox=\"0 0 24 24\"\n",
              "       width=\"24px\">\n",
              "    <path d=\"M0 0h24v24H0V0z\" fill=\"none\"/>\n",
              "    <path d=\"M18.56 5.44l.94 2.06.94-2.06 2.06-.94-2.06-.94-.94-2.06-.94 2.06-2.06.94zm-11 1L8.5 8.5l.94-2.06 2.06-.94-2.06-.94L8.5 2.5l-.94 2.06-2.06.94zm10 10l.94 2.06.94-2.06 2.06-.94-2.06-.94-.94-2.06-.94 2.06-2.06.94z\"/><path d=\"M17.41 7.96l-1.37-1.37c-.4-.4-.92-.59-1.43-.59-.52 0-1.04.2-1.43.59L10.3 9.45l-7.72 7.72c-.78.78-.78 2.05 0 2.83L4 21.41c.39.39.9.59 1.41.59.51 0 1.02-.2 1.41-.59l7.78-7.78 2.81-2.81c.8-.78.8-2.07 0-2.86zM5.41 20L4 18.59l7.72-7.72 1.47 1.35L5.41 20z\"/>\n",
              "  </svg>\n",
              "      </button>\n",
              "      \n",
              "  <style>\n",
              "    .colab-df-container {\n",
              "      display:flex;\n",
              "      flex-wrap:wrap;\n",
              "      gap: 12px;\n",
              "    }\n",
              "\n",
              "    .colab-df-convert {\n",
              "      background-color: #E8F0FE;\n",
              "      border: none;\n",
              "      border-radius: 50%;\n",
              "      cursor: pointer;\n",
              "      display: none;\n",
              "      fill: #1967D2;\n",
              "      height: 32px;\n",
              "      padding: 0 0 0 0;\n",
              "      width: 32px;\n",
              "    }\n",
              "\n",
              "    .colab-df-convert:hover {\n",
              "      background-color: #E2EBFA;\n",
              "      box-shadow: 0px 1px 2px rgba(60, 64, 67, 0.3), 0px 1px 3px 1px rgba(60, 64, 67, 0.15);\n",
              "      fill: #174EA6;\n",
              "    }\n",
              "\n",
              "    [theme=dark] .colab-df-convert {\n",
              "      background-color: #3B4455;\n",
              "      fill: #D2E3FC;\n",
              "    }\n",
              "\n",
              "    [theme=dark] .colab-df-convert:hover {\n",
              "      background-color: #434B5C;\n",
              "      box-shadow: 0px 1px 3px 1px rgba(0, 0, 0, 0.15);\n",
              "      filter: drop-shadow(0px 1px 2px rgba(0, 0, 0, 0.3));\n",
              "      fill: #FFFFFF;\n",
              "    }\n",
              "  </style>\n",
              "\n",
              "      <script>\n",
              "        const buttonEl =\n",
              "          document.querySelector('#df-998f60c5-7bef-4434-89a5-a552f7b76645 button.colab-df-convert');\n",
              "        buttonEl.style.display =\n",
              "          google.colab.kernel.accessAllowed ? 'block' : 'none';\n",
              "\n",
              "        async function convertToInteractive(key) {\n",
              "          const element = document.querySelector('#df-998f60c5-7bef-4434-89a5-a552f7b76645');\n",
              "          const dataTable =\n",
              "            await google.colab.kernel.invokeFunction('convertToInteractive',\n",
              "                                                     [key], {});\n",
              "          if (!dataTable) return;\n",
              "\n",
              "          const docLinkHtml = 'Like what you see? Visit the ' +\n",
              "            '<a target=\"_blank\" href=https://colab.research.google.com/notebooks/data_table.ipynb>data table notebook</a>'\n",
              "            + ' to learn more about interactive tables.';\n",
              "          element.innerHTML = '';\n",
              "          dataTable['output_type'] = 'display_data';\n",
              "          await google.colab.output.renderOutput(dataTable, element);\n",
              "          const docLink = document.createElement('div');\n",
              "          docLink.innerHTML = docLinkHtml;\n",
              "          element.appendChild(docLink);\n",
              "        }\n",
              "      </script>\n",
              "    </div>\n",
              "  </div>\n",
              "  "
            ]
          },
          "metadata": {}
        }
      ]
    },
    {
      "cell_type": "code",
      "source": [
        "# Somar a quantidade de vinhos vendidos para cada país nos últimos 15 anos\n",
        "\n",
        "pd_qtd_exp= df_vinhos.groupby('pais_destino')['quantidade'].sum()\n",
        "\n",
        "\n",
        "display(pd_qtd_exp)"
      ],
      "metadata": {
        "colab": {
          "base_uri": "https://localhost:8080/",
          "height": 0
        },
        "id": "TKMLC1HGCzn_",
        "outputId": "aadcf903-bcd9-474f-c42e-fc4e66c5ab62"
      },
      "id": "TKMLC1HGCzn_",
      "execution_count": 1980,
      "outputs": [
        {
          "output_type": "display_data",
          "data": {
            "text/plain": [
              "pais_destino\n",
              "Afeganistão                             11\n",
              "Alemanha, República Democrática    1059235\n",
              "Angola                              194497\n",
              "Anguilla                                 0\n",
              "Antilhas Holandesas                 133143\n",
              "                                    ...   \n",
              "Vanuatu                                 18\n",
              "Venezuela                            52995\n",
              "Vietnã                               11682\n",
              "África do Sul                           30\n",
              "Áustria                                675\n",
              "Name: quantidade, Length: 124, dtype: int64"
            ]
          },
          "metadata": {}
        }
      ]
    },
    {
      "cell_type": "code",
      "source": [
        "#Armazenar série em um dataframe\n",
        "df_qtd_exp = pd_qtd_exp.to_frame()\n",
        "\n",
        "display(df_qtd_exp)\n"
      ],
      "metadata": {
        "colab": {
          "base_uri": "https://localhost:8080/",
          "height": 0
        },
        "id": "YP1mYuOcKWIt",
        "outputId": "af60b9d5-dad3-4e4a-d642-095b25f4d8b2"
      },
      "id": "YP1mYuOcKWIt",
      "execution_count": 1981,
      "outputs": [
        {
          "output_type": "display_data",
          "data": {
            "text/plain": [
              "                                 quantidade\n",
              "pais_destino                               \n",
              "Afeganistão                              11\n",
              "Alemanha, República Democrática     1059235\n",
              "Angola                               194497\n",
              "Anguilla                                  0\n",
              "Antilhas Holandesas                  133143\n",
              "...                                     ...\n",
              "Vanuatu                                  18\n",
              "Venezuela                             52995\n",
              "Vietnã                                11682\n",
              "África do Sul                            30\n",
              "Áustria                                 675\n",
              "\n",
              "[124 rows x 1 columns]"
            ],
            "text/html": [
              "\n",
              "  <div id=\"df-141d832a-82d1-4824-9ac8-a3f748c7b790\">\n",
              "    <div class=\"colab-df-container\">\n",
              "      <div>\n",
              "<style scoped>\n",
              "    .dataframe tbody tr th:only-of-type {\n",
              "        vertical-align: middle;\n",
              "    }\n",
              "\n",
              "    .dataframe tbody tr th {\n",
              "        vertical-align: top;\n",
              "    }\n",
              "\n",
              "    .dataframe thead th {\n",
              "        text-align: right;\n",
              "    }\n",
              "</style>\n",
              "<table border=\"1\" class=\"dataframe\">\n",
              "  <thead>\n",
              "    <tr style=\"text-align: right;\">\n",
              "      <th></th>\n",
              "      <th>quantidade</th>\n",
              "    </tr>\n",
              "    <tr>\n",
              "      <th>pais_destino</th>\n",
              "      <th></th>\n",
              "    </tr>\n",
              "  </thead>\n",
              "  <tbody>\n",
              "    <tr>\n",
              "      <th>Afeganistão</th>\n",
              "      <td>11</td>\n",
              "    </tr>\n",
              "    <tr>\n",
              "      <th>Alemanha, República Democrática</th>\n",
              "      <td>1059235</td>\n",
              "    </tr>\n",
              "    <tr>\n",
              "      <th>Angola</th>\n",
              "      <td>194497</td>\n",
              "    </tr>\n",
              "    <tr>\n",
              "      <th>Anguilla</th>\n",
              "      <td>0</td>\n",
              "    </tr>\n",
              "    <tr>\n",
              "      <th>Antilhas Holandesas</th>\n",
              "      <td>133143</td>\n",
              "    </tr>\n",
              "    <tr>\n",
              "      <th>...</th>\n",
              "      <td>...</td>\n",
              "    </tr>\n",
              "    <tr>\n",
              "      <th>Vanuatu</th>\n",
              "      <td>18</td>\n",
              "    </tr>\n",
              "    <tr>\n",
              "      <th>Venezuela</th>\n",
              "      <td>52995</td>\n",
              "    </tr>\n",
              "    <tr>\n",
              "      <th>Vietnã</th>\n",
              "      <td>11682</td>\n",
              "    </tr>\n",
              "    <tr>\n",
              "      <th>África do Sul</th>\n",
              "      <td>30</td>\n",
              "    </tr>\n",
              "    <tr>\n",
              "      <th>Áustria</th>\n",
              "      <td>675</td>\n",
              "    </tr>\n",
              "  </tbody>\n",
              "</table>\n",
              "<p>124 rows × 1 columns</p>\n",
              "</div>\n",
              "      <button class=\"colab-df-convert\" onclick=\"convertToInteractive('df-141d832a-82d1-4824-9ac8-a3f748c7b790')\"\n",
              "              title=\"Convert this dataframe to an interactive table.\"\n",
              "              style=\"display:none;\">\n",
              "        \n",
              "  <svg xmlns=\"http://www.w3.org/2000/svg\" height=\"24px\"viewBox=\"0 0 24 24\"\n",
              "       width=\"24px\">\n",
              "    <path d=\"M0 0h24v24H0V0z\" fill=\"none\"/>\n",
              "    <path d=\"M18.56 5.44l.94 2.06.94-2.06 2.06-.94-2.06-.94-.94-2.06-.94 2.06-2.06.94zm-11 1L8.5 8.5l.94-2.06 2.06-.94-2.06-.94L8.5 2.5l-.94 2.06-2.06.94zm10 10l.94 2.06.94-2.06 2.06-.94-2.06-.94-.94-2.06-.94 2.06-2.06.94z\"/><path d=\"M17.41 7.96l-1.37-1.37c-.4-.4-.92-.59-1.43-.59-.52 0-1.04.2-1.43.59L10.3 9.45l-7.72 7.72c-.78.78-.78 2.05 0 2.83L4 21.41c.39.39.9.59 1.41.59.51 0 1.02-.2 1.41-.59l7.78-7.78 2.81-2.81c.8-.78.8-2.07 0-2.86zM5.41 20L4 18.59l7.72-7.72 1.47 1.35L5.41 20z\"/>\n",
              "  </svg>\n",
              "      </button>\n",
              "      \n",
              "  <style>\n",
              "    .colab-df-container {\n",
              "      display:flex;\n",
              "      flex-wrap:wrap;\n",
              "      gap: 12px;\n",
              "    }\n",
              "\n",
              "    .colab-df-convert {\n",
              "      background-color: #E8F0FE;\n",
              "      border: none;\n",
              "      border-radius: 50%;\n",
              "      cursor: pointer;\n",
              "      display: none;\n",
              "      fill: #1967D2;\n",
              "      height: 32px;\n",
              "      padding: 0 0 0 0;\n",
              "      width: 32px;\n",
              "    }\n",
              "\n",
              "    .colab-df-convert:hover {\n",
              "      background-color: #E2EBFA;\n",
              "      box-shadow: 0px 1px 2px rgba(60, 64, 67, 0.3), 0px 1px 3px 1px rgba(60, 64, 67, 0.15);\n",
              "      fill: #174EA6;\n",
              "    }\n",
              "\n",
              "    [theme=dark] .colab-df-convert {\n",
              "      background-color: #3B4455;\n",
              "      fill: #D2E3FC;\n",
              "    }\n",
              "\n",
              "    [theme=dark] .colab-df-convert:hover {\n",
              "      background-color: #434B5C;\n",
              "      box-shadow: 0px 1px 3px 1px rgba(0, 0, 0, 0.15);\n",
              "      filter: drop-shadow(0px 1px 2px rgba(0, 0, 0, 0.3));\n",
              "      fill: #FFFFFF;\n",
              "    }\n",
              "  </style>\n",
              "\n",
              "      <script>\n",
              "        const buttonEl =\n",
              "          document.querySelector('#df-141d832a-82d1-4824-9ac8-a3f748c7b790 button.colab-df-convert');\n",
              "        buttonEl.style.display =\n",
              "          google.colab.kernel.accessAllowed ? 'block' : 'none';\n",
              "\n",
              "        async function convertToInteractive(key) {\n",
              "          const element = document.querySelector('#df-141d832a-82d1-4824-9ac8-a3f748c7b790');\n",
              "          const dataTable =\n",
              "            await google.colab.kernel.invokeFunction('convertToInteractive',\n",
              "                                                     [key], {});\n",
              "          if (!dataTable) return;\n",
              "\n",
              "          const docLinkHtml = 'Like what you see? Visit the ' +\n",
              "            '<a target=\"_blank\" href=https://colab.research.google.com/notebooks/data_table.ipynb>data table notebook</a>'\n",
              "            + ' to learn more about interactive tables.';\n",
              "          element.innerHTML = '';\n",
              "          dataTable['output_type'] = 'display_data';\n",
              "          await google.colab.output.renderOutput(dataTable, element);\n",
              "          const docLink = document.createElement('div');\n",
              "          docLink.innerHTML = docLinkHtml;\n",
              "          element.appendChild(docLink);\n",
              "        }\n",
              "      </script>\n",
              "    </div>\n",
              "  </div>\n",
              "  "
            ]
          },
          "metadata": {}
        }
      ]
    },
    {
      "cell_type": "code",
      "source": [
        "# Ordenar pela quantidade vendida\n",
        "\n",
        "df_qtd_exp= df_qtd_exp.sort_values(by='quantidade',ascending=False,)\n",
        "\n",
        "\n",
        "print(df_qtd_exp)"
      ],
      "metadata": {
        "colab": {
          "base_uri": "https://localhost:8080/"
        },
        "id": "wicQ3QALBo2D",
        "outputId": "5de807f7-cc6d-4f58-b7a4-c74775939e96"
      },
      "id": "wicQ3QALBo2D",
      "execution_count": 1982,
      "outputs": [
        {
          "output_type": "stream",
          "name": "stdout",
          "text": [
            "                 quantidade\n",
            "pais_destino               \n",
            "Rússia             39564353\n",
            "Paraguai           27370665\n",
            "Estados Unidos      4214841\n",
            "China               2411701\n",
            "Espanha             1993000\n",
            "...                     ...\n",
            "Senegal                   0\n",
            "Jamaica                   0\n",
            "Anguilla                  0\n",
            "Costa do Marfim           0\n",
            "Tunísia                   0\n",
            "\n",
            "[124 rows x 1 columns]\n"
          ]
        }
      ]
    },
    {
      "cell_type": "code",
      "source": [
        "#Armazenar somente os 5 maiores importadores de vinho\n",
        "\n",
        "df_qtd_exp= df_qtd_exp.head().reset_index()\n",
        "\n",
        "display(df_qtd_exp)\n"
      ],
      "metadata": {
        "colab": {
          "base_uri": "https://localhost:8080/",
          "height": 0
        },
        "id": "O35BuTFtHTcg",
        "outputId": "aaa388e3-0583-4825-ae50-c8f0b67192cf"
      },
      "id": "O35BuTFtHTcg",
      "execution_count": 1983,
      "outputs": [
        {
          "output_type": "display_data",
          "data": {
            "text/plain": [
              "     pais_destino  quantidade\n",
              "0          Rússia    39564353\n",
              "1        Paraguai    27370665\n",
              "2  Estados Unidos     4214841\n",
              "3           China     2411701\n",
              "4         Espanha     1993000"
            ],
            "text/html": [
              "\n",
              "  <div id=\"df-af82afab-9f2f-44c3-ab38-bd3f8d881869\">\n",
              "    <div class=\"colab-df-container\">\n",
              "      <div>\n",
              "<style scoped>\n",
              "    .dataframe tbody tr th:only-of-type {\n",
              "        vertical-align: middle;\n",
              "    }\n",
              "\n",
              "    .dataframe tbody tr th {\n",
              "        vertical-align: top;\n",
              "    }\n",
              "\n",
              "    .dataframe thead th {\n",
              "        text-align: right;\n",
              "    }\n",
              "</style>\n",
              "<table border=\"1\" class=\"dataframe\">\n",
              "  <thead>\n",
              "    <tr style=\"text-align: right;\">\n",
              "      <th></th>\n",
              "      <th>pais_destino</th>\n",
              "      <th>quantidade</th>\n",
              "    </tr>\n",
              "  </thead>\n",
              "  <tbody>\n",
              "    <tr>\n",
              "      <th>0</th>\n",
              "      <td>Rússia</td>\n",
              "      <td>39564353</td>\n",
              "    </tr>\n",
              "    <tr>\n",
              "      <th>1</th>\n",
              "      <td>Paraguai</td>\n",
              "      <td>27370665</td>\n",
              "    </tr>\n",
              "    <tr>\n",
              "      <th>2</th>\n",
              "      <td>Estados Unidos</td>\n",
              "      <td>4214841</td>\n",
              "    </tr>\n",
              "    <tr>\n",
              "      <th>3</th>\n",
              "      <td>China</td>\n",
              "      <td>2411701</td>\n",
              "    </tr>\n",
              "    <tr>\n",
              "      <th>4</th>\n",
              "      <td>Espanha</td>\n",
              "      <td>1993000</td>\n",
              "    </tr>\n",
              "  </tbody>\n",
              "</table>\n",
              "</div>\n",
              "      <button class=\"colab-df-convert\" onclick=\"convertToInteractive('df-af82afab-9f2f-44c3-ab38-bd3f8d881869')\"\n",
              "              title=\"Convert this dataframe to an interactive table.\"\n",
              "              style=\"display:none;\">\n",
              "        \n",
              "  <svg xmlns=\"http://www.w3.org/2000/svg\" height=\"24px\"viewBox=\"0 0 24 24\"\n",
              "       width=\"24px\">\n",
              "    <path d=\"M0 0h24v24H0V0z\" fill=\"none\"/>\n",
              "    <path d=\"M18.56 5.44l.94 2.06.94-2.06 2.06-.94-2.06-.94-.94-2.06-.94 2.06-2.06.94zm-11 1L8.5 8.5l.94-2.06 2.06-.94-2.06-.94L8.5 2.5l-.94 2.06-2.06.94zm10 10l.94 2.06.94-2.06 2.06-.94-2.06-.94-.94-2.06-.94 2.06-2.06.94z\"/><path d=\"M17.41 7.96l-1.37-1.37c-.4-.4-.92-.59-1.43-.59-.52 0-1.04.2-1.43.59L10.3 9.45l-7.72 7.72c-.78.78-.78 2.05 0 2.83L4 21.41c.39.39.9.59 1.41.59.51 0 1.02-.2 1.41-.59l7.78-7.78 2.81-2.81c.8-.78.8-2.07 0-2.86zM5.41 20L4 18.59l7.72-7.72 1.47 1.35L5.41 20z\"/>\n",
              "  </svg>\n",
              "      </button>\n",
              "      \n",
              "  <style>\n",
              "    .colab-df-container {\n",
              "      display:flex;\n",
              "      flex-wrap:wrap;\n",
              "      gap: 12px;\n",
              "    }\n",
              "\n",
              "    .colab-df-convert {\n",
              "      background-color: #E8F0FE;\n",
              "      border: none;\n",
              "      border-radius: 50%;\n",
              "      cursor: pointer;\n",
              "      display: none;\n",
              "      fill: #1967D2;\n",
              "      height: 32px;\n",
              "      padding: 0 0 0 0;\n",
              "      width: 32px;\n",
              "    }\n",
              "\n",
              "    .colab-df-convert:hover {\n",
              "      background-color: #E2EBFA;\n",
              "      box-shadow: 0px 1px 2px rgba(60, 64, 67, 0.3), 0px 1px 3px 1px rgba(60, 64, 67, 0.15);\n",
              "      fill: #174EA6;\n",
              "    }\n",
              "\n",
              "    [theme=dark] .colab-df-convert {\n",
              "      background-color: #3B4455;\n",
              "      fill: #D2E3FC;\n",
              "    }\n",
              "\n",
              "    [theme=dark] .colab-df-convert:hover {\n",
              "      background-color: #434B5C;\n",
              "      box-shadow: 0px 1px 3px 1px rgba(0, 0, 0, 0.15);\n",
              "      filter: drop-shadow(0px 1px 2px rgba(0, 0, 0, 0.3));\n",
              "      fill: #FFFFFF;\n",
              "    }\n",
              "  </style>\n",
              "\n",
              "      <script>\n",
              "        const buttonEl =\n",
              "          document.querySelector('#df-af82afab-9f2f-44c3-ab38-bd3f8d881869 button.colab-df-convert');\n",
              "        buttonEl.style.display =\n",
              "          google.colab.kernel.accessAllowed ? 'block' : 'none';\n",
              "\n",
              "        async function convertToInteractive(key) {\n",
              "          const element = document.querySelector('#df-af82afab-9f2f-44c3-ab38-bd3f8d881869');\n",
              "          const dataTable =\n",
              "            await google.colab.kernel.invokeFunction('convertToInteractive',\n",
              "                                                     [key], {});\n",
              "          if (!dataTable) return;\n",
              "\n",
              "          const docLinkHtml = 'Like what you see? Visit the ' +\n",
              "            '<a target=\"_blank\" href=https://colab.research.google.com/notebooks/data_table.ipynb>data table notebook</a>'\n",
              "            + ' to learn more about interactive tables.';\n",
              "          element.innerHTML = '';\n",
              "          dataTable['output_type'] = 'display_data';\n",
              "          await google.colab.output.renderOutput(dataTable, element);\n",
              "          const docLink = document.createElement('div');\n",
              "          docLink.innerHTML = docLinkHtml;\n",
              "          element.appendChild(docLink);\n",
              "        }\n",
              "      </script>\n",
              "    </div>\n",
              "  </div>\n",
              "  "
            ]
          },
          "metadata": {}
        }
      ]
    },
    {
      "cell_type": "code",
      "source": [
        "#  Plotar grafico: Maiores importadores de vinhos brasileiros\n",
        "\n",
        "import matplotlib.pyplot as plt\n",
        "import seaborn as sns\n",
        "fig, ax = plt.subplots(figsize = ( 6,6 ))\n",
        "sns.barplot(data = df_qtd_exp, x=\"pais_destino\", y=\"quantidade\")\n",
        "ax.set_xlabel(\"Paises\", fontsize = 10)\n",
        "ax.set_ylabel(\"Quantidade de vinhos exportados\", fontsize = 10)\n",
        "ax.set_title( \"Gráfico: Maiores importadores de vinho de mesa brasileiro\" , size = 12 )\n",
        "\n"
      ],
      "metadata": {
        "colab": {
          "base_uri": "https://localhost:8080/",
          "height": 0
        },
        "id": "i3ooEgdzLh_i",
        "outputId": "fe00eec6-2741-4bb3-e1cf-07c7bd5f68e5"
      },
      "id": "i3ooEgdzLh_i",
      "execution_count": 1984,
      "outputs": [
        {
          "output_type": "execute_result",
          "data": {
            "text/plain": [
              "Text(0.5, 1.0, 'Gráfico: Maiores importadores de vinho de mesa brasileiro')"
            ]
          },
          "metadata": {},
          "execution_count": 1984
        },
        {
          "output_type": "display_data",
          "data": {
            "text/plain": [
              "<Figure size 600x600 with 1 Axes>"
            ],
            "image/png": "[encoded data removed]"
          },
          "metadata": {}
        }
      ]
    },
    {
      "cell_type": "markdown",
      "source": [
        "###1.2. Com base nas exportações realizadas entre 2006 e 2021, quais são  os 5 maiores importadores de espumantes brasileiros?"
      ],
      "metadata": {
        "id": "_ufXmGRQicyF"
      },
      "id": "_ufXmGRQicyF"
    },
    {
      "cell_type": "code",
      "source": [
        "#selecionar somente o produto do tipo \"Espumante\" dos últimos 15 anos\n",
        "\n",
        "df_espulmantes= df_exportacao.query(\"tipo=='Espumante'and ano>= '2006' \")\n",
        "\n",
        "display(df_espulmantes)\n"
      ],
      "metadata": {
        "colab": {
          "base_uri": "https://localhost:8080/",
          "height": 0
        },
        "id": "hM7UT8mRiaEu",
        "outputId": "5cb02f38-809c-4825-80f9-60a7e9e2ad00"
      },
      "id": "hM7UT8mRiaEu",
      "execution_count": 1985,
      "outputs": [
        {
          "output_type": "display_data",
          "data": {
            "text/plain": [
              "       ano pais_origem         pais_destino       tipo  quantidade  valor\n",
              "3492  2006      Brasil             Alemanha  Espumante         153    928\n",
              "3493  2006      Brasil               Angola  Espumante        3314   6657\n",
              "3494  2006      Brasil    Antigua e Barbuda  Espumante           0      0\n",
              "3495  2006      Brasil  Antilhas Holandesas  Espumante           0      0\n",
              "3496  2006      Brasil            Argentina  Espumante           0      0\n",
              "...    ...         ...                  ...        ...         ...    ...\n",
              "5039  2021      Brasil              Uruguai  Espumante           0      0\n",
              "5040  2021      Brasil              Vanuatu  Espumante           0      0\n",
              "5041  2021      Brasil            Venezuela  Espumante           0      0\n",
              "5042  2021      Brasil               Vietnã  Espumante         144    374\n",
              "5043  2021      Brasil            Outros(1)  Espumante           0      0\n",
              "\n",
              "[1552 rows x 6 columns]"
            ],
            "text/html": [
              "\n",
              "  <div id=\"df-b796dd0e-3fb0-4d9c-8b94-a77b1219328f\">\n",
              "    <div class=\"colab-df-container\">\n",
              "      <div>\n",
              "<style scoped>\n",
              "    .dataframe tbody tr th:only-of-type {\n",
              "        vertical-align: middle;\n",
              "    }\n",
              "\n",
              "    .dataframe tbody tr th {\n",
              "        vertical-align: top;\n",
              "    }\n",
              "\n",
              "    .dataframe thead th {\n",
              "        text-align: right;\n",
              "    }\n",
              "</style>\n",
              "<table border=\"1\" class=\"dataframe\">\n",
              "  <thead>\n",
              "    <tr style=\"text-align: right;\">\n",
              "      <th></th>\n",
              "      <th>ano</th>\n",
              "      <th>pais_origem</th>\n",
              "      <th>pais_destino</th>\n",
              "      <th>tipo</th>\n",
              "      <th>quantidade</th>\n",
              "      <th>valor</th>\n",
              "    </tr>\n",
              "  </thead>\n",
              "  <tbody>\n",
              "    <tr>\n",
              "      <th>3492</th>\n",
              "      <td>2006</td>\n",
              "      <td>Brasil</td>\n",
              "      <td>Alemanha</td>\n",
              "      <td>Espumante</td>\n",
              "      <td>153</td>\n",
              "      <td>928</td>\n",
              "    </tr>\n",
              "    <tr>\n",
              "      <th>3493</th>\n",
              "      <td>2006</td>\n",
              "      <td>Brasil</td>\n",
              "      <td>Angola</td>\n",
              "      <td>Espumante</td>\n",
              "      <td>3314</td>\n",
              "      <td>6657</td>\n",
              "    </tr>\n",
              "    <tr>\n",
              "      <th>3494</th>\n",
              "      <td>2006</td>\n",
              "      <td>Brasil</td>\n",
              "      <td>Antigua e Barbuda</td>\n",
              "      <td>Espumante</td>\n",
              "      <td>0</td>\n",
              "      <td>0</td>\n",
              "    </tr>\n",
              "    <tr>\n",
              "      <th>3495</th>\n",
              "      <td>2006</td>\n",
              "      <td>Brasil</td>\n",
              "      <td>Antilhas Holandesas</td>\n",
              "      <td>Espumante</td>\n",
              "      <td>0</td>\n",
              "      <td>0</td>\n",
              "    </tr>\n",
              "    <tr>\n",
              "      <th>3496</th>\n",
              "      <td>2006</td>\n",
              "      <td>Brasil</td>\n",
              "      <td>Argentina</td>\n",
              "      <td>Espumante</td>\n",
              "      <td>0</td>\n",
              "      <td>0</td>\n",
              "    </tr>\n",
              "    <tr>\n",
              "      <th>...</th>\n",
              "      <td>...</td>\n",
              "      <td>...</td>\n",
              "      <td>...</td>\n",
              "      <td>...</td>\n",
              "      <td>...</td>\n",
              "      <td>...</td>\n",
              "    </tr>\n",
              "    <tr>\n",
              "      <th>5039</th>\n",
              "      <td>2021</td>\n",
              "      <td>Brasil</td>\n",
              "      <td>Uruguai</td>\n",
              "      <td>Espumante</td>\n",
              "      <td>0</td>\n",
              "      <td>0</td>\n",
              "    </tr>\n",
              "    <tr>\n",
              "      <th>5040</th>\n",
              "      <td>2021</td>\n",
              "      <td>Brasil</td>\n",
              "      <td>Vanuatu</td>\n",
              "      <td>Espumante</td>\n",
              "      <td>0</td>\n",
              "      <td>0</td>\n",
              "    </tr>\n",
              "    <tr>\n",
              "      <th>5041</th>\n",
              "      <td>2021</td>\n",
              "      <td>Brasil</td>\n",
              "      <td>Venezuela</td>\n",
              "      <td>Espumante</td>\n",
              "      <td>0</td>\n",
              "      <td>0</td>\n",
              "    </tr>\n",
              "    <tr>\n",
              "      <th>5042</th>\n",
              "      <td>2021</td>\n",
              "      <td>Brasil</td>\n",
              "      <td>Vietnã</td>\n",
              "      <td>Espumante</td>\n",
              "      <td>144</td>\n",
              "      <td>374</td>\n",
              "    </tr>\n",
              "    <tr>\n",
              "      <th>5043</th>\n",
              "      <td>2021</td>\n",
              "      <td>Brasil</td>\n",
              "      <td>Outros(1)</td>\n",
              "      <td>Espumante</td>\n",
              "      <td>0</td>\n",
              "      <td>0</td>\n",
              "    </tr>\n",
              "  </tbody>\n",
              "</table>\n",
              "<p>1552 rows × 6 columns</p>\n",
              "</div>\n",
              "      <button class=\"colab-df-convert\" onclick=\"convertToInteractive('df-b796dd0e-3fb0-4d9c-8b94-a77b1219328f')\"\n",
              "              title=\"Convert this dataframe to an interactive table.\"\n",
              "              style=\"display:none;\">\n",
              "        \n",
              "  <svg xmlns=\"http://www.w3.org/2000/svg\" height=\"24px\"viewBox=\"0 0 24 24\"\n",
              "       width=\"24px\">\n",
              "    <path d=\"M0 0h24v24H0V0z\" fill=\"none\"/>\n",
              "    <path d=\"M18.56 5.44l.94 2.06.94-2.06 2.06-.94-2.06-.94-.94-2.06-.94 2.06-2.06.94zm-11 1L8.5 8.5l.94-2.06 2.06-.94-2.06-.94L8.5 2.5l-.94 2.06-2.06.94zm10 10l.94 2.06.94-2.06 2.06-.94-2.06-.94-.94-2.06-.94 2.06-2.06.94z\"/><path d=\"M17.41 7.96l-1.37-1.37c-.4-.4-.92-.59-1.43-.59-.52 0-1.04.2-1.43.59L10.3 9.45l-7.72 7.72c-.78.78-.78 2.05 0 2.83L4 21.41c.39.39.9.59 1.41.59.51 0 1.02-.2 1.41-.59l7.78-7.78 2.81-2.81c.8-.78.8-2.07 0-2.86zM5.41 20L4 18.59l7.72-7.72 1.47 1.35L5.41 20z\"/>\n",
              "  </svg>\n",
              "      </button>\n",
              "      \n",
              "  <style>\n",
              "    .colab-df-container {\n",
              "      display:flex;\n",
              "      flex-wrap:wrap;\n",
              "      gap: 12px;\n",
              "    }\n",
              "\n",
              "    .colab-df-convert {\n",
              "      background-color: #E8F0FE;\n",
              "      border: none;\n",
              "      border-radius: 50%;\n",
              "      cursor: pointer;\n",
              "      display: none;\n",
              "      fill: #1967D2;\n",
              "      height: 32px;\n",
              "      padding: 0 0 0 0;\n",
              "      width: 32px;\n",
              "    }\n",
              "\n",
              "    .colab-df-convert:hover {\n",
              "      background-color: #E2EBFA;\n",
              "      box-shadow: 0px 1px 2px rgba(60, 64, 67, 0.3), 0px 1px 3px 1px rgba(60, 64, 67, 0.15);\n",
              "      fill: #174EA6;\n",
              "    }\n",
              "\n",
              "    [theme=dark] .colab-df-convert {\n",
              "      background-color: #3B4455;\n",
              "      fill: #D2E3FC;\n",
              "    }\n",
              "\n",
              "    [theme=dark] .colab-df-convert:hover {\n",
              "      background-color: #434B5C;\n",
              "      box-shadow: 0px 1px 3px 1px rgba(0, 0, 0, 0.15);\n",
              "      filter: drop-shadow(0px 1px 2px rgba(0, 0, 0, 0.3));\n",
              "      fill: #FFFFFF;\n",
              "    }\n",
              "  </style>\n",
              "\n",
              "      <script>\n",
              "        const buttonEl =\n",
              "          document.querySelector('#df-b796dd0e-3fb0-4d9c-8b94-a77b1219328f button.colab-df-convert');\n",
              "        buttonEl.style.display =\n",
              "          google.colab.kernel.accessAllowed ? 'block' : 'none';\n",
              "\n",
              "        async function convertToInteractive(key) {\n",
              "          const element = document.querySelector('#df-b796dd0e-3fb0-4d9c-8b94-a77b1219328f');\n",
              "          const dataTable =\n",
              "            await google.colab.kernel.invokeFunction('convertToInteractive',\n",
              "                                                     [key], {});\n",
              "          if (!dataTable) return;\n",
              "\n",
              "          const docLinkHtml = 'Like what you see? Visit the ' +\n",
              "            '<a target=\"_blank\" href=https://colab.research.google.com/notebooks/data_table.ipynb>data table notebook</a>'\n",
              "            + ' to learn more about interactive tables.';\n",
              "          element.innerHTML = '';\n",
              "          dataTable['output_type'] = 'display_data';\n",
              "          await google.colab.output.renderOutput(dataTable, element);\n",
              "          const docLink = document.createElement('div');\n",
              "          docLink.innerHTML = docLinkHtml;\n",
              "          element.appendChild(docLink);\n",
              "        }\n",
              "      </script>\n",
              "    </div>\n",
              "  </div>\n",
              "  "
            ]
          },
          "metadata": {}
        }
      ]
    },
    {
      "cell_type": "code",
      "source": [
        "# Somar a quantidade de vinhos vendidos para cada pais nos últimos 15 anos\n",
        "\n",
        "espumante_qtd_exp= df_espulmantes.groupby('pais_destino')['quantidade'].sum()\n",
        "\n",
        "\n",
        "display(espumante_qtd_exp)"
      ],
      "metadata": {
        "colab": {
          "base_uri": "https://localhost:8080/",
          "height": 0
        },
        "id": "sbU9THq-mw0g",
        "outputId": "9fd65bab-41ff-42a7-c154-7b7bd347ca2c"
      },
      "id": "sbU9THq-mw0g",
      "execution_count": 1986,
      "outputs": [
        {
          "output_type": "display_data",
          "data": {
            "text/plain": [
              "pais_destino\n",
              "Alemanha                58581\n",
              "Angola                 142259\n",
              "Antigua e Barbuda          49\n",
              "Antilhas Holandesas      9324\n",
              "Argentina                4657\n",
              "                        ...  \n",
              "Uruguai                113063\n",
              "Vanuatu                    14\n",
              "Venezuela                2398\n",
              "Vietnã                   1008\n",
              "Índia                      43\n",
              "Name: quantidade, Length: 97, dtype: int64"
            ]
          },
          "metadata": {}
        }
      ]
    },
    {
      "cell_type": "code",
      "source": [
        "#Armazenar série em um dataframe\n",
        "df_qtd_espumante = espumante_qtd_exp.to_frame()\n",
        "\n",
        "display(df_qtd_espumante)\n"
      ],
      "metadata": {
        "colab": {
          "base_uri": "https://localhost:8080/",
          "height": 0
        },
        "id": "PZ5CsIRdnLv4",
        "outputId": "275642bf-3e7b-470a-e359-996280ca3552"
      },
      "id": "PZ5CsIRdnLv4",
      "execution_count": 1987,
      "outputs": [
        {
          "output_type": "display_data",
          "data": {
            "text/plain": [
              "                     quantidade\n",
              "pais_destino                   \n",
              "Alemanha                  58581\n",
              "Angola                   142259\n",
              "Antigua e Barbuda            49\n",
              "Antilhas Holandesas        9324\n",
              "Argentina                  4657\n",
              "...                         ...\n",
              "Uruguai                  113063\n",
              "Vanuatu                      14\n",
              "Venezuela                  2398\n",
              "Vietnã                     1008\n",
              "Índia                        43\n",
              "\n",
              "[97 rows x 1 columns]"
            ],
            "text/html": [
              "\n",
              "  <div id=\"df-d590806b-c4a1-4561-9615-fe1d16ff97bf\">\n",
              "    <div class=\"colab-df-container\">\n",
              "      <div>\n",
              "<style scoped>\n",
              "    .dataframe tbody tr th:only-of-type {\n",
              "        vertical-align: middle;\n",
              "    }\n",
              "\n",
              "    .dataframe tbody tr th {\n",
              "        vertical-align: top;\n",
              "    }\n",
              "\n",
              "    .dataframe thead th {\n",
              "        text-align: right;\n",
              "    }\n",
              "</style>\n",
              "<table border=\"1\" class=\"dataframe\">\n",
              "  <thead>\n",
              "    <tr style=\"text-align: right;\">\n",
              "      <th></th>\n",
              "      <th>quantidade</th>\n",
              "    </tr>\n",
              "    <tr>\n",
              "      <th>pais_destino</th>\n",
              "      <th></th>\n",
              "    </tr>\n",
              "  </thead>\n",
              "  <tbody>\n",
              "    <tr>\n",
              "      <th>Alemanha</th>\n",
              "      <td>58581</td>\n",
              "    </tr>\n",
              "    <tr>\n",
              "      <th>Angola</th>\n",
              "      <td>142259</td>\n",
              "    </tr>\n",
              "    <tr>\n",
              "      <th>Antigua e Barbuda</th>\n",
              "      <td>49</td>\n",
              "    </tr>\n",
              "    <tr>\n",
              "      <th>Antilhas Holandesas</th>\n",
              "      <td>9324</td>\n",
              "    </tr>\n",
              "    <tr>\n",
              "      <th>Argentina</th>\n",
              "      <td>4657</td>\n",
              "    </tr>\n",
              "    <tr>\n",
              "      <th>...</th>\n",
              "      <td>...</td>\n",
              "    </tr>\n",
              "    <tr>\n",
              "      <th>Uruguai</th>\n",
              "      <td>113063</td>\n",
              "    </tr>\n",
              "    <tr>\n",
              "      <th>Vanuatu</th>\n",
              "      <td>14</td>\n",
              "    </tr>\n",
              "    <tr>\n",
              "      <th>Venezuela</th>\n",
              "      <td>2398</td>\n",
              "    </tr>\n",
              "    <tr>\n",
              "      <th>Vietnã</th>\n",
              "      <td>1008</td>\n",
              "    </tr>\n",
              "    <tr>\n",
              "      <th>Índia</th>\n",
              "      <td>43</td>\n",
              "    </tr>\n",
              "  </tbody>\n",
              "</table>\n",
              "<p>97 rows × 1 columns</p>\n",
              "</div>\n",
              "      <button class=\"colab-df-convert\" onclick=\"convertToInteractive('df-d590806b-c4a1-4561-9615-fe1d16ff97bf')\"\n",
              "              title=\"Convert this dataframe to an interactive table.\"\n",
              "              style=\"display:none;\">\n",
              "        \n",
              "  <svg xmlns=\"http://www.w3.org/2000/svg\" height=\"24px\"viewBox=\"0 0 24 24\"\n",
              "       width=\"24px\">\n",
              "    <path d=\"M0 0h24v24H0V0z\" fill=\"none\"/>\n",
              "    <path d=\"M18.56 5.44l.94 2.06.94-2.06 2.06-.94-2.06-.94-.94-2.06-.94 2.06-2.06.94zm-11 1L8.5 8.5l.94-2.06 2.06-.94-2.06-.94L8.5 2.5l-.94 2.06-2.06.94zm10 10l.94 2.06.94-2.06 2.06-.94-2.06-.94-.94-2.06-.94 2.06-2.06.94z\"/><path d=\"M17.41 7.96l-1.37-1.37c-.4-.4-.92-.59-1.43-.59-.52 0-1.04.2-1.43.59L10.3 9.45l-7.72 7.72c-.78.78-.78 2.05 0 2.83L4 21.41c.39.39.9.59 1.41.59.51 0 1.02-.2 1.41-.59l7.78-7.78 2.81-2.81c.8-.78.8-2.07 0-2.86zM5.41 20L4 18.59l7.72-7.72 1.47 1.35L5.41 20z\"/>\n",
              "  </svg>\n",
              "      </button>\n",
              "      \n",
              "  <style>\n",
              "    .colab-df-container {\n",
              "      display:flex;\n",
              "      flex-wrap:wrap;\n",
              "      gap: 12px;\n",
              "    }\n",
              "\n",
              "    .colab-df-convert {\n",
              "      background-color: #E8F0FE;\n",
              "      border: none;\n",
              "      border-radius: 50%;\n",
              "      cursor: pointer;\n",
              "      display: none;\n",
              "      fill: #1967D2;\n",
              "      height: 32px;\n",
              "      padding: 0 0 0 0;\n",
              "      width: 32px;\n",
              "    }\n",
              "\n",
              "    .colab-df-convert:hover {\n",
              "      background-color: #E2EBFA;\n",
              "      box-shadow: 0px 1px 2px rgba(60, 64, 67, 0.3), 0px 1px 3px 1px rgba(60, 64, 67, 0.15);\n",
              "      fill: #174EA6;\n",
              "    }\n",
              "\n",
              "    [theme=dark] .colab-df-convert {\n",
              "      background-color: #3B4455;\n",
              "      fill: #D2E3FC;\n",
              "    }\n",
              "\n",
              "    [theme=dark] .colab-df-convert:hover {\n",
              "      background-color: #434B5C;\n",
              "      box-shadow: 0px 1px 3px 1px rgba(0, 0, 0, 0.15);\n",
              "      filter: drop-shadow(0px 1px 2px rgba(0, 0, 0, 0.3));\n",
              "      fill: #FFFFFF;\n",
              "    }\n",
              "  </style>\n",
              "\n",
              "      <script>\n",
              "        const buttonEl =\n",
              "          document.querySelector('#df-d590806b-c4a1-4561-9615-fe1d16ff97bf button.colab-df-convert');\n",
              "        buttonEl.style.display =\n",
              "          google.colab.kernel.accessAllowed ? 'block' : 'none';\n",
              "\n",
              "        async function convertToInteractive(key) {\n",
              "          const element = document.querySelector('#df-d590806b-c4a1-4561-9615-fe1d16ff97bf');\n",
              "          const dataTable =\n",
              "            await google.colab.kernel.invokeFunction('convertToInteractive',\n",
              "                                                     [key], {});\n",
              "          if (!dataTable) return;\n",
              "\n",
              "          const docLinkHtml = 'Like what you see? Visit the ' +\n",
              "            '<a target=\"_blank\" href=https://colab.research.google.com/notebooks/data_table.ipynb>data table notebook</a>'\n",
              "            + ' to learn more about interactive tables.';\n",
              "          element.innerHTML = '';\n",
              "          dataTable['output_type'] = 'display_data';\n",
              "          await google.colab.output.renderOutput(dataTable, element);\n",
              "          const docLink = document.createElement('div');\n",
              "          docLink.innerHTML = docLinkHtml;\n",
              "          element.appendChild(docLink);\n",
              "        }\n",
              "      </script>\n",
              "    </div>\n",
              "  </div>\n",
              "  "
            ]
          },
          "metadata": {}
        }
      ]
    },
    {
      "cell_type": "code",
      "source": [
        "# Ordenar pela quantidade vendida\n",
        "\n",
        "df_qtd_espumante= df_qtd_espumante.sort_values(by='quantidade',ascending=False,)\n",
        "\n",
        "\n",
        "print(df_qtd_espumante)"
      ],
      "metadata": {
        "colab": {
          "base_uri": "https://localhost:8080/"
        },
        "id": "rTGjgaL9qOi1",
        "outputId": "8a3e50ca-c390-4a13-d22c-ae47e84b4526"
      },
      "id": "rTGjgaL9qOi1",
      "execution_count": 1988,
      "outputs": [
        {
          "output_type": "stream",
          "name": "stdout",
          "text": [
            "                quantidade\n",
            "pais_destino              \n",
            "Estados Unidos     2725446\n",
            "Paraguai            503552\n",
            "Reino Unido         339601\n",
            "Chile               180661\n",
            "Angola              142259\n",
            "...                    ...\n",
            "Cuba                     1\n",
            "Bangladesh               1\n",
            "Iraque                   0\n",
            "Bulgaria                 0\n",
            "Guiné-Bissau             0\n",
            "\n",
            "[97 rows x 1 columns]\n"
          ]
        }
      ]
    },
    {
      "cell_type": "code",
      "source": [
        "#Armazenar somente os 5 maiores importadores de espumantes\n",
        "\n",
        "df_qtd_espumante= df_qtd_espumante.head().reset_index()\n",
        "\n",
        "display(df_qtd_espumante)\n"
      ],
      "metadata": {
        "colab": {
          "base_uri": "https://localhost:8080/",
          "height": 0
        },
        "id": "B_MVMv6Cq2OO",
        "outputId": "526ebde2-6cb1-41dc-e92c-1a50b0095798"
      },
      "id": "B_MVMv6Cq2OO",
      "execution_count": 1989,
      "outputs": [
        {
          "output_type": "display_data",
          "data": {
            "text/plain": [
              "     pais_destino  quantidade\n",
              "0  Estados Unidos     2725446\n",
              "1        Paraguai      503552\n",
              "2     Reino Unido      339601\n",
              "3           Chile      180661\n",
              "4          Angola      142259"
            ],
            "text/html": [
              "\n",
              "  <div id=\"df-139fda29-b42d-4726-bac4-3b7ce3673207\">\n",
              "    <div class=\"colab-df-container\">\n",
              "      <div>\n",
              "<style scoped>\n",
              "    .dataframe tbody tr th:only-of-type {\n",
              "        vertical-align: middle;\n",
              "    }\n",
              "\n",
              "    .dataframe tbody tr th {\n",
              "        vertical-align: top;\n",
              "    }\n",
              "\n",
              "    .dataframe thead th {\n",
              "        text-align: right;\n",
              "    }\n",
              "</style>\n",
              "<table border=\"1\" class=\"dataframe\">\n",
              "  <thead>\n",
              "    <tr style=\"text-align: right;\">\n",
              "      <th></th>\n",
              "      <th>pais_destino</th>\n",
              "      <th>quantidade</th>\n",
              "    </tr>\n",
              "  </thead>\n",
              "  <tbody>\n",
              "    <tr>\n",
              "      <th>0</th>\n",
              "      <td>Estados Unidos</td>\n",
              "      <td>2725446</td>\n",
              "    </tr>\n",
              "    <tr>\n",
              "      <th>1</th>\n",
              "      <td>Paraguai</td>\n",
              "      <td>503552</td>\n",
              "    </tr>\n",
              "    <tr>\n",
              "      <th>2</th>\n",
              "      <td>Reino Unido</td>\n",
              "      <td>339601</td>\n",
              "    </tr>\n",
              "    <tr>\n",
              "      <th>3</th>\n",
              "      <td>Chile</td>\n",
              "      <td>180661</td>\n",
              "    </tr>\n",
              "    <tr>\n",
              "      <th>4</th>\n",
              "      <td>Angola</td>\n",
              "      <td>142259</td>\n",
              "    </tr>\n",
              "  </tbody>\n",
              "</table>\n",
              "</div>\n",
              "      <button class=\"colab-df-convert\" onclick=\"convertToInteractive('df-139fda29-b42d-4726-bac4-3b7ce3673207')\"\n",
              "              title=\"Convert this dataframe to an interactive table.\"\n",
              "              style=\"display:none;\">\n",
              "        \n",
              "  <svg xmlns=\"http://www.w3.org/2000/svg\" height=\"24px\"viewBox=\"0 0 24 24\"\n",
              "       width=\"24px\">\n",
              "    <path d=\"M0 0h24v24H0V0z\" fill=\"none\"/>\n",
              "    <path d=\"M18.56 5.44l.94 2.06.94-2.06 2.06-.94-2.06-.94-.94-2.06-.94 2.06-2.06.94zm-11 1L8.5 8.5l.94-2.06 2.06-.94-2.06-.94L8.5 2.5l-.94 2.06-2.06.94zm10 10l.94 2.06.94-2.06 2.06-.94-2.06-.94-.94-2.06-.94 2.06-2.06.94z\"/><path d=\"M17.41 7.96l-1.37-1.37c-.4-.4-.92-.59-1.43-.59-.52 0-1.04.2-1.43.59L10.3 9.45l-7.72 7.72c-.78.78-.78 2.05 0 2.83L4 21.41c.39.39.9.59 1.41.59.51 0 1.02-.2 1.41-.59l7.78-7.78 2.81-2.81c.8-.78.8-2.07 0-2.86zM5.41 20L4 18.59l7.72-7.72 1.47 1.35L5.41 20z\"/>\n",
              "  </svg>\n",
              "      </button>\n",
              "      \n",
              "  <style>\n",
              "    .colab-df-container {\n",
              "      display:flex;\n",
              "      flex-wrap:wrap;\n",
              "      gap: 12px;\n",
              "    }\n",
              "\n",
              "    .colab-df-convert {\n",
              "      background-color: #E8F0FE;\n",
              "      border: none;\n",
              "      border-radius: 50%;\n",
              "      cursor: pointer;\n",
              "      display: none;\n",
              "      fill: #1967D2;\n",
              "      height: 32px;\n",
              "      padding: 0 0 0 0;\n",
              "      width: 32px;\n",
              "    }\n",
              "\n",
              "    .colab-df-convert:hover {\n",
              "      background-color: #E2EBFA;\n",
              "      box-shadow: 0px 1px 2px rgba(60, 64, 67, 0.3), 0px 1px 3px 1px rgba(60, 64, 67, 0.15);\n",
              "      fill: #174EA6;\n",
              "    }\n",
              "\n",
              "    [theme=dark] .colab-df-convert {\n",
              "      background-color: #3B4455;\n",
              "      fill: #D2E3FC;\n",
              "    }\n",
              "\n",
              "    [theme=dark] .colab-df-convert:hover {\n",
              "      background-color: #434B5C;\n",
              "      box-shadow: 0px 1px 3px 1px rgba(0, 0, 0, 0.15);\n",
              "      filter: drop-shadow(0px 1px 2px rgba(0, 0, 0, 0.3));\n",
              "      fill: #FFFFFF;\n",
              "    }\n",
              "  </style>\n",
              "\n",
              "      <script>\n",
              "        const buttonEl =\n",
              "          document.querySelector('#df-139fda29-b42d-4726-bac4-3b7ce3673207 button.colab-df-convert');\n",
              "        buttonEl.style.display =\n",
              "          google.colab.kernel.accessAllowed ? 'block' : 'none';\n",
              "\n",
              "        async function convertToInteractive(key) {\n",
              "          const element = document.querySelector('#df-139fda29-b42d-4726-bac4-3b7ce3673207');\n",
              "          const dataTable =\n",
              "            await google.colab.kernel.invokeFunction('convertToInteractive',\n",
              "                                                     [key], {});\n",
              "          if (!dataTable) return;\n",
              "\n",
              "          const docLinkHtml = 'Like what you see? Visit the ' +\n",
              "            '<a target=\"_blank\" href=https://colab.research.google.com/notebooks/data_table.ipynb>data table notebook</a>'\n",
              "            + ' to learn more about interactive tables.';\n",
              "          element.innerHTML = '';\n",
              "          dataTable['output_type'] = 'display_data';\n",
              "          await google.colab.output.renderOutput(dataTable, element);\n",
              "          const docLink = document.createElement('div');\n",
              "          docLink.innerHTML = docLinkHtml;\n",
              "          element.appendChild(docLink);\n",
              "        }\n",
              "      </script>\n",
              "    </div>\n",
              "  </div>\n",
              "  "
            ]
          },
          "metadata": {}
        }
      ]
    },
    {
      "cell_type": "code",
      "source": [
        "# Grafico: Maiores importadores de vinhos brasileiros\n",
        "import matplotlib.pyplot as plt\n",
        "import seaborn as sns\n",
        "fig, ax = plt.subplots(figsize = ( 6,6 ))\n",
        "sns.barplot(data = df_qtd_espumante, x=\"pais_destino\", y=\"quantidade\")\n",
        "ax.set_xlabel(\"Paises\", fontsize = 10)\n",
        "ax.set_ylabel(\"Quantidade de espumante exportadas\", fontsize = 10)\n",
        "ax.set_title( \"Gráfico: Maiores importadores de espumantes do Brasil\" , size = 12 )\n",
        "\n"
      ],
      "metadata": {
        "colab": {
          "base_uri": "https://localhost:8080/",
          "height": 0
        },
        "id": "nmv9RZk3rUqs",
        "outputId": "a994bc0c-39b2-4619-edbf-1de212cbd675"
      },
      "id": "nmv9RZk3rUqs",
      "execution_count": 1990,
      "outputs": [
        {
          "output_type": "execute_result",
          "data": {
            "text/plain": [
              "Text(0.5, 1.0, 'Gráfico: Maiores importadores de espumantes do Brasil')"
            ]
          },
          "metadata": {},
          "execution_count": 1990
        },
        {
          "output_type": "display_data",
          "data": {
            "text/plain": [
              "<Figure size 600x600 with 1 Axes>"
            ],
            "image/png": "[encoded data removed]"
          },
          "metadata": {}
        }
      ]
    },
    {
      "cell_type": "markdown",
      "source": [
        "### 2. Análise: Correlação entre a quantidade vendida e a inflação"
      ],
      "metadata": {
        "id": "jLaA0BDbxbYq"
      },
      "id": "jLaA0BDbxbYq"
    },
    {
      "cell_type": "markdown",
      "source": [
        "####2.1 Tratamento e limpeza dos dados\n",
        "\n"
      ],
      "metadata": {
        "id": "ad7rBD6eTUZZ"
      },
      "id": "ad7rBD6eTUZZ"
    },
    {
      "cell_type": "markdown",
      "source": [
        "Para esta análise foram selecionados os dois países que mais importaram produtos brasileiros. Desta formas temos os seguintes paises:\n",
        "\n",
        "\n",
        "1.   Russia e Paraguai - Vinhos\n",
        "2.   Estados Unidos e Paraguai - Espumantes\n",
        "\n"
      ],
      "metadata": {
        "id": "d4gOfwSURF6Q"
      },
      "id": "d4gOfwSURF6Q"
    },
    {
      "cell_type": "markdown",
      "source": [
        "#####2.1.1 Taxa de cambio\n"
      ],
      "metadata": {
        "id": "hemC47wxyCO-"
      },
      "id": "hemC47wxyCO-"
    },
    {
      "cell_type": "code",
      "source": [
        "# Realizar upload do arquivo com dados da taxa de cambio\n",
        "cambio = pd.read_csv('/content/drive/MyDrive/dados/cambio.csv', delimiter=',',\n",
        "                         )\n",
        "print(cambio)"
      ],
      "metadata": {
        "colab": {
          "base_uri": "https://localhost:8080/"
        },
        "id": "eGeJ6_qv1G9-",
        "outputId": "45de155e-b1c2-45bd-a32b-a6ab74bf8d25"
      },
      "id": "eGeJ6_qv1G9-",
      "execution_count": 1991,
      "outputs": [
        {
          "output_type": "stream",
          "name": "stdout",
          "text": [
            "     ano  taxa_cambio\n",
            "0   2006       2.1761\n",
            "1   2007       1.9479\n",
            "2   2008       1.8346\n",
            "3   2009       1.9976\n",
            "4   2010       1.7603\n",
            "5   2011       1.6750\n",
            "6   2012       1.9546\n",
            "7   2013       2.1576\n",
            "8   2014       2.3534\n",
            "9   2015       3.3315\n",
            "10  2016       3.4901\n",
            "11  2017       3.1920\n",
            "12  2018       3.6542\n",
            "13  2019       3.9451\n",
            "14  2020       5.1558\n",
            "15  2021       5.3950\n"
          ]
        }
      ]
    },
    {
      "cell_type": "markdown",
      "source": [
        "#####2.1.2 Inflação\n",
        "\n",
        "\n"
      ],
      "metadata": {
        "id": "VHMykq1Qhzb1"
      },
      "id": "VHMykq1Qhzb1"
    },
    {
      "cell_type": "code",
      "source": [
        "# Realizar upload do arquivo com dados da inflação\n",
        "df_inflacao = pd.read_csv('/content/drive/MyDrive/dados/inflacao.csv', delimiter=',',\n",
        "                         )\n",
        "print(df_inflacao)"
      ],
      "metadata": {
        "colab": {
          "base_uri": "https://localhost:8080/"
        },
        "id": "hhp48uJhYPFE",
        "outputId": "7182f34c-f9f0-43df-9089-ade17a65916b"
      },
      "id": "hhp48uJhYPFE",
      "execution_count": 1992,
      "outputs": [
        {
          "output_type": "stream",
          "name": "stdout",
          "text": [
            "     ano  taxa_br  taxa_eua  taxa_russia  taxa_paraguai\n",
            "0   2006     4.18      3.23         9.67           9.59\n",
            "1   2007     3.64      2.85         9.01           8.13\n",
            "2   2008     5.68      3.84        14.11          10.15\n",
            "3   2009     4.89     -0.36        11.65           2.59\n",
            "4   2010     5.04      1.64         6.85           4.65\n",
            "5   2011     6.64      3.16         8.44           8.25\n",
            "6   2012     5.40      2.07         5.07           3.68\n",
            "7   2013     6.20      1.46         6.75           2.68\n",
            "8   2014     6.33      1.62         7.82           5.03\n",
            "9   2015     9.03      0.12        15.53           3.13\n",
            "10  2016     8.74      1.26         7.04           4.09\n",
            "11  2017     3.45      2.13         3.68           3.60\n",
            "12  2018     3.66      2.44         2.88           3.98\n",
            "13  2019     3.73      1.81         4.47           2.76\n",
            "14  2020     3.21      1.23         3.38           1.77\n",
            "15  2021     8.30      4.70         6.69           4.79\n"
          ]
        }
      ]
    },
    {
      "cell_type": "code",
      "source": [
        "#Criar dataframe com a inflação BR\n",
        "inflacao_br=df_inflacao[['ano','taxa_br']]\n",
        "print(inflacao_br)"
      ],
      "metadata": {
        "colab": {
          "base_uri": "https://localhost:8080/"
        },
        "id": "7VsA5gp0f5kW",
        "outputId": "6ed00942-a8c7-42f5-ebd8-9bb8afe795d3"
      },
      "id": "7VsA5gp0f5kW",
      "execution_count": 1993,
      "outputs": [
        {
          "output_type": "stream",
          "name": "stdout",
          "text": [
            "     ano  taxa_br\n",
            "0   2006     4.18\n",
            "1   2007     3.64\n",
            "2   2008     5.68\n",
            "3   2009     4.89\n",
            "4   2010     5.04\n",
            "5   2011     6.64\n",
            "6   2012     5.40\n",
            "7   2013     6.20\n",
            "8   2014     6.33\n",
            "9   2015     9.03\n",
            "10  2016     8.74\n",
            "11  2017     3.45\n",
            "12  2018     3.66\n",
            "13  2019     3.73\n",
            "14  2020     3.21\n",
            "15  2021     8.30\n"
          ]
        }
      ]
    },
    {
      "cell_type": "code",
      "source": [
        "#Criar dataframe com a inflação EUA\n",
        "inflacao_eua=df_inflacao[['ano','taxa_eua']]\n",
        "print(inflacao_eua)"
      ],
      "metadata": {
        "colab": {
          "base_uri": "https://localhost:8080/"
        },
        "id": "YNH9hgvYg9-Y",
        "outputId": "0e52de49-915f-4ccb-92ce-dd0cb7134134"
      },
      "id": "YNH9hgvYg9-Y",
      "execution_count": 1994,
      "outputs": [
        {
          "output_type": "stream",
          "name": "stdout",
          "text": [
            "     ano  taxa_eua\n",
            "0   2006      3.23\n",
            "1   2007      2.85\n",
            "2   2008      3.84\n",
            "3   2009     -0.36\n",
            "4   2010      1.64\n",
            "5   2011      3.16\n",
            "6   2012      2.07\n",
            "7   2013      1.46\n",
            "8   2014      1.62\n",
            "9   2015      0.12\n",
            "10  2016      1.26\n",
            "11  2017      2.13\n",
            "12  2018      2.44\n",
            "13  2019      1.81\n",
            "14  2020      1.23\n",
            "15  2021      4.70\n"
          ]
        }
      ]
    },
    {
      "cell_type": "code",
      "source": [
        "#Criar dataframe com a inflação RÚSSIA\n",
        "inflacao_russia=df_inflacao[['ano','taxa_russia']]\n",
        "print(inflacao_russia)"
      ],
      "metadata": {
        "colab": {
          "base_uri": "https://localhost:8080/"
        },
        "id": "yrfuu7PPhSvG",
        "outputId": "1c78ccab-ac18-4fed-9af1-6aadaf6cf84e"
      },
      "id": "yrfuu7PPhSvG",
      "execution_count": 1995,
      "outputs": [
        {
          "output_type": "stream",
          "name": "stdout",
          "text": [
            "     ano  taxa_russia\n",
            "0   2006         9.67\n",
            "1   2007         9.01\n",
            "2   2008        14.11\n",
            "3   2009        11.65\n",
            "4   2010         6.85\n",
            "5   2011         8.44\n",
            "6   2012         5.07\n",
            "7   2013         6.75\n",
            "8   2014         7.82\n",
            "9   2015        15.53\n",
            "10  2016         7.04\n",
            "11  2017         3.68\n",
            "12  2018         2.88\n",
            "13  2019         4.47\n",
            "14  2020         3.38\n",
            "15  2021         6.69\n"
          ]
        }
      ]
    },
    {
      "cell_type": "code",
      "source": [
        "#Criar dataframe com a inflação PARAGUAI\n",
        "inflacao_paraguai=df_inflacao[['ano','taxa_paraguai']]\n",
        "\n",
        "print(inflacao_paraguai)"
      ],
      "metadata": {
        "colab": {
          "base_uri": "https://localhost:8080/"
        },
        "id": "JiWE85LYhjRn",
        "outputId": "61b3f6c0-87b2-4b52-d1ff-ee8f9487a671"
      },
      "id": "JiWE85LYhjRn",
      "execution_count": 1996,
      "outputs": [
        {
          "output_type": "stream",
          "name": "stdout",
          "text": [
            "     ano  taxa_paraguai\n",
            "0   2006           9.59\n",
            "1   2007           8.13\n",
            "2   2008          10.15\n",
            "3   2009           2.59\n",
            "4   2010           4.65\n",
            "5   2011           8.25\n",
            "6   2012           3.68\n",
            "7   2013           2.68\n",
            "8   2014           5.03\n",
            "9   2015           3.13\n",
            "10  2016           4.09\n",
            "11  2017           3.60\n",
            "12  2018           3.98\n",
            "13  2019           2.76\n",
            "14  2020           1.77\n",
            "15  2021           4.79\n"
          ]
        }
      ]
    },
    {
      "cell_type": "markdown",
      "source": [
        "#####2.2.3 Quantidade exportada por país\n"
      ],
      "metadata": {
        "id": "BbdirovTiLV0"
      },
      "id": "BbdirovTiLV0"
    },
    {
      "cell_type": "code",
      "source": [
        "# Criar dataframe  somente com quantidade de \"Vinho de Mesa\" exportados para Russia\n",
        "\n",
        "df_vinho_russia= df_exportacao.query(\"tipo=='Vinho de mesa'and ano>= '2006' and pais_destino=='Rússia' \")\n",
        "df_vinho_russia[\"ano\"]= df_vinho_russia[\"ano\"].astype(int)\n",
        "print(df_vinho_russia)\n",
        "\n"
      ],
      "metadata": {
        "colab": {
          "base_uri": "https://localhost:8080/"
        },
        "id": "pCoQqLLNcbSk",
        "outputId": "98b3c70f-603f-49cd-f836-47d5226bbb07"
      },
      "id": "pCoQqLLNcbSk",
      "execution_count": 1997,
      "outputs": [
        {
          "output_type": "stream",
          "name": "stdout",
          "text": [
            "       ano pais_origem pais_destino           tipo  quantidade     valor\n",
            "4565  2006      Brasil       Rússia  Vinho de mesa      334200    164744\n",
            "4689  2007      Brasil       Rússia  Vinho de mesa      266400    173160\n",
            "4813  2008      Brasil       Rússia  Vinho de mesa     6207658   2352768\n",
            "4937  2009      Brasil       Rússia  Vinho de mesa    21912914   5732280\n",
            "5061  2010      Brasil       Rússia  Vinho de mesa           0         0\n",
            "5185  2011      Brasil       Rússia  Vinho de mesa           0         0\n",
            "5309  2012      Brasil       Rússia  Vinho de mesa     4528176   2103968\n",
            "5433  2013      Brasil       Rússia  Vinho de mesa     5893291  14795694\n",
            "5557  2014      Brasil       Rússia  Vinho de mesa      190656     61440\n",
            "5681  2015      Brasil       Rússia  Vinho de mesa       47664     18240\n",
            "5805  2016      Brasil       Rússia  Vinho de mesa           0         0\n",
            "5929  2017      Brasil       Rússia  Vinho de mesa           0         0\n",
            "6053  2018      Brasil       Rússia  Vinho de mesa           0         0\n",
            "6177  2019      Brasil       Rússia  Vinho de mesa           0         0\n",
            "6301  2020      Brasil       Rússia  Vinho de mesa        1463      8550\n",
            "6425  2021      Brasil       Rússia  Vinho de mesa      181931    312926\n"
          ]
        },
        {
          "output_type": "stream",
          "name": "stderr",
          "text": [
            "<ipython-input-1997-95873d8650b9>:4: SettingWithCopyWarning: \n",
            "A value is trying to be set on a copy of a slice from a DataFrame.\n",
            "Try using .loc[row_indexer,col_indexer] = value instead\n",
            "\n",
            "See the caveats in the documentation: https://pandas.pydata.org/pandas-docs/stable/user_guide/indexing.html#returning-a-view-versus-a-copy\n",
            "  df_vinho_russia[\"ano\"]= df_vinho_russia[\"ano\"].astype(int)\n"
          ]
        }
      ]
    },
    {
      "cell_type": "code",
      "source": [
        "# Criar dataframe  somente com quantidade de \"Vinho de Mesa\" exportados para Paraguai\n",
        "\n",
        "df_vinho_paraguai= df_exportacao.query(\"tipo=='Vinho de mesa'and ano>= '2006' and pais_destino=='Paraguai' \")\n",
        "df_vinho_paraguai[\"ano\"]= df_vinho_paraguai[\"ano\"].astype(int)\n",
        "\n",
        "print(df_vinho_paraguai)\n"
      ],
      "metadata": {
        "colab": {
          "base_uri": "https://localhost:8080/"
        },
        "id": "zVTiMuZkdx2U",
        "outputId": "91b36079-7e38-4b4d-bbb9-ead7ff7673b9"
      },
      "id": "zVTiMuZkdx2U",
      "execution_count": 1998,
      "outputs": [
        {
          "output_type": "stream",
          "name": "stdout",
          "text": [
            "       ano pais_origem pais_destino           tipo  quantidade    valor\n",
            "4557  2006      Brasil     Paraguai  Vinho de mesa     1947106   873636\n",
            "4681  2007      Brasil     Paraguai  Vinho de mesa     1285459   801519\n",
            "4805  2008      Brasil     Paraguai  Vinho de mesa     2191901  1374088\n",
            "4929  2009      Brasil     Paraguai  Vinho de mesa      486927   392087\n",
            "5053  2010      Brasil     Paraguai  Vinho de mesa      510989   449197\n",
            "5177  2011      Brasil     Paraguai  Vinho de mesa      240168   276281\n",
            "5301  2012      Brasil     Paraguai  Vinho de mesa      354824   428279\n",
            "5425  2013      Brasil     Paraguai  Vinho de mesa      481564   680828\n",
            "5549  2014      Brasil     Paraguai  Vinho de mesa      521847   908028\n",
            "5673  2015      Brasil     Paraguai  Vinho de mesa      495428   741370\n",
            "5797  2016      Brasil     Paraguai  Vinho de mesa      985739  1655417\n",
            "5921  2017      Brasil     Paraguai  Vinho de mesa     2393468  4274650\n",
            "6045  2018      Brasil     Paraguai  Vinho de mesa     3234168  5494321\n",
            "6169  2019      Brasil     Paraguai  Vinho de mesa     2419537  3826587\n",
            "6293  2020      Brasil     Paraguai  Vinho de mesa     3299013  3869243\n",
            "6417  2021      Brasil     Paraguai  Vinho de mesa     6522527  7192362\n"
          ]
        },
        {
          "output_type": "stream",
          "name": "stderr",
          "text": [
            "<ipython-input-1998-e7727e88c232>:4: SettingWithCopyWarning: \n",
            "A value is trying to be set on a copy of a slice from a DataFrame.\n",
            "Try using .loc[row_indexer,col_indexer] = value instead\n",
            "\n",
            "See the caveats in the documentation: https://pandas.pydata.org/pandas-docs/stable/user_guide/indexing.html#returning-a-view-versus-a-copy\n",
            "  df_vinho_paraguai[\"ano\"]= df_vinho_paraguai[\"ano\"].astype(int)\n"
          ]
        }
      ]
    },
    {
      "cell_type": "code",
      "source": [
        "# Criar dataframe  somente com quantidade de \"Espumante\" exportados para EUA\n",
        "\n",
        "df_espumante_eua= df_exportacao.query(\"tipo=='Espumante'and ano>= '2006' and pais_destino=='Estados Unidos' \")\n",
        "df_espumante_eua[\"ano\"]= df_espumante_eua[\"ano\"].astype(int)\n",
        "\n",
        "print(df_espumante_eua)\n"
      ],
      "metadata": {
        "colab": {
          "base_uri": "https://localhost:8080/"
        },
        "id": "Gq6OZsiwaSa6",
        "outputId": "eaafb3e4-b51f-4b9c-e615-ebaa6ac44d18"
      },
      "id": "Gq6OZsiwaSa6",
      "execution_count": 1999,
      "outputs": [
        {
          "output_type": "stream",
          "name": "stdout",
          "text": [
            "       ano pais_origem    pais_destino       tipo  quantidade    valor\n",
            "3527  2006      Brasil  Estados Unidos  Espumante       19131    85474\n",
            "3624  2007      Brasil  Estados Unidos  Espumante       21400    86898\n",
            "3721  2008      Brasil  Estados Unidos  Espumante      283760   324094\n",
            "3818  2009      Brasil  Estados Unidos  Espumante       35695   200975\n",
            "3915  2010      Brasil  Estados Unidos  Espumante      123001   172488\n",
            "4012  2011      Brasil  Estados Unidos  Espumante       67547   333438\n",
            "4109  2012      Brasil  Estados Unidos  Espumante      126129   513426\n",
            "4206  2013      Brasil  Estados Unidos  Espumante       91987   364136\n",
            "4303  2014      Brasil  Estados Unidos  Espumante       39748   136533\n",
            "4400  2015      Brasil  Estados Unidos  Espumante       18450    92868\n",
            "4497  2016      Brasil  Estados Unidos  Espumante       22615   143306\n",
            "4594  2017      Brasil  Estados Unidos  Espumante       22605   170620\n",
            "4691  2018      Brasil  Estados Unidos  Espumante       28542   172961\n",
            "4788  2019      Brasil  Estados Unidos  Espumante      389511  1023709\n",
            "4885  2020      Brasil  Estados Unidos  Espumante      634243  1647310\n",
            "4982  2021      Brasil  Estados Unidos  Espumante      801082  2123710\n"
          ]
        },
        {
          "output_type": "stream",
          "name": "stderr",
          "text": [
            "<ipython-input-1999-dcb8fb9ddebc>:4: SettingWithCopyWarning: \n",
            "A value is trying to be set on a copy of a slice from a DataFrame.\n",
            "Try using .loc[row_indexer,col_indexer] = value instead\n",
            "\n",
            "See the caveats in the documentation: https://pandas.pydata.org/pandas-docs/stable/user_guide/indexing.html#returning-a-view-versus-a-copy\n",
            "  df_espumante_eua[\"ano\"]= df_espumante_eua[\"ano\"].astype(int)\n"
          ]
        }
      ]
    },
    {
      "cell_type": "code",
      "source": [
        "# Criar dataframe  somente com quantidade de \"Espumante\" exportados para Paraguai\n",
        "\n",
        "df_espumante_paraguai= df_exportacao.query(\"tipo=='Espumante'and ano>= '2006' and pais_destino=='Paraguai' \")\n",
        "df_espumante_paraguai[\"ano\"]= df_espumante_paraguai[\"ano\"].astype(int)\n",
        "\n",
        "print(df_espumante_paraguai)"
      ],
      "metadata": {
        "colab": {
          "base_uri": "https://localhost:8080/"
        },
        "id": "erEHnNzxbprK",
        "outputId": "22b5065d-35ce-4961-f923-6848c6b1f204"
      },
      "id": "erEHnNzxbprK",
      "execution_count": 2000,
      "outputs": [
        {
          "output_type": "stream",
          "name": "stdout",
          "text": [
            "       ano pais_origem pais_destino       tipo  quantidade   valor\n",
            "3565  2006      Brasil     Paraguai  Espumante       12153   17950\n",
            "3662  2007      Brasil     Paraguai  Espumante        3455    6958\n",
            "3759  2008      Brasil     Paraguai  Espumante        4637    8088\n",
            "3856  2009      Brasil     Paraguai  Espumante       20099   18376\n",
            "3953  2010      Brasil     Paraguai  Espumante        6728   24228\n",
            "4050  2011      Brasil     Paraguai  Espumante        2513    8531\n",
            "4147  2012      Brasil     Paraguai  Espumante        3568   10442\n",
            "4244  2013      Brasil     Paraguai  Espumante       23603   81321\n",
            "4341  2014      Brasil     Paraguai  Espumante       28038   96500\n",
            "4438  2015      Brasil     Paraguai  Espumante       29016   70845\n",
            "4535  2016      Brasil     Paraguai  Espumante       40197  123169\n",
            "4632  2017      Brasil     Paraguai  Espumante       80951  255320\n",
            "4729  2018      Brasil     Paraguai  Espumante       92114  205510\n",
            "4826  2019      Brasil     Paraguai  Espumante       94620  224306\n",
            "4923  2020      Brasil     Paraguai  Espumante       16231   48614\n",
            "5020  2021      Brasil     Paraguai  Espumante       45629  136909\n"
          ]
        },
        {
          "output_type": "stream",
          "name": "stderr",
          "text": [
            "<ipython-input-2000-38bdeb26c09f>:4: SettingWithCopyWarning: \n",
            "A value is trying to be set on a copy of a slice from a DataFrame.\n",
            "Try using .loc[row_indexer,col_indexer] = value instead\n",
            "\n",
            "See the caveats in the documentation: https://pandas.pydata.org/pandas-docs/stable/user_guide/indexing.html#returning-a-view-versus-a-copy\n",
            "  df_espumante_paraguai[\"ano\"]= df_espumante_paraguai[\"ano\"].astype(int)\n"
          ]
        }
      ]
    },
    {
      "cell_type": "markdown",
      "source": [
        "#####2.3 Junção das tabelas\n"
      ],
      "metadata": {
        "id": "m4wmi-sIidY7"
      },
      "id": "m4wmi-sIidY7"
    },
    {
      "cell_type": "code",
      "source": [
        "#Adicionar a inflação e taxa de cambio ao dataframe Rússia\n",
        "df_vinho_russia= pd.merge(df_vinho_russia, inflacao_br, on=\"ano\", how=\"left\")\n",
        "df_vinho_russia= pd.merge(df_vinho_russia, inflacao_russia, on=\"ano\", how=\"left\")\n",
        "df_vinho_russia= pd.merge(df_vinho_russia, cambio, on=\"ano\", how=\"left\")\n",
        "\n",
        "print(df_vinho_russia)\n"
      ],
      "metadata": {
        "colab": {
          "base_uri": "https://localhost:8080/"
        },
        "id": "MQAsAsyZZE0n",
        "outputId": "cc105e10-1ed7-4267-8ce2-9ee8379cc97a"
      },
      "id": "MQAsAsyZZE0n",
      "execution_count": 2001,
      "outputs": [
        {
          "output_type": "stream",
          "name": "stdout",
          "text": [
            "     ano pais_origem pais_destino           tipo  quantidade     valor  \\\n",
            "0   2006      Brasil       Rússia  Vinho de mesa      334200    164744   \n",
            "1   2007      Brasil       Rússia  Vinho de mesa      266400    173160   \n",
            "2   2008      Brasil       Rússia  Vinho de mesa     6207658   2352768   \n",
            "3   2009      Brasil       Rússia  Vinho de mesa    21912914   5732280   \n",
            "4   2010      Brasil       Rússia  Vinho de mesa           0         0   \n",
            "5   2011      Brasil       Rússia  Vinho de mesa           0         0   \n",
            "6   2012      Brasil       Rússia  Vinho de mesa     4528176   2103968   \n",
            "7   2013      Brasil       Rússia  Vinho de mesa     5893291  14795694   \n",
            "8   2014      Brasil       Rússia  Vinho de mesa      190656     61440   \n",
            "9   2015      Brasil       Rússia  Vinho de mesa       47664     18240   \n",
            "10  2016      Brasil       Rússia  Vinho de mesa           0         0   \n",
            "11  2017      Brasil       Rússia  Vinho de mesa           0         0   \n",
            "12  2018      Brasil       Rússia  Vinho de mesa           0         0   \n",
            "13  2019      Brasil       Rússia  Vinho de mesa           0         0   \n",
            "14  2020      Brasil       Rússia  Vinho de mesa        1463      8550   \n",
            "15  2021      Brasil       Rússia  Vinho de mesa      181931    312926   \n",
            "\n",
            "    taxa_br  taxa_russia  taxa_cambio  \n",
            "0      4.18         9.67       2.1761  \n",
            "1      3.64         9.01       1.9479  \n",
            "2      5.68        14.11       1.8346  \n",
            "3      4.89        11.65       1.9976  \n",
            "4      5.04         6.85       1.7603  \n",
            "5      6.64         8.44       1.6750  \n",
            "6      5.40         5.07       1.9546  \n",
            "7      6.20         6.75       2.1576  \n",
            "8      6.33         7.82       2.3534  \n",
            "9      9.03        15.53       3.3315  \n",
            "10     8.74         7.04       3.4901  \n",
            "11     3.45         3.68       3.1920  \n",
            "12     3.66         2.88       3.6542  \n",
            "13     3.73         4.47       3.9451  \n",
            "14     3.21         3.38       5.1558  \n",
            "15     8.30         6.69       5.3950  \n"
          ]
        }
      ]
    },
    {
      "cell_type": "code",
      "source": [
        "#Adicionar a inflação e taxa de cambio ao dataframe Paraguai - Vinho de Mesa\n",
        "\n",
        "df_vinho_paraguai= pd.merge(df_vinho_paraguai, inflacao_br, on=\"ano\", how=\"left\")\n",
        "df_vinho_paraguai= pd.merge(df_vinho_paraguai, inflacao_paraguai, on=\"ano\", how=\"left\")\n",
        "df_vinho_paraguai= pd.merge(df_vinho_paraguai, cambio, on=\"ano\", how=\"left\")\n",
        "\n",
        "print(df_vinho_paraguai)\n"
      ],
      "metadata": {
        "colab": {
          "base_uri": "https://localhost:8080/"
        },
        "id": "NQe3C9GkZMpS",
        "outputId": "8ced21c6-8b93-46ba-8a22-4f0c26e660f1"
      },
      "id": "NQe3C9GkZMpS",
      "execution_count": 2002,
      "outputs": [
        {
          "output_type": "stream",
          "name": "stdout",
          "text": [
            "     ano pais_origem pais_destino           tipo  quantidade    valor  \\\n",
            "0   2006      Brasil     Paraguai  Vinho de mesa     1947106   873636   \n",
            "1   2007      Brasil     Paraguai  Vinho de mesa     1285459   801519   \n",
            "2   2008      Brasil     Paraguai  Vinho de mesa     2191901  1374088   \n",
            "3   2009      Brasil     Paraguai  Vinho de mesa      486927   392087   \n",
            "4   2010      Brasil     Paraguai  Vinho de mesa      510989   449197   \n",
            "5   2011      Brasil     Paraguai  Vinho de mesa      240168   276281   \n",
            "6   2012      Brasil     Paraguai  Vinho de mesa      354824   428279   \n",
            "7   2013      Brasil     Paraguai  Vinho de mesa      481564   680828   \n",
            "8   2014      Brasil     Paraguai  Vinho de mesa      521847   908028   \n",
            "9   2015      Brasil     Paraguai  Vinho de mesa      495428   741370   \n",
            "10  2016      Brasil     Paraguai  Vinho de mesa      985739  1655417   \n",
            "11  2017      Brasil     Paraguai  Vinho de mesa     2393468  4274650   \n",
            "12  2018      Brasil     Paraguai  Vinho de mesa     3234168  5494321   \n",
            "13  2019      Brasil     Paraguai  Vinho de mesa     2419537  3826587   \n",
            "14  2020      Brasil     Paraguai  Vinho de mesa     3299013  3869243   \n",
            "15  2021      Brasil     Paraguai  Vinho de mesa     6522527  7192362   \n",
            "\n",
            "    taxa_br  taxa_paraguai  taxa_cambio  \n",
            "0      4.18           9.59       2.1761  \n",
            "1      3.64           8.13       1.9479  \n",
            "2      5.68          10.15       1.8346  \n",
            "3      4.89           2.59       1.9976  \n",
            "4      5.04           4.65       1.7603  \n",
            "5      6.64           8.25       1.6750  \n",
            "6      5.40           3.68       1.9546  \n",
            "7      6.20           2.68       2.1576  \n",
            "8      6.33           5.03       2.3534  \n",
            "9      9.03           3.13       3.3315  \n",
            "10     8.74           4.09       3.4901  \n",
            "11     3.45           3.60       3.1920  \n",
            "12     3.66           3.98       3.6542  \n",
            "13     3.73           2.76       3.9451  \n",
            "14     3.21           1.77       5.1558  \n",
            "15     8.30           4.79       5.3950  \n"
          ]
        }
      ]
    },
    {
      "cell_type": "code",
      "source": [
        "#Adicionar a inflação e taxa de cambio ao dataframe EUA\n",
        "\n",
        "df_espumante_eua= pd.merge(df_espumante_eua, inflacao_br, on=\"ano\", how=\"left\")\n",
        "df_espumante_eua= pd.merge(df_espumante_eua, inflacao_eua, on=\"ano\", how=\"left\")\n",
        "df_espumante_eua= pd.merge(df_espumante_eua, cambio, on=\"ano\", how=\"left\")\n",
        "\n",
        "print(df_espumante_eua)\n",
        "\n"
      ],
      "metadata": {
        "colab": {
          "base_uri": "https://localhost:8080/"
        },
        "id": "2o4oJIXpZTMt",
        "outputId": "96d69764-0a2d-4c01-d7fc-469d1035a843"
      },
      "id": "2o4oJIXpZTMt",
      "execution_count": 2003,
      "outputs": [
        {
          "output_type": "stream",
          "name": "stdout",
          "text": [
            "     ano pais_origem    pais_destino       tipo  quantidade    valor  taxa_br  \\\n",
            "0   2006      Brasil  Estados Unidos  Espumante       19131    85474     4.18   \n",
            "1   2007      Brasil  Estados Unidos  Espumante       21400    86898     3.64   \n",
            "2   2008      Brasil  Estados Unidos  Espumante      283760   324094     5.68   \n",
            "3   2009      Brasil  Estados Unidos  Espumante       35695   200975     4.89   \n",
            "4   2010      Brasil  Estados Unidos  Espumante      123001   172488     5.04   \n",
            "5   2011      Brasil  Estados Unidos  Espumante       67547   333438     6.64   \n",
            "6   2012      Brasil  Estados Unidos  Espumante      126129   513426     5.40   \n",
            "7   2013      Brasil  Estados Unidos  Espumante       91987   364136     6.20   \n",
            "8   2014      Brasil  Estados Unidos  Espumante       39748   136533     6.33   \n",
            "9   2015      Brasil  Estados Unidos  Espumante       18450    92868     9.03   \n",
            "10  2016      Brasil  Estados Unidos  Espumante       22615   143306     8.74   \n",
            "11  2017      Brasil  Estados Unidos  Espumante       22605   170620     3.45   \n",
            "12  2018      Brasil  Estados Unidos  Espumante       28542   172961     3.66   \n",
            "13  2019      Brasil  Estados Unidos  Espumante      389511  1023709     3.73   \n",
            "14  2020      Brasil  Estados Unidos  Espumante      634243  1647310     3.21   \n",
            "15  2021      Brasil  Estados Unidos  Espumante      801082  2123710     8.30   \n",
            "\n",
            "    taxa_eua  taxa_cambio  \n",
            "0       3.23       2.1761  \n",
            "1       2.85       1.9479  \n",
            "2       3.84       1.8346  \n",
            "3      -0.36       1.9976  \n",
            "4       1.64       1.7603  \n",
            "5       3.16       1.6750  \n",
            "6       2.07       1.9546  \n",
            "7       1.46       2.1576  \n",
            "8       1.62       2.3534  \n",
            "9       0.12       3.3315  \n",
            "10      1.26       3.4901  \n",
            "11      2.13       3.1920  \n",
            "12      2.44       3.6542  \n",
            "13      1.81       3.9451  \n",
            "14      1.23       5.1558  \n",
            "15      4.70       5.3950  \n"
          ]
        }
      ]
    },
    {
      "cell_type": "code",
      "source": [
        "#Adicionar a inflação e taxa de cambio ao dataframe Paraguai - Espumante\n",
        "\n",
        "df_espumante_paraguai= pd.merge(df_espumante_paraguai, inflacao_br, on=\"ano\", how=\"left\")\n",
        "df_espumante_paraguai= pd.merge(df_espumante_paraguai, inflacao_paraguai, on=\"ano\", how=\"left\")\n",
        "df_espumante_paraguai= pd.merge(df_espumante_paraguai, cambio, on=\"ano\", how=\"left\")\n",
        "\n",
        "\n",
        "print(df_espumante_paraguai)\n",
        "\n"
      ],
      "metadata": {
        "colab": {
          "base_uri": "https://localhost:8080/"
        },
        "id": "eycRQ0j2ZW3K",
        "outputId": "9a3b3159-21b9-4f10-d67d-23e0da862ee2"
      },
      "id": "eycRQ0j2ZW3K",
      "execution_count": 2004,
      "outputs": [
        {
          "output_type": "stream",
          "name": "stdout",
          "text": [
            "     ano pais_origem pais_destino       tipo  quantidade   valor  taxa_br  \\\n",
            "0   2006      Brasil     Paraguai  Espumante       12153   17950     4.18   \n",
            "1   2007      Brasil     Paraguai  Espumante        3455    6958     3.64   \n",
            "2   2008      Brasil     Paraguai  Espumante        4637    8088     5.68   \n",
            "3   2009      Brasil     Paraguai  Espumante       20099   18376     4.89   \n",
            "4   2010      Brasil     Paraguai  Espumante        6728   24228     5.04   \n",
            "5   2011      Brasil     Paraguai  Espumante        2513    8531     6.64   \n",
            "6   2012      Brasil     Paraguai  Espumante        3568   10442     5.40   \n",
            "7   2013      Brasil     Paraguai  Espumante       23603   81321     6.20   \n",
            "8   2014      Brasil     Paraguai  Espumante       28038   96500     6.33   \n",
            "9   2015      Brasil     Paraguai  Espumante       29016   70845     9.03   \n",
            "10  2016      Brasil     Paraguai  Espumante       40197  123169     8.74   \n",
            "11  2017      Brasil     Paraguai  Espumante       80951  255320     3.45   \n",
            "12  2018      Brasil     Paraguai  Espumante       92114  205510     3.66   \n",
            "13  2019      Brasil     Paraguai  Espumante       94620  224306     3.73   \n",
            "14  2020      Brasil     Paraguai  Espumante       16231   48614     3.21   \n",
            "15  2021      Brasil     Paraguai  Espumante       45629  136909     8.30   \n",
            "\n",
            "    taxa_paraguai  taxa_cambio  \n",
            "0            9.59       2.1761  \n",
            "1            8.13       1.9479  \n",
            "2           10.15       1.8346  \n",
            "3            2.59       1.9976  \n",
            "4            4.65       1.7603  \n",
            "5            8.25       1.6750  \n",
            "6            3.68       1.9546  \n",
            "7            2.68       2.1576  \n",
            "8            5.03       2.3534  \n",
            "9            3.13       3.3315  \n",
            "10           4.09       3.4901  \n",
            "11           3.60       3.1920  \n",
            "12           3.98       3.6542  \n",
            "13           2.76       3.9451  \n",
            "14           1.77       5.1558  \n",
            "15           4.79       5.3950  \n"
          ]
        }
      ]
    },
    {
      "cell_type": "code",
      "source": [
        "#importar arquivo com inflação EUA\n",
        "\n",
        "df_inflation_eua= df_exportacao.query(\"tipo=='Espumante'and ano>= '2006' and pais_destino=='Estados Unidos' \")\n",
        "\n",
        "\n",
        "print (df_inflation_eua)\n"
      ],
      "metadata": {
        "colab": {
          "base_uri": "https://localhost:8080/"
        },
        "id": "NLYY3sejzUgs",
        "outputId": "7a1594a3-d329-4af1-8615-03f4972fcf03"
      },
      "id": "NLYY3sejzUgs",
      "execution_count": 2005,
      "outputs": [
        {
          "output_type": "stream",
          "name": "stdout",
          "text": [
            "       ano pais_origem    pais_destino       tipo  quantidade    valor\n",
            "3527  2006      Brasil  Estados Unidos  Espumante       19131    85474\n",
            "3624  2007      Brasil  Estados Unidos  Espumante       21400    86898\n",
            "3721  2008      Brasil  Estados Unidos  Espumante      283760   324094\n",
            "3818  2009      Brasil  Estados Unidos  Espumante       35695   200975\n",
            "3915  2010      Brasil  Estados Unidos  Espumante      123001   172488\n",
            "4012  2011      Brasil  Estados Unidos  Espumante       67547   333438\n",
            "4109  2012      Brasil  Estados Unidos  Espumante      126129   513426\n",
            "4206  2013      Brasil  Estados Unidos  Espumante       91987   364136\n",
            "4303  2014      Brasil  Estados Unidos  Espumante       39748   136533\n",
            "4400  2015      Brasil  Estados Unidos  Espumante       18450    92868\n",
            "4497  2016      Brasil  Estados Unidos  Espumante       22615   143306\n",
            "4594  2017      Brasil  Estados Unidos  Espumante       22605   170620\n",
            "4691  2018      Brasil  Estados Unidos  Espumante       28542   172961\n",
            "4788  2019      Brasil  Estados Unidos  Espumante      389511  1023709\n",
            "4885  2020      Brasil  Estados Unidos  Espumante      634243  1647310\n",
            "4982  2021      Brasil  Estados Unidos  Espumante      801082  2123710\n"
          ]
        }
      ]
    },
    {
      "cell_type": "markdown",
      "source": [
        "Os detalhes encontram-se no seguinte link:\n",
        "\n",
        "\\"
      ],
      "metadata": {
        "id": "NVqRAaFNHhvE"
      },
      "id": "NVqRAaFNHhvE"
    },
    {
      "cell_type": "markdown",
      "source": [
        "## Analise: A inflação e taxa de cambio influencia a quantidade de produtos vendidos?"
      ],
      "metadata": {
        "id": "34XaNyK-RPOu"
      },
      "id": "34XaNyK-RPOu"
    },
    {
      "cell_type": "markdown",
      "source": [
        "Para identificar a correlação entre essas variveis foi utilizado o coeficiente de Person, conforme tabela\n",
        "![image.png](data:image/png;base64,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)"
      ],
      "metadata": {
        "id": "JeYzwUsfRhSt"
      },
      "id": "JeYzwUsfRhSt"
    },
    {
      "cell_type": "markdown",
      "source": [
        "http://leg.ufpr.br/~silvia/CE003/node74.html"
      ],
      "metadata": {
        "id": "_uKdAVnHSLRI"
      },
      "id": "_uKdAVnHSLRI"
    },
    {
      "cell_type": "markdown",
      "source": [
        "##1.1 Correlação entre a quantidade de vinho exportados para Russia e a inflação Russa\n",
        "\n"
      ],
      "metadata": {
        "id": "wUOTd1g6MBf5"
      },
      "id": "wUOTd1g6MBf5"
    },
    {
      "cell_type": "code",
      "source": [
        "#calculo do coeficiente de Person\n",
        "import sklearn\n",
        "import numpy as np\n",
        "import matplotlib.pyplot as plt\n",
        "import pandas as pd\n",
        "\n",
        "x= df_vinho_russia['taxa_russia']\n",
        "y= df_vinho_russia['quantidade']\n",
        "correlation = y.corr(x)\n",
        "\n",
        "print (correlation)\n"
      ],
      "metadata": {
        "colab": {
          "base_uri": "https://localhost:8080/"
        },
        "id": "b1I9RdenUSDr",
        "outputId": "c1a1e840-2bd1-4320-ba82-d27dd843815b"
      },
      "id": "b1I9RdenUSDr",
      "execution_count": 2006,
      "outputs": [
        {
          "output_type": "stream",
          "name": "stdout",
          "text": [
            "0.355486612169017\n"
          ]
        }
      ]
    },
    {
      "cell_type": "code",
      "source": [
        "# plot  grafico de correlação entre a inflação e a venda de Vinhos\n",
        "\n",
        "plt.scatter(x, y)\n",
        "plt.title('Correlação entre a inflação russa e a venda de vinhos de mesa')\n",
        "plt.xlabel('Inflação anual Russa ')\n",
        "plt.ylabel('Quantidade exportada')\n",
        "\n",
        "\n",
        "plt.plot(np.unique(x), np.poly1d(np.polyfit(x, y, 1))\n",
        "         (np.unique(x)), color='red')\n"
      ],
      "metadata": {
        "colab": {
          "base_uri": "https://localhost:8080/",
          "height": 504
        },
        "id": "gfHmHruJ5K6d",
        "outputId": "59178561-a866-4263-f09f-7301b085b674"
      },
      "id": "gfHmHruJ5K6d",
      "execution_count": 2007,
      "outputs": [
        {
          "output_type": "execute_result",
          "data": {
            "text/plain": [
              "[<matplotlib.lines.Line2D at 0x7fe981499480>]"
            ]
          },
          "metadata": {},
          "execution_count": 2007
        },
        {
          "output_type": "display_data",
          "data": {
            "text/plain": [
              "<Figure size 640x480 with 1 Axes>"
            ],
            "image/png": "[encoded data removed]"
          },
          "metadata": {}
        }
      ]
    },
    {
      "cell_type": "markdown",
      "source": [
        "Existe uma correlação entre a taxa de inflação russa e a quantidade de vinhos de mesa exportados para pais.Essa correlação é bem fraca e negativa. Um correlação negativa\n",
        "significa que quanto maior a inflação, menor será a quantidade de produtos exportados.\n",
        "\n",
        "\n"
      ],
      "metadata": {
        "id": "m4Xj-pyfTx6Z"
      },
      "id": "m4Xj-pyfTx6Z"
    },
    {
      "cell_type": "markdown",
      "source": [
        "##1.2 Correlação entre a quantidade de vinho exportados para Rússia e a inflação brasileira\n",
        "\n"
      ],
      "metadata": {
        "id": "g77LhNXoTyNK"
      },
      "id": "g77LhNXoTyNK"
    },
    {
      "cell_type": "code",
      "source": [
        "#calculo do coeficiente de Person\n",
        "import sklearn\n",
        "import numpy as np\n",
        "import matplotlib.pyplot as plt\n",
        "import pandas as pd\n",
        "\n",
        "x= df_vinho_russia['taxa_br']\n",
        "y= df_vinho_russia['quantidade']\n",
        "correlation = y.corr(x)\n",
        "\n",
        "print (correlation)\n",
        "\n"
      ],
      "metadata": {
        "colab": {
          "base_uri": "https://localhost:8080/"
        },
        "id": "M_peGWrfVFA-",
        "outputId": "3127b663-7a16-4d09-e4cf-0a2f5a2d6fad"
      },
      "id": "M_peGWrfVFA-",
      "execution_count": 2008,
      "outputs": [
        {
          "output_type": "stream",
          "name": "stdout",
          "text": [
            "-0.055430176948048616\n"
          ]
        }
      ]
    },
    {
      "cell_type": "code",
      "source": [
        "# plot  grafico de correlação entre a inflação e a venda de espumantes\n",
        "\n",
        "plt.scatter(x, y)\n",
        "plt.title('Correlação entre a inflação brasileira e a exportação de vinhos')\n",
        "plt.xlabel('Inflação anual brasileira')\n",
        "plt.ylabel('Quantidade exportada')\n",
        "\n",
        "\n",
        "plt.plot(np.unique(x), np.poly1d(np.polyfit(x, y, 1))\n",
        "         (np.unique(x)), color='red')\n"
      ],
      "metadata": {
        "colab": {
          "base_uri": "https://localhost:8080/",
          "height": 504
        },
        "outputId": "9e9adfd6-5488-4ed6-ade2-e1e6cf98622f",
        "id": "XAay-CrCTyNM"
      },
      "execution_count": 2009,
      "outputs": [
        {
          "output_type": "execute_result",
          "data": {
            "text/plain": [
              "[<matplotlib.lines.Line2D at 0x7fe981305c00>]"
            ]
          },
          "metadata": {},
          "execution_count": 2009
        },
        {
          "output_type": "display_data",
          "data": {
            "text/plain": [
              "<Figure size 640x480 with 1 Axes>"
            ],
            "image/png": "[encoded data removed]"
          },
          "metadata": {}
        }
      ],
      "id": "XAay-CrCTyNM"
    },
    {
      "cell_type": "markdown",
      "source": [
        "Existe uma correlação entre a taxa de inflação brasileira e a quantidade de vinhos de mesa exportados para pais.Essa correlação é  bem fraca e negativa. Um correlação negativa\n",
        "significa que quanto maior a inflação, menor será a quantidade de produtos exportados."
      ],
      "metadata": {
        "id": "OGK39WQDWlnW"
      },
      "id": "OGK39WQDWlnW"
    },
    {
      "cell_type": "markdown",
      "source": [
        "##1.3 Correlação entre a quantidade de vinho exportados para Rússia e a taxa de cambio"
      ],
      "metadata": {
        "id": "-h3FAXZxV_LP"
      },
      "id": "-h3FAXZxV_LP"
    },
    {
      "cell_type": "code",
      "source": [
        "#calculo do coeficiente de Person\n",
        "import sklearn\n",
        "import numpy as np\n",
        "import matplotlib.pyplot as plt\n",
        "import pandas as pd\n",
        "\n",
        "x= df_vinho_russia['taxa_cambio']\n",
        "y= df_vinho_russia['quantidade']\n",
        "correlation = y.corr(x)\n",
        "\n",
        "print (correlation)\n"
      ],
      "metadata": {
        "colab": {
          "base_uri": "https://localhost:8080/"
        },
        "id": "VSQ6VOXdW89a",
        "outputId": "87826b5d-c6d6-4400-f12e-b8f967f62454"
      },
      "id": "VSQ6VOXdW89a",
      "execution_count": 2010,
      "outputs": [
        {
          "output_type": "stream",
          "name": "stdout",
          "text": [
            "-0.3381493684280782\n"
          ]
        }
      ]
    },
    {
      "cell_type": "code",
      "source": [
        "# plot  grafico de correlação entre a taxade cambio e a venda de vinhos\n",
        "\n",
        "plt.scatter(x, y)\n",
        "plt.title('Correlação entre a taxa de cambio e a exportação de vinhos')\n",
        "plt.xlabel('Taxa de cambio Dolar/Real')\n",
        "plt.ylabel('Quantidade exportada')\n",
        "\n",
        "\n",
        "plt.plot(np.unique(x), np.poly1d(np.polyfit(x, y, 1))\n",
        "         (np.unique(x)), color='red')\n"
      ],
      "metadata": {
        "colab": {
          "base_uri": "https://localhost:8080/",
          "height": 504
        },
        "id": "0j-gfhznXLec",
        "outputId": "f3cbcfa4-5d9b-4b4b-8446-d9d04c739db8"
      },
      "id": "0j-gfhznXLec",
      "execution_count": 2011,
      "outputs": [
        {
          "output_type": "execute_result",
          "data": {
            "text/plain": [
              "[<matplotlib.lines.Line2D at 0x7fe9830633a0>]"
            ]
          },
          "metadata": {},
          "execution_count": 2011
        },
        {
          "output_type": "display_data",
          "data": {
            "text/plain": [
              "<Figure size 640x480 with 1 Axes>"
            ],
            "image/png": "[encoded data removed]"
          },
          "metadata": {}
        }
      ]
    },
    {
      "cell_type": "markdown",
      "source": [
        "Existe uma correlação entre a taxa de cambio e a quantidade de vinhos de mesa exportados para pais.Essa correlação é   fraca e negativa. Um correlação negativa\n"
      ],
      "metadata": {
        "id": "MfEi-bwJYHDY"
      },
      "id": "MfEi-bwJYHDY"
    },
    {
      "cell_type": "markdown",
      "source": [
        "##1.4 Correlação entre a quantidade de vinho exportados para Paraguai e a taxa de inflação do Paraguai"
      ],
      "metadata": {
        "id": "n_L4-_QsYfm0"
      },
      "id": "n_L4-_QsYfm0"
    },
    {
      "cell_type": "code",
      "source": [
        "#calculo do coeficiente de Person\n",
        "import sklearn\n",
        "import numpy as np\n",
        "import matplotlib.pyplot as plt\n",
        "import pandas as pd\n",
        "\n",
        "x= df_vinho_paraguai['taxa_paraguai']\n",
        "y= df_vinho_paraguai['quantidade']\n",
        "correlation = y.corr(x)\n",
        "\n",
        "print (correlation)\n"
      ],
      "metadata": {
        "colab": {
          "base_uri": "https://localhost:8080/"
        },
        "id": "2rWUNFAbYstA",
        "outputId": "4d6e3fd2-2336-46d9-80ce-3754acaf8394"
      },
      "id": "2rWUNFAbYstA",
      "execution_count": 2012,
      "outputs": [
        {
          "output_type": "stream",
          "name": "stdout",
          "text": [
            "-0.028693332249059844\n"
          ]
        }
      ]
    },
    {
      "cell_type": "code",
      "source": [
        "# plot  grafico de correlação entre a taxa de inflação e a exportaça de vinhos\n",
        "\n",
        "plt.scatter(x, y)\n",
        "plt.title('Correlação entre a taxa de inflação do paraguai e a exportação de vinhos')\n",
        "plt.xlabel('Taxa de inflação Paraguai')\n",
        "plt.ylabel('Quantidade exportada')\n",
        "\n",
        "\n",
        "plt.plot(np.unique(x), np.poly1d(np.polyfit(x, y, 1))\n",
        "         (np.unique(x)), color='red')\n"
      ],
      "metadata": {
        "colab": {
          "base_uri": "https://localhost:8080/",
          "height": 504
        },
        "id": "m9ZeqzhJZJeI",
        "outputId": "6aa7a0e7-04c2-4d32-8c61-8ea5f5fb89f1"
      },
      "id": "m9ZeqzhJZJeI",
      "execution_count": 2013,
      "outputs": [
        {
          "output_type": "execute_result",
          "data": {
            "text/plain": [
              "[<matplotlib.lines.Line2D at 0x7fe981e8b3a0>]"
            ]
          },
          "metadata": {},
          "execution_count": 2013
        },
        {
          "output_type": "display_data",
          "data": {
            "text/plain": [
              "<Figure size 640x480 with 1 Axes>"
            ],
            "image/png": "[encoded data removed]"
          },
          "metadata": {}
        }
      ]
    },
    {
      "cell_type": "markdown",
      "source": [
        "Existe uma correlação entre a taxa de inflação russa e a quantidade de vinhos de mesa exportados para pais.Essa correlação é bem fraca."
      ],
      "metadata": {
        "id": "v8kvEtD7ZnA_"
      },
      "id": "v8kvEtD7ZnA_"
    },
    {
      "cell_type": "markdown",
      "source": [
        "##1.5 Correlação entre a quantidade de vinho exportados para *Paraguai* e a taxa de inflação brasileira"
      ],
      "metadata": {
        "id": "tAqCkCZaZbSP"
      },
      "id": "tAqCkCZaZbSP"
    },
    {
      "cell_type": "code",
      "source": [
        "#calculo do coeficiente de Person\n",
        "import sklearn\n",
        "import numpy as np\n",
        "import matplotlib.pyplot as plt\n",
        "import pandas as pd\n",
        "\n",
        "x= df_vinho_paraguai['taxa_br']\n",
        "y= df_vinho_paraguai['quantidade']\n",
        "correlation = y.corr(x)\n",
        "\n",
        "print (correlation)\n"
      ],
      "metadata": {
        "colab": {
          "base_uri": "https://localhost:8080/"
        },
        "id": "IXBt5SsgaJgv",
        "outputId": "632faffc-56c7-409b-8803-4035ebf621ab"
      },
      "id": "IXBt5SsgaJgv",
      "execution_count": 2014,
      "outputs": [
        {
          "output_type": "stream",
          "name": "stdout",
          "text": [
            "-0.07935673678611466\n"
          ]
        }
      ]
    },
    {
      "cell_type": "code",
      "source": [
        "# plot  grafico de correlação entre a taxa de cambio e a exporação  de vinhos\n",
        "\n",
        "plt.scatter(x, y)\n",
        "plt.title('Correlação entre a taxa de inflação brasileira e a exportação de vinhos Paraguai')\n",
        "plt.xlabel('Taxa de inflação Brasil')\n",
        "plt.ylabel('Quantidade exportada')\n",
        "\n",
        "\n",
        "plt.plot(np.unique(x), np.poly1d(np.polyfit(x, y, 1))\n",
        "         (np.unique(x)), color='red')\n"
      ],
      "metadata": {
        "colab": {
          "base_uri": "https://localhost:8080/",
          "height": 504
        },
        "id": "xN9Jjp_rZ-ss",
        "outputId": "79cfedf7-0b49-4c3c-c2ae-69b46cdc9809"
      },
      "id": "xN9Jjp_rZ-ss",
      "execution_count": 2015,
      "outputs": [
        {
          "output_type": "execute_result",
          "data": {
            "text/plain": [
              "[<matplotlib.lines.Line2D at 0x7fe981f15720>]"
            ]
          },
          "metadata": {},
          "execution_count": 2015
        },
        {
          "output_type": "display_data",
          "data": {
            "text/plain": [
              "<Figure size 640x480 with 1 Axes>"
            ],
            "image/png": "[encoded data removed]"
          },
          "metadata": {}
        }
      ]
    },
    {
      "cell_type": "markdown",
      "source": [
        "Existe uma correlação entre a taxa de inflação russa e a quantidade de vinhos de mesa exportados para pais.Essa correlação é bem fraca e negativa. Um correlação negativa\n",
        "significa que quanto maior a inflação, menor será a quantidade de produtos exportados.\n"
      ],
      "metadata": {
        "id": "TC0ALR07aiC9"
      },
      "id": "TC0ALR07aiC9"
    },
    {
      "cell_type": "markdown",
      "source": [
        "##1.6 Correlação entre a quantidade de vinho exportados para *Paraguai* e a taxa de cambio Real/*Dolar*"
      ],
      "metadata": {
        "id": "LYJQcHY3apbc"
      },
      "id": "LYJQcHY3apbc"
    },
    {
      "cell_type": "code",
      "source": [
        "#calculo do coeficiente de Person\n",
        "import sklearn\n",
        "import numpy as np\n",
        "import matplotlib.pyplot as plt\n",
        "import pandas as pd\n",
        "\n",
        "x= df_vinho_paraguai['taxa_cambio']\n",
        "y= df_vinho_paraguai['quantidade']\n",
        "correlation = y.corr(x)\n",
        "\n",
        "print (correlation)\n"
      ],
      "metadata": {
        "colab": {
          "base_uri": "https://localhost:8080/"
        },
        "id": "3WosPdnYa0kU",
        "outputId": "4c23aeac-be3a-4ad7-b7d9-4f74377a3370"
      },
      "id": "3WosPdnYa0kU",
      "execution_count": 2016,
      "outputs": [
        {
          "output_type": "stream",
          "name": "stdout",
          "text": [
            "0.7906230765706769\n"
          ]
        }
      ]
    },
    {
      "cell_type": "code",
      "source": [
        "plt.scatter(x, y)\n",
        "plt.title('Correlação entre a taxa de cambio e a exportação de vinhos Paraguai')\n",
        "plt.xlabel('Taxa de Cambio Real/Dolar')\n",
        "plt.ylabel('Quantidade exportada')\n",
        "\n",
        "\n",
        "plt.plot(np.unique(x), np.poly1d(np.polyfit(x, y, 1))\n",
        "         (np.unique(x)), color='red')\n"
      ],
      "metadata": {
        "colab": {
          "base_uri": "https://localhost:8080/",
          "height": 504
        },
        "id": "IDf2bo-pbH7x",
        "outputId": "96e04b29-643c-4f05-e78e-1fe9a9c8fa08"
      },
      "id": "IDf2bo-pbH7x",
      "execution_count": 2017,
      "outputs": [
        {
          "output_type": "execute_result",
          "data": {
            "text/plain": [
              "[<matplotlib.lines.Line2D at 0x7fe981ee3d00>]"
            ]
          },
          "metadata": {},
          "execution_count": 2017
        },
        {
          "output_type": "display_data",
          "data": {
            "text/plain": [
              "<Figure size 640x480 with 1 Axes>"
            ],
            "image/png": "[encoded data removed]"
          },
          "metadata": {}
        }
      ]
    },
    {
      "cell_type": "markdown",
      "source": [
        "Existe uma forte correlação entre a taxa de cambio e quantidade de vinhos exportados para o Paraguai. Portanto o aumento ou queda da taxa de cambio pode afetar diretamente as exportações  de vinho para este pais."
      ],
      "metadata": {
        "id": "0m3j2W2Dbpeq"
      },
      "id": "0m3j2W2Dbpeq"
    },
    {
      "cell_type": "markdown",
      "source": [
        "##1.7 Correlação entre a quantidade de espumantes exportados para EUA e a taxa de inflação americana.\n",
        "\n",
        "\n"
      ],
      "metadata": {
        "id": "Xljw36NecKxi"
      },
      "id": "Xljw36NecKxi"
    },
    {
      "cell_type": "code",
      "source": [
        "#calculo do coeficiente de Person\n",
        "import sklearn\n",
        "import numpy as np\n",
        "import matplotlib.pyplot as plt\n",
        "import pandas as pd\n",
        "\n",
        "x= df_espumante_eua['taxa_eua']\n",
        "y= df_espumante_eua['quantidade']\n",
        "correlation = y.corr(x)\n",
        "\n",
        "print (correlation)\n"
      ],
      "metadata": {
        "colab": {
          "base_uri": "https://localhost:8080/"
        },
        "id": "TgArFIVUcbRw",
        "outputId": "ed41d458-e1ad-4226-ae9d-160269f8083d"
      },
      "id": "TgArFIVUcbRw",
      "execution_count": 2018,
      "outputs": [
        {
          "output_type": "stream",
          "name": "stdout",
          "text": [
            "0.3898595967043924\n"
          ]
        }
      ]
    },
    {
      "cell_type": "code",
      "source": [
        "plt.scatter(x, y)\n",
        "plt.title('Correlação entre a taxa de inflação do americana e a exportação de espumante')\n",
        "plt.xlabel('Taxa de inflação americana')\n",
        "plt.ylabel('Quantidade exportada')\n",
        "\n",
        "\n",
        "plt.plot(np.unique(x), np.poly1d(np.polyfit(x, y, 1))\n",
        "         (np.unique(x)), color='red')\n"
      ],
      "metadata": {
        "colab": {
          "base_uri": "https://localhost:8080/",
          "height": 489
        },
        "id": "KHD0GGh0cxzH",
        "outputId": "4fdbe5ce-7cb3-4f7b-beae-16ca1d13f4a4"
      },
      "id": "KHD0GGh0cxzH",
      "execution_count": 2019,
      "outputs": [
        {
          "output_type": "execute_result",
          "data": {
            "text/plain": [
              "[<matplotlib.lines.Line2D at 0x7fe981259660>]"
            ]
          },
          "metadata": {},
          "execution_count": 2019
        },
        {
          "output_type": "display_data",
          "data": {
            "text/plain": [
              "<Figure size 640x480 with 1 Axes>"
            ],
            "image/png": "[encoded data removed]"
          },
          "metadata": {}
        }
      ]
    },
    {
      "cell_type": "markdown",
      "source": [
        "Existe uma correlação entre a taxa de inflação e a quantidade de espumantes exportados para pais.Essa correlação é  fraca."
      ],
      "metadata": {
        "id": "R20Mn7RtdE7B"
      },
      "id": "R20Mn7RtdE7B"
    },
    {
      "cell_type": "markdown",
      "source": [
        "##1.8 Correlação entre a quantidade de espumantes exportados para EUA e a taxa de inflação brasileira.\n"
      ],
      "metadata": {
        "id": "GXMpTMo7dptI"
      },
      "id": "GXMpTMo7dptI"
    },
    {
      "cell_type": "code",
      "source": [
        "#calculo do coeficiente de Person\n",
        "import sklearn\n",
        "import numpy as np\n",
        "import matplotlib.pyplot as plt\n",
        "import pandas as pd\n",
        "\n",
        "x= df_espumante_eua['taxa_br']\n",
        "y= df_espumante_eua['quantidade']\n",
        "correlation = y.corr(x)\n",
        "\n",
        "print (correlation)\n"
      ],
      "metadata": {
        "colab": {
          "base_uri": "https://localhost:8080/"
        },
        "id": "sJW9EUemdxsR",
        "outputId": "eead7fa1-c113-46d4-f98b-e0930b19e236"
      },
      "id": "sJW9EUemdxsR",
      "execution_count": 2020,
      "outputs": [
        {
          "output_type": "stream",
          "name": "stdout",
          "text": [
            "0.027537751434892125\n"
          ]
        }
      ]
    },
    {
      "cell_type": "code",
      "source": [
        "plt.scatter(x, y)\n",
        "plt.title('Correlação entre a taxa de inflação brasileira e a exportação de vinhos EUA')\n",
        "plt.xlabel('Taxa de inflação americana')\n",
        "plt.ylabel('Quantidade exportada')\n",
        "\n",
        "\n",
        "plt.plot(np.unique(x), np.poly1d(np.polyfit(x, y, 1))\n",
        "         (np.unique(x)), color='red')\n"
      ],
      "metadata": {
        "colab": {
          "base_uri": "https://localhost:8080/",
          "height": 489
        },
        "id": "942gSttwd6YS",
        "outputId": "ea508702-bb3a-4182-af6c-94d13e32b380"
      },
      "id": "942gSttwd6YS",
      "execution_count": 2021,
      "outputs": [
        {
          "output_type": "execute_result",
          "data": {
            "text/plain": [
              "[<matplotlib.lines.Line2D at 0x7fe9810ec190>]"
            ]
          },
          "metadata": {},
          "execution_count": 2021
        },
        {
          "output_type": "display_data",
          "data": {
            "text/plain": [
              "<Figure size 640x480 with 1 Axes>"
            ],
            "image/png": "[encoded data removed]"
          },
          "metadata": {}
        }
      ]
    },
    {
      "cell_type": "markdown",
      "source": [
        "##1.9 Correlação entre a quantidade de espumantes exportados para EUA e a taxa de cambio"
      ],
      "metadata": {
        "id": "2ubMEEKBiUN4"
      },
      "id": "2ubMEEKBiUN4"
    },
    {
      "cell_type": "code",
      "source": [
        "#calculo do coeficiente de Person\n",
        "import sklearn\n",
        "import numpy as np\n",
        "import matplotlib.pyplot as plt\n",
        "import pandas as pd\n",
        "\n",
        "x= df_espumante_eua['taxa_cambio']\n",
        "y= df_espumante_eua['quantidade']\n",
        "correlation = y.corr(x)\n",
        "\n",
        "print (correlation)\n"
      ],
      "metadata": {
        "colab": {
          "base_uri": "https://localhost:8080/"
        },
        "id": "Oim3-CGteMnK",
        "outputId": "b3b8b181-79b3-4eb7-f171-ae255fc37591"
      },
      "id": "Oim3-CGteMnK",
      "execution_count": 2022,
      "outputs": [
        {
          "output_type": "stream",
          "name": "stdout",
          "text": [
            "0.7315088723208062\n"
          ]
        }
      ]
    },
    {
      "cell_type": "code",
      "source": [
        "plt.scatter(x, y)\n",
        "plt.title('Correlação entre a taxa de cambio e a exportação de vinhos EUA')\n",
        "plt.xlabel('Taxa de Cambio Real/Dolar')\n",
        "plt.ylabel('Quantidade exportada')\n",
        "\n",
        "\n",
        "plt.plot(np.unique(x), np.poly1d(np.polyfit(x, y, 1))\n",
        "         (np.unique(x)), color='red')\n"
      ],
      "metadata": {
        "colab": {
          "base_uri": "https://localhost:8080/",
          "height": 489
        },
        "id": "UWC5pnICeZD6",
        "outputId": "87b89544-10d3-42df-e3c9-1ba660ac9de6"
      },
      "id": "UWC5pnICeZD6",
      "execution_count": 2023,
      "outputs": [
        {
          "output_type": "execute_result",
          "data": {
            "text/plain": [
              "[<matplotlib.lines.Line2D at 0x7fe981170070>]"
            ]
          },
          "metadata": {},
          "execution_count": 2023
        },
        {
          "output_type": "display_data",
          "data": {
            "text/plain": [
              "<Figure size 640x480 with 1 Axes>"
            ],
            "image/png": "[encoded data removed]"
          },
          "metadata": {}
        }
      ]
    },
    {
      "cell_type": "markdown",
      "source": [
        "Existe uma forte correlação entre a taxa de cambio e quantidade de vinhos exportados para o EUA. Portanto o aumento ou queda da taxa de cambio pode afetar diretamente as exportações  de vinho para este pais."
      ],
      "metadata": {
        "id": "IWk7JN_-ehMY"
      },
      "id": "IWk7JN_-ehMY"
    },
    {
      "cell_type": "markdown",
      "source": [
        "##1.9 Correlação entre a quantidade de espumantes exportados para Paraguai e a taxa de inflação do Paraguai.\n"
      ],
      "metadata": {
        "id": "Ra4C0zuse1lZ"
      },
      "id": "Ra4C0zuse1lZ"
    },
    {
      "cell_type": "code",
      "source": [
        "#calculo do coeficiente de Person\n",
        "import sklearn\n",
        "import numpy as np\n",
        "import matplotlib.pyplot as plt\n",
        "import pandas as pd\n",
        "\n",
        "x= df_espumante_paraguai['taxa_paraguai']\n",
        "y= df_espumante_paraguai['quantidade']\n",
        "correlation = y.corr(x)\n",
        "\n",
        "print (correlation)\n"
      ],
      "metadata": {
        "colab": {
          "base_uri": "https://localhost:8080/"
        },
        "id": "YgmezBdOfA4Q",
        "outputId": "376e5682-a008-4b52-e325-1ebfa1133755"
      },
      "id": "YgmezBdOfA4Q",
      "execution_count": 2024,
      "outputs": [
        {
          "output_type": "stream",
          "name": "stdout",
          "text": [
            "-0.43961784764906486\n"
          ]
        }
      ]
    },
    {
      "cell_type": "code",
      "source": [
        "plt.scatter(x, y)\n",
        "plt.title('Correlação entre a inflação do Paraguai e a exportação de espumante')\n",
        "plt.xlabel('Taxa de inflação Paraguai')\n",
        "plt.ylabel('Quantidade exportada')\n",
        "\n",
        "\n",
        "plt.plot(np.unique(x), np.poly1d(np.polyfit(x, y, 1))\n",
        "         (np.unique(x)), color='red')\n"
      ],
      "metadata": {
        "colab": {
          "base_uri": "https://localhost:8080/",
          "height": 489
        },
        "id": "qyTtIFcrfwvd",
        "outputId": "ce93041e-5183-41a8-add4-e59f4255b96f"
      },
      "id": "qyTtIFcrfwvd",
      "execution_count": 2025,
      "outputs": [
        {
          "output_type": "execute_result",
          "data": {
            "text/plain": [
              "[<matplotlib.lines.Line2D at 0x7fe980ffcbe0>]"
            ]
          },
          "metadata": {},
          "execution_count": 2025
        },
        {
          "output_type": "display_data",
          "data": {
            "text/plain": [
              "<Figure size 640x480 with 1 Axes>"
            ],
            "image/png": "[encoded data removed]"
          },
          "metadata": {}
        }
      ]
    },
    {
      "cell_type": "markdown",
      "source": [
        "##1.10 Correlação entre a quantidade de espumantes exportados para Paraguai e a taxa de inflação *brasileira*.\n"
      ],
      "metadata": {
        "id": "R65JZB3-gIvG"
      },
      "id": "R65JZB3-gIvG"
    },
    {
      "cell_type": "code",
      "source": [
        "#calculo do coeficiente de Person\n",
        "import sklearn\n",
        "import numpy as np\n",
        "import matplotlib.pyplot as plt\n",
        "import pandas as pd\n",
        "\n",
        "x= df_espumante_paraguai['taxa_br']\n",
        "y= df_espumante_paraguai['quantidade']\n",
        "correlation = y.corr(x)\n",
        "\n",
        "print (correlation)\n"
      ],
      "metadata": {
        "colab": {
          "base_uri": "https://localhost:8080/"
        },
        "id": "80H4KREugEST",
        "outputId": "bb198859-426e-4662-9a05-d7ee2b3fd0a9"
      },
      "id": "80H4KREugEST",
      "execution_count": 2026,
      "outputs": [
        {
          "output_type": "stream",
          "name": "stdout",
          "text": [
            "-0.19638368338860696\n"
          ]
        }
      ]
    },
    {
      "cell_type": "code",
      "source": [
        "plt.scatter(x, y)\n",
        "plt.title('Correlação entre a inflação brasileira e a exportação de espumante Paraguai')\n",
        "plt.xlabel('Taxa de inflação brasileira')\n",
        "plt.ylabel('Quantidade exportada')\n",
        "\n",
        "\n",
        "plt.plot(np.unique(x), np.poly1d(np.polyfit(x, y, 1))\n",
        "         (np.unique(x)), color='red')\n"
      ],
      "metadata": {
        "colab": {
          "base_uri": "https://localhost:8080/",
          "height": 489
        },
        "id": "2M6rE3d2gVeC",
        "outputId": "79e53290-73f2-4cb0-b32d-966a371e878f"
      },
      "id": "2M6rE3d2gVeC",
      "execution_count": 2027,
      "outputs": [
        {
          "output_type": "execute_result",
          "data": {
            "text/plain": [
              "[<matplotlib.lines.Line2D at 0x7fe981070640>]"
            ]
          },
          "metadata": {},
          "execution_count": 2027
        },
        {
          "output_type": "display_data",
          "data": {
            "text/plain": [
              "<Figure size 640x480 with 1 Axes>"
            ],
            "image/png": "[encoded data removed]"
          },
          "metadata": {}
        }
      ]
    },
    {
      "cell_type": "markdown",
      "source": [
        "##1.13 Correlação entre a quantidade de espumantes exportados para Paraguai e a taxa de cambio\n"
      ],
      "metadata": {
        "id": "g9bgCEHdhqCc"
      },
      "id": "g9bgCEHdhqCc"
    },
    {
      "cell_type": "code",
      "source": [
        "#calculo do coeficiente de Person\n",
        "import sklearn\n",
        "import numpy as np\n",
        "import matplotlib.pyplot as plt\n",
        "import pandas as pd\n",
        "\n",
        "x= df_espumante_paraguai['taxa_cambio']\n",
        "y= df_espumante_paraguai['quantidade']\n",
        "correlation = y.corr(x)\n",
        "\n",
        "print (correlation)\n"
      ],
      "metadata": {
        "colab": {
          "base_uri": "https://localhost:8080/"
        },
        "id": "k-MEGffagwgd",
        "outputId": "db8af4f9-9fcc-4786-a628-5720242187e3"
      },
      "id": "k-MEGffagwgd",
      "execution_count": 2028,
      "outputs": [
        {
          "output_type": "stream",
          "name": "stdout",
          "text": [
            "0.544233297799919\n"
          ]
        }
      ]
    },
    {
      "cell_type": "code",
      "source": [
        "plt.scatter(x, y)\n",
        "plt.title('Correlação entre a taxa de cambio e a exportação de espumante Paraguai')\n",
        "plt.xlabel('Taxa de cambio')\n",
        "plt.ylabel('Quantidade exportada')\n",
        "\n",
        "\n",
        "plt.plot(np.unique(x), np.poly1d(np.polyfit(x, y, 1))\n",
        "         (np.unique(x)), color='red')\n"
      ],
      "metadata": {
        "colab": {
          "base_uri": "https://localhost:8080/",
          "height": 489
        },
        "id": "ctkOP85eg_Xm",
        "outputId": "83a295ac-fdec-42ce-8bad-b59033954b54"
      },
      "id": "ctkOP85eg_Xm",
      "execution_count": 2029,
      "outputs": [
        {
          "output_type": "execute_result",
          "data": {
            "text/plain": [
              "[<matplotlib.lines.Line2D at 0x7fe980ec7e50>]"
            ]
          },
          "metadata": {},
          "execution_count": 2029
        },
        {
          "output_type": "display_data",
          "data": {
            "text/plain": [
              "<Figure size 640x480 with 1 Axes>"
            ],
            "image/png": "[encoded data removed]"
          },
          "metadata": {}
        }
      ]
    },
    {
      "cell_type": "markdown",
      "source": [
        "Existe uma  correlação moderada entre a taxa de cambio e quantidade de vinhos exportados para o EUA. Portanto o aumento ou queda da taxa de cambio pode afetar diretamente as exportações  de vinho para este pais."
      ],
      "metadata": {
        "id": "usd8JdwVhXZH"
      },
      "id": "usd8JdwVhXZH"
    }
  ],
  "metadata": {
    "kernelspec": {
      "display_name": "Python 3 (ipykernel)",
      "language": "python",
      "name": "python3"
    },
    "language_info": {
      "codemirror_mode": {
        "name": "ipython",
        "version": 3
      },
      "file_extension": ".py",
      "mimetype": "text/x-python",
      "name": "python",
      "nbconvert_exporter": "python",
      "pygments_lexer": "ipython3",
      "version": "3.10.11"
    },
    "colab": {
      "provenance": [],
      "collapsed_sections": [
        "052b2ab4-2387-4690-91e5-0956e0230c4f",
        "4c30c51b-9071-4734-9727-ddd57e33a92b",
        "ab7797f6-f1c8-49b3-95d4-7085edd2a1a8",
        "adb0b177-d0bf-4243-84a2-20aae7f6a8ad",
        "unVVH5WZMb0M",
        "_ufXmGRQicyF",
        "hemC47wxyCO-",
        "BbdirovTiLV0",
        "g77LhNXoTyNK",
        "n_L4-_QsYfm0",
        "tAqCkCZaZbSP"
      ]
    }
  },
  "nbformat": 4,
  "nbformat_minor": 5
}