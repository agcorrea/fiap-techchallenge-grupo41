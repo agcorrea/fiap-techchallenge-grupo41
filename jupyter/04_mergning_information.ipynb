{
 "cells": [
  {
   "cell_type": "markdown",
   "id": "f8f9186a-b93e-41c0-94da-b92dcd85555e",
   "metadata": {
    "tags": []
   },
   "source": [
    "## Descrição"
   ]
  },
  {
   "cell_type": "markdown",
   "id": "ee7abf4d-40da-4948-b8d0-63292f7aec31",
   "metadata": {
    "tags": []
   },
   "source": [
    "## Importando bibliotecas"
   ]
  },
  {
   "cell_type": "code",
   "execution_count": 1,
   "id": "6571c17e-ae24-4848-9b8a-b7c46059b363",
   "metadata": {
    "tags": []
   },
   "outputs": [],
   "source": [
    "import pandas as pd\n",
    "import unidecode"
   ]
  },
  {
   "cell_type": "markdown",
   "id": "608d3e63-67e3-48f0-b618-4191decc8c61",
   "metadata": {
    "tags": []
   },
   "source": [
    "## Funções usadas para facilitar"
   ]
  },
  {
   "cell_type": "code",
   "execution_count": 2,
   "id": "a4b031be-a892-40c7-871f-3f6eb28a12c5",
   "metadata": {
    "tags": []
   },
   "outputs": [],
   "source": [
    "def limpa_string(string: str) -> str:\n",
    "    \n",
    "    string_limpa = unidecode.unidecode(string).replace(' ','').lower()\n",
    "    return string_limpa"
   ]
  },
  {
   "cell_type": "markdown",
   "id": "a451daff-563d-433b-af92-50fbca54c13e",
   "metadata": {
    "tags": []
   },
   "source": [
    "## Acessando e formatando fontes externas"
   ]
  },
  {
   "cell_type": "markdown",
   "id": "0aa6808c-c9b5-4a52-996f-50fc1fe7f5e5",
   "metadata": {
    "tags": []
   },
   "source": [
    "### Informação de continente\n",
    "Arquivo gerado com o auxilio do ChatGPT:\n",
    "- https://chat.openai.com/share/03e30b53-c1cb-41d9-8521-98c130cba817"
   ]
  },
  {
   "cell_type": "code",
   "execution_count": 3,
   "id": "6a3f89be-67c6-41c7-a234-d6349afa9e62",
   "metadata": {
    "tags": []
   },
   "outputs": [
    {
     "data": {
      "text/html": [
       "<div>\n",
       "<style scoped>\n",
       "    .dataframe tbody tr th:only-of-type {\n",
       "        vertical-align: middle;\n",
       "    }\n",
       "\n",
       "    .dataframe tbody tr th {\n",
       "        vertical-align: top;\n",
       "    }\n",
       "\n",
       "    .dataframe thead th {\n",
       "        text-align: right;\n",
       "    }\n",
       "</style>\n",
       "<table border=\"1\" class=\"dataframe\">\n",
       "  <thead>\n",
       "    <tr style=\"text-align: right;\">\n",
       "      <th></th>\n",
       "      <th>pais</th>\n",
       "      <th>continente</th>\n",
       "      <th>country_code</th>\n",
       "      <th>pais_code</th>\n",
       "    </tr>\n",
       "  </thead>\n",
       "  <tbody>\n",
       "    <tr>\n",
       "      <th>0</th>\n",
       "      <td>Afeganistão</td>\n",
       "      <td>Ásia</td>\n",
       "      <td>AFG</td>\n",
       "      <td>afeganistao</td>\n",
       "    </tr>\n",
       "    <tr>\n",
       "      <th>1</th>\n",
       "      <td>África do Sul</td>\n",
       "      <td>África</td>\n",
       "      <td>ZAF</td>\n",
       "      <td>africadosul</td>\n",
       "    </tr>\n",
       "    <tr>\n",
       "      <th>2</th>\n",
       "      <td>Albânia</td>\n",
       "      <td>Europa</td>\n",
       "      <td>ALB</td>\n",
       "      <td>albania</td>\n",
       "    </tr>\n",
       "    <tr>\n",
       "      <th>3</th>\n",
       "      <td>Alemanha</td>\n",
       "      <td>Europa</td>\n",
       "      <td>DEU</td>\n",
       "      <td>alemanha</td>\n",
       "    </tr>\n",
       "    <tr>\n",
       "      <th>4</th>\n",
       "      <td>Andorra</td>\n",
       "      <td>Europa</td>\n",
       "      <td>AND</td>\n",
       "      <td>andorra</td>\n",
       "    </tr>\n",
       "  </tbody>\n",
       "</table>\n",
       "</div>"
      ],
      "text/plain": [
       "            pais continente country_code    pais_code\n",
       "0    Afeganistão       Ásia          AFG  afeganistao\n",
       "1  África do Sul     África          ZAF  africadosul\n",
       "2        Albânia     Europa          ALB      albania\n",
       "3       Alemanha     Europa          DEU     alemanha\n",
       "4        Andorra     Europa          AND      andorra"
      ]
     },
     "execution_count": 3,
     "metadata": {},
     "output_type": "execute_result"
    }
   ],
   "source": [
    "arquivo = '../dados/external/pais_e_continente_2.txt'\n",
    "df_continente = pd.read_csv(arquivo, delimiter='|')\n",
    "df_continente.columns = ['pais', 'continente', 'country_code']\n",
    "df_continente['pais_code'] = df_continente['pais'].apply(limpa_string)\n",
    "df_continente.head()"
   ]
  },
  {
   "cell_type": "code",
   "execution_count": 4,
   "id": "2c48df50-c4b6-4389-8aa1-b3681d406815",
   "metadata": {
    "tags": []
   },
   "outputs": [
    {
     "data": {
      "text/html": [
       "<div>\n",
       "<style scoped>\n",
       "    .dataframe tbody tr th:only-of-type {\n",
       "        vertical-align: middle;\n",
       "    }\n",
       "\n",
       "    .dataframe tbody tr th {\n",
       "        vertical-align: top;\n",
       "    }\n",
       "\n",
       "    .dataframe thead th {\n",
       "        text-align: right;\n",
       "    }\n",
       "</style>\n",
       "<table border=\"1\" class=\"dataframe\">\n",
       "  <thead>\n",
       "    <tr style=\"text-align: right;\">\n",
       "      <th></th>\n",
       "      <th>pais</th>\n",
       "      <th>continente</th>\n",
       "      <th>country_code</th>\n",
       "      <th>pais_code</th>\n",
       "    </tr>\n",
       "  </thead>\n",
       "  <tbody>\n",
       "    <tr>\n",
       "      <th>72</th>\n",
       "      <td>Finlândia</td>\n",
       "      <td>Europa</td>\n",
       "      <td>FIN</td>\n",
       "      <td>finlandia</td>\n",
       "    </tr>\n",
       "  </tbody>\n",
       "</table>\n",
       "</div>"
      ],
      "text/plain": [
       "         pais continente country_code  pais_code\n",
       "72  Finlândia     Europa          FIN  finlandia"
      ]
     },
     "execution_count": 4,
     "metadata": {},
     "output_type": "execute_result"
    }
   ],
   "source": [
    "df_continente[df_continente['pais'].str.startswith('Fin')]"
   ]
  },
  {
   "cell_type": "code",
   "execution_count": 5,
   "id": "64844af5-1b9f-4d18-b0aa-7f30d1e2bf7c",
   "metadata": {
    "tags": []
   },
   "outputs": [
    {
     "data": {
      "text/html": [
       "<div>\n",
       "<style scoped>\n",
       "    .dataframe tbody tr th:only-of-type {\n",
       "        vertical-align: middle;\n",
       "    }\n",
       "\n",
       "    .dataframe tbody tr th {\n",
       "        vertical-align: top;\n",
       "    }\n",
       "\n",
       "    .dataframe thead th {\n",
       "        text-align: right;\n",
       "    }\n",
       "</style>\n",
       "<table border=\"1\" class=\"dataframe\">\n",
       "  <thead>\n",
       "    <tr style=\"text-align: right;\">\n",
       "      <th></th>\n",
       "      <th>pais</th>\n",
       "      <th>continente</th>\n",
       "      <th>country_code</th>\n",
       "      <th>pais_code</th>\n",
       "    </tr>\n",
       "  </thead>\n",
       "  <tbody>\n",
       "    <tr>\n",
       "      <th>0</th>\n",
       "      <td>Afeganistão</td>\n",
       "      <td>Ásia</td>\n",
       "      <td>AFG</td>\n",
       "      <td>afeganistao</td>\n",
       "    </tr>\n",
       "  </tbody>\n",
       "</table>\n",
       "</div>"
      ],
      "text/plain": [
       "          pais continente country_code    pais_code\n",
       "0  Afeganistão       Ásia          AFG  afeganistao"
      ]
     },
     "execution_count": 5,
     "metadata": {},
     "output_type": "execute_result"
    }
   ],
   "source": [
    "df_continente[df_continente['country_code'] == 'AFG']"
   ]
  },
  {
   "cell_type": "markdown",
   "id": "05a1d782-be05-4243-adbd-5ca15648cea3",
   "metadata": {
    "tags": []
   },
   "source": [
    "***"
   ]
  },
  {
   "cell_type": "markdown",
   "id": "e1ff27d4-2c91-4e27-af31-d583d9c88191",
   "metadata": {
    "tags": []
   },
   "source": [
    "### Informação de inflação\n",
    "- https://www.worldbank.org/en/research/brief/inflation-database\n",
    "- type: Headline Consumer Price Inflation\n",
    "- \"Note: For those countries where annual data are not yet availalbe for 2022, annual averages of monthly or quarterly inflation in 2022 with available data or the projections by the IMF World Economic Outlook (October 2022) are included instead.\""
   ]
  },
  {
   "cell_type": "code",
   "execution_count": 6,
   "id": "a26797c3-c6f3-408e-862a-78135112bfd4",
   "metadata": {
    "tags": []
   },
   "outputs": [
    {
     "data": {
      "text/html": [
       "<div>\n",
       "<style scoped>\n",
       "    .dataframe tbody tr th:only-of-type {\n",
       "        vertical-align: middle;\n",
       "    }\n",
       "\n",
       "    .dataframe tbody tr th {\n",
       "        vertical-align: top;\n",
       "    }\n",
       "\n",
       "    .dataframe thead th {\n",
       "        text-align: right;\n",
       "    }\n",
       "</style>\n",
       "<table border=\"1\" class=\"dataframe\">\n",
       "  <thead>\n",
       "    <tr style=\"text-align: right;\">\n",
       "      <th></th>\n",
       "      <th>Country Code</th>\n",
       "      <th>1970</th>\n",
       "      <th>1971</th>\n",
       "      <th>1972</th>\n",
       "      <th>1973</th>\n",
       "      <th>1974</th>\n",
       "      <th>1975</th>\n",
       "      <th>1976</th>\n",
       "      <th>1977</th>\n",
       "      <th>1978</th>\n",
       "      <th>...</th>\n",
       "      <th>2013</th>\n",
       "      <th>2014</th>\n",
       "      <th>2015</th>\n",
       "      <th>2016</th>\n",
       "      <th>2017</th>\n",
       "      <th>2018</th>\n",
       "      <th>2019</th>\n",
       "      <th>2020</th>\n",
       "      <th>2021</th>\n",
       "      <th>2022</th>\n",
       "    </tr>\n",
       "  </thead>\n",
       "  <tbody>\n",
       "    <tr>\n",
       "      <th>0</th>\n",
       "      <td>ABW</td>\n",
       "      <td>0.000000</td>\n",
       "      <td>0.000000</td>\n",
       "      <td>0.000000</td>\n",
       "      <td>0.000000</td>\n",
       "      <td>0.000000</td>\n",
       "      <td>0.000000</td>\n",
       "      <td>0.000000</td>\n",
       "      <td>0.000000</td>\n",
       "      <td>0.000000</td>\n",
       "      <td>...</td>\n",
       "      <td>-2.370000</td>\n",
       "      <td>0.420000</td>\n",
       "      <td>0.480000</td>\n",
       "      <td>-0.890000</td>\n",
       "      <td>-0.474</td>\n",
       "      <td>3.58</td>\n",
       "      <td>4.257</td>\n",
       "      <td>1.222000</td>\n",
       "      <td>0.744000</td>\n",
       "      <td>5.520000</td>\n",
       "    </tr>\n",
       "    <tr>\n",
       "      <th>1</th>\n",
       "      <td>AFG</td>\n",
       "      <td>25.510000</td>\n",
       "      <td>25.510000</td>\n",
       "      <td>-12.520000</td>\n",
       "      <td>-10.680000</td>\n",
       "      <td>10.230000</td>\n",
       "      <td>11.850000</td>\n",
       "      <td>0.600000</td>\n",
       "      <td>7.650000</td>\n",
       "      <td>5.000000</td>\n",
       "      <td>...</td>\n",
       "      <td>7.390000</td>\n",
       "      <td>4.670000</td>\n",
       "      <td>-0.660000</td>\n",
       "      <td>4.380000</td>\n",
       "      <td>4.976</td>\n",
       "      <td>0.63</td>\n",
       "      <td>2.302</td>\n",
       "      <td>5.443000</td>\n",
       "      <td>5.062000</td>\n",
       "      <td>0.000000</td>\n",
       "    </tr>\n",
       "    <tr>\n",
       "      <th>2</th>\n",
       "      <td>AGO</td>\n",
       "      <td>7.970000</td>\n",
       "      <td>5.780000</td>\n",
       "      <td>15.800000</td>\n",
       "      <td>15.670000</td>\n",
       "      <td>27.420000</td>\n",
       "      <td>29.000000</td>\n",
       "      <td>80.699997</td>\n",
       "      <td>69.010002</td>\n",
       "      <td>48.459999</td>\n",
       "      <td>...</td>\n",
       "      <td>8.782000</td>\n",
       "      <td>7.298000</td>\n",
       "      <td>9.159000</td>\n",
       "      <td>32.377731</td>\n",
       "      <td>29.844</td>\n",
       "      <td>19.63</td>\n",
       "      <td>17.079</td>\n",
       "      <td>21.024000</td>\n",
       "      <td>23.846111</td>\n",
       "      <td>23.826819</td>\n",
       "    </tr>\n",
       "    <tr>\n",
       "      <th>3</th>\n",
       "      <td>ALB</td>\n",
       "      <td>0.000000</td>\n",
       "      <td>0.000000</td>\n",
       "      <td>0.000000</td>\n",
       "      <td>0.000000</td>\n",
       "      <td>0.000000</td>\n",
       "      <td>0.000000</td>\n",
       "      <td>0.000000</td>\n",
       "      <td>0.000000</td>\n",
       "      <td>0.000000</td>\n",
       "      <td>...</td>\n",
       "      <td>1.934749</td>\n",
       "      <td>1.621947</td>\n",
       "      <td>1.910179</td>\n",
       "      <td>1.291234</td>\n",
       "      <td>1.987</td>\n",
       "      <td>2.03</td>\n",
       "      <td>1.411</td>\n",
       "      <td>1.620887</td>\n",
       "      <td>2.041472</td>\n",
       "      <td>6.725203</td>\n",
       "    </tr>\n",
       "    <tr>\n",
       "      <th>4</th>\n",
       "      <td>ARE</td>\n",
       "      <td>21.984699</td>\n",
       "      <td>21.984699</td>\n",
       "      <td>21.984699</td>\n",
       "      <td>21.984699</td>\n",
       "      <td>21.984699</td>\n",
       "      <td>21.984699</td>\n",
       "      <td>21.984699</td>\n",
       "      <td>21.969700</td>\n",
       "      <td>13.043500</td>\n",
       "      <td>...</td>\n",
       "      <td>1.094026</td>\n",
       "      <td>2.344322</td>\n",
       "      <td>4.067132</td>\n",
       "      <td>1.619795</td>\n",
       "      <td>1.967</td>\n",
       "      <td>3.06</td>\n",
       "      <td>-1.931</td>\n",
       "      <td>-2.079403</td>\n",
       "      <td>0.180000</td>\n",
       "      <td>4.827889</td>\n",
       "    </tr>\n",
       "  </tbody>\n",
       "</table>\n",
       "<p>5 rows × 54 columns</p>\n",
       "</div>"
      ],
      "text/plain": [
       "  Country Code       1970       1971       1972       1973       1974  \\\n",
       "0          ABW   0.000000   0.000000   0.000000   0.000000   0.000000   \n",
       "1          AFG  25.510000  25.510000 -12.520000 -10.680000  10.230000   \n",
       "2          AGO   7.970000   5.780000  15.800000  15.670000  27.420000   \n",
       "3          ALB   0.000000   0.000000   0.000000   0.000000   0.000000   \n",
       "4          ARE  21.984699  21.984699  21.984699  21.984699  21.984699   \n",
       "\n",
       "        1975       1976       1977       1978  ...      2013      2014  \\\n",
       "0   0.000000   0.000000   0.000000   0.000000  ... -2.370000  0.420000   \n",
       "1  11.850000   0.600000   7.650000   5.000000  ...  7.390000  4.670000   \n",
       "2  29.000000  80.699997  69.010002  48.459999  ...  8.782000  7.298000   \n",
       "3   0.000000   0.000000   0.000000   0.000000  ...  1.934749  1.621947   \n",
       "4  21.984699  21.984699  21.969700  13.043500  ...  1.094026  2.344322   \n",
       "\n",
       "       2015       2016    2017   2018    2019       2020       2021       2022  \n",
       "0  0.480000  -0.890000  -0.474   3.58   4.257   1.222000   0.744000   5.520000  \n",
       "1 -0.660000   4.380000   4.976   0.63   2.302   5.443000   5.062000   0.000000  \n",
       "2  9.159000  32.377731  29.844  19.63  17.079  21.024000  23.846111  23.826819  \n",
       "3  1.910179   1.291234   1.987   2.03   1.411   1.620887   2.041472   6.725203  \n",
       "4  4.067132   1.619795   1.967   3.06  -1.931  -2.079403   0.180000   4.827889  \n",
       "\n",
       "[5 rows x 54 columns]"
      ]
     },
     "execution_count": 6,
     "metadata": {},
     "output_type": "execute_result"
    }
   ],
   "source": [
    "df_inflacao = pd.read_excel('../dados/external/Inflation-data.xlsx',\n",
    "                           sheet_name='hcpi_a').fillna(0)\n",
    "\n",
    "columns_filter = list(df_inflacao.columns[5:-2])\n",
    "columns_filter.insert(0, 'Country Code')\n",
    "df_inflacao = df_inflacao[columns_filter]\n",
    "df_inflacao.head()"
   ]
  },
  {
   "cell_type": "code",
   "execution_count": 7,
   "id": "4f913e91-2e8e-4a53-8b1f-454c80966c1c",
   "metadata": {
    "tags": []
   },
   "outputs": [
    {
     "data": {
      "text/html": [
       "<div>\n",
       "<style scoped>\n",
       "    .dataframe tbody tr th:only-of-type {\n",
       "        vertical-align: middle;\n",
       "    }\n",
       "\n",
       "    .dataframe tbody tr th {\n",
       "        vertical-align: top;\n",
       "    }\n",
       "\n",
       "    .dataframe thead th {\n",
       "        text-align: right;\n",
       "    }\n",
       "</style>\n",
       "<table border=\"1\" class=\"dataframe\">\n",
       "  <thead>\n",
       "    <tr style=\"text-align: right;\">\n",
       "      <th></th>\n",
       "      <th>country_code</th>\n",
       "      <th>ano</th>\n",
       "      <th>inflacao</th>\n",
       "    </tr>\n",
       "  </thead>\n",
       "  <tbody>\n",
       "    <tr>\n",
       "      <th>0</th>\n",
       "      <td>ABW</td>\n",
       "      <td>1970</td>\n",
       "      <td>0.0</td>\n",
       "    </tr>\n",
       "    <tr>\n",
       "      <th>1</th>\n",
       "      <td>AFG</td>\n",
       "      <td>1970</td>\n",
       "      <td>25.5</td>\n",
       "    </tr>\n",
       "    <tr>\n",
       "      <th>2</th>\n",
       "      <td>AGO</td>\n",
       "      <td>1970</td>\n",
       "      <td>8.0</td>\n",
       "    </tr>\n",
       "    <tr>\n",
       "      <th>3</th>\n",
       "      <td>ALB</td>\n",
       "      <td>1970</td>\n",
       "      <td>0.0</td>\n",
       "    </tr>\n",
       "    <tr>\n",
       "      <th>4</th>\n",
       "      <td>ARE</td>\n",
       "      <td>1970</td>\n",
       "      <td>22.0</td>\n",
       "    </tr>\n",
       "  </tbody>\n",
       "</table>\n",
       "</div>"
      ],
      "text/plain": [
       "  country_code   ano  inflacao\n",
       "0          ABW  1970       0.0\n",
       "1          AFG  1970      25.5\n",
       "2          AGO  1970       8.0\n",
       "3          ALB  1970       0.0\n",
       "4          ARE  1970      22.0"
      ]
     },
     "execution_count": 7,
     "metadata": {},
     "output_type": "execute_result"
    }
   ],
   "source": [
    "df_inflacao_melted = df_inflacao.melt(id_vars=['Country Code'], value_vars=df_inflacao.columns[1:])\n",
    "df_inflacao_melted.columns = ['country_code', 'ano', 'inflacao']\n",
    "df_inflacao_melted = df_inflacao_melted.round(1)\n",
    "df_inflacao_melted.head()"
   ]
  },
  {
   "cell_type": "code",
   "execution_count": 18,
   "id": "beaaf6a6-e36f-4d37-b15c-b40d9be3ab9b",
   "metadata": {
    "tags": []
   },
   "outputs": [
    {
     "data": {
      "text/html": [
       "<div>\n",
       "<style scoped>\n",
       "    .dataframe tbody tr th:only-of-type {\n",
       "        vertical-align: middle;\n",
       "    }\n",
       "\n",
       "    .dataframe tbody tr th {\n",
       "        vertical-align: top;\n",
       "    }\n",
       "\n",
       "    .dataframe thead th {\n",
       "        text-align: right;\n",
       "    }\n",
       "</style>\n",
       "<table border=\"1\" class=\"dataframe\">\n",
       "  <thead>\n",
       "    <tr style=\"text-align: right;\">\n",
       "      <th></th>\n",
       "      <th>country_code</th>\n",
       "      <th>ano</th>\n",
       "      <th>inflacao</th>\n",
       "    </tr>\n",
       "  </thead>\n",
       "  <tbody>\n",
       "    <tr>\n",
       "      <th>23</th>\n",
       "      <td>BRA</td>\n",
       "      <td>1970</td>\n",
       "      <td>22.3</td>\n",
       "    </tr>\n",
       "    <tr>\n",
       "      <th>228</th>\n",
       "      <td>BRA</td>\n",
       "      <td>1971</td>\n",
       "      <td>20.1</td>\n",
       "    </tr>\n",
       "    <tr>\n",
       "      <th>433</th>\n",
       "      <td>BRA</td>\n",
       "      <td>1972</td>\n",
       "      <td>16.5</td>\n",
       "    </tr>\n",
       "    <tr>\n",
       "      <th>638</th>\n",
       "      <td>BRA</td>\n",
       "      <td>1973</td>\n",
       "      <td>12.6</td>\n",
       "    </tr>\n",
       "    <tr>\n",
       "      <th>843</th>\n",
       "      <td>BRA</td>\n",
       "      <td>1974</td>\n",
       "      <td>27.6</td>\n",
       "    </tr>\n",
       "    <tr>\n",
       "      <th>1048</th>\n",
       "      <td>BRA</td>\n",
       "      <td>1975</td>\n",
       "      <td>28.9</td>\n",
       "    </tr>\n",
       "    <tr>\n",
       "      <th>1253</th>\n",
       "      <td>BRA</td>\n",
       "      <td>1976</td>\n",
       "      <td>42.0</td>\n",
       "    </tr>\n",
       "    <tr>\n",
       "      <th>1458</th>\n",
       "      <td>BRA</td>\n",
       "      <td>1977</td>\n",
       "      <td>43.7</td>\n",
       "    </tr>\n",
       "    <tr>\n",
       "      <th>1663</th>\n",
       "      <td>BRA</td>\n",
       "      <td>1978</td>\n",
       "      <td>38.7</td>\n",
       "    </tr>\n",
       "    <tr>\n",
       "      <th>1868</th>\n",
       "      <td>BRA</td>\n",
       "      <td>1979</td>\n",
       "      <td>53.9</td>\n",
       "    </tr>\n",
       "    <tr>\n",
       "      <th>2073</th>\n",
       "      <td>BRA</td>\n",
       "      <td>1980</td>\n",
       "      <td>90.2</td>\n",
       "    </tr>\n",
       "    <tr>\n",
       "      <th>2278</th>\n",
       "      <td>BRA</td>\n",
       "      <td>1981</td>\n",
       "      <td>101.7</td>\n",
       "    </tr>\n",
       "    <tr>\n",
       "      <th>2483</th>\n",
       "      <td>BRA</td>\n",
       "      <td>1982</td>\n",
       "      <td>100.5</td>\n",
       "    </tr>\n",
       "    <tr>\n",
       "      <th>2688</th>\n",
       "      <td>BRA</td>\n",
       "      <td>1983</td>\n",
       "      <td>135.0</td>\n",
       "    </tr>\n",
       "    <tr>\n",
       "      <th>2893</th>\n",
       "      <td>BRA</td>\n",
       "      <td>1984</td>\n",
       "      <td>192.1</td>\n",
       "    </tr>\n",
       "    <tr>\n",
       "      <th>3098</th>\n",
       "      <td>BRA</td>\n",
       "      <td>1985</td>\n",
       "      <td>226.0</td>\n",
       "    </tr>\n",
       "    <tr>\n",
       "      <th>3303</th>\n",
       "      <td>BRA</td>\n",
       "      <td>1986</td>\n",
       "      <td>147.1</td>\n",
       "    </tr>\n",
       "    <tr>\n",
       "      <th>3508</th>\n",
       "      <td>BRA</td>\n",
       "      <td>1987</td>\n",
       "      <td>228.3</td>\n",
       "    </tr>\n",
       "    <tr>\n",
       "      <th>3713</th>\n",
       "      <td>BRA</td>\n",
       "      <td>1988</td>\n",
       "      <td>629.1</td>\n",
       "    </tr>\n",
       "    <tr>\n",
       "      <th>3918</th>\n",
       "      <td>BRA</td>\n",
       "      <td>1989</td>\n",
       "      <td>1430.7</td>\n",
       "    </tr>\n",
       "    <tr>\n",
       "      <th>4123</th>\n",
       "      <td>BRA</td>\n",
       "      <td>1990</td>\n",
       "      <td>2947.7</td>\n",
       "    </tr>\n",
       "    <tr>\n",
       "      <th>4328</th>\n",
       "      <td>BRA</td>\n",
       "      <td>1991</td>\n",
       "      <td>432.8</td>\n",
       "    </tr>\n",
       "    <tr>\n",
       "      <th>4533</th>\n",
       "      <td>BRA</td>\n",
       "      <td>1992</td>\n",
       "      <td>952.0</td>\n",
       "    </tr>\n",
       "    <tr>\n",
       "      <th>4738</th>\n",
       "      <td>BRA</td>\n",
       "      <td>1993</td>\n",
       "      <td>1927.4</td>\n",
       "    </tr>\n",
       "    <tr>\n",
       "      <th>4943</th>\n",
       "      <td>BRA</td>\n",
       "      <td>1994</td>\n",
       "      <td>2075.9</td>\n",
       "    </tr>\n",
       "    <tr>\n",
       "      <th>5148</th>\n",
       "      <td>BRA</td>\n",
       "      <td>1995</td>\n",
       "      <td>66.0</td>\n",
       "    </tr>\n",
       "    <tr>\n",
       "      <th>5353</th>\n",
       "      <td>BRA</td>\n",
       "      <td>1996</td>\n",
       "      <td>15.8</td>\n",
       "    </tr>\n",
       "    <tr>\n",
       "      <th>5558</th>\n",
       "      <td>BRA</td>\n",
       "      <td>1997</td>\n",
       "      <td>6.9</td>\n",
       "    </tr>\n",
       "    <tr>\n",
       "      <th>5763</th>\n",
       "      <td>BRA</td>\n",
       "      <td>1998</td>\n",
       "      <td>3.2</td>\n",
       "    </tr>\n",
       "    <tr>\n",
       "      <th>5968</th>\n",
       "      <td>BRA</td>\n",
       "      <td>1999</td>\n",
       "      <td>4.9</td>\n",
       "    </tr>\n",
       "    <tr>\n",
       "      <th>6173</th>\n",
       "      <td>BRA</td>\n",
       "      <td>2000</td>\n",
       "      <td>7.0</td>\n",
       "    </tr>\n",
       "    <tr>\n",
       "      <th>6378</th>\n",
       "      <td>BRA</td>\n",
       "      <td>2001</td>\n",
       "      <td>6.8</td>\n",
       "    </tr>\n",
       "    <tr>\n",
       "      <th>6583</th>\n",
       "      <td>BRA</td>\n",
       "      <td>2002</td>\n",
       "      <td>8.5</td>\n",
       "    </tr>\n",
       "    <tr>\n",
       "      <th>6788</th>\n",
       "      <td>BRA</td>\n",
       "      <td>2003</td>\n",
       "      <td>14.7</td>\n",
       "    </tr>\n",
       "    <tr>\n",
       "      <th>6993</th>\n",
       "      <td>BRA</td>\n",
       "      <td>2004</td>\n",
       "      <td>6.6</td>\n",
       "    </tr>\n",
       "    <tr>\n",
       "      <th>7198</th>\n",
       "      <td>BRA</td>\n",
       "      <td>2005</td>\n",
       "      <td>6.9</td>\n",
       "    </tr>\n",
       "    <tr>\n",
       "      <th>7403</th>\n",
       "      <td>BRA</td>\n",
       "      <td>2006</td>\n",
       "      <td>4.2</td>\n",
       "    </tr>\n",
       "    <tr>\n",
       "      <th>7608</th>\n",
       "      <td>BRA</td>\n",
       "      <td>2007</td>\n",
       "      <td>3.6</td>\n",
       "    </tr>\n",
       "    <tr>\n",
       "      <th>7813</th>\n",
       "      <td>BRA</td>\n",
       "      <td>2008</td>\n",
       "      <td>5.7</td>\n",
       "    </tr>\n",
       "    <tr>\n",
       "      <th>8018</th>\n",
       "      <td>BRA</td>\n",
       "      <td>2009</td>\n",
       "      <td>4.9</td>\n",
       "    </tr>\n",
       "    <tr>\n",
       "      <th>8223</th>\n",
       "      <td>BRA</td>\n",
       "      <td>2010</td>\n",
       "      <td>5.0</td>\n",
       "    </tr>\n",
       "    <tr>\n",
       "      <th>8428</th>\n",
       "      <td>BRA</td>\n",
       "      <td>2011</td>\n",
       "      <td>6.6</td>\n",
       "    </tr>\n",
       "    <tr>\n",
       "      <th>8633</th>\n",
       "      <td>BRA</td>\n",
       "      <td>2012</td>\n",
       "      <td>5.4</td>\n",
       "    </tr>\n",
       "    <tr>\n",
       "      <th>8838</th>\n",
       "      <td>BRA</td>\n",
       "      <td>2013</td>\n",
       "      <td>6.2</td>\n",
       "    </tr>\n",
       "    <tr>\n",
       "      <th>9043</th>\n",
       "      <td>BRA</td>\n",
       "      <td>2014</td>\n",
       "      <td>6.3</td>\n",
       "    </tr>\n",
       "    <tr>\n",
       "      <th>9248</th>\n",
       "      <td>BRA</td>\n",
       "      <td>2015</td>\n",
       "      <td>9.0</td>\n",
       "    </tr>\n",
       "    <tr>\n",
       "      <th>9453</th>\n",
       "      <td>BRA</td>\n",
       "      <td>2016</td>\n",
       "      <td>8.7</td>\n",
       "    </tr>\n",
       "    <tr>\n",
       "      <th>9658</th>\n",
       "      <td>BRA</td>\n",
       "      <td>2017</td>\n",
       "      <td>3.4</td>\n",
       "    </tr>\n",
       "    <tr>\n",
       "      <th>9863</th>\n",
       "      <td>BRA</td>\n",
       "      <td>2018</td>\n",
       "      <td>3.7</td>\n",
       "    </tr>\n",
       "    <tr>\n",
       "      <th>10068</th>\n",
       "      <td>BRA</td>\n",
       "      <td>2019</td>\n",
       "      <td>3.7</td>\n",
       "    </tr>\n",
       "    <tr>\n",
       "      <th>10273</th>\n",
       "      <td>BRA</td>\n",
       "      <td>2020</td>\n",
       "      <td>3.2</td>\n",
       "    </tr>\n",
       "    <tr>\n",
       "      <th>10478</th>\n",
       "      <td>BRA</td>\n",
       "      <td>2021</td>\n",
       "      <td>8.3</td>\n",
       "    </tr>\n",
       "    <tr>\n",
       "      <th>10683</th>\n",
       "      <td>BRA</td>\n",
       "      <td>2022</td>\n",
       "      <td>9.3</td>\n",
       "    </tr>\n",
       "  </tbody>\n",
       "</table>\n",
       "</div>"
      ],
      "text/plain": [
       "      country_code   ano  inflacao\n",
       "23             BRA  1970      22.3\n",
       "228            BRA  1971      20.1\n",
       "433            BRA  1972      16.5\n",
       "638            BRA  1973      12.6\n",
       "843            BRA  1974      27.6\n",
       "1048           BRA  1975      28.9\n",
       "1253           BRA  1976      42.0\n",
       "1458           BRA  1977      43.7\n",
       "1663           BRA  1978      38.7\n",
       "1868           BRA  1979      53.9\n",
       "2073           BRA  1980      90.2\n",
       "2278           BRA  1981     101.7\n",
       "2483           BRA  1982     100.5\n",
       "2688           BRA  1983     135.0\n",
       "2893           BRA  1984     192.1\n",
       "3098           BRA  1985     226.0\n",
       "3303           BRA  1986     147.1\n",
       "3508           BRA  1987     228.3\n",
       "3713           BRA  1988     629.1\n",
       "3918           BRA  1989    1430.7\n",
       "4123           BRA  1990    2947.7\n",
       "4328           BRA  1991     432.8\n",
       "4533           BRA  1992     952.0\n",
       "4738           BRA  1993    1927.4\n",
       "4943           BRA  1994    2075.9\n",
       "5148           BRA  1995      66.0\n",
       "5353           BRA  1996      15.8\n",
       "5558           BRA  1997       6.9\n",
       "5763           BRA  1998       3.2\n",
       "5968           BRA  1999       4.9\n",
       "6173           BRA  2000       7.0\n",
       "6378           BRA  2001       6.8\n",
       "6583           BRA  2002       8.5\n",
       "6788           BRA  2003      14.7\n",
       "6993           BRA  2004       6.6\n",
       "7198           BRA  2005       6.9\n",
       "7403           BRA  2006       4.2\n",
       "7608           BRA  2007       3.6\n",
       "7813           BRA  2008       5.7\n",
       "8018           BRA  2009       4.9\n",
       "8223           BRA  2010       5.0\n",
       "8428           BRA  2011       6.6\n",
       "8633           BRA  2012       5.4\n",
       "8838           BRA  2013       6.2\n",
       "9043           BRA  2014       6.3\n",
       "9248           BRA  2015       9.0\n",
       "9453           BRA  2016       8.7\n",
       "9658           BRA  2017       3.4\n",
       "9863           BRA  2018       3.7\n",
       "10068          BRA  2019       3.7\n",
       "10273          BRA  2020       3.2\n",
       "10478          BRA  2021       8.3\n",
       "10683          BRA  2022       9.3"
      ]
     },
     "execution_count": 18,
     "metadata": {},
     "output_type": "execute_result"
    }
   ],
   "source": [
    "df_inflacao_melted[df_inflacao_melted['country_code'] == 'BRA']"
   ]
  },
  {
   "cell_type": "markdown",
   "id": "99cad26f-6afb-49ed-97bf-397e5b1c801e",
   "metadata": {
    "tags": []
   },
   "source": [
    "***"
   ]
  },
  {
   "cell_type": "markdown",
   "id": "39d70929-1746-46de-9bde-772cef8b99f3",
   "metadata": {
    "tags": []
   },
   "source": [
    "## Juntando informações"
   ]
  },
  {
   "cell_type": "markdown",
   "id": "689267a5-62a9-4876-8c2a-4abe1acab316",
   "metadata": {
    "tags": []
   },
   "source": [
    "Lendo dados formatados de exportações"
   ]
  },
  {
   "cell_type": "code",
   "execution_count": 8,
   "id": "1af5362c-49d3-4248-87d5-db335b0bb418",
   "metadata": {
    "tags": []
   },
   "outputs": [
    {
     "data": {
      "text/html": [
       "<div>\n",
       "<style scoped>\n",
       "    .dataframe tbody tr th:only-of-type {\n",
       "        vertical-align: middle;\n",
       "    }\n",
       "\n",
       "    .dataframe tbody tr th {\n",
       "        vertical-align: top;\n",
       "    }\n",
       "\n",
       "    .dataframe thead th {\n",
       "        text-align: right;\n",
       "    }\n",
       "</style>\n",
       "<table border=\"1\" class=\"dataframe\">\n",
       "  <thead>\n",
       "    <tr style=\"text-align: right;\">\n",
       "      <th></th>\n",
       "      <th>ano</th>\n",
       "      <th>pais_origem</th>\n",
       "      <th>pais_destino</th>\n",
       "      <th>tipo</th>\n",
       "      <th>quantidade</th>\n",
       "      <th>valor</th>\n",
       "      <th>pais_code</th>\n",
       "    </tr>\n",
       "  </thead>\n",
       "  <tbody>\n",
       "    <tr>\n",
       "      <th>0</th>\n",
       "      <td>1970</td>\n",
       "      <td>Brasil</td>\n",
       "      <td>Afeganistão</td>\n",
       "      <td>Vinho de mesa</td>\n",
       "      <td>0</td>\n",
       "      <td>0</td>\n",
       "      <td>afeganistao</td>\n",
       "    </tr>\n",
       "    <tr>\n",
       "      <th>1</th>\n",
       "      <td>1970</td>\n",
       "      <td>Brasil</td>\n",
       "      <td>África do Sul</td>\n",
       "      <td>Vinho de mesa</td>\n",
       "      <td>0</td>\n",
       "      <td>0</td>\n",
       "      <td>africadosul</td>\n",
       "    </tr>\n",
       "    <tr>\n",
       "      <th>2</th>\n",
       "      <td>1970</td>\n",
       "      <td>Brasil</td>\n",
       "      <td>Alemanha, República Democrática</td>\n",
       "      <td>Vinho de mesa</td>\n",
       "      <td>0</td>\n",
       "      <td>0</td>\n",
       "      <td>alemanha,republicademocratica</td>\n",
       "    </tr>\n",
       "    <tr>\n",
       "      <th>3</th>\n",
       "      <td>1970</td>\n",
       "      <td>Brasil</td>\n",
       "      <td>Angola</td>\n",
       "      <td>Vinho de mesa</td>\n",
       "      <td>0</td>\n",
       "      <td>0</td>\n",
       "      <td>angola</td>\n",
       "    </tr>\n",
       "    <tr>\n",
       "      <th>4</th>\n",
       "      <td>1970</td>\n",
       "      <td>Brasil</td>\n",
       "      <td>Anguilla</td>\n",
       "      <td>Vinho de mesa</td>\n",
       "      <td>0</td>\n",
       "      <td>0</td>\n",
       "      <td>anguilla</td>\n",
       "    </tr>\n",
       "  </tbody>\n",
       "</table>\n",
       "</div>"
      ],
      "text/plain": [
       "    ano pais_origem                     pais_destino           tipo  \\\n",
       "0  1970      Brasil                      Afeganistão  Vinho de mesa   \n",
       "1  1970      Brasil                    África do Sul  Vinho de mesa   \n",
       "2  1970      Brasil  Alemanha, República Democrática  Vinho de mesa   \n",
       "3  1970      Brasil                           Angola  Vinho de mesa   \n",
       "4  1970      Brasil                         Anguilla  Vinho de mesa   \n",
       "\n",
       "   quantidade  valor                      pais_code  \n",
       "0           0      0                    afeganistao  \n",
       "1           0      0                    africadosul  \n",
       "2           0      0  alemanha,republicademocratica  \n",
       "3           0      0                         angola  \n",
       "4           0      0                       anguilla  "
      ]
     },
     "execution_count": 8,
     "metadata": {},
     "output_type": "execute_result"
    }
   ],
   "source": [
    "df_exportacoes = pd.read_csv('../dados/formatted/df_exportacao_2.csv', delimiter='|')\n",
    "df_exportacoes['pais_code'] = df_exportacoes['pais_destino'].apply(limpa_string)\n",
    "df_exportacoes.head()"
   ]
  },
  {
   "cell_type": "code",
   "execution_count": 9,
   "id": "c67f60f0-8443-4f72-bb81-ac433e7dc06e",
   "metadata": {
    "tags": []
   },
   "outputs": [
    {
     "data": {
      "text/plain": [
       "Russia                   52\n",
       "Russia,  Federação da    52\n",
       "Name: pais_destino, dtype: int64"
      ]
     },
     "execution_count": 9,
     "metadata": {},
     "output_type": "execute_result"
    }
   ],
   "source": [
    "df_exportacoes[df_exportacoes['pais_destino'].str.startswith('Ru')].pais_destino.value_counts()"
   ]
  },
  {
   "cell_type": "markdown",
   "id": "ff877c92-fe7b-4582-bc20-3a06ac356d49",
   "metadata": {
    "tags": []
   },
   "source": [
    "### Juntando com informação de continente e country code"
   ]
  },
  {
   "cell_type": "code",
   "execution_count": 10,
   "id": "f949f39d-e7e0-4de0-9951-a41f4001df8f",
   "metadata": {
    "tags": []
   },
   "outputs": [],
   "source": [
    "df_com_continente = pd.merge(df_exportacoes, df_continente,\n",
    "        left_on='pais_code', right_on='pais_code',\n",
    "        how='left')"
   ]
  },
  {
   "cell_type": "code",
   "execution_count": 11,
   "id": "eb4642b8-6a21-48c3-ba33-51d6cfd334d2",
   "metadata": {
    "tags": []
   },
   "outputs": [
    {
     "data": {
      "text/plain": [
       "array(['Outros(1)', 'Provisão de Navios e Aeronaves'], dtype=object)"
      ]
     },
     "execution_count": 11,
     "metadata": {},
     "output_type": "execute_result"
    }
   ],
   "source": [
    "df_com_continente[df_com_continente['continente'].isna()].pais_destino.unique()"
   ]
  },
  {
   "cell_type": "markdown",
   "id": "55ce1110-058a-4b05-b369-551ce10bf672",
   "metadata": {
    "tags": []
   },
   "source": [
    "##### Valores nulos"
   ]
  },
  {
   "cell_type": "code",
   "execution_count": 12,
   "id": "bb32a28e-190a-4489-80b0-770800bfbe43",
   "metadata": {
    "tags": []
   },
   "outputs": [
    {
     "data": {
      "text/plain": [
       "Outros(1)                         15\n",
       "Provisão de Navios e Aeronaves    15\n",
       "Name: pais_destino, dtype: int64"
      ]
     },
     "execution_count": 12,
     "metadata": {},
     "output_type": "execute_result"
    }
   ],
   "source": [
    "df_com_continente[(df_com_continente['continente'].isna()) \n",
    "                  & (df_com_continente['ano'] > 2006)].pais_destino.value_counts()"
   ]
  },
  {
   "cell_type": "markdown",
   "id": "ea7e77d2-d5bb-4e42-a298-127642cd35ad",
   "metadata": {
    "tags": []
   },
   "source": [
    "### Juntando informações com inflação"
   ]
  },
  {
   "cell_type": "code",
   "execution_count": 13,
   "id": "2dace787-c101-46b6-86e0-4ab3b6350d4e",
   "metadata": {
    "tags": []
   },
   "outputs": [],
   "source": [
    "df_com_inflacao = pd.merge(df_com_continente, df_inflacao_melted,\n",
    "        left_on=['country_code', 'ano'], right_on=['country_code', 'ano'],\n",
    "        how='left')"
   ]
  },
  {
   "cell_type": "markdown",
   "id": "4a73e7ae-f436-4e6b-81e5-4a44af71ab59",
   "metadata": {
    "tags": []
   },
   "source": [
    "##### Valores nulos"
   ]
  },
  {
   "cell_type": "code",
   "execution_count": 14,
   "id": "f252071a-dd2c-4e72-b64c-6a0737a7d746",
   "metadata": {
    "tags": []
   },
   "outputs": [
    {
     "data": {
      "text/plain": [
       "Outros(1)                              52\n",
       "Alemanha, República Democrática da     52\n",
       "Provisão de Navios e Aeronaves         52\n",
       "Taiwan                                 52\n",
       "Jérsei                                 52\n",
       "Guadalupe                              52\n",
       "Faroé, Ilhas                           52\n",
       "Falkland (Ilhas Malvinas)              52\n",
       "Coreia do Norte                        52\n",
       "Anguilla                               52\n",
       "Falkland (Malvinas)                    52\n",
       "Iugoslâvia                             52\n",
       "Taiwan (FORMOSA)                      104\n",
       "Bermudas                              104\n",
       "Mônaco                                104\n",
       "Alemanha, República Democrática       104\n",
       "Ilhas Virgens                         104\n",
       "Ilha de Man                           156\n",
       "Guiana Francesa                       156\n",
       "Cuba                                  156\n",
       "Antilhas Holandesas                   156\n",
       "Gibraltar                             208\n",
       "Taiwan (Formosa)                      208\n",
       "Name: pais_destino, dtype: int64"
      ]
     },
     "execution_count": 14,
     "metadata": {},
     "output_type": "execute_result"
    }
   ],
   "source": [
    "df_com_inflacao[df_com_inflacao['inflacao'].isna()].pais_destino.value_counts().sort_values()"
   ]
  },
  {
   "cell_type": "markdown",
   "id": "66f567bb-ba8e-499a-a92f-ebfcb715098f",
   "metadata": {
    "tags": []
   },
   "source": [
    "## Escrevendo dado \"enriquecido\""
   ]
  },
  {
   "cell_type": "code",
   "execution_count": 15,
   "id": "f6be27f5-1c72-49dd-9290-49a7583f0171",
   "metadata": {
    "tags": []
   },
   "outputs": [
    {
     "data": {
      "text/html": [
       "<div>\n",
       "<style scoped>\n",
       "    .dataframe tbody tr th:only-of-type {\n",
       "        vertical-align: middle;\n",
       "    }\n",
       "\n",
       "    .dataframe tbody tr th {\n",
       "        vertical-align: top;\n",
       "    }\n",
       "\n",
       "    .dataframe thead th {\n",
       "        text-align: right;\n",
       "    }\n",
       "</style>\n",
       "<table border=\"1\" class=\"dataframe\">\n",
       "  <thead>\n",
       "    <tr style=\"text-align: right;\">\n",
       "      <th></th>\n",
       "      <th>ano</th>\n",
       "      <th>pais_origem</th>\n",
       "      <th>pais_destino</th>\n",
       "      <th>tipo</th>\n",
       "      <th>quantidade</th>\n",
       "      <th>valor</th>\n",
       "      <th>continente</th>\n",
       "      <th>country_code</th>\n",
       "      <th>inflacao</th>\n",
       "    </tr>\n",
       "  </thead>\n",
       "  <tbody>\n",
       "    <tr>\n",
       "      <th>0</th>\n",
       "      <td>1970</td>\n",
       "      <td>Brasil</td>\n",
       "      <td>Afeganistão</td>\n",
       "      <td>Vinho de mesa</td>\n",
       "      <td>0</td>\n",
       "      <td>0</td>\n",
       "      <td>Ásia</td>\n",
       "      <td>AFG</td>\n",
       "      <td>25.5</td>\n",
       "    </tr>\n",
       "    <tr>\n",
       "      <th>1</th>\n",
       "      <td>1970</td>\n",
       "      <td>Brasil</td>\n",
       "      <td>África do Sul</td>\n",
       "      <td>Vinho de mesa</td>\n",
       "      <td>0</td>\n",
       "      <td>0</td>\n",
       "      <td>África</td>\n",
       "      <td>ZAF</td>\n",
       "      <td>4.1</td>\n",
       "    </tr>\n",
       "    <tr>\n",
       "      <th>2</th>\n",
       "      <td>1970</td>\n",
       "      <td>Brasil</td>\n",
       "      <td>Alemanha, República Democrática</td>\n",
       "      <td>Vinho de mesa</td>\n",
       "      <td>0</td>\n",
       "      <td>0</td>\n",
       "      <td>Europa</td>\n",
       "      <td>DDR</td>\n",
       "      <td>NaN</td>\n",
       "    </tr>\n",
       "    <tr>\n",
       "      <th>3</th>\n",
       "      <td>1970</td>\n",
       "      <td>Brasil</td>\n",
       "      <td>Angola</td>\n",
       "      <td>Vinho de mesa</td>\n",
       "      <td>0</td>\n",
       "      <td>0</td>\n",
       "      <td>África</td>\n",
       "      <td>AGO</td>\n",
       "      <td>8.0</td>\n",
       "    </tr>\n",
       "    <tr>\n",
       "      <th>4</th>\n",
       "      <td>1970</td>\n",
       "      <td>Brasil</td>\n",
       "      <td>Anguilla</td>\n",
       "      <td>Vinho de mesa</td>\n",
       "      <td>0</td>\n",
       "      <td>0</td>\n",
       "      <td>Américas</td>\n",
       "      <td>AIA</td>\n",
       "      <td>NaN</td>\n",
       "    </tr>\n",
       "  </tbody>\n",
       "</table>\n",
       "</div>"
      ],
      "text/plain": [
       "    ano pais_origem                     pais_destino           tipo  \\\n",
       "0  1970      Brasil                      Afeganistão  Vinho de mesa   \n",
       "1  1970      Brasil                    África do Sul  Vinho de mesa   \n",
       "2  1970      Brasil  Alemanha, República Democrática  Vinho de mesa   \n",
       "3  1970      Brasil                           Angola  Vinho de mesa   \n",
       "4  1970      Brasil                         Anguilla  Vinho de mesa   \n",
       "\n",
       "   quantidade  valor continente country_code  inflacao  \n",
       "0           0      0       Ásia          AFG      25.5  \n",
       "1           0      0     África          ZAF       4.1  \n",
       "2           0      0     Europa          DDR       NaN  \n",
       "3           0      0     África          AGO       8.0  \n",
       "4           0      0   Américas          AIA       NaN  "
      ]
     },
     "execution_count": 15,
     "metadata": {},
     "output_type": "execute_result"
    }
   ],
   "source": [
    "df_com_inflacao[['ano', 'pais_origem', 'pais_destino', 'tipo', 'quantidade',\n",
    "                'valor', 'continente', 'country_code', 'inflacao']].head()"
   ]
  },
  {
   "cell_type": "code",
   "execution_count": 16,
   "id": "de13c525-d170-4662-a5d3-03740ed5c814",
   "metadata": {
    "tags": []
   },
   "outputs": [],
   "source": [
    "# df_com_inflacao[['ano', 'pais_origem', 'pais_destino', 'tipo', 'quantidade',\n",
    "#                 'valor', 'continente', 'country_code', 'inflacao']].to_csv('../dados/formatted/df_exportacao_3.csv', sep='|', encoding='utf-8', index=False)"
   ]
  }
 ],
 "metadata": {
  "kernelspec": {
   "display_name": "Python 3 (ipykernel)",
   "language": "python",
   "name": "python3"
  },
  "language_info": {
   "codemirror_mode": {
    "name": "ipython",
    "version": 3
   },
   "file_extension": ".py",
   "mimetype": "text/x-python",
   "name": "python",
   "nbconvert_exporter": "python",
   "pygments_lexer": "ipython3",
   "version": "3.10.11"
  }
 },
 "nbformat": 4,
 "nbformat_minor": 5
}
