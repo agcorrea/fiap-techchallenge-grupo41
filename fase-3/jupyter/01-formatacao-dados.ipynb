{
 "cells": [
  {
   "cell_type": "code",
   "execution_count": 1,
   "id": "a7721d54-b1fb-42a2-8602-a4f200c8b164",
   "metadata": {
    "tags": []
   },
   "outputs": [],
   "source": [
    "import pandas as pd\n",
    "import pandas_gbq"
   ]
  },
  {
   "cell_type": "markdown",
   "id": "cfc04369-3232-4ce8-8abf-0fbffdccf02d",
   "metadata": {},
   "source": [
    "## Formatação e seleção dados\n",
    "- apenas dados de Unidade da Federação (UFs)na.\n"
   ]
  },
  {
   "cell_type": "markdown",
   "id": "03aa1331-7280-4704-af43-0f620bec6e15",
   "metadata": {},
   "source": [
    "### Características clínicas dos sintomas;\n",
    "Arquivo de novembro já contém dados dos últimos três meses"
   ]
  },
  {
   "cell_type": "markdown",
   "id": "58487a61-6537-4745-8932-57ebe9cec15e",
   "metadata": {},
   "source": [
    "#### Observações\n",
    "\n",
    "- Nota 1: os indicadores de saúde são para as pessoas e tem como referência a semana anterior a entrevista.\n",
    "- Nota 2: os valores totais incluem as pessoas que não informaram resposta para a pergunta.\n",
    "- Nota 3: Considera-se que apresentou sintomas conjugados as pessoas que tiveram perda de cheiro ou sabor ou tosse, febre e dificuldade para respirar ou febre, tosse e dor no peito.\n",
    "- Nota 4: Inclusive pessoas de cor amarela ou indígena."
   ]
  },
  {
   "cell_type": "code",
   "execution_count": 10,
   "id": "c1838aa9-11eb-4c0e-97bd-4547731e8a33",
   "metadata": {
    "tags": []
   },
   "outputs": [
    {
     "data": {
      "text/html": [
       "<div>\n",
       "<style scoped>\n",
       "    .dataframe tbody tr th:only-of-type {\n",
       "        vertical-align: middle;\n",
       "    }\n",
       "\n",
       "    .dataframe tbody tr th {\n",
       "        vertical-align: top;\n",
       "    }\n",
       "\n",
       "    .dataframe thead th {\n",
       "        text-align: right;\n",
       "    }\n",
       "</style>\n",
       "<table border=\"1\" class=\"dataframe\">\n",
       "  <thead>\n",
       "    <tr style=\"text-align: right;\">\n",
       "      <th></th>\n",
       "      <th>indicador</th>\n",
       "      <th>nivel_territorial</th>\n",
       "      <th>abertura_territorial</th>\n",
       "      <th>variavel_abertura_1</th>\n",
       "      <th>categoria_abertura_1</th>\n",
       "      <th>variavel_abertura_2</th>\n",
       "      <th>categoria_abertura_2</th>\n",
       "      <th>agosto</th>\n",
       "      <th>situacao_julho_para_agosto</th>\n",
       "      <th>setembro</th>\n",
       "      <th>situacao_agosto_para_setembro</th>\n",
       "      <th>outubro</th>\n",
       "      <th>situacao_setembro_para_outubro</th>\n",
       "      <th>novembro</th>\n",
       "      <th>situacao_outubro_para_novembro</th>\n",
       "    </tr>\n",
       "  </thead>\n",
       "  <tbody>\n",
       "    <tr>\n",
       "      <th>1</th>\n",
       "      <td>Pessoas que apresentaram algum dos sintoma(s) ...</td>\n",
       "      <td>Unidade da Federação</td>\n",
       "      <td>Rondônia</td>\n",
       "      <td>-</td>\n",
       "      <td>-</td>\n",
       "      <td>-</td>\n",
       "      <td>-</td>\n",
       "      <td>96.641585</td>\n",
       "      <td>Estável</td>\n",
       "      <td>77.548385</td>\n",
       "      <td>Estável</td>\n",
       "      <td>51.144917</td>\n",
       "      <td>Queda</td>\n",
       "      <td>41.357501</td>\n",
       "      <td>Estável</td>\n",
       "    </tr>\n",
       "    <tr>\n",
       "      <th>2</th>\n",
       "      <td>CV - Pessoas que apresentaram algum dos sintom...</td>\n",
       "      <td>Unidade da Federação</td>\n",
       "      <td>Rondônia</td>\n",
       "      <td>-</td>\n",
       "      <td>-</td>\n",
       "      <td>-</td>\n",
       "      <td>-</td>\n",
       "      <td>10.752584</td>\n",
       "      <td>-</td>\n",
       "      <td>11.760041</td>\n",
       "      <td>-</td>\n",
       "      <td>14.545605</td>\n",
       "      <td>-</td>\n",
       "      <td>15.459794</td>\n",
       "      <td>-</td>\n",
       "    </tr>\n",
       "    <tr>\n",
       "      <th>3</th>\n",
       "      <td>Percentual de pessoas que apresentaram algum d...</td>\n",
       "      <td>Unidade da Federação</td>\n",
       "      <td>Rondônia</td>\n",
       "      <td>-</td>\n",
       "      <td>-</td>\n",
       "      <td>-</td>\n",
       "      <td>-</td>\n",
       "      <td>5.405325</td>\n",
       "      <td>Estável</td>\n",
       "      <td>4.333607</td>\n",
       "      <td>Estável</td>\n",
       "      <td>2.855605</td>\n",
       "      <td>Queda</td>\n",
       "      <td>2.307125</td>\n",
       "      <td>Estável</td>\n",
       "    </tr>\n",
       "  </tbody>\n",
       "</table>\n",
       "</div>"
      ],
      "text/plain": [
       "                                           indicador     nivel_territorial  \\\n",
       "1  Pessoas que apresentaram algum dos sintoma(s) ...  Unidade da Federação   \n",
       "2  CV - Pessoas que apresentaram algum dos sintom...  Unidade da Federação   \n",
       "3  Percentual de pessoas que apresentaram algum d...  Unidade da Federação   \n",
       "\n",
       "  abertura_territorial variavel_abertura_1 categoria_abertura_1  \\\n",
       "1             Rondônia                   -                    -   \n",
       "2             Rondônia                   -                    -   \n",
       "3             Rondônia                   -                    -   \n",
       "\n",
       "  variavel_abertura_2 categoria_abertura_2     agosto  \\\n",
       "1                   -                    -  96.641585   \n",
       "2                   -                    -  10.752584   \n",
       "3                   -                    -   5.405325   \n",
       "\n",
       "  situacao_julho_para_agosto   setembro situacao_agosto_para_setembro  \\\n",
       "1                    Estável  77.548385                       Estável   \n",
       "2                          -  11.760041                             -   \n",
       "3                    Estável   4.333607                       Estável   \n",
       "\n",
       "     outubro situacao_setembro_para_outubro   novembro  \\\n",
       "1  51.144917                          Queda  41.357501   \n",
       "2  14.545605                              -  15.459794   \n",
       "3   2.855605                          Queda   2.307125   \n",
       "\n",
       "  situacao_outubro_para_novembro  \n",
       "1                        Estável  \n",
       "2                              -  \n",
       "3                        Estável  "
      ]
     },
     "execution_count": 10,
     "metadata": {},
     "output_type": "execute_result"
    }
   ],
   "source": [
    "# ccs = caracteristicas clinicas dos sintomas\n",
    "# df_ccs_sep = pd.read_excel('../data/pnad_covid19_202009_saude_BR_GR_UF.xlsx', sheet_name='Saúde UF', skiprows=7)[1:]\n",
    "# df_ccs_oct = pd.read_excel('../data/pnad_covid19_202010_saude_BR_GR_UF.xlsx', sheet_name='Saúde UF', skiprows=7)[1:]\n",
    "columns = ['Indicador', 'Nível Territorial', 'Abertura Territorial', 'Variável de abertura 1',\n",
    "            'Categoria de abertura 1', 'Variável de abertura 2', 'Categoria de abertura 2', \n",
    "            'Agosto', 'Situação Julho para Agosto', 'Setembro', 'Situação Agosto para Setembro',\n",
    "            'Outubro', 'Situação Setembro para Outubro', 'Novembro', 'Situação Outubro para Novembro']\n",
    "\n",
    "columns_renamed = ['indicador', 'nivel_territorial', 'abertura_territorial', 'variavel_abertura_1',\n",
    "            'categoria_abertura_1', 'variavel_abertura_2', 'categoria_abertura_2', \n",
    "            'agosto', 'situacao_julho_para_agosto', 'setembro', 'situacao_agosto_para_setembro',\n",
    "            'outubro', 'situacao_setembro_para_outubro', 'novembro', 'situacao_outubro_para_novembro']\n",
    "\n",
    "df_ccs = pd.read_excel('../dados/pnad_covid19_202011_saude_BR_GR_UF.xlsx', sheet_name='Saúde UF', skiprows=7)[1:][columns]\n",
    "\n",
    "df_ccs.columns = columns_renamed\n",
    "\n",
    "df_ccs.head(3)"
   ]
  },
  {
   "cell_type": "markdown",
   "id": "a7e2e12a-818e-4f72-9ec8-21c4815b5d4a",
   "metadata": {},
   "source": [
    "#### Target\n",
    "\n",
    "1. sintomas\n",
    "\t- Pessoas que apresentaram sintomas referenciados conjugados3 (mil pessoas)\n",
    "\t\t- top 3 estados (total) (Abertura territorial)\n",
    "\t\t- ver evolução nos 3 meses\n",
    "        - categoria_abertura_2:\n",
    "\t\t\t- Foi a estabelecimento de saúde\n",
    "\t\t\t- Não foi a estabelecimento de saúde\n",
    "\t\n",
    "2. testes\n",
    "\t- Pessoas com diagnóstico médico de alguma comorbidade por tipo de comorbidade (mil pessoas) \n",
    "\t\t- mesmos 3 estados dos sintomas\n",
    "\t\t\t- top 3 comorbidade\n",
    "\t\t\t\t- ver evolução nos 3 meses\n",
    "\n",
    "\n",
    "3. resultados\n",
    "\t- Pessoas que fizeram o teste SWAB (mil pessoas)\n",
    "\t\t- mesmos 3 estados dos sintomas\n",
    "\t\t- ver evolução nos 3 meses\n",
    "\t\t\t- Resultado positivo\n",
    "\t\t\t- Resultado negativo\n",
    "\t\t\t- Resultado inconclusivo"
   ]
  },
  {
   "cell_type": "code",
   "execution_count": 12,
   "id": "f70292e2-67bd-446a-a757-da1dcf45474a",
   "metadata": {
    "tags": []
   },
   "outputs": [],
   "source": [
    "df_ccs = df_ccs.astype(str)"
   ]
  },
  {
   "cell_type": "code",
   "execution_count": 13,
   "id": "7d85c547-5cff-4854-91dd-d0ff5c1e4831",
   "metadata": {
    "tags": []
   },
   "outputs": [
    {
     "data": {
      "text/plain": [
       "(17334, 15)"
      ]
     },
     "execution_count": 13,
     "metadata": {},
     "output_type": "execute_result"
    }
   ],
   "source": [
    "df_ccs.shape"
   ]
  },
  {
   "cell_type": "code",
   "execution_count": 21,
   "id": "c5329d34-36ea-4d47-9411-c751be4583ba",
   "metadata": {
    "tags": []
   },
   "outputs": [
    {
     "data": {
      "text/html": [
       "<div>\n",
       "<style scoped>\n",
       "    .dataframe tbody tr th:only-of-type {\n",
       "        vertical-align: middle;\n",
       "    }\n",
       "\n",
       "    .dataframe tbody tr th {\n",
       "        vertical-align: top;\n",
       "    }\n",
       "\n",
       "    .dataframe thead th {\n",
       "        text-align: right;\n",
       "    }\n",
       "</style>\n",
       "<table border=\"1\" class=\"dataframe\">\n",
       "  <thead>\n",
       "    <tr style=\"text-align: right;\">\n",
       "      <th></th>\n",
       "      <th>setembro</th>\n",
       "      <th>variable</th>\n",
       "      <th>value</th>\n",
       "    </tr>\n",
       "  </thead>\n",
       "  <tbody>\n",
       "    <tr>\n",
       "      <th>0</th>\n",
       "      <td>77.54838516098494</td>\n",
       "      <td>indicador</td>\n",
       "      <td>Pessoas que apresentaram algum dos sintoma(s) ...</td>\n",
       "    </tr>\n",
       "    <tr>\n",
       "      <th>1</th>\n",
       "      <td>11.760041318230584</td>\n",
       "      <td>indicador</td>\n",
       "      <td>CV - Pessoas que apresentaram algum dos sintom...</td>\n",
       "    </tr>\n",
       "    <tr>\n",
       "      <th>2</th>\n",
       "      <td>4.3336072603255715</td>\n",
       "      <td>indicador</td>\n",
       "      <td>Percentual de pessoas que apresentaram algum d...</td>\n",
       "    </tr>\n",
       "    <tr>\n",
       "      <th>3</th>\n",
       "      <td>11.76004131823058</td>\n",
       "      <td>indicador</td>\n",
       "      <td>CV - Percentual de pessoas que apresentaram al...</td>\n",
       "    </tr>\n",
       "    <tr>\n",
       "      <th>4</th>\n",
       "      <td>11.512329804881466</td>\n",
       "      <td>indicador</td>\n",
       "      <td>Pessoas que apresentaram sintomas referenciado...</td>\n",
       "    </tr>\n",
       "    <tr>\n",
       "      <th>...</th>\n",
       "      <td>...</td>\n",
       "      <td>...</td>\n",
       "      <td>...</td>\n",
       "    </tr>\n",
       "    <tr>\n",
       "      <th>242671</th>\n",
       "      <td>3.4446093532938904</td>\n",
       "      <td>situacao_outubro_para_novembro</td>\n",
       "      <td>-</td>\n",
       "    </tr>\n",
       "    <tr>\n",
       "      <th>242672</th>\n",
       "      <td>6.273995467150678</td>\n",
       "      <td>situacao_outubro_para_novembro</td>\n",
       "      <td>-</td>\n",
       "    </tr>\n",
       "    <tr>\n",
       "      <th>242673</th>\n",
       "      <td>8.492606501974086</td>\n",
       "      <td>situacao_outubro_para_novembro</td>\n",
       "      <td>-</td>\n",
       "    </tr>\n",
       "    <tr>\n",
       "      <th>242674</th>\n",
       "      <td>8.249383082916044</td>\n",
       "      <td>situacao_outubro_para_novembro</td>\n",
       "      <td>-</td>\n",
       "    </tr>\n",
       "    <tr>\n",
       "      <th>242675</th>\n",
       "      <td>16.034444936713278</td>\n",
       "      <td>situacao_outubro_para_novembro</td>\n",
       "      <td>-</td>\n",
       "    </tr>\n",
       "  </tbody>\n",
       "</table>\n",
       "<p>242676 rows × 3 columns</p>\n",
       "</div>"
      ],
      "text/plain": [
       "                  setembro                        variable  \\\n",
       "0        77.54838516098494                       indicador   \n",
       "1       11.760041318230584                       indicador   \n",
       "2       4.3336072603255715                       indicador   \n",
       "3        11.76004131823058                       indicador   \n",
       "4       11.512329804881466                       indicador   \n",
       "...                    ...                             ...   \n",
       "242671  3.4446093532938904  situacao_outubro_para_novembro   \n",
       "242672   6.273995467150678  situacao_outubro_para_novembro   \n",
       "242673   8.492606501974086  situacao_outubro_para_novembro   \n",
       "242674   8.249383082916044  situacao_outubro_para_novembro   \n",
       "242675  16.034444936713278  situacao_outubro_para_novembro   \n",
       "\n",
       "                                                    value  \n",
       "0       Pessoas que apresentaram algum dos sintoma(s) ...  \n",
       "1       CV - Pessoas que apresentaram algum dos sintom...  \n",
       "2       Percentual de pessoas que apresentaram algum d...  \n",
       "3       CV - Percentual de pessoas que apresentaram al...  \n",
       "4       Pessoas que apresentaram sintomas referenciado...  \n",
       "...                                                   ...  \n",
       "242671                                                  -  \n",
       "242672                                                  -  \n",
       "242673                                                  -  \n",
       "242674                                                  -  \n",
       "242675                                                  -  \n",
       "\n",
       "[242676 rows x 3 columns]"
      ]
     },
     "execution_count": 21,
     "metadata": {},
     "output_type": "execute_result"
    }
   ],
   "source": [
    "df_ccs.melt(['setembro'])"
   ]
  },
  {
   "cell_type": "code",
   "execution_count": 14,
   "id": "4dce8361-5a5b-4bfb-9eb4-0b50fc7deab6",
   "metadata": {
    "tags": []
   },
   "outputs": [
    {
     "name": "stderr",
     "output_type": "stream",
     "text": [
      "100%|███████████████████████████████████████████████████████████████████████████████████| 1/1 [00:00<00:00, 997.69it/s]\n"
     ]
    }
   ],
   "source": [
    "#@title Importação de dataset (df_stm_br)  fase3-tech-challenge.fase3\n",
    "# TODO: Set project_id to your Google Cloud Platform project ID.\n",
    "project_id = \"fase3-tech-challenge\"\n",
    "\n",
    "# TODO: Set table_id to the full destination table ID (including the\n",
    "#       dataset ID).\n",
    "table_id = 'fase3-tech-challenge.fase3.df_ccs'\n",
    "\n",
    "#Criar tabelas no Google BigQuery\n",
    "pandas_gbq.to_gbq(df_ccs, table_id, project_id=project_id, if_exists='replace')"
   ]
  },
  {
   "cell_type": "markdown",
   "id": "391c82d5-1c1e-418d-b311-b2f10ef4a4b1",
   "metadata": {},
   "source": [
    "***"
   ]
  },
  {
   "cell_type": "markdown",
   "id": "c05b86a3-dcc3-4534-899c-989b4af95bd8",
   "metadata": {},
   "source": [
    "### Características da população"
   ]
  },
  {
   "cell_type": "code",
   "execution_count": 15,
   "id": "35649da0-678b-4e08-964b-c665603fda5e",
   "metadata": {
    "tags": []
   },
   "outputs": [
    {
     "data": {
      "text/html": [
       "<div>\n",
       "<style scoped>\n",
       "    .dataframe tbody tr th:only-of-type {\n",
       "        vertical-align: middle;\n",
       "    }\n",
       "\n",
       "    .dataframe tbody tr th {\n",
       "        vertical-align: top;\n",
       "    }\n",
       "\n",
       "    .dataframe thead th {\n",
       "        text-align: right;\n",
       "    }\n",
       "</style>\n",
       "<table border=\"1\" class=\"dataframe\">\n",
       "  <thead>\n",
       "    <tr style=\"text-align: right;\">\n",
       "      <th></th>\n",
       "      <th>indicador</th>\n",
       "      <th>nivel_territorial</th>\n",
       "      <th>abertura_territorial</th>\n",
       "      <th>variavel_abertura_1</th>\n",
       "      <th>categoria_abertura_1</th>\n",
       "      <th>variavel_abertura_2</th>\n",
       "      <th>categoria_abertura_2</th>\n",
       "      <th>agosto</th>\n",
       "      <th>situacao_julho_para_agosto</th>\n",
       "      <th>setembro</th>\n",
       "      <th>situacao_agosto_para_setembro</th>\n",
       "      <th>outubro</th>\n",
       "      <th>situacao_setembro_para_outubro</th>\n",
       "      <th>novembro</th>\n",
       "      <th>situacao_outubro_para_novembro</th>\n",
       "    </tr>\n",
       "  </thead>\n",
       "  <tbody>\n",
       "    <tr>\n",
       "      <th>1</th>\n",
       "      <td>Pessoas que frequentam escola (mil pessoas)</td>\n",
       "      <td>Unidade da Federação</td>\n",
       "      <td>Rondônia</td>\n",
       "      <td>Sexo</td>\n",
       "      <td>Total</td>\n",
       "      <td>-</td>\n",
       "      <td>-</td>\n",
       "      <td>419.615785</td>\n",
       "      <td>Estável</td>\n",
       "      <td>412.684217</td>\n",
       "      <td>Estável</td>\n",
       "      <td>418.978999</td>\n",
       "      <td>Estável</td>\n",
       "      <td>412.353446</td>\n",
       "      <td>Estável</td>\n",
       "    </tr>\n",
       "    <tr>\n",
       "      <th>2</th>\n",
       "      <td>Pessoas que frequentam escola (mil pessoas)</td>\n",
       "      <td>Unidade da Federação</td>\n",
       "      <td>Rondônia</td>\n",
       "      <td>Sexo</td>\n",
       "      <td>Homem</td>\n",
       "      <td>-</td>\n",
       "      <td>-</td>\n",
       "      <td>208.319490</td>\n",
       "      <td>-</td>\n",
       "      <td>196.117748</td>\n",
       "      <td>-</td>\n",
       "      <td>202.721110</td>\n",
       "      <td>-</td>\n",
       "      <td>201.814991</td>\n",
       "      <td>-</td>\n",
       "    </tr>\n",
       "    <tr>\n",
       "      <th>3</th>\n",
       "      <td>Pessoas que frequentam escola (mil pessoas)</td>\n",
       "      <td>Unidade da Federação</td>\n",
       "      <td>Rondônia</td>\n",
       "      <td>Sexo</td>\n",
       "      <td>Mulher</td>\n",
       "      <td>-</td>\n",
       "      <td>-</td>\n",
       "      <td>211.296296</td>\n",
       "      <td>-</td>\n",
       "      <td>216.566469</td>\n",
       "      <td>-</td>\n",
       "      <td>216.257889</td>\n",
       "      <td>-</td>\n",
       "      <td>210.538455</td>\n",
       "      <td>-</td>\n",
       "    </tr>\n",
       "  </tbody>\n",
       "</table>\n",
       "</div>"
      ],
      "text/plain": [
       "                                     indicador     nivel_territorial  \\\n",
       "1  Pessoas que frequentam escola (mil pessoas)  Unidade da Federação   \n",
       "2  Pessoas que frequentam escola (mil pessoas)  Unidade da Federação   \n",
       "3  Pessoas que frequentam escola (mil pessoas)  Unidade da Federação   \n",
       "\n",
       "  abertura_territorial variavel_abertura_1 categoria_abertura_1  \\\n",
       "1             Rondônia                Sexo                Total   \n",
       "2             Rondônia                Sexo                Homem   \n",
       "3             Rondônia                Sexo               Mulher   \n",
       "\n",
       "  variavel_abertura_2 categoria_abertura_2      agosto  \\\n",
       "1                   -                    -  419.615785   \n",
       "2                   -                    -  208.319490   \n",
       "3                   -                    -  211.296296   \n",
       "\n",
       "  situacao_julho_para_agosto    setembro situacao_agosto_para_setembro  \\\n",
       "1                    Estável  412.684217                       Estável   \n",
       "2                          -  196.117748                             -   \n",
       "3                          -  216.566469                             -   \n",
       "\n",
       "      outubro situacao_setembro_para_outubro    novembro  \\\n",
       "1  418.978999                        Estável  412.353446   \n",
       "2  202.721110                              -  201.814991   \n",
       "3  216.257889                              -  210.538455   \n",
       "\n",
       "  situacao_outubro_para_novembro  \n",
       "1                        Estável  \n",
       "2                              -  \n",
       "3                              -  "
      ]
     },
     "execution_count": 15,
     "metadata": {},
     "output_type": "execute_result"
    }
   ],
   "source": [
    "df_cp = pd.read_excel('../dados/pnad_covid19_202011_escola_emprestimos_itens_de_limpeza_BR_GR_UF.xlsx',\n",
    "                      sheet_name='Outros UF', skiprows=5)[1:][columns]\n",
    "\n",
    "df_cp.columns = columns_renamed\n",
    "\n",
    "df_cp.head(3)"
   ]
  },
  {
   "cell_type": "markdown",
   "id": "cf62019b-657c-45b3-8f2e-dd56fd209f84",
   "metadata": {},
   "source": [
    "#### Target\n",
    "\n",
    "1. Percentual de domicílios onde há itens básicos de limpeza e proteção (%)\n",
    "\t- 3 estados de antes\n",
    "\t\t- \"Categoria de abertura 1\" = Total\n",
    "2. Percentual da população residente segundo medida de restrição de contato com outras pessoas (%)"
   ]
  },
  {
   "cell_type": "code",
   "execution_count": 17,
   "id": "f7b48d33-cc64-4911-bee6-3910e1760a84",
   "metadata": {
    "tags": []
   },
   "outputs": [
    {
     "name": "stderr",
     "output_type": "stream",
     "text": [
      "100%|██████████████████████████████████████████████████████████████████████████████████| 1/1 [00:00<00:00, 1002.22it/s]\n"
     ]
    }
   ],
   "source": [
    "table_id = 'fase3-tech-challenge.fase3.df_cp'\n",
    "\n",
    "df_cp = df_cp.astype(str)\n",
    "\n",
    "#Criar tabelas no Google BigQuery\n",
    "pandas_gbq.to_gbq(df_cp, table_id, project_id=project_id, if_exists='replace')"
   ]
  },
  {
   "cell_type": "markdown",
   "id": "f8c4ae9e-9375-4324-bdf3-1decbbdd5bbd",
   "metadata": {},
   "source": [
    "***"
   ]
  },
  {
   "cell_type": "markdown",
   "id": "2c796d1a-6675-44a9-a3ab-01bfbe84b85d",
   "metadata": {},
   "source": [
    "### Características econômicas da sociedade"
   ]
  },
  {
   "cell_type": "code",
   "execution_count": 18,
   "id": "2ca24ed6-2e4c-4326-942d-1394efdfc538",
   "metadata": {
    "scrolled": true,
    "tags": []
   },
   "outputs": [
    {
     "data": {
      "text/html": [
       "<div>\n",
       "<style scoped>\n",
       "    .dataframe tbody tr th:only-of-type {\n",
       "        vertical-align: middle;\n",
       "    }\n",
       "\n",
       "    .dataframe tbody tr th {\n",
       "        vertical-align: top;\n",
       "    }\n",
       "\n",
       "    .dataframe thead th {\n",
       "        text-align: right;\n",
       "    }\n",
       "</style>\n",
       "<table border=\"1\" class=\"dataframe\">\n",
       "  <thead>\n",
       "    <tr style=\"text-align: right;\">\n",
       "      <th></th>\n",
       "      <th>indicador</th>\n",
       "      <th>nivel_territorial</th>\n",
       "      <th>abertura_territorial</th>\n",
       "      <th>variavel_abertura_1</th>\n",
       "      <th>categoria_abertura_1</th>\n",
       "      <th>variavel_abertura_2</th>\n",
       "      <th>categoria_abertura_2</th>\n",
       "      <th>agosto</th>\n",
       "      <th>situacao_julho_para_agosto</th>\n",
       "      <th>setembro</th>\n",
       "      <th>situacao_agosto_para_setembro</th>\n",
       "      <th>outubro</th>\n",
       "      <th>situacao_setembro_para_outubro</th>\n",
       "      <th>novembro</th>\n",
       "      <th>situacao_outubro_para_novembro</th>\n",
       "    </tr>\n",
       "  </thead>\n",
       "  <tbody>\n",
       "    <tr>\n",
       "      <th>1</th>\n",
       "      <td>População Residente (mil pessoas)</td>\n",
       "      <td>Unidade da Federação</td>\n",
       "      <td>Rondônia</td>\n",
       "      <td>-</td>\n",
       "      <td>-</td>\n",
       "      <td>-</td>\n",
       "      <td>-</td>\n",
       "      <td>1787.896000</td>\n",
       "      <td>-</td>\n",
       "      <td>1789.465000</td>\n",
       "      <td>-</td>\n",
       "      <td>1791.036000</td>\n",
       "      <td>-</td>\n",
       "      <td>1792.599000</td>\n",
       "      <td>-</td>\n",
       "    </tr>\n",
       "    <tr>\n",
       "      <th>2</th>\n",
       "      <td>CV - População Residente (%)</td>\n",
       "      <td>Unidade da Federação</td>\n",
       "      <td>Rondônia</td>\n",
       "      <td>-</td>\n",
       "      <td>-</td>\n",
       "      <td>-</td>\n",
       "      <td>-</td>\n",
       "      <td>0.000000</td>\n",
       "      <td>-</td>\n",
       "      <td>0.000000</td>\n",
       "      <td>-</td>\n",
       "      <td>0.000000</td>\n",
       "      <td>-</td>\n",
       "      <td>0.000000</td>\n",
       "      <td>-</td>\n",
       "    </tr>\n",
       "    <tr>\n",
       "      <th>3</th>\n",
       "      <td>Pessoas de 14 anos ou mais de idade (mil pessoas)</td>\n",
       "      <td>Unidade da Federação</td>\n",
       "      <td>Rondônia</td>\n",
       "      <td>-</td>\n",
       "      <td>-</td>\n",
       "      <td>-</td>\n",
       "      <td>-</td>\n",
       "      <td>1402.010782</td>\n",
       "      <td>Estável</td>\n",
       "      <td>1403.457753</td>\n",
       "      <td>Estável</td>\n",
       "      <td>1406.189257</td>\n",
       "      <td>Estável</td>\n",
       "      <td>1412.303094</td>\n",
       "      <td>Estável</td>\n",
       "    </tr>\n",
       "  </tbody>\n",
       "</table>\n",
       "</div>"
      ],
      "text/plain": [
       "                                           indicador     nivel_territorial  \\\n",
       "1                  População Residente (mil pessoas)  Unidade da Federação   \n",
       "2                       CV - População Residente (%)  Unidade da Federação   \n",
       "3  Pessoas de 14 anos ou mais de idade (mil pessoas)  Unidade da Federação   \n",
       "\n",
       "  abertura_territorial variavel_abertura_1 categoria_abertura_1  \\\n",
       "1             Rondônia                   -                    -   \n",
       "2             Rondônia                   -                    -   \n",
       "3             Rondônia                   -                    -   \n",
       "\n",
       "  variavel_abertura_2 categoria_abertura_2       agosto  \\\n",
       "1                   -                    -  1787.896000   \n",
       "2                   -                    -     0.000000   \n",
       "3                   -                    -  1402.010782   \n",
       "\n",
       "  situacao_julho_para_agosto     setembro situacao_agosto_para_setembro  \\\n",
       "1                          -  1789.465000                             -   \n",
       "2                          -     0.000000                             -   \n",
       "3                    Estável  1403.457753                       Estável   \n",
       "\n",
       "       outubro situacao_setembro_para_outubro     novembro  \\\n",
       "1  1791.036000                              -  1792.599000   \n",
       "2     0.000000                              -     0.000000   \n",
       "3  1406.189257                        Estável  1412.303094   \n",
       "\n",
       "  situacao_outubro_para_novembro  \n",
       "1                              -  \n",
       "2                              -  \n",
       "3                        Estável  "
      ]
     },
     "execution_count": 18,
     "metadata": {},
     "output_type": "execute_result"
    }
   ],
   "source": [
    "df_ces = pd.read_excel('../dados/pnad_covid19_202011_trabalho_BR_GR_UF.xlsx',\n",
    "                      sheet_name='Trabalho UF', skiprows=5)[1:][columns]\n",
    "\n",
    "df_ces.columns = columns_renamed\n",
    "\n",
    "df_ces.head(3)"
   ]
  },
  {
   "cell_type": "markdown",
   "id": "22446b14-b2b9-4a2b-8de8-a0f56651b7ac",
   "metadata": {},
   "source": [
    "#### Target"
   ]
  },
  {
   "cell_type": "markdown",
   "id": "c15e6baf-ed44-428e-b97c-aa8b40857dea",
   "metadata": {},
   "source": [
    "1. Pessoas ocupadas (mil pessoas)\n",
    "\t- mesmos 3 estados\n",
    "\n",
    "2. Pessoas ocupadas com rendimento do trabalho e que tiveram rendimento efetivo menor que o normalmente recebido (mil pessoas)\n",
    "\n",
    "3. Pessoas ocupadas e afastadas do trabalho que tinham (mil pessoas)\n",
    "\n",
    "Talvez juntos:\n",
    "\n",
    "4. Pessoas ocupadas e afastadas do trabalho que tinham devido ao distanciamento social (mil pessoas)\n",
    "5. Pessoas ocupadas e na informalidade (mil pessoas)\n",
    "6. Pessoas ocupadas e não afastadas (mil pessoas)\n",
    "7. Taxa de desocupação (%)\n"
   ]
  },
  {
   "cell_type": "code",
   "execution_count": 19,
   "id": "4e5f1b0e-bff7-488e-8de2-51b1cba6333b",
   "metadata": {
    "tags": []
   },
   "outputs": [
    {
     "name": "stderr",
     "output_type": "stream",
     "text": [
      "100%|████████████████████████████████████████████████████████████████████████████████████████████| 1/1 [00:00<?, ?it/s]\n"
     ]
    }
   ],
   "source": [
    "table_id = 'fase3-tech-challenge.fase3.df_ces'\n",
    "\n",
    "df_ces = df_ces.astype(str)\n",
    "\n",
    "#Criar tabelas no Google BigQuery\n",
    "pandas_gbq.to_gbq(df_ces, table_id, project_id=project_id, if_exists='replace')"
   ]
  }
 ],
 "metadata": {
  "kernelspec": {
   "display_name": "Python 3 (ipykernel)",
   "language": "python",
   "name": "python3"
  },
  "language_info": {
   "codemirror_mode": {
    "name": "ipython",
    "version": 3
   },
   "file_extension": ".py",
   "mimetype": "text/x-python",
   "name": "python",
   "nbconvert_exporter": "python",
   "pygments_lexer": "ipython3",
   "version": "3.10.11"
  }
 },
 "nbformat": 4,
 "nbformat_minor": 5
}
